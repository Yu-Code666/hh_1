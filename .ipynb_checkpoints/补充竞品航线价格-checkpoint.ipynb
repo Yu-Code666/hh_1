{
 "cells": [
  {
   "cell_type": "markdown",
   "id": "9610298d-5738-45b9-b0af-b8179bfd9ceb",
   "metadata": {},
   "source": [
    "# 补充竞品航线价格"
   ]
  },
  {
   "cell_type": "markdown",
   "id": "6c8a9398-f492-44b3-9e5a-4dbeecf9074f",
   "metadata": {},
   "source": [
    "客流不仅仅取决于航班基本信息和自己的票价，还取决于竞争航班的票价"
   ]
  },
  {
   "cell_type": "markdown",
   "id": "6a96912a-376a-40bf-8a9f-74248519e499",
   "metadata": {},
   "source": [
    "由于竞品全航线没有经济舱的单独数据，我们暂且用所有票的平均票价（经济舱和商务舱）来代替，效果可能没有使用经济舱票价好，但是这也要是眼下最好的处理方式了"
   ]
  },
  {
   "cell_type": "markdown",
   "id": "50da4512-fbcc-4053-a1ba-898cf0b77981",
   "metadata": {
    "execution": {
     "iopub.execute_input": "2025-02-25T15:14:54.256536Z",
     "iopub.status.busy": "2025-02-25T15:14:54.256107Z",
     "iopub.status.idle": "2025-02-25T15:14:54.470645Z",
     "shell.execute_reply": "2025-02-25T15:14:54.469402Z",
     "shell.execute_reply.started": "2025-02-25T15:14:54.256497Z"
    }
   },
   "source": [
    "竞争航班是指from和to相同的航线，起飞时间相差在4小时以内的价格最便宜的那趟航班作为竞争航班\n",
    "\n",
    "如果4小时内没有from和to相同的航班，则以起飞时间最近的那趟航班作为竞争航班\n",
    "\n",
    "如果历史上都没有from和to相同的航班，那么假定竞争航班票价和该航班票价相同\n",
    "\n",
    "\n"
   ]
  },
  {
   "cell_type": "markdown",
   "id": "9bec6217-f3e3-4b49-a770-4fb0cf92033f",
   "metadata": {},
   "source": [
    "# 全市场票价计算"
   ]
  },
  {
   "cell_type": "code",
   "execution_count": 1,
   "id": "4d69d4e1-2f7d-4321-93b1-275817eddff2",
   "metadata": {
    "execution": {
     "iopub.execute_input": "2025-06-20T16:17:57.205968Z",
     "iopub.status.busy": "2025-06-20T16:17:57.205652Z",
     "iopub.status.idle": "2025-06-20T16:18:32.370642Z",
     "shell.execute_reply": "2025-06-20T16:18:32.369626Z",
     "shell.execute_reply.started": "2025-06-20T16:17:57.205934Z"
    }
   },
   "outputs": [
    {
     "name": "stdout",
     "output_type": "stream",
     "text": [
      "(10586018, 16)\n",
      "     flt_date segment  flt_no   route    a    b    c bd_type  dep_time  cap  \\\n",
      "0  2023-01-01  LXAMIG    3017  LXAMIG  LXA  MIG  NaN      窄体  13:25:00  132   \n",
      "1  2023-01-01  MIGLXA    3018  MIGLXA  MIG  LXA  NaN      窄体  16:15:00  132   \n",
      "2  2023-01-01  CANLZO    3051  CANLZO  CAN  LZO  NaN      窄体  17:05:00  164   \n",
      "3  2023-01-01  LZOCAN    3052  LZOCAN  LZO  CAN  NaN      窄体  19:55:00  164   \n",
      "4  2023-01-01  CANYBP    3053  CANYBP  CAN  YBP  NaN      窄体  16:30:00  194   \n",
      "\n",
      "  aircraft  legs  leg_no  duration   tkt_rev  pax  \n",
      "0      319     1       1      1.70  223630.0  127  \n",
      "1      319     1       1      2.28   76854.0   60  \n",
      "2      320     1       1      1.63  153536.0  161  \n",
      "3      320     1       1      1.55   26710.0   57  \n",
      "4      321     1       1      1.70  171547.0  191  \n",
      "            flt_date segment  flt_no   route    a    b    c bd_type  dep_time  \\\n",
      "10586013  2025-05-28  TYNCKG    8052  TYNCKG  TYN  CKG  NaN      窄体  22:40:00   \n",
      "10586014  2025-05-29  TNACAN    9974  TNACAN  TNA  CAN  NaN      窄体  19:50:00   \n",
      "10586015  2025-05-30  WNZCAN    9964  WNZCAN  WNZ  CAN  NaN      窄体  13:55:00   \n",
      "10586016  2025-05-30  CANTNA    9971  CANTNA  CAN  TNA  NaN      窄体  07:50:00   \n",
      "10586017  2025-05-30  TNACAN    9972  TNACAN  TNA  CAN  NaN      窄体  12:00:00   \n",
      "\n",
      "          cap aircraft  legs  leg_no  duration   tkt_rev  pax  \n",
      "10586013  189      321     1       1      1.73   52457.0  176  \n",
      "10586014  174      320     1       1      2.32   81248.0  161  \n",
      "10586015  162      737     1       1      1.60   84121.0  158  \n",
      "10586016  168      737     1       1      2.40  140980.0  159  \n",
      "10586017  168      737     1       1      2.15  133184.0  151  \n",
      "(1790558, 14)\n",
      "     flt_date segment flt_no  dep_time    cap aircraft  legs  leg_no  \\\n",
      "0  2023-01-01  AATURC   7558  14:35:00  110.0      195     1       1   \n",
      "1  2023-01-01  ACFURC   7470  22:40:00  110.0      195     1       1   \n",
      "2  2023-01-01  ACFXIY   769R  18:00:00   93.0      190     3       3   \n",
      "3  2023-01-01  AKAHGH   5248  12:55:00  162.0      320     1       1   \n",
      "4  2023-01-01  AKUCGO   6250  13:10:00  167.0      320     1       1   \n",
      "\n",
      "   duration  pax    a    b    c   unit_price  \n",
      "0      1.30   97  AAT  URC  NaN   470.474227  \n",
      "1      1.25   67  ACF  URC  NaN   454.925373  \n",
      "2      4.75   22  ACF  TLQ  XIY  1177.818182  \n",
      "3      1.83   55  AKA  HGH  NaN   669.090909  \n",
      "4      3.98  166  AKU  CGO  NaN  1794.783133  \n",
      "           flt_date segment flt_no  dep_time    cap aircraft  legs  leg_no  \\\n",
      "1790553  2025-05-30  ZUHURC   7690  16:15:00  154.0      32F     3       3   \n",
      "1790554  2025-05-30  ZUHXIY   7690  16:15:00  154.0      32F     3       1   \n",
      "1790555  2025-05-30  ZUHXIY   8304  22:10:00  167.0      738     1       1   \n",
      "1790556  2025-05-30  ZYISYX   7545  10:25:00  155.0      32F     3       2   \n",
      "1790557  2025-05-30  ZYIXIY   7546  16:50:00  155.0      32F     3       2   \n",
      "\n",
      "         duration  pax    a    b    c   unit_price  \n",
      "1790553      6.53   34  ZUH  XIY  URC  1812.058824  \n",
      "1790554      2.78  113  ZUH  XIY  URC  1002.415929  \n",
      "1790555      2.48  158  ZUH  XIY  NaN   773.158228  \n",
      "1790556      2.05   74  XIY  ZYI  SYX   410.567568  \n",
      "1790557      1.42  136  SYX  ZYI  XIY   483.933824  \n"
     ]
    }
   ],
   "source": [
    "import pandas as pd\n",
    "import numpy as np\n",
    "\n",
    "# 读取CSV文件\n",
    "\n",
    "df_all = pd.read_csv('../../../../data-hh/2025/2025-5/航班销售结果数据_2023-01-01_2025-07-01_encrypt.csv',index_col=0)\n",
    "df_hh = pd.read_csv('../../../../data-hh/2025/2025-5/result/pre_2023-2025.csv')\n",
    "\n",
    "\n",
    "# 显示前两行数据以确保正确加载\n",
    "print(df_all.shape)\n",
    "print(df_all.head(5))\n",
    "print(df_all.tail(5))\n",
    "\n",
    "# 显示前两行数据以确保正确加载\n",
    "print(df_hh.shape)\n",
    "print(df_hh.head(5))\n",
    "print(df_hh.tail(5))"
   ]
  },
  {
   "cell_type": "markdown",
   "id": "f5f75c7c-53c4-4d2a-9cb1-3399b2faf450",
   "metadata": {},
   "source": [
    "## 部分字段统计情况"
   ]
  },
  {
   "cell_type": "markdown",
   "id": "411074d6-d89a-4465-8dea-5c778c8c2e95",
   "metadata": {},
   "source": [
    "## 处理pax"
   ]
  },
  {
   "cell_type": "code",
   "execution_count": 2,
   "id": "23dcfc1d-c756-4cb3-a37a-c9407295ecc9",
   "metadata": {
    "execution": {
     "iopub.execute_input": "2025-06-20T16:18:32.372769Z",
     "iopub.status.busy": "2025-06-20T16:18:32.371910Z",
     "iopub.status.idle": "2025-06-20T16:18:32.512381Z",
     "shell.execute_reply": "2025-06-20T16:18:32.511427Z",
     "shell.execute_reply.started": "2025-06-20T16:18:32.372734Z"
    }
   },
   "outputs": [
    {
     "name": "stdout",
     "output_type": "stream",
     "text": [
      "10586018\n",
      "缺失值的行数: 0\n",
      "为0的行数: 231406\n"
     ]
    }
   ],
   "source": [
    "# 统计 'pax' 字段中缺失值的行数\n",
    "missing_pax = df_all[df_all['pax'].isna()]\n",
    "\n",
    "# 统计 'pax' 字段中0值的行数\n",
    "zero_pax = df_all[df_all['pax'] == 0]\n",
    "\n",
    "# 输出统计结果\n",
    "num_missing = missing_pax.shape[0]\n",
    "num_zero = zero_pax.shape[0]\n",
    "\n",
    "print(df_all.shape[0])\n",
    "print(f\"缺失值的行数: {num_missing}\")\n",
    "print(f\"为0的行数: {num_zero}\")"
   ]
  },
  {
   "cell_type": "code",
   "execution_count": 3,
   "id": "9697fcfe-8bb8-47fc-a5d9-e3eb33aa09c6",
   "metadata": {
    "execution": {
     "iopub.execute_input": "2025-06-20T16:18:32.515456Z",
     "iopub.status.busy": "2025-06-20T16:18:32.515083Z",
     "iopub.status.idle": "2025-06-20T16:18:37.196438Z",
     "shell.execute_reply": "2025-06-20T16:18:37.195455Z",
     "shell.execute_reply.started": "2025-06-20T16:18:32.515395Z"
    }
   },
   "outputs": [
    {
     "name": "stdout",
     "output_type": "stream",
     "text": [
      "删除缺失值或为0的行后，DataFrame一共有 10354612 行\n"
     ]
    }
   ],
   "source": [
    "# 删除 'pax' 字段为缺失值或为0的行\n",
    "df_all = df_all.dropna(subset=['pax'])  # 删除pax列中的缺失值行\n",
    "df_all = df_all[df_all['pax'] != 0]  # 删除pax列中为0的行\n",
    "\n",
    "# 查看删除后的DataFrame行数\n",
    "num_rows_after_cleanup = df_all.shape[0]\n",
    "print(f\"删除缺失值或为0的行后，DataFrame一共有 {num_rows_after_cleanup} 行\")"
   ]
  },
  {
   "cell_type": "markdown",
   "id": "95a292d0-fec9-45bc-9b63-163cf4f94811",
   "metadata": {},
   "source": [
    "## 处理tht_rev"
   ]
  },
  {
   "cell_type": "code",
   "execution_count": 4,
   "id": "a6cb3fa7-fc8e-4dba-8edd-96167e9b02aa",
   "metadata": {
    "execution": {
     "iopub.execute_input": "2025-06-20T16:18:37.197956Z",
     "iopub.status.busy": "2025-06-20T16:18:37.197616Z",
     "iopub.status.idle": "2025-06-20T16:18:37.245261Z",
     "shell.execute_reply": "2025-06-20T16:18:37.244181Z",
     "shell.execute_reply.started": "2025-06-20T16:18:37.197923Z"
    }
   },
   "outputs": [
    {
     "name": "stdout",
     "output_type": "stream",
     "text": [
      "tkt_rev 列中为 0 的行数: 1591\n",
      "tkt_rev 列中为 NaN 的行数: 0\n"
     ]
    }
   ],
   "source": [
    "# 统计 'unit_price' 列中为 0 的行数\n",
    "zero_count = (df_all['tkt_rev'] == 0).sum()\n",
    "\n",
    "# 统计 'unit_price' 列中为 NaN 的行数\n",
    "nan_count = df_all['tkt_rev'].isna().sum()\n",
    "\n",
    "# 输出结果\n",
    "print(f\"tkt_rev 列中为 0 的行数: {zero_count}\")\n",
    "print(f\"tkt_rev 列中为 NaN 的行数: {nan_count}\")"
   ]
  },
  {
   "cell_type": "code",
   "execution_count": 5,
   "id": "b105520b-bef2-44c0-ac5c-00685ffa2356",
   "metadata": {
    "execution": {
     "iopub.execute_input": "2025-06-20T16:18:37.247073Z",
     "iopub.status.busy": "2025-06-20T16:18:37.246739Z",
     "iopub.status.idle": "2025-06-20T16:18:37.270871Z",
     "shell.execute_reply": "2025-06-20T16:18:37.269851Z",
     "shell.execute_reply.started": "2025-06-20T16:18:37.247041Z"
    }
   },
   "outputs": [
    {
     "name": "stdout",
     "output_type": "stream",
     "text": [
      "tkt_rev 为 0 的行中，'leg_no' 字段的不同取值及其数量：\n",
      "leg_no\n",
      "3    1327\n",
      "1     170\n",
      "2      93\n",
      "6       1\n",
      "Name: count, dtype: int64\n"
     ]
    }
   ],
   "source": [
    "# 过滤出 'tkt_rev' 为 0 的行\n",
    "zero_tkt_rev = df_all[df_all['tkt_rev'] == 0]\n",
    "\n",
    "# 统计这些 'tkt_rev' 为 0 的行中 'leg_no' 字段的不同取值及其数量\n",
    "leg_no_counts = zero_tkt_rev['leg_no'].value_counts()\n",
    "\n",
    "# 输出统计结果\n",
    "print(f\"tkt_rev 为 0 的行中，'leg_no' 字段的不同取值及其数量：\")\n",
    "print(leg_no_counts)"
   ]
  },
  {
   "cell_type": "code",
   "execution_count": 6,
   "id": "672070f5-1654-47d6-bcad-df8fbc8ae0c9",
   "metadata": {
    "execution": {
     "iopub.execute_input": "2025-06-20T16:18:37.272399Z",
     "iopub.status.busy": "2025-06-20T16:18:37.272067Z",
     "iopub.status.idle": "2025-06-20T16:18:42.034487Z",
     "shell.execute_reply": "2025-06-20T16:18:42.033514Z",
     "shell.execute_reply.started": "2025-06-20T16:18:37.272367Z"
    }
   },
   "outputs": [
    {
     "name": "stdout",
     "output_type": "stream",
     "text": [
      "(10353021, 16)\n",
      "     flt_date segment  flt_no   route    a    b    c bd_type  dep_time  cap  \\\n",
      "0  2023-01-01  LXAMIG    3017  LXAMIG  LXA  MIG  NaN      窄体  13:25:00  132   \n",
      "1  2023-01-01  MIGLXA    3018  MIGLXA  MIG  LXA  NaN      窄体  16:15:00  132   \n",
      "\n",
      "  aircraft  legs  leg_no  duration  pax   unit_price  \n",
      "0      319     1       1      1.70  127  1760.866142  \n",
      "1      319     1       1      2.28   60  1280.900000  \n",
      "            flt_date segment  flt_no   route    a    b    c bd_type  dep_time  \\\n",
      "10586016  2025-05-30  CANTNA    9971  CANTNA  CAN  TNA  NaN      窄体  07:50:00   \n",
      "10586017  2025-05-30  TNACAN    9972  TNACAN  TNA  CAN  NaN      窄体  12:00:00   \n",
      "\n",
      "          cap aircraft  legs  leg_no  duration  pax  unit_price  \n",
      "10586016  168      737     1       1      2.40  159  886.666667  \n",
      "10586017  168      737     1       1      2.15  151  882.013245  \n"
     ]
    }
   ],
   "source": [
    "df_all = df_all[df_all['tkt_rev'] != 0]\n",
    "\n",
    "# 计算单价 'unit_price'，即 tkt_rev 除以 pax\n",
    "df_all['unit_price'] = df_all['tkt_rev'] / df_all['pax']\n",
    "\n",
    "# 删除 'tkt_rev' 列\n",
    "df_all = df_all.drop(columns=['tkt_rev'])\n",
    "\n",
    "# 查看结果\n",
    "print(df_all.shape)\n",
    "print(df_all.head(2))\n",
    "print(df_all.tail(2))"
   ]
  },
  {
   "cell_type": "markdown",
   "id": "849e1707-d226-40d1-9007-8e64e0663d2f",
   "metadata": {},
   "source": [
    "# 为海航数据补充竞争航线价格"
   ]
  },
  {
   "cell_type": "code",
   "execution_count": null,
   "id": "cec95f15-52f8-4aff-b081-0fc648f4bc81",
   "metadata": {
    "execution": {
     "iopub.execute_input": "2025-06-20T16:18:42.036449Z",
     "iopub.status.busy": "2025-06-20T16:18:42.035767Z"
    }
   },
   "outputs": [
    {
     "name": "stderr",
     "output_type": "stream",
     "text": [
      "Processing df_hh rows:   1%|█▍                                                                                                                               | 19103/1790558 [02:33<4:44:47, 103.67it/s]"
     ]
    }
   ],
   "source": [
    "import pandas as pd\n",
    "import numpy as np\n",
    "from datetime import timedelta\n",
    "from tqdm import tqdm  # 导入 tqdm\n",
    "\n",
    "\n",
    "# 确保 df_all 和 df_hh 中 'dep_time' 和 'flt_date' 是正确的 datetime 类型\n",
    "df_all['dep_time'] = pd.to_datetime(df_all['flt_date'].astype(str) + ' ' + df_all['dep_time'].astype(str), format='%Y-%m-%d %H:%M:%S')\n",
    "df_hh['dep_time'] = pd.to_datetime(df_hh['flt_date'].astype(str) + ' ' + df_hh['dep_time'].astype(str), format='%Y-%m-%d %H:%M:%S')\n",
    "\n",
    "# 1. 按 'segment' 字段分组\n",
    "df_all_grouped = df_all.groupby('segment')\n",
    "\n",
    "# 2. 准备一个空的列表用于存储竞争航班的票价\n",
    "competitor_prices = []\n",
    "\n",
    "# 3. 使用 tqdm 包装 df_hh.iterrows() 来显示进度条\n",
    "for idx, row_hh in tqdm(df_hh.iterrows(), total=df_hh.shape[0], desc=\"Processing df_hh rows\"):\n",
    "    segment_hh, dep_time_hh = row_hh['segment'], row_hh['dep_time']\n",
    "    \n",
    "    # 获取与当前航班相同的 segment 的所有航班\n",
    "    df_competing = df_all_grouped.get_group(segment_hh).copy() if segment_hh in df_all_grouped.groups else pd.DataFrame()\n",
    "\n",
    "    if df_competing.empty:\n",
    "        # 如果没有相同的航班，直接返回当前航班的票价\n",
    "        competitor_prices.append(row_hh['unit_price'])\n",
    "        continue\n",
    "    \n",
    "    # 4. 计算时间差\n",
    "    time_diff = abs(df_competing['dep_time'] - dep_time_hh)\n",
    "    \n",
    "    # 5. 筛选出起飞时间与 df_hh 当前航班相差不超过 4 小时的航班\n",
    "    df_competing.loc[:, 'time_diff'] = time_diff\n",
    "    df_competing_4h = df_competing[df_competing['time_diff'].abs() <= timedelta(hours=4)]  # 使用 abs() 来计算绝对时间差\n",
    "    \n",
    "    if not df_competing_4h.empty:\n",
    "        # 6. 如果有符合条件的航班，选择最便宜的\n",
    "        cheapest_competing = df_competing_4h.loc[df_competing_4h['unit_price'].idxmin()]\n",
    "        competitor_prices.append(cheapest_competing['unit_price'])\n",
    "    else:\n",
    "        # 7. 如果没有符合条件的航班，选择最接近的航班（按时间差最小）\n",
    "        closest_competing = df_competing.loc[df_competing['time_diff'].idxmin()]\n",
    "        competitor_prices.append(closest_competing['unit_price'])\n",
    "\n",
    "# 将竞争航班的票价添加到 df_hh\n",
    "df_hh['competitor_price'] = competitor_prices\n",
    "\n",
    "# 查看结果\n",
    "print(df_hh[['segment', 'dep_time', 'unit_price', 'competitor_price']].head())"
   ]
  },
  {
   "cell_type": "code",
   "execution_count": null,
   "id": "f30e220f-bc63-4409-b952-6e22caf1e4e6",
   "metadata": {},
   "outputs": [],
   "source": [
    "df_hh.to_csv('data_with_competitor_prices.csv')"
   ]
  },
  {
   "cell_type": "code",
   "execution_count": null,
   "id": "ff13f8a7-90ac-4868-bbf9-ecccfa70b351",
   "metadata": {},
   "outputs": [],
   "source": [
    "df_hh.head(50)"
   ]
  },
  {
   "cell_type": "markdown",
   "id": "3d576951-2011-44e2-aa70-01a099775009",
   "metadata": {},
   "source": [
    "# 进一步处理海航数据"
   ]
  },
  {
   "cell_type": "code",
   "execution_count": null,
   "id": "8bc54cee-e2d0-4de4-96b5-a1a9ef60ed1e",
   "metadata": {},
   "outputs": [],
   "source": [
    "df = df_hh"
   ]
  },
  {
   "cell_type": "markdown",
   "id": "871c6090-42ce-4bf6-aaf3-a4d8258aa781",
   "metadata": {},
   "source": [
    "## 拆分 flt_date 为 year, month, day, weekday"
   ]
  },
  {
   "cell_type": "code",
   "execution_count": null,
   "id": "b8794996-2342-4dce-863b-2551159b5dfd",
   "metadata": {},
   "outputs": [],
   "source": [
    "# 将 'flt_date' 列转换为 datetime 格式\n",
    "df['flt_date'] = pd.to_datetime(df['flt_date'])\n",
    "\n",
    "# 提取年、月、日和星期几\n",
    "df['year'] = df['flt_date'].dt.year\n",
    "df['month'] = df['flt_date'].dt.month\n",
    "df['day'] = df['flt_date'].dt.day\n",
    "df['weekday'] = df['flt_date'].dt.weekday  # 0 = Monday, 6 = Sunday\n",
    "\n",
    "# 删除原始的 'flt_date' 字段\n",
    "df = df.drop(columns=['flt_date'])\n",
    "\n",
    "print(df.shape)\n",
    "print(df.head(5))\n",
    "print(df.tail(5))"
   ]
  },
  {
   "cell_type": "markdown",
   "id": "16b6f90c-2c48-482c-9701-57acc9664580",
   "metadata": {},
   "source": [
    "## 拆分 dep_time 为 hour, minute, second"
   ]
  },
  {
   "cell_type": "code",
   "execution_count": null,
   "id": "7785bc25-7cc1-4850-9df9-4f19211c7f02",
   "metadata": {},
   "outputs": [],
   "source": [
    "# 从 'dep_time' 字段提取小时、分钟和秒\n",
    "df['hour'] = df['dep_time'].dt.hour\n",
    "df['minute'] = df['dep_time'].dt.minute\n",
    "\n",
    "# 删除原始的 'dep_time' 字段\n",
    "df = df.drop(columns=['dep_time'])\n",
    "\n",
    "\n",
    "\n",
    "# 查看结果\n",
    "print(df.shape)\n",
    "print(df.head(5))\n",
    "print(df.tail(5))"
   ]
  },
  {
   "cell_type": "markdown",
   "id": "7f6ef1e7-80a4-439d-adb6-d50f146f318e",
   "metadata": {},
   "source": [
    "## 拆分 segment 为 from 和 to"
   ]
  },
  {
   "cell_type": "code",
   "execution_count": null,
   "id": "fb80f2be-a31e-4bf6-b913-b777df75950f",
   "metadata": {},
   "outputs": [],
   "source": [
    "# 提取 'segment' 列的前三个字符作为 'from' 列\n",
    "df['from'] = df['segment'].str[:3]\n",
    "\n",
    "# 提取 'segment' 列的后三个字符作为 'to' 列\n",
    "df['to'] = df['segment'].str[-3:]\n",
    "\n",
    "# 删除原始的 'segment' 字段\n",
    "df = df.drop(columns=['segment'])\n",
    "\n",
    "# 查看结果\n",
    "print(df.shape)\n",
    "print(df.head(2))\n",
    "print(df.tail(2))"
   ]
  },
  {
   "cell_type": "markdown",
   "id": "85594c8e-ab99-42f6-ad81-e7b9ec45feab",
   "metadata": {},
   "source": [
    "## 修改competitor_price为差值"
   ]
  },
  {
   "cell_type": "code",
   "execution_count": null,
   "id": "1dbe7c78-1e9d-4d2a-8de5-d63ccfa15391",
   "metadata": {},
   "outputs": [],
   "source": [
    "df['competitor_price'] = df['unit_price'] - df['competitor_price']"
   ]
  },
  {
   "cell_type": "code",
   "execution_count": null,
   "id": "31ebb31c-d06c-4a55-ab77-bbd2faeada37",
   "metadata": {},
   "outputs": [],
   "source": [
    "print(df.shape)\n",
    "print(df.head(2))\n",
    "print(df.tail(2))"
   ]
  },
  {
   "cell_type": "markdown",
   "id": "fbad641b-16ad-4860-bde6-56c6b7ce84ab",
   "metadata": {},
   "source": [
    "## 保存当前数据"
   ]
  },
  {
   "cell_type": "code",
   "execution_count": null,
   "id": "8592ec00-3a8b-42a0-800d-a55a2fb74e02",
   "metadata": {},
   "outputs": [],
   "source": [
    "df.to_csv(\"./pre_2023-2025_with_comp.csv\", index=False, encoding=\"utf-8\")"
   ]
  },
  {
   "cell_type": "markdown",
   "id": "784aff60-cd66-443c-9a24-a93bcf474cdc",
   "metadata": {},
   "source": [
    "# 拆分训练集测试集"
   ]
  },
  {
   "cell_type": "code",
   "execution_count": null,
   "id": "d48079f9-f2c2-4b47-b913-ef2dd23a46bc",
   "metadata": {},
   "outputs": [],
   "source": [
    "import pandas as pd\n",
    "\n",
    "# 筛选出 year=2024 且 month 在 7 到 10 之间的数据（测试集 test）\n",
    "df_test = df[(df['year'] == 2024) & (df['month'].between(7, 10))]\n",
    "\n",
    "# 筛选出 其他数据（训练集 train）\n",
    "df_train = df[~((df['year'] == 2024) & (df['month'].between(7, 10)))]\n",
    "\n",
    "# 保存两个数据集\n",
    "df_train.to_csv(\"pre_2023-2025_with_comp_train.csv\", index=False, encoding=\"utf-8\")\n",
    "df_test.to_csv(\"pre_2023-2025_with_comp_test.csv\", index=False, encoding=\"utf-8\")\n",
    "\n",
    "print(\"✅ 数据已成功拆分并保存：\")\n",
    "print(\"- 训练集 (其他数据) → pre_2025-2024_with_comp_train.csv\")\n",
    "print(\"- 测试集 (2024 年 7-10 月数据) → pre_2025-2024_with_comp_test.csv\")"
   ]
  },
  {
   "cell_type": "code",
   "execution_count": null,
   "id": "f09b2b0b-c79e-4ce0-8d92-c5b917384ecd",
   "metadata": {},
   "outputs": [],
   "source": [
    "# 确保筛选 legs=3 的数据\n",
    "df_filtered = df_test[df_test[\"legs\"] == 3]\n",
    "\n",
    "# 统计 leg_no=1, 2, 3 的行数\n",
    "leg_counts = {}\n",
    "for leg_no in [1, 2, 3]:\n",
    "    df_leg = df_filtered[df_filtered[\"leg_no\"] == leg_no]\n",
    "    file_name = f\"pre_2023-2024_with_comp_test_leg{leg_no}.csv\"\n",
    "    df_leg.to_csv(file_name, index=False, encoding=\"utf-8\")\n",
    "    print(f\"已保存: {file_name}\")\n",
    "    leg_counts[leg_no] = len(df_leg)\n",
    "\n",
    "# 输出行数\n",
    "print(leg_counts)"
   ]
  },
  {
   "cell_type": "code",
   "execution_count": null,
   "id": "d0cc8524-4c5d-4037-8ffa-f0f97af13709",
   "metadata": {},
   "outputs": [],
   "source": [
    "# 获取行数\n",
    "train_rows = df_train.shape[0]\n",
    "test_rows = df_test.shape[0]\n",
    "\n",
    "# 输出结果\n",
    "\n",
    "print(f\"   - 数据行数: {train_rows} 行\")\n",
    "print(f\"   - 前5行数据:\")\n",
    "display(df_train.head())\n",
    "\n",
    "\n",
    "print(f\"   - 数据行数: {test_rows} 行\")\n",
    "print(f\"   - 前5行数据:\")\n",
    "display(df_test.head())"
   ]
  },
  {
   "cell_type": "markdown",
   "id": "960a93f2-2191-49c5-a121-e5af7c0fff28",
   "metadata": {},
   "source": [
    "# 统计航段价格信息"
   ]
  },
  {
   "cell_type": "code",
   "execution_count": null,
   "id": "cb5c6c79-baf2-447f-9a82-a815176d01a2",
   "metadata": {},
   "outputs": [],
   "source": [
    "# 查看结果\n",
    "print(df.shape)\n",
    "print(df.head(2))\n",
    "print(df.tail(2))"
   ]
  },
  {
   "cell_type": "code",
   "execution_count": null,
   "id": "36995213-591a-4b06-b05b-821762fae58a",
   "metadata": {},
   "outputs": [],
   "source": [
    "# 计算每对城市间直航航班的价格统计信息\n",
    "price_stats = df.groupby(['from', 'to']).agg({\n",
    "    'unit_price': ['mean', 'std', 'count']\n",
    "}).round(2)\n",
    "\n",
    "# 重命名列\n",
    "price_stats.columns = ['平均价格', '价格标准差', '航班数量']\n",
    "\n",
    "# 对只有一趟航班的航线,将标准差设为平均价格的十分之一\n",
    "single_flight_routes = price_stats['航班数量'] == 1\n",
    "price_stats.loc[single_flight_routes, '价格标准差'] = price_stats.loc[single_flight_routes, '平均价格'] / 10\n",
    "\n",
    "# 按平均价格降序排序\n",
    "price_stats = price_stats.sort_values('平均价格', ascending=False)\n",
    "\n",
    "# 显示结果\n",
    "print(\"每对城市间直航航班的价格统计：\")\n",
    "print(price_stats)\n",
    "\n",
    "# 可选：保存结果到CSV文件\n",
    "price_stats.to_csv('./route_price_stats.csv')\n",
    "\n",
    "# 输出一些基本统计信息\n",
    "print(\"\\n基本统计信息：\")\n",
    "print(f\"航线总数：{len(price_stats)}\")\n",
    "print(f\"最高平均票价航线：{price_stats['平均价格'].max():.2f}\")\n",
    "print(f\"最低平均票价航线：{price_stats['平均价格'].min():.2f}\")\n",
    "print(f\"最大标准差航线：{price_stats['价格标准差'].max():.2f}\")"
   ]
  }
 ],
 "metadata": {
  "kernelspec": {
   "display_name": "Python 3 (ipykernel)",
   "language": "python",
   "name": "python3"
  },
  "language_info": {
   "codemirror_mode": {
    "name": "ipython",
    "version": 3
   },
   "file_extension": ".py",
   "mimetype": "text/x-python",
   "name": "python",
   "nbconvert_exporter": "python",
   "pygments_lexer": "ipython3",
   "version": "3.10.15"
  },
  "toc": {
   "base_numbering": 1,
   "nav_menu": {},
   "number_sections": true,
   "sideBar": true,
   "skip_h1_title": false,
   "title_cell": "Table of Contents",
   "title_sidebar": "Contents",
   "toc_cell": false,
   "toc_position": {},
   "toc_section_display": true,
   "toc_window_display": false
  },
  "varInspector": {
   "cols": {
    "lenName": 16,
    "lenType": 16,
    "lenVar": 40
   },
   "kernels_config": {
    "python": {
     "delete_cmd_postfix": "",
     "delete_cmd_prefix": "del ",
     "library": "var_list.py",
     "varRefreshCmd": "print(var_dic_list())"
    },
    "r": {
     "delete_cmd_postfix": ") ",
     "delete_cmd_prefix": "rm(",
     "library": "var_list.r",
     "varRefreshCmd": "cat(var_dic_list()) "
    }
   },
   "types_to_exclude": [
    "module",
    "function",
    "builtin_function_or_method",
    "instance",
    "_Feature"
   ],
   "window_display": true
  }
 },
 "nbformat": 4,
 "nbformat_minor": 5
}
