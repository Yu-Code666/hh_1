{
 "cells": [
  {
   "cell_type": "markdown",
   "id": "dd53eacf",
   "metadata": {},
   "source": [
    "这里说频率是指一个机场航班出现的频率"
   ]
  },
  {
   "cell_type": "markdown",
   "id": "6682e039",
   "metadata": {},
   "source": [
    "## 加载数据"
   ]
  },
  {
   "cell_type": "markdown",
   "id": "4ba85eca",
   "metadata": {},
   "source": [
    "数据已经预处理过了"
   ]
  },
  {
   "cell_type": "code",
   "execution_count": 1,
   "id": "67758591",
   "metadata": {
    "ExecuteTime": {
     "end_time": "2024-12-26T03:24:29.224498Z",
     "start_time": "2024-12-26T03:24:21.643197Z"
    },
    "execution": {
     "iopub.execute_input": "2025-06-16T09:13:07.309304Z",
     "iopub.status.busy": "2025-06-16T09:13:07.308981Z",
     "iopub.status.idle": "2025-06-16T09:13:12.472460Z",
     "shell.execute_reply": "2025-06-16T09:13:12.471269Z",
     "shell.execute_reply.started": "2025-06-16T09:13:07.309273Z"
    }
   },
   "outputs": [
    {
     "name": "stdout",
     "output_type": "stream",
     "text": [
      "(1507936, 20)\n",
      "  flt_no  cap aircraft  legs  leg_no  duration  pax    a    b    c  \\\n",
      "0   7558  110      195     1       1      1.30   97  AAT  URC  NaN   \n",
      "1   7470  110      195     1       1      1.25   67  ACF  URC  NaN   \n",
      "2   769R    0      190     3       3      4.75   22  ACF  TLQ  XIY   \n",
      "3   5248  162      320     1       1      1.83   55  AKA  HGH  NaN   \n",
      "4   6250  167      320     1       1      3.98  166  AKU  CGO  NaN   \n",
      "\n",
      "    unit_price  competitor_price  year  month  day  weekday  hour  minute  \\\n",
      "0   470.474227        -94.900773  2023      1    1        6    14      35   \n",
      "1   454.925373       -123.872095  2023      1    1        6    22      40   \n",
      "2  1177.818182          0.000000  2023      1    1        6    18       0   \n",
      "3   669.090909          0.000000  2023      1    1        6    12      55   \n",
      "4  1794.783133        -65.028989  2023      1    1        6    13      10   \n",
      "\n",
      "  from   to  \n",
      "0  AAT  URC  \n",
      "1  ACF  URC  \n",
      "2  ACF  XIY  \n",
      "3  AKA  HGH  \n",
      "4  AKU  CGO  \n",
      "        flt_no  cap aircraft  legs  leg_no  duration  pax    a    b    c  \\\n",
      "1507931   7690    0      32F     3       3      6.53   34  ZUH  XIY  URC   \n",
      "1507932   7690  154      32F     3       1      2.78  113  ZUH  XIY  URC   \n",
      "1507933   8304  167      738     1       1      2.48  158  ZUH  XIY  NaN   \n",
      "1507934   7545  155      32F     3       2      2.05   74  XIY  ZYI  SYX   \n",
      "1507935   7546  155      32F     3       2      1.42  136  SYX  ZYI  XIY   \n",
      "\n",
      "          unit_price  competitor_price  year  month  day  weekday  hour  \\\n",
      "1507931  1812.058824        -62.257843  2025      5   30        4    16   \n",
      "1507932  1002.415929        316.492852  2025      5   30        4    16   \n",
      "1507933   773.158228         87.235151  2025      5   30        4    22   \n",
      "1507934   410.567568        194.567568  2025      5   30        4    10   \n",
      "1507935   483.933824          0.000000  2025      5   30        4    16   \n",
      "\n",
      "         minute from   to  \n",
      "1507931      15  ZUH  URC  \n",
      "1507932      15  ZUH  XIY  \n",
      "1507933      10  ZUH  XIY  \n",
      "1507934      25  ZYI  SYX  \n",
      "1507935      50  ZYI  XIY  \n"
     ]
    }
   ],
   "source": [
    "import pandas as pd\n",
    "\n",
    "# 加载数据\n",
    "data = pd.read_csv('./pre_2023-2025_with_comp_train.csv', dtype={'flt_no': str})\n",
    "\n",
    "# 查看前几行数据，确保加载成功\n",
    "# 显示前两行数据以确保正确加载\n",
    "print(data.shape)\n",
    "print(data.head(5))\n",
    "print(data.tail(5))"
   ]
  },
  {
   "cell_type": "code",
   "execution_count": 2,
   "id": "3c21010a-ed73-426d-ad74-292659c6d09b",
   "metadata": {
    "execution": {
     "iopub.execute_input": "2025-06-16T09:13:12.473938Z",
     "iopub.status.busy": "2025-06-16T09:13:12.473627Z",
     "iopub.status.idle": "2025-06-16T09:13:12.534223Z",
     "shell.execute_reply": "2025-06-16T09:13:12.533151Z",
     "shell.execute_reply.started": "2025-06-16T09:13:12.473906Z"
    }
   },
   "outputs": [
    {
     "name": "stdout",
     "output_type": "stream",
     "text": [
      "\n",
      "标准化后的统计信息：\n",
      "count    1.507936e+06\n",
      "mean     1.213227e+02\n",
      "std      5.255224e+01\n",
      "min      2.000000e+01\n",
      "25%      8.100000e+01\n",
      "50%      1.260000e+02\n",
      "75%      1.590000e+02\n",
      "max      3.110000e+02\n",
      "Name: pax, dtype: float64\n"
     ]
    }
   ],
   "source": [
    "# 检查标准化后的统计信息\n",
    "print(\"\\n标准化后的统计信息：\")\n",
    "print(data['pax'].describe())"
   ]
  },
  {
   "cell_type": "markdown",
   "id": "3070bc17",
   "metadata": {},
   "source": [
    "## 编码分类变量"
   ]
  },
  {
   "cell_type": "markdown",
   "id": "4e85031f",
   "metadata": {},
   "source": [
    "### 新增城市标签"
   ]
  },
  {
   "cell_type": "code",
   "execution_count": 3,
   "id": "1f70a5b1",
   "metadata": {
    "ExecuteTime": {
     "end_time": "2024-12-26T03:24:29.227809Z",
     "start_time": "2024-12-26T03:24:29.225585Z"
    },
    "execution": {
     "iopub.execute_input": "2025-06-16T09:13:12.537491Z",
     "iopub.status.busy": "2025-06-16T09:13:12.536767Z",
     "iopub.status.idle": "2025-06-16T09:13:12.543501Z",
     "shell.execute_reply": "2025-06-16T09:13:12.542458Z",
     "shell.execute_reply.started": "2025-06-16T09:13:12.537454Z"
    }
   },
   "outputs": [
    {
     "name": "stdout",
     "output_type": "stream",
     "text": [
      "加载的字典： {'AAT': 0, 'CKG': 2, 'PEK': 2, 'TCG': 0, 'URC': 0, 'XIY': 2, 'YIN': 0, 'ACF': 0, 'HMI': 2, 'SHF': 0, 'TLQ': 0, 'ACX': 1, 'CGO': 2, 'KMG': 2, 'AEB': 1, 'CAN': 2, 'HGH': 2, 'KWL': 2, 'TFU': 2, 'AKA': 0, 'CSX': 2, 'HAK': 2, 'TSN': 2, 'UYN': 2, 'AKU': 0, 'FOC': 2, 'HTN': 0, 'AOG': 2, 'TNA': 2, 'AQG': 2, 'KWE': 2, 'NGB': 2, 'TAO': 2, 'XMN': 2, 'AVA': 2, 'LLB': 2, 'BAR': 0, 'HRB': 2, 'JMJ': 1, 'KHN': 2, 'LHW': 2, 'NNG': 2, 'SJW': 2, 'SZX': 2, 'BAV': 2, 'HLD': 0, 'TGO': 0, 'XIL': 0, 'BFJ': 2, 'BHY': 2, 'HET': 2, 'HFE': 2, 'HNY': 2, 'JNG': 2, 'NAO': 2, 'WUH': 2, 'XUZ': 2, 'YIH': 2, 'BPE': 1, 'BPL': 0, 'BPX': 1, 'BSD': 1, 'BZX': 2, 'JJN': 2, 'LJG': 2, 'NKG': 2, 'CGQ': 2, 'DLC': 2, 'DOY': 0, 'HDG': 2, 'HSN': 2, 'HZG': 0, 'INC': 2, 'JIQ': 2, 'PKX': 0, 'PVG': 2, 'SHA': 2, 'SHE': 2, 'SQJ': 2, 'SYX': 2, 'TEN': 2, 'TYN': 2, 'WEF': 2, 'WUA': 2, 'YIC': 2, 'ZQZ': 2, 'CGD': 2, 'JHG': 1, 'CIF': 2, 'DLU': 1, 'DXJ': 0, 'ENH': 2, 'GOQ': 1, 'HUZ': 2, 'JGS': 1, 'JNZ': 1, 'KCA': 0, 'KHG': 0, 'KOW': 2, 'KRL': 2, 'LXA': 1, 'LZH': 2, 'LZO': 2, 'MIG': 2, 'MXZ': 2, 'SQD': 2, 'SWA': 2, 'TCZ': 1, 'WMT': 2, 'WNZ': 2, 'XNN': 2, 'YLX': 2, 'ZHA': 2, 'ZUH': 2, 'ZYI': 2, 'HIA': 2, 'NBS': 1, 'RIZ': 2, 'DSN': 0, 'HLH': 0, 'LYA': 2, 'RLK': 2, 'CQW': 1, 'DNH': 2, 'FUG': 2, 'LYG': 2, 'LZY': 1, 'RKZ': 1, 'TVS': 2, 'TXN': 2, 'WDS': 2, 'YNJ': 2, 'YNT': 2, 'YZY': 0, 'CZX': 1, 'DZH': 2, 'HCJ': 2, 'HYN': 2, 'HZA': 2, 'LFQ': 2, 'LYI': 2, 'WXN': 2, 'CWJ': 1, 'DAT': 2, 'DIG': 1, 'LLV': 2, 'MDG': 0, 'NTG': 0, 'WEH': 0, 'WHA': 2, 'XFN': 2, 'YNZ': 2, 'YBP': 1, 'DQA': 0, 'DYG': 2, 'EHU': 2, 'ENY': 0, 'ERL': 0, 'KJH': 2, 'FYN': 0, 'GYS': 2, 'HCZ': 2, 'HJJ': 2, 'HSC': 2, 'IQN': 0, 'JDZ': 2, 'JIU': 2, 'LLF': 2, 'LNL': 0, 'NNY': 2, 'SHS': 2, 'WGN': 2, 'WUT': 1, 'XAI': 2, 'XNT': 1, 'XYI': 2, 'YKH': 2, 'YTY': 0, 'YYA': 2, 'NZH': 0, 'NZL': 0, 'YIE': 0, 'LUM': 1, 'ZHY': 0, 'JGD': 0, 'OHE': 0, 'TWC': 0, 'HQQ': 1, 'HUO': 0, 'JUH': 2, 'SYM': 1, 'JMU': 0, 'JXA': 0, 'QSZ': 0, 'KJI': 0, 'NGQ': 0, 'WUX': 1, 'RQA': 0, 'WUZ': 2, 'LZG': 0, 'NLT': 0, 'YUS': 1, 'YTW': 0, 'YSQ': 2, 'ZFL': 0}\n"
     ]
    }
   ],
   "source": [
    "import json\n",
    "# 加载字典\n",
    "with open('../../my/encoder/city_labels_航班频率加权图标签.json', 'r') as file:\n",
    "    city_labels_loaded = json.load(file)\n",
    "\n",
    "print(\"加载的字典：\", city_labels_loaded)"
   ]
  },
  {
   "cell_type": "code",
   "execution_count": 4,
   "id": "9ddf2ad9",
   "metadata": {
    "ExecuteTime": {
     "end_time": "2024-12-26T03:24:29.955961Z",
     "start_time": "2024-12-26T03:24:29.228601Z"
    },
    "execution": {
     "iopub.execute_input": "2025-06-16T09:13:12.545593Z",
     "iopub.status.busy": "2025-06-16T09:13:12.544633Z",
     "iopub.status.idle": "2025-06-16T09:13:13.055097Z",
     "shell.execute_reply": "2025-06-16T09:13:13.053925Z",
     "shell.execute_reply.started": "2025-06-16T09:13:12.545553Z"
    }
   },
   "outputs": [],
   "source": [
    "# 使用 map 对 'a', 'b', 'c', 'from', 'to' 列进行标签化，新增对应的标签列\n",
    "data['a_label'] = data['a'].map(city_labels_loaded)\n",
    "data['b_label'] = data['b'].map(city_labels_loaded)\n",
    "data['c_label'] = data['c'].map(city_labels_loaded)\n",
    "data['from_label'] = data['from'].map(city_labels_loaded)\n",
    "data['to_label'] = data['to'].map(city_labels_loaded)"
   ]
  },
  {
   "cell_type": "markdown",
   "id": "23199201",
   "metadata": {},
   "source": [
    "### 新增城市二维嵌入"
   ]
  },
  {
   "cell_type": "code",
   "execution_count": 5,
   "id": "21b9a4c5",
   "metadata": {
    "ExecuteTime": {
     "end_time": "2024-12-26T03:24:29.959908Z",
     "start_time": "2024-12-26T03:24:29.957254Z"
    },
    "execution": {
     "iopub.execute_input": "2025-06-16T09:13:13.056939Z",
     "iopub.status.busy": "2025-06-16T09:13:13.056599Z",
     "iopub.status.idle": "2025-06-16T09:13:13.064523Z",
     "shell.execute_reply": "2025-06-16T09:13:13.063375Z",
     "shell.execute_reply.started": "2025-06-16T09:13:13.056897Z"
    },
    "scrolled": true
   },
   "outputs": [
    {
     "name": "stdout",
     "output_type": "stream",
     "text": [
      "加载的字典： {'AAT': [1.3974858522415161, -0.35777509212493896], 'CKG': [0.021040236577391624, -0.7495964765548706], 'PEK': [-0.10560103505849838, -0.1519176959991455], 'TCG': [1.5033057928085327, -0.4912932217121124], 'URC': [1.3680156469345093, -0.6859680414199829], 'XIY': [-0.38453859090805054, -0.9269238710403442], 'YIN': [2.02163028717041, -0.19894519448280334], 'ACF': [1.618796467781067, -0.4591560363769531], 'HMI': [0.5698978304862976, -0.6886125802993774], 'SHF': [0.9602804780006409, 0.12147855013608932], 'TLQ': [0.8214065432548523, 0.01148909330368042], 'ACX': [0.6117463111877441, 0.6912851333618164], 'CGO': [0.3642549514770508, -0.7661654949188232], 'KMG': [-0.31900137662887573, -0.08828768879175186], 'AEB': [0.6354373097419739, 1.1627978086471558], 'CAN': [0.003060971386730671, -0.43163830041885376], 'HGH': [-0.017082545906305313, -0.4000611901283264], 'KWL': [-0.6585598587989807, -0.8498300909996033], 'TFU': [0.22823546826839447, -0.34932762384414673], 'AKA': [0.26883354783058167, 0.30557096004486084], 'CSX': [-0.1738923192024231, -0.8682812452316284], 'HAK': [-0.42901936173439026, -1.0130252838134766], 'TSN': [-0.3828412890434265, -0.4450175166130066], 'UYN': [-0.19500283896923065, -0.7472346425056458], 'AKU': [1.6029417514801025, -0.3723122775554657], 'FOC': [-0.13395507633686066, -0.728526771068573], 'HTN': [1.754866600036621, -0.2763773500919342], 'AOG': [-0.7388105392456055, -0.173186257481575], 'TNA': [-0.3152628242969513, -0.8658577799797058], 'AQG': [-0.4641346335411072, -0.37860190868377686], 'KWE': [-0.06028404086828232, -0.761385440826416], 'NGB': [-0.06968958675861359, -0.7828364968299866], 'TAO': [-0.10234817862510681, -1.0173934698104858], 'XMN': [-0.29802238941192627, -0.6048833131790161], 'AVA': [-0.3394729495048523, -0.03113143891096115], 'LLB': [-0.4051397740840912, 0.13702839612960815], 'BAR': [0.21257245540618896, 0.7133986353874207], 'HRB': [-0.8751776814460754, -0.3631470203399658], 'JMJ': [0.1789834052324295, 1.34697425365448], 'KHN': [-0.6374720931053162, -0.4637303650379181], 'LHW': [0.6239525079727173, -0.6407832503318787], 'NNG': [-0.6233738660812378, -0.8554410338401794], 'SJW': [-0.24264715611934662, -0.5862892270088196], 'SZX': [0.06503408402204514, -0.40455693006515503], 'BAV': [-0.9436270594596863, 0.3575734496116638], 'HLD': [-0.7894573211669922, 0.9774030447006226], 'TGO': [-0.866456925868988, 0.858913242816925], 'XIL': [-1.0470103025436401, 0.9346303939819336], 'BFJ': [-0.479860782623291, -0.6060324311256409], 'BHY': [0.10661866515874863, -0.6256211996078491], 'HET': [-0.5564362406730652, 0.05885401740670204], 'HFE': [-0.6374360918998718, -0.3486476242542267], 'HNY': [-0.6540632247924805, -0.42001283168792725], 'JNG': [-0.5652922987937927, -0.6781594157218933], 'NAO': [1.0234813690185547, -0.5579503178596497], 'WUH': [-0.2012195587158203, -0.7595524191856384], 'XUZ': [-0.7037264704704285, -0.21894456446170807], 'YIH': [-0.01790572702884674, -0.5820224285125732], 'BPE': [-0.30684342980384827, 0.35130906105041504], 'BPL': [2.3805453777313232, 0.07967735826969147], 'BPX': [0.3493216037750244, 0.34161731600761414], 'BSD': [0.09196409583091736, 1.3718119859695435], 'BZX': [-0.3056408166885376, -0.9208173751831055], 'JJN': [0.4293133318424225, -1.0145918130874634], 'LJG': [-0.24479946494102478, -0.6836813688278198], 'NKG': [0.11306052654981613, -0.8114546537399292], 'CGQ': [-0.6263817548751831, -0.48431795835494995], 'DLC': [-0.6494563817977905, -0.29144591093063354], 'DOY': [-0.3694526255130768, 0.6643035411834717], 'HDG': [-0.8133631944656372, -0.5054208040237427], 'HSN': [-0.7613661289215088, -0.14508859813213348], 'HZG': [0.8194580674171448, -0.13039472699165344], 'INC': [0.5697920918464661, -0.45123526453971863], 'JIQ': [-0.3032057285308838, 0.062156423926353455], 'PKX': [0.3788643777370453, 0.11609642207622528], 'PVG': [0.08365761488676071, -0.7759355306625366], 'SHA': [0.05941569805145264, 0.1401056945323944], 'SHE': [-0.24990221858024597, -1.0961042642593384], 'SQJ': [-0.5226825475692749, 0.03152137249708176], 'SYX': [-0.3414415419101715, -0.6077701449394226], 'TEN': [-0.3857123851776123, -0.47344690561294556], 'TYN': [-0.13057175278663635, -0.7573609948158264], 'WEF': [-0.408478707075119, -0.250353068113327], 'WUA': [-0.8822564482688904, 0.5467932224273682], 'YIC': [-0.5104851126670837, -0.10563336312770844], 'ZQZ': [-0.5775294303894043, 0.1956174522638321], 'CGD': [-0.7154779434204102, -0.6107576489448547], 'JHG': [-0.19352993369102478, -0.18096627295017242], 'CIF': [-1.0850067138671875, 0.20040249824523926], 'DLU': [0.0685054287314415, 0.24380098283290863], 'DXJ': [0.05774056166410446, 0.7290052175521851], 'ENH': [-0.14138327538967133, -0.5710112452507019], 'GOQ': [0.8091275691986084, 0.5960148572921753], 'HUZ': [-0.12936148047447205, -0.9816704988479614], 'JGS': [-0.5931888818740845, 0.15207362174987793], 'JNZ': [0.23322150111198425, 0.975354790687561], 'KCA': [2.188347578048706, -0.0258285291492939], 'KHG': [1.9235912561416626, -0.36215704679489136], 'KOW': [-0.4240061342716217, -0.6559854745864868], 'KRL': [0.9259036779403687, -0.6455998420715332], 'LXA': [0.5520240664482117, 0.18747706711292267], 'LZH': [-0.1839836984872818, -0.32164207100868225], 'LZO': [0.10791020095348358, -0.4540529251098633], 'MIG': [0.42775896191596985, -0.7188130617141724], 'MXZ': [-0.15054257214069366, -0.2383379191160202], 'SQD': [-0.7715432047843933, -0.329664945602417], 'SWA': [-0.33673545718193054, -1.031293511390686], 'TCZ': [0.1901281625032425, 1.1080139875411987], 'WMT': [-0.6002343893051147, -0.7167506814002991], 'WNZ': [0.5093566179275513, -0.7300592660903931], 'XNN': [0.12568314373493195, -0.054598335176706314], 'YLX': [-0.3453315198421478, -0.35523533821105957], 'ZHA': [0.3987288475036621, -0.8611844182014465], 'ZUH': [-0.24897512793540955, -0.8925778865814209], 'ZYI': [-0.43492624163627625, -0.7524765133857727], 'HIA': [0.021606702357530594, -0.5445398688316345], 'NBS': [-0.3307729661464691, 0.5795161724090576], 'RIZ': [-0.289720743894577, -0.3270084857940674], 'DSN': [-1.1139514446258545, 2.2493271827697754], 'HLH': [-0.9127965569496155, 1.0381640195846558], 'LYA': [0.07998690009117126, -0.6813856959342957], 'RLK': [-0.9963639974594116, 0.3412495255470276], 'CQW': [0.17611902952194214, 0.58625328540802], 'DNH': [0.13743092119693756, -0.4119594395160675], 'FUG': [-0.11253632605075836, -0.8639799356460571], 'LYG': [-0.26638609170913696, -0.5997888445854187], 'LZY': [0.30057403445243835, 0.45893594622612], 'RKZ': [0.3025544583797455, 0.5678576827049255], 'TVS': [-0.5704869031906128, -0.27919283509254456], 'TXN': [-0.6915678977966309, -0.497396320104599], 'WDS': [-0.019090767949819565, -0.5165940523147583], 'YNJ': [-0.33760184049606323, 0.5168823599815369], 'YNT': [-0.38908445835113525, -0.45323601365089417], 'YZY': [0.5138630867004395, 1.3796707391738892], 'CZX': [-0.5416133999824524, 1.2344534397125244], 'DZH': [-0.05190787464380264, -0.8007940649986267], 'HCJ': [-0.5944263935089111, -0.24170935153961182], 'HYN': [-0.4202117621898651, 0.2250545173883438], 'HZA': [-1.0629230737686157, -0.601672887802124], 'LFQ': [0.29889267683029175, -0.17624036967754364], 'LYI': [-0.8599922060966492, -0.5555023550987244], 'WXN': [0.2512817978858948, -0.6822055578231812], 'CWJ': [0.04993198812007904, 1.3788679838180542], 'DAT': [-0.8292607665061951, -0.1847953498363495], 'DIG': [-0.0021118817385286093, 1.4818238019943237], 'LLV': [-0.28496384620666504, 0.2410479336977005], 'MDG': [-0.40999892354011536, 1.0601885318756104], 'NTG': [1.3079713582992554, 0.002371822251006961], 'WEH': [-0.15724027156829834, 0.7342890501022339], 'WHA': [-1.0263603925704956, -0.2514917254447937], 'XFN': [-0.11208219081163406, -0.4212154150009155], 'YNZ': [0.4560966193675995, -0.3722987771034241], 'YBP': [0.0468001663684845, 0.9648884534835815], 'DQA': [-0.5273441076278687, 0.7653550505638123], 'DYG': [-0.7439311742782593, -0.39488664269447327], 'EHU': [-0.8501055240631104, -0.21730837225914001], 'ENY': [0.22497473657131195, 1.0592683553695679], 'ERL': [-0.6120109558105469, 1.879947304725647], 'KJH': [-0.22173647582530975, -0.17520147562026978], 'FYN': [2.331655263900757, 0.003592797787860036], 'GYS': [-0.290701299905777, -0.22437216341495514], 'HCZ': [-0.6744861602783203, -0.6743554472923279], 'HJJ': [-0.668779730796814, -0.7879635095596313], 'HSC': [-0.5792490839958191, -0.4984707534313202], 'IQN': [0.7420204281806946, 0.15488871932029724], 'JDZ': [-0.7795226573944092, -0.4092523455619812], 'JIU': [-0.6433953046798706, 0.03940295800566673], 'LLF': [-0.5363326668739319, -0.5428792238235474], 'LNL': [1.3317112922668457, 0.34394949674606323], 'NNY': [-0.5657148361206055, -0.28401893377304077], 'SHS': [-0.7786151766777039, -0.3894278109073639], 'WGN': [-0.655186653137207, -0.5664770603179932], 'WUT': [-1.1400625705718994, 0.7865938544273376], 'XAI': [-0.6408880949020386, -0.3654963970184326], 'XNT': [0.006835347041487694, 0.6316416263580322], 'XYI': [-0.7538177967071533, -0.4316268265247345], 'YKH': [-0.4699535667896271, -0.23630960285663605], 'YTY': [0.42427733540534973, 0.05114104598760605], 'YYA': [-0.7386908531188965, -0.273200660943985], 'NZH': [-0.4951845705509186, 1.5792571306228638], 'NZL': [-0.759765625, 1.8966853618621826], 'YIE': [-0.7357718348503113, 1.7490960359573364], 'LUM': [0.11147055774927139, 0.7943405508995056], 'ZHY': [0.20622576773166656, 0.9657095670700073], 'JGD': [-0.5723127722740173, 2.872851610183716], 'OHE': [-0.6619977355003357, 2.7962186336517334], 'TWC': [2.1354174613952637, -0.005500048864632845], 'HQQ': [-1.035108208656311, 0.8004183173179626], 'HUO': [-0.47093480825424194, 1.8719360828399658], 'JUH': [-0.3720875084400177, -0.3416433036327362], 'SYM': [0.15381811559200287, 0.3183157444000244], 'JMU': [0.06409444659948349, 1.554350733757019], 'JXA': [0.20195230841636658, 1.9673969745635986], 'QSZ': [2.7515902519226074, 0.8347067832946777], 'KJI': [2.4652352333068848, 0.3824256658554077], 'NGQ': [2.6296262741088867, 0.6600069403648376], 'WUX': [-0.06032673642039299, 1.2010661363601685], 'RQA': [2.535552501678467, 0.2026846557855606], 'WUZ': [-0.49299073219299316, -0.1390238255262375], 'LZG': [0.10105045884847641, 1.1820818185806274], 'NLT': [2.3610520362854004, -0.04858682304620743], 'YUS': [0.4230106770992279, 1.77311372756958], 'YTW': [2.3344743251800537, 0.09422758221626282], 'YSQ': [-0.506820023059845, 0.024672377854585648], 'ZFL': [2.360440969467163, 0.18840712308883667]}\n"
     ]
    }
   ],
   "source": [
    "import json\n",
    "\n",
    "# 加载字典\n",
    "with open('../../my/encoder/城市嵌入编码_航班频率加权图.json', 'r') as file:\n",
    "    city_embeddings = json.load(file)\n",
    "\n",
    "print(\"加载的字典：\", city_embeddings)\n"
   ]
  },
  {
   "cell_type": "code",
   "execution_count": 6,
   "id": "92374fbf",
   "metadata": {
    "ExecuteTime": {
     "end_time": "2024-12-26T03:24:34.619385Z",
     "start_time": "2024-12-26T03:24:29.960639Z"
    },
    "execution": {
     "iopub.execute_input": "2025-06-16T09:13:13.066397Z",
     "iopub.status.busy": "2025-06-16T09:13:13.066071Z",
     "iopub.status.idle": "2025-06-16T09:13:16.452194Z",
     "shell.execute_reply": "2025-06-16T09:13:16.451227Z",
     "shell.execute_reply.started": "2025-06-16T09:13:13.066365Z"
    }
   },
   "outputs": [
    {
     "name": "stdout",
     "output_type": "stream",
     "text": [
      "         a_embedding_1  a_embedding_2  b_embedding_1  b_embedding_2  \\\n",
      "0             1.397486      -0.357775       1.368016      -0.685968   \n",
      "1             1.618796      -0.459156       1.368016      -0.685968   \n",
      "2             1.618796      -0.459156       0.821407       0.011489   \n",
      "3             0.268834       0.305571      -0.017083      -0.400061   \n",
      "4             1.602942      -0.372312       0.364255      -0.766165   \n",
      "...                ...            ...            ...            ...   \n",
      "1507931      -0.248975      -0.892578      -0.384539      -0.926924   \n",
      "1507932      -0.248975      -0.892578      -0.384539      -0.926924   \n",
      "1507933      -0.248975      -0.892578      -0.384539      -0.926924   \n",
      "1507934      -0.384539      -0.926924      -0.434926      -0.752477   \n",
      "1507935      -0.341442      -0.607770      -0.434926      -0.752477   \n",
      "\n",
      "         c_embedding_1  c_embedding_2  from_embedding_1  from_embedding_2  \\\n",
      "0                  NaN            NaN          1.397486         -0.357775   \n",
      "1                  NaN            NaN          1.618796         -0.459156   \n",
      "2            -0.384539      -0.926924          1.618796         -0.459156   \n",
      "3                  NaN            NaN          0.268834          0.305571   \n",
      "4                  NaN            NaN          1.602942         -0.372312   \n",
      "...                ...            ...               ...               ...   \n",
      "1507931       1.368016      -0.685968         -0.248975         -0.892578   \n",
      "1507932       1.368016      -0.685968         -0.248975         -0.892578   \n",
      "1507933            NaN            NaN         -0.248975         -0.892578   \n",
      "1507934      -0.341442      -0.607770         -0.434926         -0.752477   \n",
      "1507935      -0.384539      -0.926924         -0.434926         -0.752477   \n",
      "\n",
      "         to_embedding_1  to_embedding_2  \n",
      "0              1.368016       -0.685968  \n",
      "1              1.368016       -0.685968  \n",
      "2             -0.384539       -0.926924  \n",
      "3             -0.017083       -0.400061  \n",
      "4              0.364255       -0.766165  \n",
      "...                 ...             ...  \n",
      "1507931        1.368016       -0.685968  \n",
      "1507932       -0.384539       -0.926924  \n",
      "1507933       -0.384539       -0.926924  \n",
      "1507934       -0.341442       -0.607770  \n",
      "1507935       -0.384539       -0.926924  \n",
      "\n",
      "[1507936 rows x 10 columns]\n"
     ]
    }
   ],
   "source": [
    "import pandas as pd\n",
    "import numpy as np\n",
    "\n",
    "# 将 city_embeddings 转换为 DataFrame\n",
    "embedding_df = pd.DataFrame.from_dict(city_embeddings, orient='index', columns=['embedding_1', 'embedding_2'])\n",
    "embedding_df.index.name = 'city'\n",
    "\n",
    "# 用 'a', 'b', 'c', 'from', 'to' 字段与 embedding_df 合并\n",
    "data = data.merge(embedding_df, left_on='a', right_index=True, how='left')\n",
    "data.rename(columns={'embedding_1': 'a_embedding_1', 'embedding_2': 'a_embedding_2'}, inplace=True)\n",
    "\n",
    "data = data.merge(embedding_df, left_on='b', right_index=True, how='left')\n",
    "data.rename(columns={'embedding_1': 'b_embedding_1', 'embedding_2': 'b_embedding_2'}, inplace=True)\n",
    "\n",
    "data = data.merge(embedding_df, left_on='c', right_index=True, how='left')\n",
    "data.rename(columns={'embedding_1': 'c_embedding_1', 'embedding_2': 'c_embedding_2'}, inplace=True)\n",
    "\n",
    "data = data.merge(embedding_df, left_on='from', right_index=True, how='left')\n",
    "data.rename(columns={'embedding_1': 'from_embedding_1', 'embedding_2': 'from_embedding_2'}, inplace=True)\n",
    "\n",
    "data = data.merge(embedding_df, left_on='to', right_index=True, how='left')\n",
    "data.rename(columns={'embedding_1': 'to_embedding_1', 'embedding_2': 'to_embedding_2'}, inplace=True)\n",
    "\n",
    "# 查看添加的新列\n",
    "print(data[['a_embedding_1', 'a_embedding_2', 'b_embedding_1', 'b_embedding_2', 'c_embedding_1', 'c_embedding_2', 'from_embedding_1', 'from_embedding_2', 'to_embedding_1', 'to_embedding_2']])\n"
   ]
  },
  {
   "cell_type": "markdown",
   "id": "5f9be248",
   "metadata": {},
   "source": [
    "### 频率编码"
   ]
  },
  {
   "cell_type": "markdown",
   "id": "d2737257",
   "metadata": {},
   "source": [
    "使用 json 保存和加载 city_map"
   ]
  },
  {
   "cell_type": "code",
   "execution_count": 7,
   "id": "a05c9648",
   "metadata": {
    "ExecuteTime": {
     "end_time": "2024-12-26T03:24:35.053615Z",
     "start_time": "2024-12-26T03:24:35.051060Z"
    },
    "execution": {
     "iopub.execute_input": "2025-06-16T09:13:16.453820Z",
     "iopub.status.busy": "2025-06-16T09:13:16.453489Z",
     "iopub.status.idle": "2025-06-16T09:13:17.488226Z",
     "shell.execute_reply": "2025-06-16T09:13:17.487071Z",
     "shell.execute_reply.started": "2025-06-16T09:13:16.453788Z"
    }
   },
   "outputs": [
    {
     "name": "stdout",
     "output_type": "stream",
     "text": [
      "        flt_no  cap aircraft  legs  leg_no  duration  pax       a       b  \\\n",
      "0         7558  110      195     1       1      1.30   97    2333  137647   \n",
      "1         7470  110      195     1       1      1.25   67    2434  137647   \n",
      "2         769R    0      190     3       3      4.75   22    2434     810   \n",
      "3         5248  162      320     1       1      1.83   55    1401  106774   \n",
      "4         6250  167      320     1       1      3.98  166    6066  135410   \n",
      "...        ...  ...      ...   ...     ...       ...  ...     ...     ...   \n",
      "1507931   7690    0      32F     3       3      6.53   34   33327  192653   \n",
      "1507932   7690  154      32F     3       1      2.78  113   33327  192653   \n",
      "1507933   8304  167      738     1       1      2.48  158   33327  192653   \n",
      "1507934   7545  155      32F     3       2      2.05   74  192653    5100   \n",
      "1507935   7546  155      32F     3       2      1.42  136  128149    5100   \n",
      "\n",
      "                c  ...  a_embedding_1  a_embedding_2  b_embedding_1  \\\n",
      "0             NaN  ...       1.397486      -0.357775       1.368016   \n",
      "1             NaN  ...       1.618796      -0.459156       1.368016   \n",
      "2        192653.0  ...       1.618796      -0.459156       0.821407   \n",
      "3             NaN  ...       0.268834       0.305571      -0.017083   \n",
      "4             NaN  ...       1.602942      -0.372312       0.364255   \n",
      "...           ...  ...            ...            ...            ...   \n",
      "1507931  137647.0  ...      -0.248975      -0.892578      -0.384539   \n",
      "1507932  137647.0  ...      -0.248975      -0.892578      -0.384539   \n",
      "1507933       NaN  ...      -0.248975      -0.892578      -0.384539   \n",
      "1507934  128149.0  ...      -0.384539      -0.926924      -0.434926   \n",
      "1507935  192653.0  ...      -0.341442      -0.607770      -0.434926   \n",
      "\n",
      "         b_embedding_2  c_embedding_1  c_embedding_2  from_embedding_1  \\\n",
      "0            -0.685968            NaN            NaN          1.397486   \n",
      "1            -0.685968            NaN            NaN          1.618796   \n",
      "2             0.011489      -0.384539      -0.926924          1.618796   \n",
      "3            -0.400061            NaN            NaN          0.268834   \n",
      "4            -0.766165            NaN            NaN          1.602942   \n",
      "...                ...            ...            ...               ...   \n",
      "1507931      -0.926924       1.368016      -0.685968         -0.248975   \n",
      "1507932      -0.926924       1.368016      -0.685968         -0.248975   \n",
      "1507933      -0.926924            NaN            NaN         -0.248975   \n",
      "1507934      -0.752477      -0.341442      -0.607770         -0.434926   \n",
      "1507935      -0.752477      -0.384539      -0.926924         -0.434926   \n",
      "\n",
      "         from_embedding_2  to_embedding_1  to_embedding_2  \n",
      "0               -0.357775        1.368016       -0.685968  \n",
      "1               -0.459156        1.368016       -0.685968  \n",
      "2               -0.459156       -0.384539       -0.926924  \n",
      "3                0.305571       -0.017083       -0.400061  \n",
      "4               -0.372312        0.364255       -0.766165  \n",
      "...                   ...             ...             ...  \n",
      "1507931         -0.892578        1.368016       -0.685968  \n",
      "1507932         -0.892578       -0.384539       -0.926924  \n",
      "1507933         -0.892578       -0.384539       -0.926924  \n",
      "1507934         -0.752477       -0.341442       -0.607770  \n",
      "1507935         -0.752477       -0.384539       -0.926924  \n",
      "\n",
      "[1507936 rows x 35 columns]\n"
     ]
    }
   ],
   "source": [
    "# 加载city_map\n",
    "with open('../../my/encoder/city_map_频率编码.json', 'r') as f:\n",
    "    city_map = json.load(f)\n",
    "\n",
    "# 使用 city_map 替换指定列的值\n",
    "columns_to_replace = ['a', 'b', 'c', 'from', 'to']\n",
    "\n",
    "# 遍历指定列并直接用 map 映射\n",
    "for col in columns_to_replace:\n",
    "    data[col] = data[col].map(city_map)\n",
    "\n",
    "\n",
    "print(data)"
   ]
  },
  {
   "cell_type": "markdown",
   "id": "20d3b1ea-44b4-4d7f-9c6e-7036e2ee1fc6",
   "metadata": {},
   "source": [
    "### 'flt_no', 'bd_type', 'aircraft'编码"
   ]
  },
  {
   "cell_type": "code",
   "execution_count": 8,
   "id": "9022bd85",
   "metadata": {
    "ExecuteTime": {
     "end_time": "2024-12-26T03:24:38.137862Z",
     "start_time": "2024-12-26T03:24:36.356011Z"
    },
    "execution": {
     "iopub.execute_input": "2025-06-16T09:13:17.489916Z",
     "iopub.status.busy": "2025-06-16T09:13:17.489583Z",
     "iopub.status.idle": "2025-06-16T09:13:18.769790Z",
     "shell.execute_reply": "2025-06-16T09:13:18.768611Z",
     "shell.execute_reply.started": "2025-06-16T09:13:17.489883Z"
    },
    "scrolled": true
   },
   "outputs": [
    {
     "name": "stdout",
     "output_type": "stream",
     "text": [
      "flt_no列编码完成\n",
      "aircraft列编码完成\n",
      "\n",
      "编码后的前几行数据：\n",
      "   flt_no  aircraft\n",
      "0    2945         2\n",
      "1    2821         2\n",
      "2    3159         0\n",
      "3     661         9\n",
      "4    1507         9\n"
     ]
    }
   ],
   "source": [
    "import joblib\n",
    "from sklearn.preprocessing import LabelEncoder\n",
    "import os\n",
    "\n",
    "# 定义需要编码的分类特征\n",
    "# categorical_columns = ['flt_no', 'bd_type', 'aircraft']\n",
    "categorical_columns = ['flt_no', 'aircraft']\n",
    "\n",
    "# 从保存的文件中加载编码器并应用到data\n",
    "for col in categorical_columns:\n",
    "    # 加载编码器\n",
    "    encoder_path = os.path.join('../../my/encoder/', f\"{col}_encoder_all.pkl\")\n",
    "    le = joblib.load(encoder_path)\n",
    "    \n",
    "    try:\n",
    "        # 对data进行转换\n",
    "        data[col] = le.transform(data[col])\n",
    "        print(f\"{col}列编码完成\")\n",
    "    except ValueError as e:\n",
    "        # 如果遇到新的类别，打印错误信息\n",
    "        print(f\"{col}列编码出错: {str(e)}\")\n",
    "        # 找出新的类别\n",
    "        new_categories = set(data[col]) - set(le.classes_)\n",
    "        print(f\"{col}列中的新类别: {new_categories}\")\n",
    "\n",
    "# 查看编码后的结果\n",
    "print(\"\\n编码后的前几行数据：\")\n",
    "print(data[categorical_columns].head())"
   ]
  },
  {
   "cell_type": "markdown",
   "id": "033293da",
   "metadata": {},
   "source": [
    "## 特征和目标分离\n",
    "我们要预测的是pax字段，其他字段作为特征。"
   ]
  },
  {
   "cell_type": "code",
   "execution_count": 9,
   "id": "5a274b48",
   "metadata": {
    "ExecuteTime": {
     "end_time": "2024-12-26T03:24:38.380502Z",
     "start_time": "2024-12-26T03:24:38.139813Z"
    },
    "execution": {
     "iopub.execute_input": "2025-06-16T09:13:18.771947Z",
     "iopub.status.busy": "2025-06-16T09:13:18.771085Z",
     "iopub.status.idle": "2025-06-16T09:13:18.967789Z",
     "shell.execute_reply": "2025-06-16T09:13:18.966562Z",
     "shell.execute_reply.started": "2025-06-16T09:13:18.771911Z"
    }
   },
   "outputs": [],
   "source": [
    "# 特征列\n",
    "# X = data[['flt_no', 'bd_type', 'cap', 'aircraft',  'leg_no', 'duration', 'a', 'b', 'c', 'year', 'month', 'day', 'weekday','holiday', 'hour', 'minute', 'second', 'from', 'to','unit_price']]\n",
    "# X = data[['flt_no', 'bd_type', 'cap', 'aircraft', 'legs', 'leg_no', 'duration', 'a', 'b', 'c', 'year', 'month', 'day', 'weekday','hour', 'minute', 'second', 'from', 'to','unit_price']]\n",
    "# X = data[['flt_no', 'bd_type', 'cap', 'aircraft', 'legs', 'leg_no', 'duration', 'a', 'b', 'c', 'year', 'month', 'day', 'weekday','hour', 'minute', 'second', 'from', 'to','unit_price','a_label' ,'b_label' ,'c_label' ,'from_label' ,'to_label']]\n",
    "\n",
    "# 有abc，有标签，有嵌入\n",
    "# X = data[['flt_no', 'bd_type', 'cap', 'aircraft', 'legs', 'leg_no', 'duration', 'a', 'b', 'c', 'year', 'month', 'day', 'weekday','hour', 'minute', 'second', 'from', 'to','unit_price','a_label' ,'b_label' ,'c_label' ,'from_label' ,'to_label','a_embedding_1' , 'a_embedding_2' , 'b_embedding_1','b_embedding_2' , 'c_embedding_1' , 'c_embedding_2' , 'from_embedding_1','from_embedding_2' , 'to_embedding_1' , 'to_embedding_2']]\n",
    "# X = data[['flt_no', 'cap', 'aircraft', 'legs', 'leg_no', 'duration', 'a', 'b', 'c', 'year', 'month', 'day', 'weekday','hour', 'minute', 'from', 'to','unit_price','a_label' ,'b_label' ,'c_label' ,'from_label' ,'to_label','a_embedding_1' , 'a_embedding_2' , 'b_embedding_1','b_embedding_2' , 'c_embedding_1' , 'c_embedding_2' , 'from_embedding_1','from_embedding_2' , 'to_embedding_1' , 'to_embedding_2']]\n",
    "X = data[['flt_no', 'cap', 'aircraft', 'legs', 'leg_no', 'duration', 'a', 'b', 'c', 'year', 'month', 'day', 'weekday','hour', 'minute', 'from', 'to','unit_price','competitor_price','a_label' ,'b_label' ,'c_label' ,'from_label' ,'to_label','a_embedding_1' , 'a_embedding_2' , 'b_embedding_1','b_embedding_2' , 'c_embedding_1' , 'c_embedding_2' , 'from_embedding_1','from_embedding_2' , 'to_embedding_1' , 'to_embedding_2']]\n",
    "\n",
    "# 删除了abc，但有标签，有嵌入\n",
    "# X = data[['flt_no', 'bd_type', 'cap', 'aircraft', 'legs', 'leg_no', 'duration', 'year', 'month', 'day', 'weekday','hour', 'minute', 'second', 'unit_price','a_label' ,'b_label' ,'c_label' ,'from_label' ,'to_label','a_embedding_1' , 'a_embedding_2' , 'b_embedding_1','b_embedding_2' , 'c_embedding_1' , 'c_embedding_2' , 'from_embedding_1','from_embedding_2' , 'to_embedding_1' , 'to_embedding_2']]\n",
    "\n",
    "# 目标列\n",
    "y = data['pax']"
   ]
  },
  {
   "cell_type": "markdown",
   "id": "8f37ae67",
   "metadata": {},
   "source": [
    "### 对x进行标准化"
   ]
  },
  {
   "cell_type": "code",
   "execution_count": 10,
   "id": "04ef4398",
   "metadata": {
    "ExecuteTime": {
     "end_time": "2024-12-26T03:24:40.878111Z",
     "start_time": "2024-12-26T03:24:38.381268Z"
    },
    "execution": {
     "iopub.execute_input": "2025-06-16T09:13:18.969569Z",
     "iopub.status.busy": "2025-06-16T09:13:18.969193Z",
     "iopub.status.idle": "2025-06-16T09:13:21.448820Z",
     "shell.execute_reply": "2025-06-16T09:13:21.447833Z",
     "shell.execute_reply.started": "2025-06-16T09:13:18.969536Z"
    }
   },
   "outputs": [
    {
     "name": "stdout",
     "output_type": "stream",
     "text": [
      "   flt_no       cap  aircraft      legs    leg_no  duration         a  \\\n",
      "0  0.4515 -0.523819 -1.324139 -0.865337 -0.565874 -1.227122 -1.436842   \n",
      "\n",
      "          b   c      year     month      day   weekday      hour    minute  \\\n",
      "0  1.079568 NaN -0.882033 -1.314987 -1.68153  1.483704 -0.001247  0.477053   \n",
      "\n",
      "      from        to  unit_price  competitor_price   a_label  b_label  \\\n",
      "0 -1.33468  0.820656   -0.552422         -0.500103 -2.916418 -3.27135   \n",
      "\n",
      "   c_label  from_label  to_label  a_embedding_1  a_embedding_2  b_embedding_1  \\\n",
      "0      NaN    -3.04613 -3.049355       2.710462       0.415856       3.009899   \n",
      "\n",
      "   b_embedding_2  c_embedding_1  c_embedding_2  from_embedding_1  \\\n",
      "0      -0.425009            NaN            NaN          2.838196   \n",
      "\n",
      "   from_embedding_2  to_embedding_1  to_embedding_2  \n",
      "0          0.396686          2.7806       -0.371684  \n",
      "x的标准化器已保存为 standard_scaler_x.pkl\n"
     ]
    }
   ],
   "source": [
    "from sklearn.preprocessing import StandardScaler\n",
    "\n",
    "# 对所有特征进行标准化\n",
    "scaler = StandardScaler()\n",
    "X_scaled = scaler.fit_transform(X)\n",
    "\n",
    "# 将标准化后的数据转回 DataFrame 格式\n",
    "X_scaled = pd.DataFrame(X_scaled, columns=X.columns)\n",
    "\n",
    "# 查看结果\n",
    "pd.set_option('display.max_columns', None)  # 显示所有列\n",
    "print(X_scaled.head(1))\n",
    "\n",
    "\n",
    "# 保存 scaler\n",
    "joblib.dump(scaler, '../../my/encoder/standard_scaler_x.pkl')\n",
    "print(\"x的标准化器已保存为 standard_scaler_x.pkl\")"
   ]
  },
  {
   "cell_type": "markdown",
   "id": "5af705c8",
   "metadata": {},
   "source": [
    "### 对y进行标准化"
   ]
  },
  {
   "cell_type": "code",
   "execution_count": 11,
   "id": "e5c6228c",
   "metadata": {
    "ExecuteTime": {
     "end_time": "2024-12-26T03:24:40.909527Z",
     "start_time": "2024-12-26T03:24:40.879082Z"
    },
    "execution": {
     "iopub.execute_input": "2025-06-16T09:13:21.450358Z",
     "iopub.status.busy": "2025-06-16T09:13:21.450043Z",
     "iopub.status.idle": "2025-06-16T09:13:21.483423Z",
     "shell.execute_reply": "2025-06-16T09:13:21.482453Z",
     "shell.execute_reply.started": "2025-06-16T09:13:21.450328Z"
    }
   },
   "outputs": [
    {
     "name": "stdout",
     "output_type": "stream",
     "text": [
      "   pax_scaled\n",
      "0   -0.462829\n",
      "1   -1.033690\n",
      "2   -1.889981\n",
      "3   -1.262034\n",
      "4    0.850150\n",
      "y的标准化器已保存为 standard_scaler_y.pkl\n"
     ]
    }
   ],
   "source": [
    "# 对目标列 y 进行标准化\n",
    "scaler_y = StandardScaler()\n",
    "y_scaled = scaler_y.fit_transform(y.values.reshape(-1, 1))  # 将 y 转换为 2D 数组进行标准化\n",
    "\n",
    "# 转换回 DataFrame 格式\n",
    "y_scaled = pd.DataFrame(y_scaled, columns=['pax_scaled'])\n",
    "\n",
    "# 查看标准化后的 y\n",
    "print(y_scaled.head())\n",
    "\n",
    "# 保存 y 的 scaler\n",
    "joblib.dump(scaler_y, '../../my/encoder/standard_scaler_y.pkl')\n",
    "print(\"y的标准化器已保存为 standard_scaler_y.pkl\")"
   ]
  },
  {
   "cell_type": "markdown",
   "id": "55e832ee",
   "metadata": {},
   "source": [
    "## 训练XGBoost模型"
   ]
  },
  {
   "cell_type": "code",
   "execution_count": 12,
   "id": "a7aabaf5",
   "metadata": {
    "ExecuteTime": {
     "end_time": "2024-12-27T08:07:01.365756Z",
     "start_time": "2024-12-27T07:59:58.423485Z"
    },
    "execution": {
     "iopub.execute_input": "2025-06-16T09:13:21.487432Z",
     "iopub.status.busy": "2025-06-16T09:13:21.487087Z",
     "iopub.status.idle": "2025-06-16T09:15:11.497986Z",
     "shell.execute_reply": "2025-06-16T09:15:11.496985Z",
     "shell.execute_reply.started": "2025-06-16T09:13:21.487380Z"
    }
   },
   "outputs": [
    {
     "name": "stdout",
     "output_type": "stream",
     "text": [
      "训练集大小: 1206348\n",
      "验证集大小: 150794\n",
      "测试集大小: 150794\n",
      "[0]\ttrain-rmse:0.92371\ttrain-SMAPE:167.46834\tvalidation-rmse:0.92625\tvalidation-SMAPE:167.36093\n",
      "[10]\ttrain-rmse:0.53627\ttrain-SMAPE:83.95523\tvalidation-rmse:0.53949\tvalidation-SMAPE:84.17057\n",
      "[20]\ttrain-rmse:0.44642\ttrain-SMAPE:70.59096\tvalidation-rmse:0.45140\tvalidation-SMAPE:70.91352\n",
      "[30]\ttrain-rmse:0.41960\ttrain-SMAPE:66.12602\tvalidation-rmse:0.42630\tvalidation-SMAPE:66.63693\n",
      "[40]\ttrain-rmse:0.40607\ttrain-SMAPE:64.12800\tvalidation-rmse:0.41442\tvalidation-SMAPE:64.83512\n",
      "[50]\ttrain-rmse:0.39642\ttrain-SMAPE:62.87848\tvalidation-rmse:0.40630\tvalidation-SMAPE:63.73407\n",
      "[60]\ttrain-rmse:0.38947\ttrain-SMAPE:61.96438\tvalidation-rmse:0.40081\tvalidation-SMAPE:62.96350\n",
      "[70]\ttrain-rmse:0.38390\ttrain-SMAPE:61.28164\tvalidation-rmse:0.39640\tvalidation-SMAPE:62.42167\n",
      "[80]\ttrain-rmse:0.37939\ttrain-SMAPE:60.75436\tvalidation-rmse:0.39315\tvalidation-SMAPE:62.01741\n",
      "[90]\ttrain-rmse:0.37591\ttrain-SMAPE:60.33534\tvalidation-rmse:0.39082\tvalidation-SMAPE:61.71176\n",
      "[100]\ttrain-rmse:0.37257\ttrain-SMAPE:59.92515\tvalidation-rmse:0.38824\tvalidation-SMAPE:61.39069\n",
      "[110]\ttrain-rmse:0.36965\ttrain-SMAPE:59.56748\tvalidation-rmse:0.38616\tvalidation-SMAPE:61.12157\n",
      "[120]\ttrain-rmse:0.36647\ttrain-SMAPE:59.16654\tvalidation-rmse:0.38381\tvalidation-SMAPE:60.80541\n",
      "[130]\ttrain-rmse:0.36365\ttrain-SMAPE:58.81349\tvalidation-rmse:0.38190\tvalidation-SMAPE:60.56526\n",
      "[140]\ttrain-rmse:0.35985\ttrain-SMAPE:58.34340\tvalidation-rmse:0.37922\tvalidation-SMAPE:60.23693\n",
      "[150]\ttrain-rmse:0.35707\ttrain-SMAPE:58.01641\tvalidation-rmse:0.37728\tvalidation-SMAPE:60.00004\n",
      "[160]\ttrain-rmse:0.35405\ttrain-SMAPE:57.67869\tvalidation-rmse:0.37534\tvalidation-SMAPE:59.76760\n",
      "[170]\ttrain-rmse:0.35173\ttrain-SMAPE:57.39797\tvalidation-rmse:0.37385\tvalidation-SMAPE:59.57511\n",
      "[180]\ttrain-rmse:0.34912\ttrain-SMAPE:57.07574\tvalidation-rmse:0.37224\tvalidation-SMAPE:59.35260\n",
      "[190]\ttrain-rmse:0.34681\ttrain-SMAPE:56.79967\tvalidation-rmse:0.37078\tvalidation-SMAPE:59.18181\n",
      "[200]\ttrain-rmse:0.34500\ttrain-SMAPE:56.57191\tvalidation-rmse:0.36978\tvalidation-SMAPE:59.04101\n",
      "[210]\ttrain-rmse:0.34309\ttrain-SMAPE:56.32752\tvalidation-rmse:0.36865\tvalidation-SMAPE:58.89152\n",
      "[220]\ttrain-rmse:0.34110\ttrain-SMAPE:56.07960\tvalidation-rmse:0.36744\tvalidation-SMAPE:58.74601\n",
      "[230]\ttrain-rmse:0.33928\ttrain-SMAPE:55.87090\tvalidation-rmse:0.36650\tvalidation-SMAPE:58.63851\n",
      "[240]\ttrain-rmse:0.33737\ttrain-SMAPE:55.64182\tvalidation-rmse:0.36545\tvalidation-SMAPE:58.49493\n",
      "[250]\ttrain-rmse:0.33577\ttrain-SMAPE:55.44847\tvalidation-rmse:0.36458\tvalidation-SMAPE:58.38366\n",
      "[260]\ttrain-rmse:0.33413\ttrain-SMAPE:55.25737\tvalidation-rmse:0.36374\tvalidation-SMAPE:58.28735\n",
      "[270]\ttrain-rmse:0.33242\ttrain-SMAPE:55.04587\tvalidation-rmse:0.36286\tvalidation-SMAPE:58.17004\n",
      "[280]\ttrain-rmse:0.33091\ttrain-SMAPE:54.85707\tvalidation-rmse:0.36209\tvalidation-SMAPE:58.04948\n",
      "[290]\ttrain-rmse:0.32926\ttrain-SMAPE:54.66358\tvalidation-rmse:0.36125\tvalidation-SMAPE:57.94476\n",
      "[300]\ttrain-rmse:0.32779\ttrain-SMAPE:54.48687\tvalidation-rmse:0.36050\tvalidation-SMAPE:57.84661\n",
      "[310]\ttrain-rmse:0.32608\ttrain-SMAPE:54.28831\tvalidation-rmse:0.35970\tvalidation-SMAPE:57.75587\n",
      "[320]\ttrain-rmse:0.32462\ttrain-SMAPE:54.11455\tvalidation-rmse:0.35905\tvalidation-SMAPE:57.66872\n",
      "[330]\ttrain-rmse:0.32330\ttrain-SMAPE:53.95802\tvalidation-rmse:0.35850\tvalidation-SMAPE:57.60475\n",
      "[340]\ttrain-rmse:0.32162\ttrain-SMAPE:53.74842\tvalidation-rmse:0.35767\tvalidation-SMAPE:57.49137\n",
      "[350]\ttrain-rmse:0.32028\ttrain-SMAPE:53.59754\tvalidation-rmse:0.35706\tvalidation-SMAPE:57.40987\n",
      "[360]\ttrain-rmse:0.31904\ttrain-SMAPE:53.44191\tvalidation-rmse:0.35651\tvalidation-SMAPE:57.32564\n",
      "[370]\ttrain-rmse:0.31766\ttrain-SMAPE:53.26957\tvalidation-rmse:0.35597\tvalidation-SMAPE:57.26219\n",
      "[380]\ttrain-rmse:0.31640\ttrain-SMAPE:53.12117\tvalidation-rmse:0.35540\tvalidation-SMAPE:57.19450\n",
      "[390]\ttrain-rmse:0.31491\ttrain-SMAPE:52.94918\tvalidation-rmse:0.35480\tvalidation-SMAPE:57.12215\n",
      "[400]\ttrain-rmse:0.31375\ttrain-SMAPE:52.80817\tvalidation-rmse:0.35442\tvalidation-SMAPE:57.06013\n",
      "[410]\ttrain-rmse:0.31242\ttrain-SMAPE:52.63965\tvalidation-rmse:0.35381\tvalidation-SMAPE:56.97764\n",
      "[420]\ttrain-rmse:0.31122\ttrain-SMAPE:52.48830\tvalidation-rmse:0.35338\tvalidation-SMAPE:56.91711\n",
      "[430]\ttrain-rmse:0.30984\ttrain-SMAPE:52.32041\tvalidation-rmse:0.35281\tvalidation-SMAPE:56.82968\n",
      "[440]\ttrain-rmse:0.30886\ttrain-SMAPE:52.19583\tvalidation-rmse:0.35248\tvalidation-SMAPE:56.78198\n",
      "[450]\ttrain-rmse:0.30769\ttrain-SMAPE:52.06485\tvalidation-rmse:0.35209\tvalidation-SMAPE:56.74924\n",
      "[460]\ttrain-rmse:0.30652\ttrain-SMAPE:51.93107\tvalidation-rmse:0.35167\tvalidation-SMAPE:56.68954\n",
      "[470]\ttrain-rmse:0.30540\ttrain-SMAPE:51.79074\tvalidation-rmse:0.35124\tvalidation-SMAPE:56.63909\n",
      "[480]\ttrain-rmse:0.30423\ttrain-SMAPE:51.64812\tvalidation-rmse:0.35084\tvalidation-SMAPE:56.59071\n",
      "[490]\ttrain-rmse:0.30306\ttrain-SMAPE:51.50106\tvalidation-rmse:0.35045\tvalidation-SMAPE:56.53028\n",
      "[500]\ttrain-rmse:0.30181\ttrain-SMAPE:51.34938\tvalidation-rmse:0.34993\tvalidation-SMAPE:56.46564\n",
      "[510]\ttrain-rmse:0.30065\ttrain-SMAPE:51.21484\tvalidation-rmse:0.34959\tvalidation-SMAPE:56.42840\n",
      "[520]\ttrain-rmse:0.29948\ttrain-SMAPE:51.07267\tvalidation-rmse:0.34913\tvalidation-SMAPE:56.36562\n",
      "[530]\ttrain-rmse:0.29842\ttrain-SMAPE:50.93775\tvalidation-rmse:0.34880\tvalidation-SMAPE:56.32533\n",
      "[540]\ttrain-rmse:0.29739\ttrain-SMAPE:50.81211\tvalidation-rmse:0.34848\tvalidation-SMAPE:56.28199\n",
      "[550]\ttrain-rmse:0.29640\ttrain-SMAPE:50.69799\tvalidation-rmse:0.34822\tvalidation-SMAPE:56.25389\n",
      "[560]\ttrain-rmse:0.29532\ttrain-SMAPE:50.55814\tvalidation-rmse:0.34785\tvalidation-SMAPE:56.20193\n",
      "[570]\ttrain-rmse:0.29432\ttrain-SMAPE:50.42804\tvalidation-rmse:0.34754\tvalidation-SMAPE:56.14746\n",
      "[580]\ttrain-rmse:0.29335\ttrain-SMAPE:50.30428\tvalidation-rmse:0.34730\tvalidation-SMAPE:56.11501\n",
      "[590]\ttrain-rmse:0.29244\ttrain-SMAPE:50.19112\tvalidation-rmse:0.34702\tvalidation-SMAPE:56.07728\n",
      "[600]\ttrain-rmse:0.29156\ttrain-SMAPE:50.08333\tvalidation-rmse:0.34678\tvalidation-SMAPE:56.05183\n",
      "[610]\ttrain-rmse:0.29052\ttrain-SMAPE:49.94966\tvalidation-rmse:0.34651\tvalidation-SMAPE:56.01582\n",
      "[620]\ttrain-rmse:0.28953\ttrain-SMAPE:49.82482\tvalidation-rmse:0.34627\tvalidation-SMAPE:55.97664\n",
      "[630]\ttrain-rmse:0.28859\ttrain-SMAPE:49.72658\tvalidation-rmse:0.34606\tvalidation-SMAPE:55.94665\n",
      "[640]\ttrain-rmse:0.28759\ttrain-SMAPE:49.60497\tvalidation-rmse:0.34579\tvalidation-SMAPE:55.90694\n",
      "[650]\ttrain-rmse:0.28678\ttrain-SMAPE:49.50096\tvalidation-rmse:0.34558\tvalidation-SMAPE:55.87709\n",
      "[660]\ttrain-rmse:0.28593\ttrain-SMAPE:49.38754\tvalidation-rmse:0.34542\tvalidation-SMAPE:55.84989\n",
      "[670]\ttrain-rmse:0.28494\ttrain-SMAPE:49.26757\tvalidation-rmse:0.34516\tvalidation-SMAPE:55.82055\n",
      "[680]\ttrain-rmse:0.28405\ttrain-SMAPE:49.15406\tvalidation-rmse:0.34493\tvalidation-SMAPE:55.79405\n",
      "[690]\ttrain-rmse:0.28309\ttrain-SMAPE:49.03151\tvalidation-rmse:0.34470\tvalidation-SMAPE:55.75646\n",
      "[700]\ttrain-rmse:0.28229\ttrain-SMAPE:48.92547\tvalidation-rmse:0.34451\tvalidation-SMAPE:55.73024\n",
      "[710]\ttrain-rmse:0.28134\ttrain-SMAPE:48.80190\tvalidation-rmse:0.34430\tvalidation-SMAPE:55.70368\n",
      "[720]\ttrain-rmse:0.28043\ttrain-SMAPE:48.68892\tvalidation-rmse:0.34406\tvalidation-SMAPE:55.67537\n",
      "[730]\ttrain-rmse:0.27957\ttrain-SMAPE:48.57834\tvalidation-rmse:0.34390\tvalidation-SMAPE:55.64414\n",
      "[740]\ttrain-rmse:0.27866\ttrain-SMAPE:48.46759\tvalidation-rmse:0.34368\tvalidation-SMAPE:55.61989\n",
      "[749]\ttrain-rmse:0.27798\ttrain-SMAPE:48.37997\tvalidation-rmse:0.34356\tvalidation-SMAPE:55.60012\n"
     ]
    }
   ],
   "source": [
    "import xgboost as xgb\n",
    "from sklearn.model_selection import train_test_split\n",
    "from sklearn.metrics import mean_squared_error\n",
    "import numpy as np\n",
    "\n",
    "# 自定义 SMAPE 函数\n",
    "def smape(y_true, y_pred):\n",
    "    denominator = (np.abs(y_true) + np.abs(y_pred)) / 2.0\n",
    "    diff = np.abs(y_true - y_pred)\n",
    "    return np.mean(diff / denominator) * 100\n",
    "\n",
    "# 自定义评估函数\n",
    "def smape_eval(y_pred, dtrain):\n",
    "    y_true = dtrain.get_label()\n",
    "    smape_value = smape(y_true, y_pred)\n",
    "    return 'SMAPE', smape_value\n",
    "\n",
    "# 数据划分\n",
    "X_train, X_temp, y_train, y_temp = train_test_split(X_scaled, y_scaled, test_size=0.2, random_state=42)\n",
    "X_val, X_test, y_val, y_test = train_test_split(X_temp, y_temp, test_size=0.5, random_state=42)\n",
    "\n",
    "# 输出数据集大小\n",
    "print(f'训练集大小: {X_train.shape[0]}')\n",
    "print(f'验证集大小: {X_val.shape[0]}')\n",
    "print(f'测试集大小: {X_test.shape[0]}')\n",
    "\n",
    "# 转换为 DMatrix 格式\n",
    "dtrain = xgb.DMatrix(X_train, label=y_train)\n",
    "dval = xgb.DMatrix(X_val, label=y_val)\n",
    "dtest = xgb.DMatrix(X_test, label=y_test)\n",
    "\n",
    "# 设置参数\n",
    "params = {\n",
    "    'objective': 'reg:squarederror',\n",
    "    'learning_rate': 0.1,\n",
    "    'max_depth': 10,#10效果最好\n",
    "    'subsample': 0.8,#0.8效果最好\n",
    "    'colsample_bytree':1,\n",
    "    'alpha': 1,\n",
    "    \"lambda\":1\n",
    "}\n",
    "\n",
    "# 设置评估集\n",
    "evals = [(dtrain, 'train'), (dval, 'validation')]\n",
    "\n",
    "# 训练模型，使用自定义评估指标\n",
    "model = xgb.train(\n",
    "    params,\n",
    "    dtrain,\n",
    "    num_boost_round=750,\n",
    "    evals=evals,\n",
    "    early_stopping_rounds=10,\n",
    "    custom_metric=smape_eval,  # 使用 custom_metric 参数\n",
    "    verbose_eval=10 #隔多少轮显示一次\n",
    ")\n",
    "\n",
    "# 预测测试集\n",
    "y_pred = model.predict(dtest)\n",
    "\n",
    "# # 测试集 SMAPE 评估\n",
    "# test_smape = smape(y_test, y_pred)\n",
    "# print(f'SMAPE on Test Set: {test_smape:.2f}%')\n",
    "\n",
    "# # 测试集 MSE 评估\n",
    "# mse = mean_squared_error(y_test, y_pred)\n",
    "# print(f'Mean Squared Error on Test Set: {mse}')"
   ]
  },
  {
   "cell_type": "code",
   "execution_count": 13,
   "id": "c9d952ae",
   "metadata": {
    "ExecuteTime": {
     "end_time": "2024-12-27T08:07:01.370932Z",
     "start_time": "2024-12-27T08:07:01.367424Z"
    },
    "execution": {
     "iopub.execute_input": "2025-06-16T09:15:11.499446Z",
     "iopub.status.busy": "2025-06-16T09:15:11.499011Z",
     "iopub.status.idle": "2025-06-16T09:15:11.509419Z",
     "shell.execute_reply": "2025-06-16T09:15:11.508425Z",
     "shell.execute_reply.started": "2025-06-16T09:15:11.499383Z"
    }
   },
   "outputs": [
    {
     "data": {
      "text/plain": [
       "array([-1.398103  , -1.125461  ,  1.0257636 , ..., -0.03295272,\n",
       "        0.36249125,  0.7595921 ], dtype=float32)"
      ]
     },
     "execution_count": 13,
     "metadata": {},
     "output_type": "execute_result"
    }
   ],
   "source": [
    "y_pred"
   ]
  },
  {
   "cell_type": "code",
   "execution_count": 14,
   "id": "cad5b420",
   "metadata": {
    "ExecuteTime": {
     "end_time": "2024-12-27T08:07:01.378491Z",
     "start_time": "2024-12-27T08:07:01.372059Z"
    },
    "execution": {
     "iopub.execute_input": "2025-06-16T09:15:11.510923Z",
     "iopub.status.busy": "2025-06-16T09:15:11.510554Z",
     "iopub.status.idle": "2025-06-16T09:15:11.517389Z",
     "shell.execute_reply": "2025-06-16T09:15:11.516458Z",
     "shell.execute_reply.started": "2025-06-16T09:15:11.510889Z"
    }
   },
   "outputs": [],
   "source": [
    "# 反标准化 y_test\n",
    "y_test_original = scaler_y.inverse_transform(y_test.values.reshape(-1, 1))\n",
    "\n",
    "# 反标准化预测结果 y_pred\n",
    "y_pred_original = scaler_y.inverse_transform(y_pred.reshape(-1, 1))"
   ]
  },
  {
   "cell_type": "code",
   "execution_count": 15,
   "id": "eb350a5e",
   "metadata": {
    "ExecuteTime": {
     "end_time": "2024-12-27T08:07:01.383001Z",
     "start_time": "2024-12-27T08:07:01.380516Z"
    },
    "execution": {
     "iopub.execute_input": "2025-06-16T09:15:11.518997Z",
     "iopub.status.busy": "2025-06-16T09:15:11.518611Z",
     "iopub.status.idle": "2025-06-16T09:15:11.525200Z",
     "shell.execute_reply": "2025-06-16T09:15:11.524127Z",
     "shell.execute_reply.started": "2025-06-16T09:15:11.518965Z"
    }
   },
   "outputs": [
    {
     "data": {
      "text/plain": [
       "array([[ 34.],\n",
       "       [ 56.],\n",
       "       [174.],\n",
       "       ...,\n",
       "       [119.],\n",
       "       [149.],\n",
       "       [169.]])"
      ]
     },
     "execution_count": 15,
     "metadata": {},
     "output_type": "execute_result"
    }
   ],
   "source": [
    "y_test_original"
   ]
  },
  {
   "cell_type": "code",
   "execution_count": 16,
   "id": "16f3699b",
   "metadata": {
    "ExecuteTime": {
     "end_time": "2024-12-27T08:07:01.386089Z",
     "start_time": "2024-12-27T08:07:01.383970Z"
    },
    "execution": {
     "iopub.execute_input": "2025-06-16T09:15:11.526975Z",
     "iopub.status.busy": "2025-06-16T09:15:11.526295Z",
     "iopub.status.idle": "2025-06-16T09:15:11.532762Z",
     "shell.execute_reply": "2025-06-16T09:15:11.531674Z",
     "shell.execute_reply.started": "2025-06-16T09:15:11.526942Z"
    }
   },
   "outputs": [
    {
     "data": {
      "text/plain": [
       "array([[ 47.849293],\n",
       "       [ 62.17724 ],\n",
       "       [175.22887 ],\n",
       "       ...,\n",
       "       [119.59097 ],\n",
       "       [140.37244 ],\n",
       "       [161.24097 ]], dtype=float32)"
      ]
     },
     "execution_count": 16,
     "metadata": {},
     "output_type": "execute_result"
    }
   ],
   "source": [
    "y_pred_original"
   ]
  },
  {
   "cell_type": "code",
   "execution_count": 17,
   "id": "56a5b674",
   "metadata": {
    "ExecuteTime": {
     "end_time": "2024-12-27T08:07:01.390218Z",
     "start_time": "2024-12-27T08:07:01.387276Z"
    },
    "execution": {
     "iopub.execute_input": "2025-06-16T09:15:11.534214Z",
     "iopub.status.busy": "2025-06-16T09:15:11.533871Z",
     "iopub.status.idle": "2025-06-16T09:15:11.541960Z",
     "shell.execute_reply": "2025-06-16T09:15:11.540880Z",
     "shell.execute_reply.started": "2025-06-16T09:15:11.534183Z"
    }
   },
   "outputs": [
    {
     "name": "stdout",
     "output_type": "stream",
     "text": [
      "\n",
      "20条测试结果（真实值 vs 预测值）:\n",
      "第1条: 真实值=34.0, 预测值=47.85\n",
      "第2条: 真实值=56.0, 预测值=62.18\n",
      "第3条: 真实值=174.0, 预测值=175.23\n",
      "第4条: 真实值=94.0, 预测值=73.75\n",
      "第5条: 真实值=77.0, 预测值=74.08\n",
      "第6条: 真实值=242.0, 预测值=219.11\n",
      "第7条: 真实值=57.99999999999999, 预测值=74.70\n",
      "第8条: 真实值=160.0, 预测值=136.40\n",
      "第9条: 真实值=158.0, 预测值=145.06\n",
      "第10条: 真实值=197.0, 预测值=177.54\n",
      "第11条: 真实值=125.0, 预测值=143.91\n",
      "第12条: 真实值=80.0, 预测值=104.64\n",
      "第13条: 真实值=166.0, 预测值=162.49\n",
      "第14条: 真实值=170.0, 预测值=142.14\n",
      "第15条: 真实值=177.0, 预测值=168.38\n",
      "第16条: 真实值=68.0, 预测值=44.43\n",
      "第17条: 真实值=157.0, 预测值=165.11\n",
      "第18条: 真实值=144.0, 预测值=148.47\n",
      "第19条: 真实值=177.0, 预测值=171.38\n",
      "第20条: 真实值=130.0, 预测值=146.51\n",
      "第21条: 真实值=126.0, 预测值=115.76\n",
      "第22条: 真实值=257.0, 预测值=255.19\n",
      "第23条: 真实值=73.0, 预测值=72.31\n",
      "第24条: 真实值=136.0, 预测值=142.07\n",
      "第25条: 真实值=168.0, 预测值=141.90\n",
      "第26条: 真实值=154.0, 预测值=152.24\n",
      "第27条: 真实值=97.0, 预测值=104.48\n",
      "第28条: 真实值=41.0, 预测值=49.88\n",
      "第29条: 真实值=32.0, 预测值=59.13\n",
      "第30条: 真实值=135.0, 预测值=131.21\n",
      "第31条: 真实值=145.0, 预测值=131.66\n",
      "第32条: 真实值=135.0, 预测值=132.66\n",
      "第33条: 真实值=43.0, 预测值=47.36\n",
      "第34条: 真实值=38.0, 预测值=44.90\n",
      "第35条: 真实值=80.0, 预测值=82.28\n",
      "第36条: 真实值=122.0, 预测值=111.76\n",
      "第37条: 真实值=60.0, 预测值=54.26\n",
      "第38条: 真实值=203.0, 预测值=177.45\n",
      "第39条: 真实值=135.0, 预测值=114.18\n",
      "第40条: 真实值=151.0, 预测值=136.47\n"
     ]
    }
   ],
   "source": [
    "# 正确的写法\n",
    "test_results = list(zip(y_test_original[:100], y_pred_original[:100]))  # 真实值和预测值\n",
    "\n",
    "print(\"\\n20条测试结果（真实值 vs 预测值）:\")\n",
    "for i, (true_value, pred_value) in enumerate(test_results[:40]):\n",
    "    # 如果是多维数组，使用 .item() 转换为标量\n",
    "    true_value = true_value.item() if isinstance(true_value, np.ndarray) else true_value\n",
    "    pred_value = pred_value.item() if isinstance(pred_value, np.ndarray) else pred_value\n",
    "    print(f\"第{i+1}条: 真实值={true_value}, 预测值={pred_value:.2f}\")\n"
   ]
  },
  {
   "cell_type": "code",
   "execution_count": 18,
   "id": "6e830ae7",
   "metadata": {
    "ExecuteTime": {
     "end_time": "2024-12-27T08:07:01.412058Z",
     "start_time": "2024-12-27T08:07:01.391353Z"
    },
    "execution": {
     "iopub.execute_input": "2025-06-16T09:15:11.543450Z",
     "iopub.status.busy": "2025-06-16T09:15:11.543098Z",
     "iopub.status.idle": "2025-06-16T09:15:11.564448Z",
     "shell.execute_reply": "2025-06-16T09:15:11.563454Z",
     "shell.execute_reply.started": "2025-06-16T09:15:11.543384Z"
    }
   },
   "outputs": [
    {
     "name": "stdout",
     "output_type": "stream",
     "text": [
      "Mean Squared Error (MSE): 324.8851\n",
      "Root Mean Squared Error (RMSE): 18.0246\n",
      "Mean Absolute Error (MAE): 13.5142\n",
      "Mean Absolute Percentage Error (MAPE): 15.5401%\n",
      "Symmetric Mean Absolute Percentage Error (SMAPE): 14.0205%\n",
      "R-squared (R²): 0.8825\n"
     ]
    }
   ],
   "source": [
    "import numpy as np\n",
    "from sklearn.metrics import mean_squared_error, mean_absolute_error, r2_score\n",
    "\n",
    "def calculate_smape(y_true, y_pred):\n",
    "    \"\"\"\n",
    "    计算 Symmetric Mean Absolute Percentage Error (SMAPE)\n",
    "    \"\"\"\n",
    "    y_true, y_pred = np.array(y_true).ravel(), np.array(y_pred).ravel()\n",
    "    denominator = (np.abs(y_true) + np.abs(y_pred)) / 2.0\n",
    "    diff = np.abs(y_pred - y_true)\n",
    "    \n",
    "    # 避免除以零，将分母中为零的项替换为一个小值\n",
    "    denominator = np.where(denominator == 0, 1e-8, denominator)\n",
    "    \n",
    "    smape = 100 * np.mean(diff / denominator)\n",
    "    return smape\n",
    "\n",
    "\n",
    "def calculate_mape(y_true, y_pred):\n",
    "    \"\"\"\n",
    "    计算 Mean Absolute Percentage Error (MAPE)\n",
    "    \"\"\"\n",
    "    y_true, y_pred = np.array(y_true).ravel(), np.array(y_pred).ravel()\n",
    "    \n",
    "    # 避免除以零，将 y_true 中的零值替换为一个小值\n",
    "    y_true = np.where(y_true == 0, 1e-8, y_true)\n",
    "    \n",
    "    mape = 100 * np.mean(np.abs((y_true - y_pred) / y_true))\n",
    "    return mape\n",
    "\n",
    "\n",
    "# 假设 y_test 和 y_pred 已经是标准化反归一化后的数据\n",
    "# 将其转换为一维数组以确保形状一致\n",
    "y_test = np.array(y_test_original).ravel()\n",
    "y_pred = np.array(y_pred_original).ravel()\n",
    "\n",
    "# 评估指标\n",
    "mse = mean_squared_error(y_test, y_pred)\n",
    "mae = mean_absolute_error(y_test, y_pred)\n",
    "rmse = np.sqrt(mse)\n",
    "mape = calculate_mape(y_test, y_pred)\n",
    "smape = calculate_smape(y_test, y_pred)\n",
    "r2 = r2_score(y_test, y_pred)\n",
    "\n",
    "# 打印结果\n",
    "print(f'Mean Squared Error (MSE): {mse:.4f}')\n",
    "print(f'Root Mean Squared Error (RMSE): {rmse:.4f}')\n",
    "print(f'Mean Absolute Error (MAE): {mae:.4f}')\n",
    "print(f'Mean Absolute Percentage Error (MAPE): {mape:.4f}%')\n",
    "print(f'Symmetric Mean Absolute Percentage Error (SMAPE): {smape:.4f}%')\n",
    "print(f'R-squared (R²): {r2:.4f}')"
   ]
  },
  {
   "cell_type": "markdown",
   "id": "02bc958d",
   "metadata": {},
   "source": [
    "似乎对于较小值预测存在误差"
   ]
  },
  {
   "cell_type": "markdown",
   "id": "dd4598a3",
   "metadata": {},
   "source": [
    "## 保存模型"
   ]
  },
  {
   "cell_type": "code",
   "execution_count": 19,
   "id": "cd242864",
   "metadata": {
    "ExecuteTime": {
     "end_time": "2024-12-27T01:28:46.750343Z",
     "start_time": "2024-12-27T01:28:45.224936Z"
    },
    "execution": {
     "iopub.execute_input": "2025-06-16T09:15:11.566447Z",
     "iopub.status.busy": "2025-06-16T09:15:11.565602Z",
     "iopub.status.idle": "2025-06-16T09:15:13.012522Z",
     "shell.execute_reply": "2025-06-16T09:15:13.011474Z",
     "shell.execute_reply.started": "2025-06-16T09:15:11.566392Z"
    }
   },
   "outputs": [
    {
     "name": "stdout",
     "output_type": "stream",
     "text": [
      "模型已保存为 xgboost_model_1000.json\n"
     ]
    }
   ],
   "source": [
    "model.save_model(\"../../my/model/频率编码/归一化_xgboost_model_1000.json\")\n",
    "print(\"模型已保存为 xgboost_model_1000.json\")"
   ]
  },
  {
   "cell_type": "markdown",
   "id": "49cd202e",
   "metadata": {},
   "source": [
    "## 超参数设置"
   ]
  },
  {
   "cell_type": "markdown",
   "id": "16cb90e9",
   "metadata": {},
   "source": [
    "## 不同特征重要程度测试"
   ]
  },
  {
   "cell_type": "code",
   "execution_count": 20,
   "id": "7c5789db",
   "metadata": {
    "ExecuteTime": {
     "end_time": "2024-12-26T03:53:32.707910Z",
     "start_time": "2024-12-26T03:53:31.789481Z"
    },
    "execution": {
     "iopub.execute_input": "2025-06-16T09:15:13.014139Z",
     "iopub.status.busy": "2025-06-16T09:15:13.013810Z",
     "iopub.status.idle": "2025-06-16T09:15:13.018532Z",
     "shell.execute_reply": "2025-06-16T09:15:13.017579Z",
     "shell.execute_reply.started": "2025-06-16T09:15:13.014108Z"
    },
    "scrolled": true
   },
   "outputs": [],
   "source": [
    "# import xgboost as xgb\n",
    "# import matplotlib.pyplot as plt\n",
    "\n",
    "# # 假设 model 是训练好的 XGBoost 模型\n",
    "# xgb.plot_importance(model, importance_type='weight', title=\"Feature Importance (Weight)\", height=0.5)\n",
    "# plt.show()\n",
    "\n",
    "# xgb.plot_importance(model, importance_type='gain', title=\"Feature Importance (Gain)\", height=0.5)\n",
    "# plt.show()\n",
    "\n",
    "# xgb.plot_importance(model, importance_type='cover', title=\"Feature Importance (Cover)\", height=0.5)\n",
    "# plt.show()"
   ]
  },
  {
   "cell_type": "markdown",
   "id": "fe396b1f",
   "metadata": {},
   "source": []
  }
 ],
 "metadata": {
  "kernelspec": {
   "display_name": "Python 3 (ipykernel)",
   "language": "python",
   "name": "python3"
  },
  "language_info": {
   "codemirror_mode": {
    "name": "ipython",
    "version": 3
   },
   "file_extension": ".py",
   "mimetype": "text/x-python",
   "name": "python",
   "nbconvert_exporter": "python",
   "pygments_lexer": "ipython3",
   "version": "3.10.15"
  },
  "toc": {
   "base_numbering": 1,
   "nav_menu": {},
   "number_sections": true,
   "sideBar": true,
   "skip_h1_title": false,
   "title_cell": "Table of Contents",
   "title_sidebar": "Contents",
   "toc_cell": false,
   "toc_position": {
    "height": "753.993px",
    "left": "28px",
    "top": "236px",
    "width": "377.641px"
   },
   "toc_section_display": true,
   "toc_window_display": true
  },
  "varInspector": {
   "cols": {
    "lenName": 16,
    "lenType": 16,
    "lenVar": 40
   },
   "kernels_config": {
    "python": {
     "delete_cmd_postfix": "",
     "delete_cmd_prefix": "del ",
     "library": "var_list.py",
     "varRefreshCmd": "print(var_dic_list())"
    },
    "r": {
     "delete_cmd_postfix": ") ",
     "delete_cmd_prefix": "rm(",
     "library": "var_list.r",
     "varRefreshCmd": "cat(var_dic_list()) "
    }
   },
   "types_to_exclude": [
    "module",
    "function",
    "builtin_function_or_method",
    "instance",
    "_Feature"
   ],
   "window_display": true
  }
 },
 "nbformat": 4,
 "nbformat_minor": 5
}
