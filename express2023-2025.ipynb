{
 "cells": [
  {
   "cell_type": "markdown",
   "id": "245ec283",
   "metadata": {},
   "source": [
    "在这个工作是是将航班频次作为边的权重"
   ]
  },
  {
   "cell_type": "markdown",
   "id": "c3b6fd5e",
   "metadata": {},
   "source": [
    "# 加载数据"
   ]
  },
  {
   "cell_type": "code",
   "execution_count": 1,
   "id": "38cc26aa",
   "metadata": {
    "ExecuteTime": {
     "end_time": "2025-10-20T03:36:54.332073Z",
     "start_time": "2025-10-20T03:36:44.836023Z"
    },
    "execution": {
     "iopub.execute_input": "2025-06-21T08:10:49.441441Z",
     "iopub.status.busy": "2025-06-21T08:10:49.441072Z",
     "iopub.status.idle": "2025-06-21T08:10:55.513029Z",
     "shell.execute_reply": "2025-06-21T08:10:55.511900Z",
     "shell.execute_reply.started": "2025-06-21T08:10:49.441377Z"
    },
    "scrolled": true
   },
   "outputs": [
    {
     "name": "stdout",
     "output_type": "stream",
     "text": [
      "<class 'pandas.core.frame.DataFrame'>\n",
      "RangeIndex: 1972250 entries, 0 to 1972249\n",
      "Data columns (total 31 columns):\n",
      " #   Column                Dtype  \n",
      "---  ------                -----  \n",
      " 0   flt_no                object \n",
      " 1   cap                   float64\n",
      " 2   aircraft              object \n",
      " 3   legs                  int64  \n",
      " 4   leg_no                int64  \n",
      " 5   duration              float64\n",
      " 6   pax                   int64  \n",
      " 7   a                     object \n",
      " 8   b                     object \n",
      " 9   c                     object \n",
      " 10  unit_price            float64\n",
      " 11  competitor_price      float64\n",
      " 12  year                  int64  \n",
      " 13  month                 int64  \n",
      " 14  day                   int64  \n",
      " 15  weekday               int64  \n",
      " 16  quarter               int64  \n",
      " 17  is_weekend            int64  \n",
      " 18  is_holiday_season     int64  \n",
      " 19  month_sin             float64\n",
      " 20  month_cos             float64\n",
      " 21  hour                  int64  \n",
      " 22  minute                int64  \n",
      " 23  hour_sin              float64\n",
      " 24  hour_cos              float64\n",
      " 25  from                  object \n",
      " 26  to                    object \n",
      " 27  comp_price_diff       float64\n",
      " 28  comp_price_diff_abs   float64\n",
      " 29  comp_price_ratio      float64\n",
      " 30  comp_price_ratio_abs  float64\n",
      "dtypes: float64(12), int64(12), object(7)\n",
      "memory usage: 466.5+ MB\n",
      "None\n"
     ]
    }
   ],
   "source": [
    "import pandas as pd\n",
    "# 加载数据\n",
    "# data = pd.read_csv('../my/hh_result/result_all.csv', dtype={'flt_no': str})\n",
    "# data_24 = pd.read_csv('../my/hh_result/result_24_7-10.csv', dtype={'flt_no': str})\n",
    "data = pd.read_csv('data_hh/result/pre_2023-2025_with_comp.csv', dtype={'flt_no': str})\n",
    "\n",
    "# 查看前几行数据，确保加载成功\n",
    "print(data.info())"
   ]
  },
  {
   "cell_type": "markdown",
   "id": "b002bd19-24bf-41f3-8073-8a6758021990",
   "metadata": {},
   "source": [
    "## 统计不同城市的频率"
   ]
  },
  {
   "cell_type": "code",
   "execution_count": 2,
   "id": "053b5754-69f5-43a2-afb0-873d76f1c96a",
   "metadata": {
    "ExecuteTime": {
     "end_time": "2025-10-20T03:36:54.644749Z",
     "start_time": "2025-10-20T03:36:54.335026Z"
    },
    "execution": {
     "iopub.execute_input": "2025-06-21T08:10:55.515879Z",
     "iopub.status.busy": "2025-06-21T08:10:55.515542Z",
     "iopub.status.idle": "2025-06-21T08:10:55.837681Z",
     "shell.execute_reply": "2025-06-21T08:10:55.836529Z",
     "shell.execute_reply.started": "2025-06-21T08:10:55.515847Z"
    }
   },
   "outputs": [
    {
     "name": "stdout",
     "output_type": "stream",
     "text": [
      "    city   count\n",
      "0    e5a  156786\n",
      "1    dcf  111152\n",
      "2    792   92546\n",
      "3    24c   91158\n",
      "4    ea1   90647\n",
      "..   ...     ...\n",
      "373  bba       1\n",
      "374  a49       1\n",
      "375  f91       1\n",
      "376  591       1\n",
      "377  f8e       1\n",
      "\n",
      "[378 rows x 2 columns]\n"
     ]
    }
   ],
   "source": [
    "# 将 from 和 to 两列合并，并统计每个城市的出现次数\n",
    "city_count_series = pd.concat([data['from'], data['to']]).value_counts()\n",
    "\n",
    "# 转换为 city_count 数据框\n",
    "city_count = city_count_series.reset_index()\n",
    "city_count.columns = ['city', 'count']\n",
    "\n",
    "# 3. 创建 city_map，将每个城市映射为其出现次数（或者任何你需要的值）\n",
    "city_map = dict(zip(city_count['city'], city_count['count']))\n",
    "\n",
    "# 输出结果\n",
    "print(city_count)"
   ]
  },
  {
   "cell_type": "code",
   "execution_count": 3,
   "id": "fe911023-7ac2-4f02-ac35-48242f85c565",
   "metadata": {
    "ExecuteTime": {
     "end_time": "2025-10-20T03:36:54.651553Z",
     "start_time": "2025-10-20T03:36:54.646733Z"
    },
    "execution": {
     "iopub.execute_input": "2025-06-21T08:10:55.839183Z",
     "iopub.status.busy": "2025-06-21T08:10:55.838860Z",
     "iopub.status.idle": "2025-06-21T08:10:55.845744Z",
     "shell.execute_reply": "2025-06-21T08:10:55.844701Z",
     "shell.execute_reply.started": "2025-06-21T08:10:55.839151Z"
    }
   },
   "outputs": [
    {
     "name": "stdout",
     "output_type": "stream",
     "text": [
      "city_map_频率编码 已保存到 city_map_频率编码\n"
     ]
    }
   ],
   "source": [
    "import json\n",
    "\n",
    "# 保存 city_map 到 JSON 文件\n",
    "with open('data_hh/result/encoder/city_map_频率编码.json', 'w') as f:\n",
    "    json.dump(city_map, f)\n",
    "\n",
    "print(\"city_map_频率编码 已保存到 city_map_频率编码\")"
   ]
  },
  {
   "cell_type": "markdown",
   "id": "27812e5a-6058-4af2-8218-777df2d46787",
   "metadata": {},
   "source": [
    "### 'flt_no', 'bd_type', 'aircraft'编码"
   ]
  },
  {
   "cell_type": "code",
   "execution_count": 4,
   "id": "6663c10e-9b90-45aa-a11d-3c92d328966a",
   "metadata": {
    "ExecuteTime": {
     "end_time": "2025-10-20T03:36:55.925349Z",
     "start_time": "2025-10-20T03:36:54.653373Z"
    },
    "execution": {
     "iopub.execute_input": "2025-06-21T08:10:55.847140Z",
     "iopub.status.busy": "2025-06-21T08:10:55.846810Z",
     "iopub.status.idle": "2025-06-21T08:10:57.377770Z",
     "shell.execute_reply": "2025-06-21T08:10:57.376742Z",
     "shell.execute_reply.started": "2025-06-21T08:10:55.847092Z"
    }
   },
   "outputs": [
    {
     "name": "stdout",
     "output_type": "stream",
     "text": [
      "flt_no 的编码器已保存为 data_hh/result/encoder/flt_no_encoder_all.pkl\n",
      "aircraft 的编码器已保存为 data_hh/result/encoder/aircraft_encoder_all.pkl\n"
     ]
    }
   ],
   "source": [
    "import joblib\n",
    "from sklearn.preprocessing import LabelEncoder\n",
    "import os\n",
    "\n",
    "# 定义需要编码的分类特征\n",
    "# categorical_columns = ['flt_no', 'bd_type', 'aircraft', 'a', 'b', 'c', 'from', 'to']\n",
    "# categorical_columns = ['flt_no', 'bd_type', 'aircraft']\n",
    "categorical_columns = ['flt_no', 'aircraft']\n",
    "\n",
    "\n",
    "# 创建并应用 LabelEncoder\n",
    "label_encoders = {}\n",
    "\n",
    "# 创建保存编码器的文件夹（如果文件夹不存在）\n",
    "save_folder = 'data_hh/result/encoder/'\n",
    "os.makedirs(save_folder, exist_ok=True)  # 如果文件夹已存在，不会报错\n",
    "\n",
    "# 遍历每个分类特征，使用 LabelEncoder 对其进行编码\n",
    "for col in categorical_columns:\n",
    "    le = LabelEncoder()  # 创建一个 LabelEncoder 实例\n",
    "    data[col] = le.fit_transform(data[col])  # 对训练数据中的分类特征进行编码\n",
    "    label_encoders[col] = le  # 将每个特征的编码器保存到字典中，方便后续使用\n",
    "\n",
    "    # 保存每个编码器到指定文件夹\n",
    "    encoder_path = os.path.join(save_folder, f\"{col}_encoder_all.pkl\")  # 构建保存路径\n",
    "    joblib.dump(le, encoder_path)  # 使用 joblib 将编码器保存为 pkl 文件\n",
    "    print(f\"{col} 的编码器已保存为 {encoder_path}\")  # 输出保存的路径"
   ]
  },
  {
   "cell_type": "markdown",
   "id": "976bd453",
   "metadata": {},
   "source": [
    "## 生成加权图"
   ]
  },
  {
   "cell_type": "code",
   "execution_count": 5,
   "id": "0ea6fa9a",
   "metadata": {
    "ExecuteTime": {
     "end_time": "2025-10-20T03:36:56.182671Z",
     "start_time": "2025-10-20T03:36:55.928349Z"
    },
    "execution": {
     "iopub.execute_input": "2025-06-21T08:10:57.379470Z",
     "iopub.status.busy": "2025-06-21T08:10:57.379034Z",
     "iopub.status.idle": "2025-06-21T08:10:57.696576Z",
     "shell.execute_reply": "2025-06-21T08:10:57.695562Z",
     "shell.execute_reply.started": "2025-06-21T08:10:57.379436Z"
    }
   },
   "outputs": [
    {
     "name": "stdout",
     "output_type": "stream",
     "text": [
      "(2765, 3)\n",
      "  from   to  flight_count\n",
      "0  000  13f           285\n",
      "1  000  8e3           882\n",
      "2  000  a18             1\n",
      "3  000  eda           434\n",
      "4  01a  b5a            75\n"
     ]
    }
   ],
   "source": [
    "# 创建一个新的数据框，用于存储航班频数\n",
    "flight_counts = data.groupby(['from', 'to']).size().reset_index(name='flight_count')\n",
    "\n",
    "# 打印查看\n",
    "print(flight_counts.shape)\n",
    "print(flight_counts.head())\n"
   ]
  },
  {
   "cell_type": "code",
   "execution_count": 6,
   "id": "ba361a7d",
   "metadata": {
    "ExecuteTime": {
     "end_time": "2025-10-20T03:36:56.440417Z",
     "start_time": "2025-10-20T03:36:56.184613Z"
    },
    "execution": {
     "iopub.execute_input": "2025-06-21T08:10:57.698438Z",
     "iopub.status.busy": "2025-06-21T08:10:57.698100Z",
     "iopub.status.idle": "2025-06-21T08:10:58.279137Z",
     "shell.execute_reply": "2025-06-21T08:10:58.278107Z",
     "shell.execute_reply.started": "2025-06-21T08:10:57.698381Z"
    }
   },
   "outputs": [
    {
     "name": "stdout",
     "output_type": "stream",
     "text": [
      "图的节点数: 378\n",
      "图的边数: 2765\n"
     ]
    }
   ],
   "source": [
    "import networkx as nx\n",
    "\n",
    "# 创建一个空图\n",
    "G = nx.Graph()\n",
    "\n",
    "# 将城市作为节点，航班频数作为边的权重添加到图中\n",
    "for index, row in flight_counts.iterrows():\n",
    "    G.add_edge(row['from'], row['to'], weight=row['flight_count'])\n",
    "\n",
    "# 输出图的基本信息\n",
    "print(\"图的节点数:\", G.number_of_nodes())\n",
    "print(\"图的边数:\", G.number_of_edges())"
   ]
  },
  {
   "cell_type": "code",
   "execution_count": 7,
   "id": "61e842df",
   "metadata": {
    "ExecuteTime": {
     "end_time": "2025-10-20T03:37:00.384460Z",
     "start_time": "2025-10-20T03:36:56.442463Z"
    },
    "execution": {
     "iopub.execute_input": "2025-06-21T08:10:58.280875Z",
     "iopub.status.busy": "2025-06-21T08:10:58.280325Z",
     "iopub.status.idle": "2025-06-21T08:10:59.692999Z",
     "shell.execute_reply": "2025-06-21T08:10:59.691979Z",
     "shell.execute_reply.started": "2025-06-21T08:10:58.280842Z"
    }
   },
   "outputs": [
    {
     "ename": "ValueError",
     "evalue": "object __array__ method not producing an array",
     "output_type": "error",
     "traceback": [
      "\u001b[0;31m---------------------------------------------------------------------------\u001b[0m",
      "\u001b[0;31mValueError\u001b[0m                                Traceback (most recent call last)",
      "Cell \u001b[0;32mIn[7], line 14\u001b[0m\n\u001b[1;32m     11\u001b[0m nx\u001b[38;5;241m.\u001b[39mdraw_networkx_nodes(G, pos, node_size\u001b[38;5;241m=\u001b[39m\u001b[38;5;241m100\u001b[39m, node_color\u001b[38;5;241m=\u001b[39m\u001b[38;5;124m'\u001b[39m\u001b[38;5;124mlightblue\u001b[39m\u001b[38;5;124m'\u001b[39m)\n\u001b[1;32m     13\u001b[0m \u001b[38;5;66;03m# 绘制边，边的宽度表示航班频数（weight）\u001b[39;00m\n\u001b[0;32m---> 14\u001b[0m \u001b[43mnx\u001b[49m\u001b[38;5;241;43m.\u001b[39;49m\u001b[43mdraw_networkx_edges\u001b[49m\u001b[43m(\u001b[49m\u001b[43mG\u001b[49m\u001b[43m,\u001b[49m\u001b[43m \u001b[49m\u001b[43mpos\u001b[49m\u001b[43m,\u001b[49m\u001b[43m \u001b[49m\u001b[43mwidth\u001b[49m\u001b[38;5;241;43m=\u001b[39;49m\u001b[43m[\u001b[49m\u001b[43md\u001b[49m\u001b[43m[\u001b[49m\u001b[38;5;124;43m'\u001b[39;49m\u001b[38;5;124;43mweight\u001b[39;49m\u001b[38;5;124;43m'\u001b[39;49m\u001b[43m]\u001b[49m\u001b[43m \u001b[49m\u001b[38;5;241;43m/\u001b[39;49m\u001b[43m \u001b[49m\u001b[38;5;241;43m1000\u001b[39;49m\u001b[43m \u001b[49m\u001b[38;5;28;43;01mfor\u001b[39;49;00m\u001b[43m \u001b[49m\u001b[43mu\u001b[49m\u001b[43m,\u001b[49m\u001b[43m \u001b[49m\u001b[43mv\u001b[49m\u001b[43m,\u001b[49m\u001b[43m \u001b[49m\u001b[43md\u001b[49m\u001b[43m \u001b[49m\u001b[38;5;129;43;01min\u001b[39;49;00m\u001b[43m \u001b[49m\u001b[43medges\u001b[49m\u001b[43m]\u001b[49m\u001b[43m,\u001b[49m\u001b[43m \u001b[49m\u001b[43malpha\u001b[49m\u001b[38;5;241;43m=\u001b[39;49m\u001b[38;5;241;43m0.5\u001b[39;49m\u001b[43m)\u001b[49m\n\u001b[1;32m     16\u001b[0m \u001b[38;5;66;03m# 绘制节点标签\u001b[39;00m\n\u001b[1;32m     17\u001b[0m nx\u001b[38;5;241m.\u001b[39mdraw_networkx_labels(G, pos, font_size\u001b[38;5;241m=\u001b[39m\u001b[38;5;241m10\u001b[39m)\n",
      "File \u001b[0;32m/data/zy/anaconda3/envs/machine/lib/python3.10/site-packages/networkx/drawing/nx_pylab.py:1043\u001b[0m, in \u001b[0;36mdraw_networkx_edges\u001b[0;34m(G, pos, edgelist, width, edge_color, style, alpha, arrowstyle, arrowsize, edge_cmap, edge_vmin, edge_vmax, ax, arrows, label, node_size, nodelist, node_shape, connectionstyle, min_source_margin, min_target_margin, hide_ticks)\u001b[0m\n\u001b[1;32m   1041\u001b[0m edge_collection\u001b[38;5;241m.\u001b[39mset_zorder(\u001b[38;5;241m1\u001b[39m)  \u001b[38;5;66;03m# edges go behind nodes\u001b[39;00m\n\u001b[1;32m   1042\u001b[0m edge_collection\u001b[38;5;241m.\u001b[39mset_label(label)\n\u001b[0;32m-> 1043\u001b[0m \u001b[43max\u001b[49m\u001b[38;5;241;43m.\u001b[39;49m\u001b[43madd_collection\u001b[49m\u001b[43m(\u001b[49m\u001b[43medge_collection\u001b[49m\u001b[43m)\u001b[49m\n\u001b[1;32m   1044\u001b[0m edge_viz_obj \u001b[38;5;241m=\u001b[39m edge_collection\n\u001b[1;32m   1046\u001b[0m \u001b[38;5;66;03m# Make sure selfloop edges are also drawn\u001b[39;00m\n\u001b[1;32m   1047\u001b[0m \u001b[38;5;66;03m# ---------------------------------------\u001b[39;00m\n",
      "File \u001b[0;32m/data/zy/anaconda3/envs/machine/lib/python3.10/site-packages/matplotlib/axes/_base.py:2264\u001b[0m, in \u001b[0;36m_AxesBase.add_collection\u001b[0;34m(self, collection, autolim)\u001b[0m\n\u001b[1;32m   2260\u001b[0m \u001b[38;5;28;01mif\u001b[39;00m autolim:\n\u001b[1;32m   2261\u001b[0m     \u001b[38;5;66;03m# Make sure viewLim is not stale (mostly to match\u001b[39;00m\n\u001b[1;32m   2262\u001b[0m     \u001b[38;5;66;03m# pre-lazy-autoscale behavior, which is not really better).\u001b[39;00m\n\u001b[1;32m   2263\u001b[0m     \u001b[38;5;28mself\u001b[39m\u001b[38;5;241m.\u001b[39m_unstale_viewLim()\n\u001b[0;32m-> 2264\u001b[0m     datalim \u001b[38;5;241m=\u001b[39m \u001b[43mcollection\u001b[49m\u001b[38;5;241;43m.\u001b[39;49m\u001b[43mget_datalim\u001b[49m\u001b[43m(\u001b[49m\u001b[38;5;28;43mself\u001b[39;49m\u001b[38;5;241;43m.\u001b[39;49m\u001b[43mtransData\u001b[49m\u001b[43m)\u001b[49m\n\u001b[1;32m   2265\u001b[0m     points \u001b[38;5;241m=\u001b[39m datalim\u001b[38;5;241m.\u001b[39mget_points()\n\u001b[1;32m   2266\u001b[0m     \u001b[38;5;28;01mif\u001b[39;00m \u001b[38;5;129;01mnot\u001b[39;00m np\u001b[38;5;241m.\u001b[39misinf(datalim\u001b[38;5;241m.\u001b[39mminpos)\u001b[38;5;241m.\u001b[39mall():\n\u001b[1;32m   2267\u001b[0m         \u001b[38;5;66;03m# By definition, if minpos (minimum positive value) is set\u001b[39;00m\n\u001b[1;32m   2268\u001b[0m         \u001b[38;5;66;03m# (i.e., non-inf), then min(points) <= minpos <= max(points),\u001b[39;00m\n\u001b[1;32m   2269\u001b[0m         \u001b[38;5;66;03m# and minpos would be superfluous. However, we add minpos to\u001b[39;00m\n\u001b[1;32m   2270\u001b[0m         \u001b[38;5;66;03m# the call so that self.dataLim will update its own minpos.\u001b[39;00m\n\u001b[1;32m   2271\u001b[0m         \u001b[38;5;66;03m# This ensures that log scales see the correct minimum.\u001b[39;00m\n",
      "File \u001b[0;32m/data/zy/anaconda3/envs/machine/lib/python3.10/site-packages/matplotlib/collections.py:280\u001b[0m, in \u001b[0;36mCollection.get_datalim\u001b[0;34m(self, transData)\u001b[0m\n\u001b[1;32m    278\u001b[0m         offsets \u001b[38;5;241m=\u001b[39m offsets\u001b[38;5;241m.\u001b[39mfilled(np\u001b[38;5;241m.\u001b[39mnan)\n\u001b[1;32m    279\u001b[0m         \u001b[38;5;66;03m# get_path_collection_extents handles nan but not masked arrays\u001b[39;00m\n\u001b[0;32m--> 280\u001b[0m     \u001b[38;5;28;01mreturn\u001b[39;00m \u001b[43mmpath\u001b[49m\u001b[38;5;241;43m.\u001b[39;49m\u001b[43mget_path_collection_extents\u001b[49m\u001b[43m(\u001b[49m\n\u001b[1;32m    281\u001b[0m \u001b[43m        \u001b[49m\u001b[43mtransform\u001b[49m\u001b[38;5;241;43m.\u001b[39;49m\u001b[43mget_affine\u001b[49m\u001b[43m(\u001b[49m\u001b[43m)\u001b[49m\u001b[43m \u001b[49m\u001b[38;5;241;43m-\u001b[39;49m\u001b[43m \u001b[49m\u001b[43mtransData\u001b[49m\u001b[43m,\u001b[49m\u001b[43m \u001b[49m\u001b[43mpaths\u001b[49m\u001b[43m,\u001b[49m\n\u001b[1;32m    282\u001b[0m \u001b[43m        \u001b[49m\u001b[38;5;28;43mself\u001b[39;49m\u001b[38;5;241;43m.\u001b[39;49m\u001b[43mget_transforms\u001b[49m\u001b[43m(\u001b[49m\u001b[43m)\u001b[49m\u001b[43m,\u001b[49m\n\u001b[1;32m    283\u001b[0m \u001b[43m        \u001b[49m\u001b[43moffset_trf\u001b[49m\u001b[38;5;241;43m.\u001b[39;49m\u001b[43mtransform_non_affine\u001b[49m\u001b[43m(\u001b[49m\u001b[43moffsets\u001b[49m\u001b[43m)\u001b[49m\u001b[43m,\u001b[49m\n\u001b[1;32m    284\u001b[0m \u001b[43m        \u001b[49m\u001b[43moffset_trf\u001b[49m\u001b[38;5;241;43m.\u001b[39;49m\u001b[43mget_affine\u001b[49m\u001b[43m(\u001b[49m\u001b[43m)\u001b[49m\u001b[38;5;241;43m.\u001b[39;49m\u001b[43mfrozen\u001b[49m\u001b[43m(\u001b[49m\u001b[43m)\u001b[49m\u001b[43m)\u001b[49m\n\u001b[1;32m    286\u001b[0m \u001b[38;5;66;03m# NOTE: None is the default case where no offsets were passed in\u001b[39;00m\n\u001b[1;32m    287\u001b[0m \u001b[38;5;28;01mif\u001b[39;00m \u001b[38;5;28mself\u001b[39m\u001b[38;5;241m.\u001b[39m_offsets \u001b[38;5;129;01mis\u001b[39;00m \u001b[38;5;129;01mnot\u001b[39;00m \u001b[38;5;28;01mNone\u001b[39;00m:\n\u001b[1;32m    288\u001b[0m     \u001b[38;5;66;03m# this is for collections that have their paths (shapes)\u001b[39;00m\n\u001b[1;32m    289\u001b[0m     \u001b[38;5;66;03m# in physical, axes-relative, or figure-relative units\u001b[39;00m\n\u001b[1;32m    290\u001b[0m     \u001b[38;5;66;03m# (i.e. like scatter). We can't uniquely set limits based on\u001b[39;00m\n\u001b[1;32m    291\u001b[0m     \u001b[38;5;66;03m# those shapes, so we just set the limits based on their\u001b[39;00m\n\u001b[1;32m    292\u001b[0m     \u001b[38;5;66;03m# location.\u001b[39;00m\n",
      "File \u001b[0;32m/data/zy/anaconda3/envs/machine/lib/python3.10/site-packages/matplotlib/path.py:1080\u001b[0m, in \u001b[0;36mget_path_collection_extents\u001b[0;34m(master_transform, paths, transforms, offsets, offset_transform)\u001b[0m\n\u001b[1;32m   1078\u001b[0m \u001b[38;5;28;01mif\u001b[39;00m \u001b[38;5;28mlen\u001b[39m(paths) \u001b[38;5;241m==\u001b[39m \u001b[38;5;241m0\u001b[39m:\n\u001b[1;32m   1079\u001b[0m     \u001b[38;5;28;01mraise\u001b[39;00m \u001b[38;5;167;01mValueError\u001b[39;00m(\u001b[38;5;124m\"\u001b[39m\u001b[38;5;124mNo paths provided\u001b[39m\u001b[38;5;124m\"\u001b[39m)\n\u001b[0;32m-> 1080\u001b[0m extents, minpos \u001b[38;5;241m=\u001b[39m \u001b[43m_path\u001b[49m\u001b[38;5;241;43m.\u001b[39;49m\u001b[43mget_path_collection_extents\u001b[49m\u001b[43m(\u001b[49m\n\u001b[1;32m   1081\u001b[0m \u001b[43m    \u001b[49m\u001b[43mmaster_transform\u001b[49m\u001b[43m,\u001b[49m\u001b[43m \u001b[49m\u001b[43mpaths\u001b[49m\u001b[43m,\u001b[49m\u001b[43m \u001b[49m\u001b[43mnp\u001b[49m\u001b[38;5;241;43m.\u001b[39;49m\u001b[43matleast_3d\u001b[49m\u001b[43m(\u001b[49m\u001b[43mtransforms\u001b[49m\u001b[43m)\u001b[49m\u001b[43m,\u001b[49m\n\u001b[1;32m   1082\u001b[0m \u001b[43m    \u001b[49m\u001b[43moffsets\u001b[49m\u001b[43m,\u001b[49m\u001b[43m \u001b[49m\u001b[43moffset_transform\u001b[49m\u001b[43m)\u001b[49m\n\u001b[1;32m   1083\u001b[0m \u001b[38;5;28;01mreturn\u001b[39;00m Bbox\u001b[38;5;241m.\u001b[39mfrom_extents(\u001b[38;5;241m*\u001b[39mextents, minpos\u001b[38;5;241m=\u001b[39mminpos)\n",
      "\u001b[0;31mValueError\u001b[0m: object __array__ method not producing an array"
     ]
    },
    {
     "name": "stdout",
     "output_type": "stream",
     "text": [
      "Error in callback <function _draw_all_if_interactive at 0x7f6bdc6b7ac0> (for post_execute), with arguments args (),kwargs {}:\n"
     ]
    },
    {
     "ename": "ValueError",
     "evalue": "object __array__ method not producing an array",
     "output_type": "error",
     "traceback": [
      "\u001b[0;31m---------------------------------------------------------------------------\u001b[0m",
      "\u001b[0;31mValueError\u001b[0m                                Traceback (most recent call last)",
      "File \u001b[0;32m/data/zy/anaconda3/envs/machine/lib/python3.10/site-packages/matplotlib/pyplot.py:120\u001b[0m, in \u001b[0;36m_draw_all_if_interactive\u001b[0;34m()\u001b[0m\n\u001b[1;32m    118\u001b[0m \u001b[38;5;28;01mdef\u001b[39;00m \u001b[38;5;21m_draw_all_if_interactive\u001b[39m():\n\u001b[1;32m    119\u001b[0m     \u001b[38;5;28;01mif\u001b[39;00m matplotlib\u001b[38;5;241m.\u001b[39mis_interactive():\n\u001b[0;32m--> 120\u001b[0m         \u001b[43mdraw_all\u001b[49m\u001b[43m(\u001b[49m\u001b[43m)\u001b[49m\n",
      "File \u001b[0;32m/data/zy/anaconda3/envs/machine/lib/python3.10/site-packages/matplotlib/_pylab_helpers.py:132\u001b[0m, in \u001b[0;36mGcf.draw_all\u001b[0;34m(cls, force)\u001b[0m\n\u001b[1;32m    130\u001b[0m \u001b[38;5;28;01mfor\u001b[39;00m manager \u001b[38;5;129;01min\u001b[39;00m \u001b[38;5;28mcls\u001b[39m\u001b[38;5;241m.\u001b[39mget_all_fig_managers():\n\u001b[1;32m    131\u001b[0m     \u001b[38;5;28;01mif\u001b[39;00m force \u001b[38;5;129;01mor\u001b[39;00m manager\u001b[38;5;241m.\u001b[39mcanvas\u001b[38;5;241m.\u001b[39mfigure\u001b[38;5;241m.\u001b[39mstale:\n\u001b[0;32m--> 132\u001b[0m         \u001b[43mmanager\u001b[49m\u001b[38;5;241;43m.\u001b[39;49m\u001b[43mcanvas\u001b[49m\u001b[38;5;241;43m.\u001b[39;49m\u001b[43mdraw_idle\u001b[49m\u001b[43m(\u001b[49m\u001b[43m)\u001b[49m\n",
      "File \u001b[0;32m/data/zy/anaconda3/envs/machine/lib/python3.10/site-packages/matplotlib/backend_bases.py:2082\u001b[0m, in \u001b[0;36mFigureCanvasBase.draw_idle\u001b[0;34m(self, *args, **kwargs)\u001b[0m\n\u001b[1;32m   2080\u001b[0m \u001b[38;5;28;01mif\u001b[39;00m \u001b[38;5;129;01mnot\u001b[39;00m \u001b[38;5;28mself\u001b[39m\u001b[38;5;241m.\u001b[39m_is_idle_drawing:\n\u001b[1;32m   2081\u001b[0m     \u001b[38;5;28;01mwith\u001b[39;00m \u001b[38;5;28mself\u001b[39m\u001b[38;5;241m.\u001b[39m_idle_draw_cntx():\n\u001b[0;32m-> 2082\u001b[0m         \u001b[38;5;28;43mself\u001b[39;49m\u001b[38;5;241;43m.\u001b[39;49m\u001b[43mdraw\u001b[49m\u001b[43m(\u001b[49m\u001b[38;5;241;43m*\u001b[39;49m\u001b[43margs\u001b[49m\u001b[43m,\u001b[49m\u001b[43m \u001b[49m\u001b[38;5;241;43m*\u001b[39;49m\u001b[38;5;241;43m*\u001b[39;49m\u001b[43mkwargs\u001b[49m\u001b[43m)\u001b[49m\n",
      "File \u001b[0;32m/data/zy/anaconda3/envs/machine/lib/python3.10/site-packages/matplotlib/backends/backend_agg.py:400\u001b[0m, in \u001b[0;36mFigureCanvasAgg.draw\u001b[0;34m(self)\u001b[0m\n\u001b[1;32m    396\u001b[0m \u001b[38;5;66;03m# Acquire a lock on the shared font cache.\u001b[39;00m\n\u001b[1;32m    397\u001b[0m \u001b[38;5;28;01mwith\u001b[39;00m RendererAgg\u001b[38;5;241m.\u001b[39mlock, \\\n\u001b[1;32m    398\u001b[0m      (\u001b[38;5;28mself\u001b[39m\u001b[38;5;241m.\u001b[39mtoolbar\u001b[38;5;241m.\u001b[39m_wait_cursor_for_draw_cm() \u001b[38;5;28;01mif\u001b[39;00m \u001b[38;5;28mself\u001b[39m\u001b[38;5;241m.\u001b[39mtoolbar\n\u001b[1;32m    399\u001b[0m       \u001b[38;5;28;01melse\u001b[39;00m nullcontext()):\n\u001b[0;32m--> 400\u001b[0m     \u001b[38;5;28;43mself\u001b[39;49m\u001b[38;5;241;43m.\u001b[39;49m\u001b[43mfigure\u001b[49m\u001b[38;5;241;43m.\u001b[39;49m\u001b[43mdraw\u001b[49m\u001b[43m(\u001b[49m\u001b[38;5;28;43mself\u001b[39;49m\u001b[38;5;241;43m.\u001b[39;49m\u001b[43mrenderer\u001b[49m\u001b[43m)\u001b[49m\n\u001b[1;32m    401\u001b[0m     \u001b[38;5;66;03m# A GUI class may be need to update a window using this draw, so\u001b[39;00m\n\u001b[1;32m    402\u001b[0m     \u001b[38;5;66;03m# don't forget to call the superclass.\u001b[39;00m\n\u001b[1;32m    403\u001b[0m     \u001b[38;5;28msuper\u001b[39m()\u001b[38;5;241m.\u001b[39mdraw()\n",
      "File \u001b[0;32m/data/zy/anaconda3/envs/machine/lib/python3.10/site-packages/matplotlib/artist.py:95\u001b[0m, in \u001b[0;36m_finalize_rasterization.<locals>.draw_wrapper\u001b[0;34m(artist, renderer, *args, **kwargs)\u001b[0m\n\u001b[1;32m     93\u001b[0m \u001b[38;5;129m@wraps\u001b[39m(draw)\n\u001b[1;32m     94\u001b[0m \u001b[38;5;28;01mdef\u001b[39;00m \u001b[38;5;21mdraw_wrapper\u001b[39m(artist, renderer, \u001b[38;5;241m*\u001b[39margs, \u001b[38;5;241m*\u001b[39m\u001b[38;5;241m*\u001b[39mkwargs):\n\u001b[0;32m---> 95\u001b[0m     result \u001b[38;5;241m=\u001b[39m \u001b[43mdraw\u001b[49m\u001b[43m(\u001b[49m\u001b[43martist\u001b[49m\u001b[43m,\u001b[49m\u001b[43m \u001b[49m\u001b[43mrenderer\u001b[49m\u001b[43m,\u001b[49m\u001b[43m \u001b[49m\u001b[38;5;241;43m*\u001b[39;49m\u001b[43margs\u001b[49m\u001b[43m,\u001b[49m\u001b[43m \u001b[49m\u001b[38;5;241;43m*\u001b[39;49m\u001b[38;5;241;43m*\u001b[39;49m\u001b[43mkwargs\u001b[49m\u001b[43m)\u001b[49m\n\u001b[1;32m     96\u001b[0m     \u001b[38;5;28;01mif\u001b[39;00m renderer\u001b[38;5;241m.\u001b[39m_rasterizing:\n\u001b[1;32m     97\u001b[0m         renderer\u001b[38;5;241m.\u001b[39mstop_rasterizing()\n",
      "File \u001b[0;32m/data/zy/anaconda3/envs/machine/lib/python3.10/site-packages/matplotlib/artist.py:72\u001b[0m, in \u001b[0;36mallow_rasterization.<locals>.draw_wrapper\u001b[0;34m(artist, renderer)\u001b[0m\n\u001b[1;32m     69\u001b[0m     \u001b[38;5;28;01mif\u001b[39;00m artist\u001b[38;5;241m.\u001b[39mget_agg_filter() \u001b[38;5;129;01mis\u001b[39;00m \u001b[38;5;129;01mnot\u001b[39;00m \u001b[38;5;28;01mNone\u001b[39;00m:\n\u001b[1;32m     70\u001b[0m         renderer\u001b[38;5;241m.\u001b[39mstart_filter()\n\u001b[0;32m---> 72\u001b[0m     \u001b[38;5;28;01mreturn\u001b[39;00m \u001b[43mdraw\u001b[49m\u001b[43m(\u001b[49m\u001b[43martist\u001b[49m\u001b[43m,\u001b[49m\u001b[43m \u001b[49m\u001b[43mrenderer\u001b[49m\u001b[43m)\u001b[49m\n\u001b[1;32m     73\u001b[0m \u001b[38;5;28;01mfinally\u001b[39;00m:\n\u001b[1;32m     74\u001b[0m     \u001b[38;5;28;01mif\u001b[39;00m artist\u001b[38;5;241m.\u001b[39mget_agg_filter() \u001b[38;5;129;01mis\u001b[39;00m \u001b[38;5;129;01mnot\u001b[39;00m \u001b[38;5;28;01mNone\u001b[39;00m:\n",
      "File \u001b[0;32m/data/zy/anaconda3/envs/machine/lib/python3.10/site-packages/matplotlib/figure.py:3174\u001b[0m, in \u001b[0;36mFigure.draw\u001b[0;34m(self, renderer)\u001b[0m\n\u001b[1;32m   3171\u001b[0m         \u001b[38;5;28;01mpass\u001b[39;00m\n\u001b[1;32m   3172\u001b[0m         \u001b[38;5;66;03m# ValueError can occur when resizing a window.\u001b[39;00m\n\u001b[0;32m-> 3174\u001b[0m \u001b[38;5;28;43mself\u001b[39;49m\u001b[38;5;241;43m.\u001b[39;49m\u001b[43mpatch\u001b[49m\u001b[38;5;241;43m.\u001b[39;49m\u001b[43mdraw\u001b[49m\u001b[43m(\u001b[49m\u001b[43mrenderer\u001b[49m\u001b[43m)\u001b[49m\n\u001b[1;32m   3175\u001b[0m mimage\u001b[38;5;241m.\u001b[39m_draw_list_compositing_images(\n\u001b[1;32m   3176\u001b[0m     renderer, \u001b[38;5;28mself\u001b[39m, artists, \u001b[38;5;28mself\u001b[39m\u001b[38;5;241m.\u001b[39msuppressComposite)\n\u001b[1;32m   3178\u001b[0m \u001b[38;5;28;01mfor\u001b[39;00m sfig \u001b[38;5;129;01min\u001b[39;00m \u001b[38;5;28mself\u001b[39m\u001b[38;5;241m.\u001b[39msubfigs:\n",
      "File \u001b[0;32m/data/zy/anaconda3/envs/machine/lib/python3.10/site-packages/matplotlib/artist.py:72\u001b[0m, in \u001b[0;36mallow_rasterization.<locals>.draw_wrapper\u001b[0;34m(artist, renderer)\u001b[0m\n\u001b[1;32m     69\u001b[0m     \u001b[38;5;28;01mif\u001b[39;00m artist\u001b[38;5;241m.\u001b[39mget_agg_filter() \u001b[38;5;129;01mis\u001b[39;00m \u001b[38;5;129;01mnot\u001b[39;00m \u001b[38;5;28;01mNone\u001b[39;00m:\n\u001b[1;32m     70\u001b[0m         renderer\u001b[38;5;241m.\u001b[39mstart_filter()\n\u001b[0;32m---> 72\u001b[0m     \u001b[38;5;28;01mreturn\u001b[39;00m \u001b[43mdraw\u001b[49m\u001b[43m(\u001b[49m\u001b[43martist\u001b[49m\u001b[43m,\u001b[49m\u001b[43m \u001b[49m\u001b[43mrenderer\u001b[49m\u001b[43m)\u001b[49m\n\u001b[1;32m     73\u001b[0m \u001b[38;5;28;01mfinally\u001b[39;00m:\n\u001b[1;32m     74\u001b[0m     \u001b[38;5;28;01mif\u001b[39;00m artist\u001b[38;5;241m.\u001b[39mget_agg_filter() \u001b[38;5;129;01mis\u001b[39;00m \u001b[38;5;129;01mnot\u001b[39;00m \u001b[38;5;28;01mNone\u001b[39;00m:\n",
      "File \u001b[0;32m/data/zy/anaconda3/envs/machine/lib/python3.10/site-packages/matplotlib/patches.py:591\u001b[0m, in \u001b[0;36mPatch.draw\u001b[0;34m(self, renderer)\u001b[0m\n\u001b[1;32m    589\u001b[0m tpath \u001b[38;5;241m=\u001b[39m transform\u001b[38;5;241m.\u001b[39mtransform_path_non_affine(path)\n\u001b[1;32m    590\u001b[0m affine \u001b[38;5;241m=\u001b[39m transform\u001b[38;5;241m.\u001b[39mget_affine()\n\u001b[0;32m--> 591\u001b[0m \u001b[38;5;28;43mself\u001b[39;49m\u001b[38;5;241;43m.\u001b[39;49m\u001b[43m_draw_paths_with_artist_properties\u001b[49m\u001b[43m(\u001b[49m\n\u001b[1;32m    592\u001b[0m \u001b[43m    \u001b[49m\u001b[43mrenderer\u001b[49m\u001b[43m,\u001b[49m\n\u001b[1;32m    593\u001b[0m \u001b[43m    \u001b[49m\u001b[43m[\u001b[49m\u001b[43m(\u001b[49m\u001b[43mtpath\u001b[49m\u001b[43m,\u001b[49m\u001b[43m \u001b[49m\u001b[43maffine\u001b[49m\u001b[43m,\u001b[49m\n\u001b[1;32m    594\u001b[0m \u001b[43m      \u001b[49m\u001b[38;5;66;43;03m# Work around a bug in the PDF and SVG renderers, which\u001b[39;49;00m\n\u001b[1;32m    595\u001b[0m \u001b[43m      \u001b[49m\u001b[38;5;66;43;03m# do not draw the hatches if the facecolor is fully\u001b[39;49;00m\n\u001b[1;32m    596\u001b[0m \u001b[43m      \u001b[49m\u001b[38;5;66;43;03m# transparent, but do if it is None.\u001b[39;49;00m\n\u001b[1;32m    597\u001b[0m \u001b[43m      \u001b[49m\u001b[38;5;28;43mself\u001b[39;49m\u001b[38;5;241;43m.\u001b[39;49m\u001b[43m_facecolor\u001b[49m\u001b[43m \u001b[49m\u001b[38;5;28;43;01mif\u001b[39;49;00m\u001b[43m \u001b[49m\u001b[38;5;28;43mself\u001b[39;49m\u001b[38;5;241;43m.\u001b[39;49m\u001b[43m_facecolor\u001b[49m\u001b[43m[\u001b[49m\u001b[38;5;241;43m3\u001b[39;49m\u001b[43m]\u001b[49m\u001b[43m \u001b[49m\u001b[38;5;28;43;01melse\u001b[39;49;00m\u001b[43m \u001b[49m\u001b[38;5;28;43;01mNone\u001b[39;49;00m\u001b[43m)\u001b[49m\u001b[43m]\u001b[49m\u001b[43m)\u001b[49m\n",
      "File \u001b[0;32m/data/zy/anaconda3/envs/machine/lib/python3.10/site-packages/matplotlib/patches.py:576\u001b[0m, in \u001b[0;36mPatch._draw_paths_with_artist_properties\u001b[0;34m(self, renderer, draw_path_args_list)\u001b[0m\n\u001b[1;32m    573\u001b[0m     renderer \u001b[38;5;241m=\u001b[39m PathEffectRenderer(\u001b[38;5;28mself\u001b[39m\u001b[38;5;241m.\u001b[39mget_path_effects(), renderer)\n\u001b[1;32m    575\u001b[0m \u001b[38;5;28;01mfor\u001b[39;00m draw_path_args \u001b[38;5;129;01min\u001b[39;00m draw_path_args_list:\n\u001b[0;32m--> 576\u001b[0m     \u001b[43mrenderer\u001b[49m\u001b[38;5;241;43m.\u001b[39;49m\u001b[43mdraw_path\u001b[49m\u001b[43m(\u001b[49m\u001b[43mgc\u001b[49m\u001b[43m,\u001b[49m\u001b[43m \u001b[49m\u001b[38;5;241;43m*\u001b[39;49m\u001b[43mdraw_path_args\u001b[49m\u001b[43m)\u001b[49m\n\u001b[1;32m    578\u001b[0m gc\u001b[38;5;241m.\u001b[39mrestore()\n\u001b[1;32m    579\u001b[0m renderer\u001b[38;5;241m.\u001b[39mclose_group(\u001b[38;5;124m'\u001b[39m\u001b[38;5;124mpatch\u001b[39m\u001b[38;5;124m'\u001b[39m)\n",
      "File \u001b[0;32m/data/zy/anaconda3/envs/machine/lib/python3.10/site-packages/matplotlib/backends/backend_agg.py:146\u001b[0m, in \u001b[0;36mRendererAgg.draw_path\u001b[0;34m(self, gc, path, transform, rgbFace)\u001b[0m\n\u001b[1;32m    144\u001b[0m \u001b[38;5;28;01melse\u001b[39;00m:\n\u001b[1;32m    145\u001b[0m     \u001b[38;5;28;01mtry\u001b[39;00m:\n\u001b[0;32m--> 146\u001b[0m         \u001b[38;5;28;43mself\u001b[39;49m\u001b[38;5;241;43m.\u001b[39;49m\u001b[43m_renderer\u001b[49m\u001b[38;5;241;43m.\u001b[39;49m\u001b[43mdraw_path\u001b[49m\u001b[43m(\u001b[49m\u001b[43mgc\u001b[49m\u001b[43m,\u001b[49m\u001b[43m \u001b[49m\u001b[43mpath\u001b[49m\u001b[43m,\u001b[49m\u001b[43m \u001b[49m\u001b[43mtransform\u001b[49m\u001b[43m,\u001b[49m\u001b[43m \u001b[49m\u001b[43mrgbFace\u001b[49m\u001b[43m)\u001b[49m\n\u001b[1;32m    147\u001b[0m     \u001b[38;5;28;01mexcept\u001b[39;00m \u001b[38;5;167;01mOverflowError\u001b[39;00m:\n\u001b[1;32m    148\u001b[0m         cant_chunk \u001b[38;5;241m=\u001b[39m \u001b[38;5;124m'\u001b[39m\u001b[38;5;124m'\u001b[39m\n",
      "\u001b[0;31mValueError\u001b[0m: object __array__ method not producing an array"
     ]
    },
    {
     "ename": "TypeError",
     "evalue": "can only be called with ndarray object",
     "output_type": "error",
     "traceback": [
      "\u001b[0;31m---------------------------------------------------------------------------\u001b[0m",
      "\u001b[0;31mTypeError\u001b[0m                                 Traceback (most recent call last)",
      "File \u001b[0;32m/data/zy/anaconda3/envs/machine/lib/python3.10/site-packages/IPython/core/formatters.py:340\u001b[0m, in \u001b[0;36mBaseFormatter.__call__\u001b[0;34m(self, obj)\u001b[0m\n\u001b[1;32m    338\u001b[0m     \u001b[38;5;28;01mpass\u001b[39;00m\n\u001b[1;32m    339\u001b[0m \u001b[38;5;28;01melse\u001b[39;00m:\n\u001b[0;32m--> 340\u001b[0m     \u001b[38;5;28;01mreturn\u001b[39;00m \u001b[43mprinter\u001b[49m\u001b[43m(\u001b[49m\u001b[43mobj\u001b[49m\u001b[43m)\u001b[49m\n\u001b[1;32m    341\u001b[0m \u001b[38;5;66;03m# Finally look for special method names\u001b[39;00m\n\u001b[1;32m    342\u001b[0m method \u001b[38;5;241m=\u001b[39m get_real_method(obj, \u001b[38;5;28mself\u001b[39m\u001b[38;5;241m.\u001b[39mprint_method)\n",
      "File \u001b[0;32m/data/zy/anaconda3/envs/machine/lib/python3.10/site-packages/IPython/core/pylabtools.py:152\u001b[0m, in \u001b[0;36mprint_figure\u001b[0;34m(fig, fmt, bbox_inches, base64, **kwargs)\u001b[0m\n\u001b[1;32m    149\u001b[0m     \u001b[38;5;28;01mfrom\u001b[39;00m \u001b[38;5;21;01mmatplotlib\u001b[39;00m\u001b[38;5;21;01m.\u001b[39;00m\u001b[38;5;21;01mbackend_bases\u001b[39;00m \u001b[38;5;28;01mimport\u001b[39;00m FigureCanvasBase\n\u001b[1;32m    150\u001b[0m     FigureCanvasBase(fig)\n\u001b[0;32m--> 152\u001b[0m \u001b[43mfig\u001b[49m\u001b[38;5;241;43m.\u001b[39;49m\u001b[43mcanvas\u001b[49m\u001b[38;5;241;43m.\u001b[39;49m\u001b[43mprint_figure\u001b[49m\u001b[43m(\u001b[49m\u001b[43mbytes_io\u001b[49m\u001b[43m,\u001b[49m\u001b[43m \u001b[49m\u001b[38;5;241;43m*\u001b[39;49m\u001b[38;5;241;43m*\u001b[39;49m\u001b[43mkw\u001b[49m\u001b[43m)\u001b[49m\n\u001b[1;32m    153\u001b[0m data \u001b[38;5;241m=\u001b[39m bytes_io\u001b[38;5;241m.\u001b[39mgetvalue()\n\u001b[1;32m    154\u001b[0m \u001b[38;5;28;01mif\u001b[39;00m fmt \u001b[38;5;241m==\u001b[39m \u001b[38;5;124m'\u001b[39m\u001b[38;5;124msvg\u001b[39m\u001b[38;5;124m'\u001b[39m:\n",
      "File \u001b[0;32m/data/zy/anaconda3/envs/machine/lib/python3.10/site-packages/matplotlib/backend_bases.py:2342\u001b[0m, in \u001b[0;36mFigureCanvasBase.print_figure\u001b[0;34m(self, filename, dpi, facecolor, edgecolor, orientation, format, bbox_inches, pad_inches, bbox_extra_artists, backend, **kwargs)\u001b[0m\n\u001b[1;32m   2336\u001b[0m     renderer \u001b[38;5;241m=\u001b[39m _get_renderer(\n\u001b[1;32m   2337\u001b[0m         \u001b[38;5;28mself\u001b[39m\u001b[38;5;241m.\u001b[39mfigure,\n\u001b[1;32m   2338\u001b[0m         functools\u001b[38;5;241m.\u001b[39mpartial(\n\u001b[1;32m   2339\u001b[0m             print_method, orientation\u001b[38;5;241m=\u001b[39morientation)\n\u001b[1;32m   2340\u001b[0m     )\n\u001b[1;32m   2341\u001b[0m     \u001b[38;5;28;01mwith\u001b[39;00m \u001b[38;5;28mgetattr\u001b[39m(renderer, \u001b[38;5;124m\"\u001b[39m\u001b[38;5;124m_draw_disabled\u001b[39m\u001b[38;5;124m\"\u001b[39m, nullcontext)():\n\u001b[0;32m-> 2342\u001b[0m         \u001b[38;5;28;43mself\u001b[39;49m\u001b[38;5;241;43m.\u001b[39;49m\u001b[43mfigure\u001b[49m\u001b[38;5;241;43m.\u001b[39;49m\u001b[43mdraw\u001b[49m\u001b[43m(\u001b[49m\u001b[43mrenderer\u001b[49m\u001b[43m)\u001b[49m\n\u001b[1;32m   2344\u001b[0m \u001b[38;5;28;01mif\u001b[39;00m bbox_inches:\n\u001b[1;32m   2345\u001b[0m     \u001b[38;5;28;01mif\u001b[39;00m bbox_inches \u001b[38;5;241m==\u001b[39m \u001b[38;5;124m\"\u001b[39m\u001b[38;5;124mtight\u001b[39m\u001b[38;5;124m\"\u001b[39m:\n",
      "File \u001b[0;32m/data/zy/anaconda3/envs/machine/lib/python3.10/site-packages/matplotlib/artist.py:95\u001b[0m, in \u001b[0;36m_finalize_rasterization.<locals>.draw_wrapper\u001b[0;34m(artist, renderer, *args, **kwargs)\u001b[0m\n\u001b[1;32m     93\u001b[0m \u001b[38;5;129m@wraps\u001b[39m(draw)\n\u001b[1;32m     94\u001b[0m \u001b[38;5;28;01mdef\u001b[39;00m \u001b[38;5;21mdraw_wrapper\u001b[39m(artist, renderer, \u001b[38;5;241m*\u001b[39margs, \u001b[38;5;241m*\u001b[39m\u001b[38;5;241m*\u001b[39mkwargs):\n\u001b[0;32m---> 95\u001b[0m     result \u001b[38;5;241m=\u001b[39m \u001b[43mdraw\u001b[49m\u001b[43m(\u001b[49m\u001b[43martist\u001b[49m\u001b[43m,\u001b[49m\u001b[43m \u001b[49m\u001b[43mrenderer\u001b[49m\u001b[43m,\u001b[49m\u001b[43m \u001b[49m\u001b[38;5;241;43m*\u001b[39;49m\u001b[43margs\u001b[49m\u001b[43m,\u001b[49m\u001b[43m \u001b[49m\u001b[38;5;241;43m*\u001b[39;49m\u001b[38;5;241;43m*\u001b[39;49m\u001b[43mkwargs\u001b[49m\u001b[43m)\u001b[49m\n\u001b[1;32m     96\u001b[0m     \u001b[38;5;28;01mif\u001b[39;00m renderer\u001b[38;5;241m.\u001b[39m_rasterizing:\n\u001b[1;32m     97\u001b[0m         renderer\u001b[38;5;241m.\u001b[39mstop_rasterizing()\n",
      "File \u001b[0;32m/data/zy/anaconda3/envs/machine/lib/python3.10/site-packages/matplotlib/artist.py:72\u001b[0m, in \u001b[0;36mallow_rasterization.<locals>.draw_wrapper\u001b[0;34m(artist, renderer)\u001b[0m\n\u001b[1;32m     69\u001b[0m     \u001b[38;5;28;01mif\u001b[39;00m artist\u001b[38;5;241m.\u001b[39mget_agg_filter() \u001b[38;5;129;01mis\u001b[39;00m \u001b[38;5;129;01mnot\u001b[39;00m \u001b[38;5;28;01mNone\u001b[39;00m:\n\u001b[1;32m     70\u001b[0m         renderer\u001b[38;5;241m.\u001b[39mstart_filter()\n\u001b[0;32m---> 72\u001b[0m     \u001b[38;5;28;01mreturn\u001b[39;00m \u001b[43mdraw\u001b[49m\u001b[43m(\u001b[49m\u001b[43martist\u001b[49m\u001b[43m,\u001b[49m\u001b[43m \u001b[49m\u001b[43mrenderer\u001b[49m\u001b[43m)\u001b[49m\n\u001b[1;32m     73\u001b[0m \u001b[38;5;28;01mfinally\u001b[39;00m:\n\u001b[1;32m     74\u001b[0m     \u001b[38;5;28;01mif\u001b[39;00m artist\u001b[38;5;241m.\u001b[39mget_agg_filter() \u001b[38;5;129;01mis\u001b[39;00m \u001b[38;5;129;01mnot\u001b[39;00m \u001b[38;5;28;01mNone\u001b[39;00m:\n",
      "File \u001b[0;32m/data/zy/anaconda3/envs/machine/lib/python3.10/site-packages/matplotlib/figure.py:3175\u001b[0m, in \u001b[0;36mFigure.draw\u001b[0;34m(self, renderer)\u001b[0m\n\u001b[1;32m   3172\u001b[0m         \u001b[38;5;66;03m# ValueError can occur when resizing a window.\u001b[39;00m\n\u001b[1;32m   3174\u001b[0m \u001b[38;5;28mself\u001b[39m\u001b[38;5;241m.\u001b[39mpatch\u001b[38;5;241m.\u001b[39mdraw(renderer)\n\u001b[0;32m-> 3175\u001b[0m \u001b[43mmimage\u001b[49m\u001b[38;5;241;43m.\u001b[39;49m\u001b[43m_draw_list_compositing_images\u001b[49m\u001b[43m(\u001b[49m\n\u001b[1;32m   3176\u001b[0m \u001b[43m    \u001b[49m\u001b[43mrenderer\u001b[49m\u001b[43m,\u001b[49m\u001b[43m \u001b[49m\u001b[38;5;28;43mself\u001b[39;49m\u001b[43m,\u001b[49m\u001b[43m \u001b[49m\u001b[43martists\u001b[49m\u001b[43m,\u001b[49m\u001b[43m \u001b[49m\u001b[38;5;28;43mself\u001b[39;49m\u001b[38;5;241;43m.\u001b[39;49m\u001b[43msuppressComposite\u001b[49m\u001b[43m)\u001b[49m\n\u001b[1;32m   3178\u001b[0m \u001b[38;5;28;01mfor\u001b[39;00m sfig \u001b[38;5;129;01min\u001b[39;00m \u001b[38;5;28mself\u001b[39m\u001b[38;5;241m.\u001b[39msubfigs:\n\u001b[1;32m   3179\u001b[0m     sfig\u001b[38;5;241m.\u001b[39mdraw(renderer)\n",
      "File \u001b[0;32m/data/zy/anaconda3/envs/machine/lib/python3.10/site-packages/matplotlib/image.py:131\u001b[0m, in \u001b[0;36m_draw_list_compositing_images\u001b[0;34m(renderer, parent, artists, suppress_composite)\u001b[0m\n\u001b[1;32m    129\u001b[0m \u001b[38;5;28;01mif\u001b[39;00m not_composite \u001b[38;5;129;01mor\u001b[39;00m \u001b[38;5;129;01mnot\u001b[39;00m has_images:\n\u001b[1;32m    130\u001b[0m     \u001b[38;5;28;01mfor\u001b[39;00m a \u001b[38;5;129;01min\u001b[39;00m artists:\n\u001b[0;32m--> 131\u001b[0m         \u001b[43ma\u001b[49m\u001b[38;5;241;43m.\u001b[39;49m\u001b[43mdraw\u001b[49m\u001b[43m(\u001b[49m\u001b[43mrenderer\u001b[49m\u001b[43m)\u001b[49m\n\u001b[1;32m    132\u001b[0m \u001b[38;5;28;01melse\u001b[39;00m:\n\u001b[1;32m    133\u001b[0m     \u001b[38;5;66;03m# Composite any adjacent images together\u001b[39;00m\n\u001b[1;32m    134\u001b[0m     image_group \u001b[38;5;241m=\u001b[39m []\n",
      "File \u001b[0;32m/data/zy/anaconda3/envs/machine/lib/python3.10/site-packages/matplotlib/artist.py:72\u001b[0m, in \u001b[0;36mallow_rasterization.<locals>.draw_wrapper\u001b[0;34m(artist, renderer)\u001b[0m\n\u001b[1;32m     69\u001b[0m     \u001b[38;5;28;01mif\u001b[39;00m artist\u001b[38;5;241m.\u001b[39mget_agg_filter() \u001b[38;5;129;01mis\u001b[39;00m \u001b[38;5;129;01mnot\u001b[39;00m \u001b[38;5;28;01mNone\u001b[39;00m:\n\u001b[1;32m     70\u001b[0m         renderer\u001b[38;5;241m.\u001b[39mstart_filter()\n\u001b[0;32m---> 72\u001b[0m     \u001b[38;5;28;01mreturn\u001b[39;00m \u001b[43mdraw\u001b[49m\u001b[43m(\u001b[49m\u001b[43martist\u001b[49m\u001b[43m,\u001b[49m\u001b[43m \u001b[49m\u001b[43mrenderer\u001b[49m\u001b[43m)\u001b[49m\n\u001b[1;32m     73\u001b[0m \u001b[38;5;28;01mfinally\u001b[39;00m:\n\u001b[1;32m     74\u001b[0m     \u001b[38;5;28;01mif\u001b[39;00m artist\u001b[38;5;241m.\u001b[39mget_agg_filter() \u001b[38;5;129;01mis\u001b[39;00m \u001b[38;5;129;01mnot\u001b[39;00m \u001b[38;5;28;01mNone\u001b[39;00m:\n",
      "File \u001b[0;32m/data/zy/anaconda3/envs/machine/lib/python3.10/site-packages/matplotlib/axes/_base.py:3064\u001b[0m, in \u001b[0;36m_AxesBase.draw\u001b[0;34m(self, renderer)\u001b[0m\n\u001b[1;32m   3061\u001b[0m \u001b[38;5;28;01mif\u001b[39;00m artists_rasterized:\n\u001b[1;32m   3062\u001b[0m     _draw_rasterized(\u001b[38;5;28mself\u001b[39m\u001b[38;5;241m.\u001b[39mfigure, artists_rasterized, renderer)\n\u001b[0;32m-> 3064\u001b[0m \u001b[43mmimage\u001b[49m\u001b[38;5;241;43m.\u001b[39;49m\u001b[43m_draw_list_compositing_images\u001b[49m\u001b[43m(\u001b[49m\n\u001b[1;32m   3065\u001b[0m \u001b[43m    \u001b[49m\u001b[43mrenderer\u001b[49m\u001b[43m,\u001b[49m\u001b[43m \u001b[49m\u001b[38;5;28;43mself\u001b[39;49m\u001b[43m,\u001b[49m\u001b[43m \u001b[49m\u001b[43martists\u001b[49m\u001b[43m,\u001b[49m\u001b[43m \u001b[49m\u001b[38;5;28;43mself\u001b[39;49m\u001b[38;5;241;43m.\u001b[39;49m\u001b[43mfigure\u001b[49m\u001b[38;5;241;43m.\u001b[39;49m\u001b[43msuppressComposite\u001b[49m\u001b[43m)\u001b[49m\n\u001b[1;32m   3067\u001b[0m renderer\u001b[38;5;241m.\u001b[39mclose_group(\u001b[38;5;124m'\u001b[39m\u001b[38;5;124maxes\u001b[39m\u001b[38;5;124m'\u001b[39m)\n\u001b[1;32m   3068\u001b[0m \u001b[38;5;28mself\u001b[39m\u001b[38;5;241m.\u001b[39mstale \u001b[38;5;241m=\u001b[39m \u001b[38;5;28;01mFalse\u001b[39;00m\n",
      "File \u001b[0;32m/data/zy/anaconda3/envs/machine/lib/python3.10/site-packages/matplotlib/image.py:131\u001b[0m, in \u001b[0;36m_draw_list_compositing_images\u001b[0;34m(renderer, parent, artists, suppress_composite)\u001b[0m\n\u001b[1;32m    129\u001b[0m \u001b[38;5;28;01mif\u001b[39;00m not_composite \u001b[38;5;129;01mor\u001b[39;00m \u001b[38;5;129;01mnot\u001b[39;00m has_images:\n\u001b[1;32m    130\u001b[0m     \u001b[38;5;28;01mfor\u001b[39;00m a \u001b[38;5;129;01min\u001b[39;00m artists:\n\u001b[0;32m--> 131\u001b[0m         \u001b[43ma\u001b[49m\u001b[38;5;241;43m.\u001b[39;49m\u001b[43mdraw\u001b[49m\u001b[43m(\u001b[49m\u001b[43mrenderer\u001b[49m\u001b[43m)\u001b[49m\n\u001b[1;32m    132\u001b[0m \u001b[38;5;28;01melse\u001b[39;00m:\n\u001b[1;32m    133\u001b[0m     \u001b[38;5;66;03m# Composite any adjacent images together\u001b[39;00m\n\u001b[1;32m    134\u001b[0m     image_group \u001b[38;5;241m=\u001b[39m []\n",
      "File \u001b[0;32m/data/zy/anaconda3/envs/machine/lib/python3.10/site-packages/matplotlib/artist.py:72\u001b[0m, in \u001b[0;36mallow_rasterization.<locals>.draw_wrapper\u001b[0;34m(artist, renderer)\u001b[0m\n\u001b[1;32m     69\u001b[0m     \u001b[38;5;28;01mif\u001b[39;00m artist\u001b[38;5;241m.\u001b[39mget_agg_filter() \u001b[38;5;129;01mis\u001b[39;00m \u001b[38;5;129;01mnot\u001b[39;00m \u001b[38;5;28;01mNone\u001b[39;00m:\n\u001b[1;32m     70\u001b[0m         renderer\u001b[38;5;241m.\u001b[39mstart_filter()\n\u001b[0;32m---> 72\u001b[0m     \u001b[38;5;28;01mreturn\u001b[39;00m \u001b[43mdraw\u001b[49m\u001b[43m(\u001b[49m\u001b[43martist\u001b[49m\u001b[43m,\u001b[49m\u001b[43m \u001b[49m\u001b[43mrenderer\u001b[49m\u001b[43m)\u001b[49m\n\u001b[1;32m     73\u001b[0m \u001b[38;5;28;01mfinally\u001b[39;00m:\n\u001b[1;32m     74\u001b[0m     \u001b[38;5;28;01mif\u001b[39;00m artist\u001b[38;5;241m.\u001b[39mget_agg_filter() \u001b[38;5;129;01mis\u001b[39;00m \u001b[38;5;129;01mnot\u001b[39;00m \u001b[38;5;28;01mNone\u001b[39;00m:\n",
      "File \u001b[0;32m/data/zy/anaconda3/envs/machine/lib/python3.10/site-packages/matplotlib/collections.py:972\u001b[0m, in \u001b[0;36m_CollectionWithSizes.draw\u001b[0;34m(self, renderer)\u001b[0m\n\u001b[1;32m    969\u001b[0m \u001b[38;5;129m@artist\u001b[39m\u001b[38;5;241m.\u001b[39mallow_rasterization\n\u001b[1;32m    970\u001b[0m \u001b[38;5;28;01mdef\u001b[39;00m \u001b[38;5;21mdraw\u001b[39m(\u001b[38;5;28mself\u001b[39m, renderer):\n\u001b[1;32m    971\u001b[0m     \u001b[38;5;28mself\u001b[39m\u001b[38;5;241m.\u001b[39mset_sizes(\u001b[38;5;28mself\u001b[39m\u001b[38;5;241m.\u001b[39m_sizes, \u001b[38;5;28mself\u001b[39m\u001b[38;5;241m.\u001b[39mfigure\u001b[38;5;241m.\u001b[39mdpi)\n\u001b[0;32m--> 972\u001b[0m     \u001b[38;5;28;43msuper\u001b[39;49m\u001b[43m(\u001b[49m\u001b[43m)\u001b[49m\u001b[38;5;241;43m.\u001b[39;49m\u001b[43mdraw\u001b[49m\u001b[43m(\u001b[49m\u001b[43mrenderer\u001b[49m\u001b[43m)\u001b[49m\n",
      "File \u001b[0;32m/data/zy/anaconda3/envs/machine/lib/python3.10/site-packages/matplotlib/artist.py:72\u001b[0m, in \u001b[0;36mallow_rasterization.<locals>.draw_wrapper\u001b[0;34m(artist, renderer)\u001b[0m\n\u001b[1;32m     69\u001b[0m     \u001b[38;5;28;01mif\u001b[39;00m artist\u001b[38;5;241m.\u001b[39mget_agg_filter() \u001b[38;5;129;01mis\u001b[39;00m \u001b[38;5;129;01mnot\u001b[39;00m \u001b[38;5;28;01mNone\u001b[39;00m:\n\u001b[1;32m     70\u001b[0m         renderer\u001b[38;5;241m.\u001b[39mstart_filter()\n\u001b[0;32m---> 72\u001b[0m     \u001b[38;5;28;01mreturn\u001b[39;00m \u001b[43mdraw\u001b[49m\u001b[43m(\u001b[49m\u001b[43martist\u001b[49m\u001b[43m,\u001b[49m\u001b[43m \u001b[49m\u001b[43mrenderer\u001b[49m\u001b[43m)\u001b[49m\n\u001b[1;32m     73\u001b[0m \u001b[38;5;28;01mfinally\u001b[39;00m:\n\u001b[1;32m     74\u001b[0m     \u001b[38;5;28;01mif\u001b[39;00m artist\u001b[38;5;241m.\u001b[39mget_agg_filter() \u001b[38;5;129;01mis\u001b[39;00m \u001b[38;5;129;01mnot\u001b[39;00m \u001b[38;5;28;01mNone\u001b[39;00m:\n",
      "File \u001b[0;32m/data/zy/anaconda3/envs/machine/lib/python3.10/site-packages/matplotlib/collections.py:388\u001b[0m, in \u001b[0;36mCollection.draw\u001b[0;34m(self, renderer)\u001b[0m\n\u001b[1;32m    386\u001b[0m \u001b[38;5;28;01melse\u001b[39;00m:\n\u001b[1;32m    387\u001b[0m     combined_transform \u001b[38;5;241m=\u001b[39m transform\n\u001b[0;32m--> 388\u001b[0m extents \u001b[38;5;241m=\u001b[39m \u001b[43mpaths\u001b[49m\u001b[43m[\u001b[49m\u001b[38;5;241;43m0\u001b[39;49m\u001b[43m]\u001b[49m\u001b[38;5;241;43m.\u001b[39;49m\u001b[43mget_extents\u001b[49m\u001b[43m(\u001b[49m\u001b[43mcombined_transform\u001b[49m\u001b[43m)\u001b[49m\n\u001b[1;32m    389\u001b[0m \u001b[38;5;28;01mif\u001b[39;00m (extents\u001b[38;5;241m.\u001b[39mwidth \u001b[38;5;241m<\u001b[39m \u001b[38;5;28mself\u001b[39m\u001b[38;5;241m.\u001b[39mfigure\u001b[38;5;241m.\u001b[39mbbox\u001b[38;5;241m.\u001b[39mwidth\n\u001b[1;32m    390\u001b[0m         \u001b[38;5;129;01mand\u001b[39;00m extents\u001b[38;5;241m.\u001b[39mheight \u001b[38;5;241m<\u001b[39m \u001b[38;5;28mself\u001b[39m\u001b[38;5;241m.\u001b[39mfigure\u001b[38;5;241m.\u001b[39mbbox\u001b[38;5;241m.\u001b[39mheight):\n\u001b[1;32m    391\u001b[0m     do_single_path_optimization \u001b[38;5;241m=\u001b[39m \u001b[38;5;28;01mTrue\u001b[39;00m\n",
      "File \u001b[0;32m/data/zy/anaconda3/envs/machine/lib/python3.10/site-packages/matplotlib/path.py:633\u001b[0m, in \u001b[0;36mPath.get_extents\u001b[0;34m(self, transform, **kwargs)\u001b[0m\n\u001b[1;32m    631\u001b[0m \u001b[38;5;28;01melse\u001b[39;00m:\n\u001b[1;32m    632\u001b[0m     xys \u001b[38;5;241m=\u001b[39m []\n\u001b[0;32m--> 633\u001b[0m     \u001b[38;5;28;01mfor\u001b[39;00m curve, code \u001b[38;5;129;01min\u001b[39;00m \u001b[38;5;28mself\u001b[39m\u001b[38;5;241m.\u001b[39miter_bezier(\u001b[38;5;241m*\u001b[39m\u001b[38;5;241m*\u001b[39mkwargs):\n\u001b[1;32m    634\u001b[0m         \u001b[38;5;66;03m# places where the derivative is zero can be extrema\u001b[39;00m\n\u001b[1;32m    635\u001b[0m         _, dzeros \u001b[38;5;241m=\u001b[39m curve\u001b[38;5;241m.\u001b[39maxis_aligned_extrema()\n\u001b[1;32m    636\u001b[0m         \u001b[38;5;66;03m# as can the ends of the curve\u001b[39;00m\n",
      "File \u001b[0;32m/data/zy/anaconda3/envs/machine/lib/python3.10/site-packages/matplotlib/path.py:443\u001b[0m, in \u001b[0;36mPath.iter_bezier\u001b[0;34m(self, **kwargs)\u001b[0m\n\u001b[1;32m    441\u001b[0m first_vert \u001b[38;5;241m=\u001b[39m \u001b[38;5;28;01mNone\u001b[39;00m\n\u001b[1;32m    442\u001b[0m prev_vert \u001b[38;5;241m=\u001b[39m \u001b[38;5;28;01mNone\u001b[39;00m\n\u001b[0;32m--> 443\u001b[0m \u001b[38;5;28;01mfor\u001b[39;00m verts, code \u001b[38;5;129;01min\u001b[39;00m \u001b[38;5;28mself\u001b[39m\u001b[38;5;241m.\u001b[39miter_segments(\u001b[38;5;241m*\u001b[39m\u001b[38;5;241m*\u001b[39mkwargs):\n\u001b[1;32m    444\u001b[0m     \u001b[38;5;28;01mif\u001b[39;00m first_vert \u001b[38;5;129;01mis\u001b[39;00m \u001b[38;5;28;01mNone\u001b[39;00m:\n\u001b[1;32m    445\u001b[0m         \u001b[38;5;28;01mif\u001b[39;00m code \u001b[38;5;241m!=\u001b[39m Path\u001b[38;5;241m.\u001b[39mMOVETO:\n",
      "File \u001b[0;32m/data/zy/anaconda3/envs/machine/lib/python3.10/site-packages/matplotlib/path.py:410\u001b[0m, in \u001b[0;36mPath.iter_segments\u001b[0;34m(self, transform, remove_nans, clip, snap, stroke_width, simplify, curves, sketch)\u001b[0m\n\u001b[1;32m    408\u001b[0m codes \u001b[38;5;241m=\u001b[39m \u001b[38;5;28miter\u001b[39m(cleaned\u001b[38;5;241m.\u001b[39mcodes)\n\u001b[1;32m    409\u001b[0m \u001b[38;5;28;01mfor\u001b[39;00m curr_vertices, code \u001b[38;5;129;01min\u001b[39;00m \u001b[38;5;28mzip\u001b[39m(vertices, codes):\n\u001b[0;32m--> 410\u001b[0m     \u001b[38;5;28;01mif\u001b[39;00m \u001b[43mcode\u001b[49m\u001b[43m \u001b[49m\u001b[38;5;241;43m==\u001b[39;49m\u001b[43m \u001b[49m\u001b[43mSTOP\u001b[49m:\n\u001b[1;32m    411\u001b[0m         \u001b[38;5;28;01mbreak\u001b[39;00m\n\u001b[1;32m    412\u001b[0m     extra_vertices \u001b[38;5;241m=\u001b[39m NUM_VERTICES_FOR_CODE[code] \u001b[38;5;241m-\u001b[39m \u001b[38;5;241m1\u001b[39m\n",
      "\u001b[0;31mTypeError\u001b[0m: can only be called with ndarray object"
     ]
    },
    {
     "data": {
      "text/plain": [
       "<Figure size 1200x1200 with 1 Axes>"
      ]
     },
     "metadata": {},
     "output_type": "display_data"
    }
   ],
   "source": [
    "import matplotlib.pyplot as plt\n",
    "\n",
    "# 设置图的布局\n",
    "plt.figure(figsize=(12, 12))\n",
    "\n",
    "# 绘制加权图，边的宽度表示航班频数\n",
    "pos = nx.spring_layout(G, k=0.5)  # 使用 spring 布局来可视化图\n",
    "edges = G.edges(data=True)\n",
    "\n",
    "# 绘制节点\n",
    "nx.draw_networkx_nodes(G, pos, node_size=100, node_color='lightblue')\n",
    "\n",
    "# 绘制边，边的宽度表示航班频数（weight）\n",
    "nx.draw_networkx_edges(G, pos, width=[d['weight'] / 1000 for u, v, d in edges], alpha=0.5)\n",
    "\n",
    "# 绘制节点标签\n",
    "nx.draw_networkx_labels(G, pos, font_size=10)\n",
    "\n",
    "# 显示图形\n",
    "plt.title(\"加权航班网络图\")\n",
    "plt.axis('off')\n",
    "plt.show()"
   ]
  },
  {
   "cell_type": "markdown",
   "id": "e35566f4",
   "metadata": {},
   "source": [
    "## 创建并训练 DeepWalk 模型"
   ]
  },
  {
   "cell_type": "code",
   "execution_count": null,
   "id": "41ac0f02-e55c-44ad-b659-b5cfe4ddaecc",
   "metadata": {
    "ExecuteTime": {
     "end_time": "2025-10-20T03:37:00.388765Z",
     "start_time": "2025-10-20T03:37:00.388751Z"
    },
    "execution": {
     "iopub.execute_input": "2025-06-21T08:10:59.697447Z",
     "iopub.status.busy": "2025-06-21T08:10:59.696528Z",
     "iopub.status.idle": "2025-06-21T08:10:59.702241Z",
     "shell.execute_reply": "2025-06-21T08:10:59.701227Z",
     "shell.execute_reply.started": "2025-06-21T08:10:59.697393Z"
    }
   },
   "outputs": [],
   "source": [
    "import numpy\n",
    "print(numpy.__version__)"
   ]
  },
  {
   "cell_type": "code",
   "execution_count": null,
   "id": "505f2193",
   "metadata": {
    "ExecuteTime": {
     "end_time": "2025-10-20T03:37:00.389782Z",
     "start_time": "2025-10-20T03:37:00.389770Z"
    },
    "execution": {
     "iopub.execute_input": "2025-06-21T08:10:59.704464Z",
     "iopub.status.busy": "2025-06-21T08:10:59.703483Z",
     "iopub.status.idle": "2025-06-21T08:10:59.942488Z",
     "shell.execute_reply": "2025-06-21T08:10:59.941469Z",
     "shell.execute_reply.started": "2025-06-21T08:10:59.704431Z"
    }
   },
   "outputs": [],
   "source": [
    "import networkx as nx\n",
    "from node2vec import Node2Vec"
   ]
  },
  {
   "cell_type": "markdown",
   "id": "ede57870",
   "metadata": {},
   "source": [
    "1. 加载图并准备数据"
   ]
  },
  {
   "cell_type": "code",
   "execution_count": null,
   "id": "1f3fd562",
   "metadata": {
    "ExecuteTime": {
     "end_time": "2025-10-20T03:37:00.390786Z",
     "start_time": "2025-10-20T03:37:00.390774Z"
    },
    "execution": {
     "iopub.execute_input": "2025-06-21T08:10:59.944552Z",
     "iopub.status.busy": "2025-06-21T08:10:59.944158Z",
     "iopub.status.idle": "2025-06-21T08:16:30.640902Z",
     "shell.execute_reply": "2025-06-21T08:16:30.639746Z",
     "shell.execute_reply.started": "2025-06-21T08:10:59.944520Z"
    }
   },
   "outputs": [],
   "source": [
    "node2vec = Node2Vec(G, \n",
    "                   dimensions=64, \n",
    "                   walk_length=3, \n",
    "                   num_walks=2000, \n",
    "                   workers=4,\n",
    "                   weight_key='weight')\n",
    "\n",
    "model = node2vec.fit(window=3, \n",
    "                    min_count=1, \n",
    "                    batch_words=64)"
   ]
  },
  {
   "cell_type": "markdown",
   "id": "3304d828",
   "metadata": {},
   "source": [
    "2. 获取节点的嵌入向量"
   ]
  },
  {
   "cell_type": "code",
   "execution_count": null,
   "id": "2b3886de",
   "metadata": {
    "ExecuteTime": {
     "end_time": "2025-10-20T03:37:00.391523Z",
     "start_time": "2025-10-20T03:37:00.391511Z"
    },
    "execution": {
     "iopub.execute_input": "2025-06-21T08:16:30.643279Z",
     "iopub.status.busy": "2025-06-21T08:16:30.642373Z",
     "iopub.status.idle": "2025-06-21T08:16:30.650598Z",
     "shell.execute_reply": "2025-06-21T08:16:30.649706Z",
     "shell.execute_reply.started": "2025-06-21T08:16:30.643230Z"
    }
   },
   "outputs": [],
   "source": [
    "# 获取城市嵌入表示\n",
    "city_embeddings = {}\n",
    "for city in G.nodes():\n",
    "    city_embeddings[city] = model.wv[city]  # 从模型中提取城市嵌入\n",
    "\n",
    "# 打印第一个城市的嵌入表示\n",
    "print(city_embeddings[list(G.nodes())[0]])"
   ]
  },
  {
   "cell_type": "markdown",
   "id": "ba387cbc",
   "metadata": {
    "ExecuteTime": {
     "end_time": "2024-12-24T06:14:17.969617Z",
     "start_time": "2024-12-24T06:14:17.907551Z"
    }
   },
   "source": [
    "city_embeddings是一个字典"
   ]
  },
  {
   "cell_type": "markdown",
   "id": "1a46b91b",
   "metadata": {},
   "source": [
    "## 进行聚类"
   ]
  },
  {
   "cell_type": "markdown",
   "id": "baa9efc1",
   "metadata": {},
   "source": [
    "步骤 3：使用嵌入向量进行下游任务（例如聚类）"
   ]
  },
  {
   "cell_type": "code",
   "execution_count": null,
   "id": "55c1c459",
   "metadata": {
    "ExecuteTime": {
     "end_time": "2025-10-20T03:37:00.392821Z",
     "start_time": "2025-10-20T03:37:00.392808Z"
    },
    "execution": {
     "iopub.execute_input": "2025-06-21T08:16:30.652331Z",
     "iopub.status.busy": "2025-06-21T08:16:30.652030Z",
     "iopub.status.idle": "2025-06-21T08:16:31.293937Z",
     "shell.execute_reply": "2025-06-21T08:16:31.292029Z",
     "shell.execute_reply.started": "2025-06-21T08:16:30.652303Z"
    },
    "scrolled": true
   },
   "outputs": [],
   "source": [
    "from sklearn.cluster import KMeans\n",
    "import numpy as np\n",
    "\n",
    "# 提取嵌入向量\n",
    "embeddings = np.array([city_embeddings[city] for city in G.nodes()])\n",
    "\n",
    "# 使用 KMeans 聚类\n",
    "kmeans = KMeans(n_clusters=3, random_state=42)  # 设置簇的数量为3\n",
    "kmeans.fit(embeddings)\n",
    "\n",
    "# 查看每个城市的聚类标签\n",
    "city_labels = dict(zip(G.nodes(), kmeans.labels_))\n",
    "\n",
    "# 打印城市及其对应的聚类标签\n",
    "for city, label in city_labels.items():\n",
    "    print(f\"城市: {city}, 聚类标签: {label}\")\n"
   ]
  },
  {
   "cell_type": "markdown",
   "id": "793222d0",
   "metadata": {},
   "source": [
    "### 保存聚类标签"
   ]
  },
  {
   "cell_type": "code",
   "execution_count": null,
   "id": "9bc75757",
   "metadata": {
    "ExecuteTime": {
     "end_time": "2025-10-20T03:37:00.393980Z",
     "start_time": "2025-10-20T03:37:00.393967Z"
    },
    "execution": {
     "iopub.execute_input": "2025-06-21T08:16:31.295534Z",
     "iopub.status.busy": "2025-06-21T08:16:31.294921Z",
     "iopub.status.idle": "2025-06-21T08:16:31.315740Z",
     "shell.execute_reply": "2025-06-21T08:16:31.314847Z",
     "shell.execute_reply.started": "2025-06-21T08:16:31.295487Z"
    }
   },
   "outputs": [],
   "source": [
    "# 首先导入 json 模块\n",
    "import json\n",
    "print(city_labels)\n",
    "\n",
    "# 将字典中的所有值转换为 Python 的原生 int 类型\n",
    "city_labels = {key: int(value) for key, value in city_labels.items()}\n",
    "\n",
    "# 保存字典到 JSON 文件\n",
    "with open('data_hh/result/encoder/city_labels_航班频率加权图标签.json', 'w') as file:\n",
    "    json.dump(city_labels, file)\n",
    "\n",
    "print(\"字典已保存为 city_labels.json\")"
   ]
  },
  {
   "cell_type": "markdown",
   "id": "118c7226",
   "metadata": {},
   "source": [
    "## 二维空间聚类效果展示"
   ]
  },
  {
   "cell_type": "markdown",
   "id": "1875be54",
   "metadata": {},
   "source": [
    "步骤 4：可视化嵌入"
   ]
  },
  {
   "cell_type": "code",
   "execution_count": null,
   "id": "6c460d42",
   "metadata": {
    "ExecuteTime": {
     "end_time": "2025-10-20T03:37:00.394854Z",
     "start_time": "2025-10-20T03:37:00.394841Z"
    },
    "execution": {
     "iopub.execute_input": "2025-06-21T08:16:31.317248Z",
     "iopub.status.busy": "2025-06-21T08:16:31.316849Z",
     "iopub.status.idle": "2025-06-21T08:16:31.667332Z",
     "shell.execute_reply": "2025-06-21T08:16:31.666304Z",
     "shell.execute_reply.started": "2025-06-21T08:16:31.317209Z"
    }
   },
   "outputs": [],
   "source": [
    "from sklearn.decomposition import PCA\n",
    "import matplotlib.pyplot as plt\n",
    "\n",
    "# 使用 PCA 降维到 2D\n",
    "pca = PCA(n_components=2)\n",
    "reduced_embeddings = pca.fit_transform(embeddings)\n",
    "\n",
    "# 绘制散点图\n",
    "plt.figure(figsize=(12, 8))\n",
    "plt.scatter(reduced_embeddings[:, 0], reduced_embeddings[:, 1], c=kmeans.labels_, cmap='viridis')\n",
    "\n",
    "# 去掉为每个城市添加标签的部分\n",
    "# for i, city in enumerate(G.nodes()):\n",
    "#     plt.text(reduced_embeddings[i, 0] + 0.1, reduced_embeddings[i, 1] + 0.1, city, fontsize=9)\n",
    "\n",
    "plt.title(\"DeepWalk - City Embeddings (2D PCA visualization)\")\n",
    "plt.xlabel(\"PCA Component 1\")\n",
    "plt.ylabel(\"PCA Component 2\")\n",
    "plt.grid(True)\n",
    "plt.show()\n"
   ]
  },
  {
   "cell_type": "code",
   "execution_count": null,
   "id": "a68c129d",
   "metadata": {
    "ExecuteTime": {
     "end_time": "2025-10-20T03:37:00.395610Z",
     "start_time": "2025-10-20T03:37:00.395599Z"
    },
    "execution": {
     "iopub.execute_input": "2025-06-21T08:16:31.668944Z",
     "iopub.status.busy": "2025-06-21T08:16:31.668507Z",
     "iopub.status.idle": "2025-06-21T08:16:31.681079Z",
     "shell.execute_reply": "2025-06-21T08:16:31.679449Z",
     "shell.execute_reply.started": "2025-06-21T08:16:31.668912Z"
    }
   },
   "outputs": [],
   "source": [
    "from sklearn.metrics.pairwise import cosine_similarity\n",
    "\n",
    "# 计算城市之间的相似度\n",
    "similarity_matrix = cosine_similarity(embeddings)\n",
    "\n",
    "# 打印第一个城市和其他城市的相似度\n",
    "for i, city in enumerate(G.nodes()):\n",
    "    print(f\"城市: {city}, 相似度: {similarity_matrix[0, i]}\")"
   ]
  },
  {
   "cell_type": "markdown",
   "id": "db2fe6c0",
   "metadata": {},
   "source": [
    "轮廓系数是评估聚类质量的常用指标，范围是 -1 到 1，值越大表示聚类效果越好。它同时考虑了簇内紧密度（每个点与所在簇中其他点的距离）和簇间分离度（每个点与最近簇的距离）。\n",
    "\n",
    "值的意义：\n",
    "\n",
    "值接近 +1：说明数据点与同簇内的点很接近，且与其他簇的点有很大区别，聚类效果好。\n",
    "\n",
    "值接近 0：表示数据点可能位于两个簇的边界上，聚类效果一般。\n",
    "\n",
    "值接近 -1：表示数据点可能被错误地归类到某个簇中，聚类效果差。"
   ]
  },
  {
   "cell_type": "code",
   "execution_count": null,
   "id": "32820a47",
   "metadata": {
    "ExecuteTime": {
     "end_time": "2025-10-20T03:37:00.396638Z",
     "start_time": "2025-10-20T03:37:00.396626Z"
    },
    "execution": {
     "iopub.execute_input": "2025-06-21T08:16:31.682482Z",
     "iopub.status.busy": "2025-06-21T08:16:31.682143Z",
     "iopub.status.idle": "2025-06-21T08:16:31.694872Z",
     "shell.execute_reply": "2025-06-21T08:16:31.693630Z",
     "shell.execute_reply.started": "2025-06-21T08:16:31.682450Z"
    }
   },
   "outputs": [],
   "source": [
    "from sklearn.metrics import silhouette_score\n",
    "score = silhouette_score(reduced_embeddings, kmeans.labels_)\n",
    "print(f'Silhouette Score: {score}')"
   ]
  },
  {
   "cell_type": "markdown",
   "id": "231f0c98",
   "metadata": {},
   "source": [
    "## 保存嵌入表示"
   ]
  },
  {
   "cell_type": "code",
   "execution_count": null,
   "id": "c3e51032",
   "metadata": {
    "ExecuteTime": {
     "end_time": "2025-10-20T03:37:00.397968Z",
     "start_time": "2025-10-20T03:37:00.397955Z"
    },
    "execution": {
     "iopub.execute_input": "2025-06-21T08:16:31.697194Z",
     "iopub.status.busy": "2025-06-21T08:16:31.696152Z",
     "iopub.status.idle": "2025-06-21T08:16:31.707457Z",
     "shell.execute_reply": "2025-06-21T08:16:31.705835Z",
     "shell.execute_reply.started": "2025-06-21T08:16:31.697163Z"
    }
   },
   "outputs": [],
   "source": [
    "import numpy as np\n",
    "import json\n",
    "\n",
    "# 获取城市列表\n",
    "cities = list(city_embeddings.keys())\n",
    "\n",
    "# 将降维后的嵌入表示转换为列表格式\n",
    "reduced_embeddings_list = reduced_embeddings.tolist()\n",
    "\n",
    "# 保存城市和其对应的嵌入（将 NumPy 数组转换为列表）\n",
    "city_embedding_dict = {city: reduced_embeddings[i].tolist() for i, city in enumerate(cities)}\n",
    "\n",
    "# 将 city_embedding_dict 保存为 JSON 文件\n",
    "with open('data_hh/result/encoder/城市嵌入编码_航班频率加权图.json', 'w') as f:\n",
    "    json.dump(city_embedding_dict, f)\n",
    "\n",
    "print(\"城市嵌入表示已保存。\")"
   ]
  },
  {
   "cell_type": "code",
   "execution_count": null,
   "id": "ab94b477",
   "metadata": {
    "ExecuteTime": {
     "end_time": "2025-10-20T03:37:00.398727Z",
     "start_time": "2025-10-20T03:37:00.398715Z"
    },
    "execution": {
     "iopub.execute_input": "2025-06-21T08:16:31.708621Z",
     "iopub.status.busy": "2025-06-21T08:16:31.708294Z",
     "iopub.status.idle": "2025-06-21T08:16:31.729747Z",
     "shell.execute_reply": "2025-06-21T08:16:31.728223Z",
     "shell.execute_reply.started": "2025-06-21T08:16:31.708591Z"
    }
   },
   "outputs": [],
   "source": [
    "city_embedding_dict"
   ]
  }
 ],
 "metadata": {
  "kernelspec": {
   "display_name": "Python 3 (ipykernel)",
   "language": "python",
   "name": "python3"
  },
  "language_info": {
   "codemirror_mode": {
    "name": "ipython",
    "version": 3
   },
   "file_extension": ".py",
   "mimetype": "text/x-python",
   "name": "python",
   "nbconvert_exporter": "python",
   "pygments_lexer": "ipython3",
   "version": "3.10.18"
  },
  "toc": {
   "base_numbering": 1,
   "nav_menu": {},
   "number_sections": true,
   "sideBar": true,
   "skip_h1_title": false,
   "title_cell": "Table of Contents",
   "title_sidebar": "Contents",
   "toc_cell": false,
   "toc_position": {
    "height": "calc(100% - 180px)",
    "left": "10px",
    "top": "150px",
    "width": "349.062px"
   },
   "toc_section_display": true,
   "toc_window_display": true
  },
  "varInspector": {
   "cols": {
    "lenName": 16,
    "lenType": 16,
    "lenVar": 40
   },
   "kernels_config": {
    "python": {
     "delete_cmd_postfix": "",
     "delete_cmd_prefix": "del ",
     "library": "var_list.py",
     "varRefreshCmd": "print(var_dic_list())"
    },
    "r": {
     "delete_cmd_postfix": ") ",
     "delete_cmd_prefix": "rm(",
     "library": "var_list.r",
     "varRefreshCmd": "cat(var_dic_list()) "
    }
   },
   "types_to_exclude": [
    "module",
    "function",
    "builtin_function_or_method",
    "instance",
    "_Feature"
   ],
   "window_display": true
  }
 },
 "nbformat": 4,
 "nbformat_minor": 5
}
