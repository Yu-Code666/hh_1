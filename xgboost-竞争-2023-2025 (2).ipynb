{
 "cells": [
  {
   "cell_type": "markdown",
   "id": "dd53eacf",
   "metadata": {},
   "source": [
    "这里说频率是指一个机场航班出现的频率"
   ]
  },
  {
   "cell_type": "markdown",
   "id": "6682e039",
   "metadata": {},
   "source": [
    "## 加载数据"
   ]
  },
  {
   "cell_type": "markdown",
   "id": "4ba85eca",
   "metadata": {},
   "source": [
    "数据已经预处理过了"
   ]
  },
  {
   "cell_type": "code",
   "execution_count": 1,
   "id": "67758591",
   "metadata": {
    "ExecuteTime": {
     "end_time": "2024-12-26T03:24:29.224498Z",
     "start_time": "2024-12-26T03:24:21.643197Z"
    },
    "execution": {
     "iopub.execute_input": "2025-06-22T13:51:05.534226Z",
     "iopub.status.busy": "2025-06-22T13:51:05.533914Z",
     "iopub.status.idle": "2025-06-22T13:51:10.721058Z",
     "shell.execute_reply": "2025-06-22T13:51:10.720006Z",
     "shell.execute_reply.started": "2025-06-22T13:51:05.534192Z"
    }
   },
   "outputs": [
    {
     "name": "stdout",
     "output_type": "stream",
     "text": [
      "(1507927, 20)\n",
      "  flt_no    cap aircraft  legs  leg_no  duration  pax    a    b    c  \\\n",
      "0   7558  110.0      195     1       1      1.30   97  AAT  URC  NaN   \n",
      "1   7470  110.0      195     1       1      1.25   67  ACF  URC  NaN   \n",
      "2   769R   93.0      190     3       3      4.75   22  ACF  TLQ  XIY   \n",
      "3   5248  162.0      320     1       1      1.83   55  AKA  HGH  NaN   \n",
      "4   6250  167.0      320     1       1      3.98  166  AKU  CGO  NaN   \n",
      "\n",
      "    unit_price  competitor_price  year  month  day  weekday  hour  minute  \\\n",
      "0   470.474227        -94.900773  2023      1    1        6    14      35   \n",
      "1   454.925373       -123.872095  2023      1    1        6    22      40   \n",
      "2  1177.818182          0.000000  2023      1    1        6    18       0   \n",
      "3   669.090909          0.000000  2023      1    1        6    12      55   \n",
      "4  1794.783133        -65.028989  2023      1    1        6    13      10   \n",
      "\n",
      "  from   to  \n",
      "0  AAT  URC  \n",
      "1  ACF  URC  \n",
      "2  ACF  XIY  \n",
      "3  AKA  HGH  \n",
      "4  AKU  CGO  \n",
      "        flt_no    cap aircraft  legs  leg_no  duration  pax    a    b    c  \\\n",
      "1507922   7690  154.0      32F     3       3      6.53   34  ZUH  XIY  URC   \n",
      "1507923   7690  154.0      32F     3       1      2.78  113  ZUH  XIY  URC   \n",
      "1507924   8304  167.0      738     1       1      2.48  158  ZUH  XIY  NaN   \n",
      "1507925   7545  155.0      32F     3       2      2.05   74  XIY  ZYI  SYX   \n",
      "1507926   7546  155.0      32F     3       2      1.42  136  SYX  ZYI  XIY   \n",
      "\n",
      "          unit_price  competitor_price  year  month  day  weekday  hour  \\\n",
      "1507922  1812.058824        -62.257843  2025      5   30        4    16   \n",
      "1507923  1002.415929        316.492852  2025      5   30        4    16   \n",
      "1507924   773.158228         87.235151  2025      5   30        4    22   \n",
      "1507925   410.567568        194.567568  2025      5   30        4    10   \n",
      "1507926   483.933824          0.000000  2025      5   30        4    16   \n",
      "\n",
      "         minute from   to  \n",
      "1507922      15  ZUH  URC  \n",
      "1507923      15  ZUH  XIY  \n",
      "1507924      10  ZUH  XIY  \n",
      "1507925      25  ZYI  SYX  \n",
      "1507926      50  ZYI  XIY  \n"
     ]
    }
   ],
   "source": [
    "import pandas as pd\n",
    "\n",
    "# 加载数据\n",
    "data = pd.read_csv('./pre_2023-2025_with_comp_train.csv', dtype={'flt_no': str})\n",
    "\n",
    "# 查看前几行数据，确保加载成功\n",
    "# 显示前两行数据以确保正确加载\n",
    "print(data.shape)\n",
    "print(data.head(5))\n",
    "print(data.tail(5))"
   ]
  },
  {
   "cell_type": "code",
   "execution_count": 2,
   "id": "3c21010a-ed73-426d-ad74-292659c6d09b",
   "metadata": {
    "execution": {
     "iopub.execute_input": "2025-06-22T13:51:10.723027Z",
     "iopub.status.busy": "2025-06-22T13:51:10.722309Z",
     "iopub.status.idle": "2025-06-22T13:51:10.780155Z",
     "shell.execute_reply": "2025-06-22T13:51:10.778896Z",
     "shell.execute_reply.started": "2025-06-22T13:51:10.722992Z"
    }
   },
   "outputs": [
    {
     "name": "stdout",
     "output_type": "stream",
     "text": [
      "\n",
      "标准化后的统计信息：\n",
      "count    1.507927e+06\n",
      "mean     1.213228e+02\n",
      "std      5.255228e+01\n",
      "min      2.000000e+01\n",
      "25%      8.100000e+01\n",
      "50%      1.260000e+02\n",
      "75%      1.590000e+02\n",
      "max      3.110000e+02\n",
      "Name: pax, dtype: float64\n"
     ]
    }
   ],
   "source": [
    "# 检查标准化后的统计信息\n",
    "print(\"\\n标准化后的统计信息：\")\n",
    "print(data['pax'].describe())"
   ]
  },
  {
   "cell_type": "markdown",
   "id": "3070bc17",
   "metadata": {},
   "source": [
    "## 编码分类变量"
   ]
  },
  {
   "cell_type": "markdown",
   "id": "4e85031f",
   "metadata": {},
   "source": [
    "### 新增城市标签"
   ]
  },
  {
   "cell_type": "code",
   "execution_count": 3,
   "id": "1f70a5b1",
   "metadata": {
    "ExecuteTime": {
     "end_time": "2024-12-26T03:24:29.227809Z",
     "start_time": "2024-12-26T03:24:29.225585Z"
    },
    "execution": {
     "iopub.execute_input": "2025-06-22T13:51:10.783451Z",
     "iopub.status.busy": "2025-06-22T13:51:10.783076Z",
     "iopub.status.idle": "2025-06-22T13:51:10.790623Z",
     "shell.execute_reply": "2025-06-22T13:51:10.789386Z",
     "shell.execute_reply.started": "2025-06-22T13:51:10.783390Z"
    }
   },
   "outputs": [
    {
     "name": "stdout",
     "output_type": "stream",
     "text": [
      "加载的字典： {'AAT': 1, 'CKG': 2, 'PEK': 0, 'TCG': 1, 'URC': 2, 'XIY': 2, 'YIN': 1, 'ACF': 1, 'HMI': 2, 'SHF': 1, 'TLQ': 1, 'ACX': 1, 'CGO': 2, 'KMG': 2, 'AEB': 1, 'CAN': 2, 'HGH': 2, 'KWL': 2, 'TFU': 2, 'AKA': 1, 'CSX': 2, 'HAK': 2, 'TSN': 2, 'UYN': 2, 'AKU': 1, 'FOC': 2, 'HTN': 1, 'AOG': 2, 'TNA': 2, 'AQG': 2, 'KWE': 2, 'NGB': 2, 'TAO': 2, 'XMN': 2, 'AVA': 2, 'LLB': 2, 'BAR': 0, 'HRB': 2, 'JMJ': 1, 'KHN': 2, 'LHW': 2, 'NNG': 2, 'SJW': 2, 'SZX': 2, 'BAV': 2, 'HLD': 2, 'TGO': 2, 'XIL': 2, 'BFJ': 2, 'BHY': 2, 'HET': 2, 'HFE': 2, 'HNY': 2, 'JNG': 2, 'NAO': 1, 'WUH': 2, 'XUZ': 2, 'YIH': 2, 'BPE': 1, 'BPL': 1, 'BPX': 1, 'BSD': 1, 'BZX': 2, 'JJN': 2, 'LJG': 2, 'NKG': 2, 'CGQ': 2, 'DLC': 2, 'DOY': 0, 'HDG': 2, 'HSN': 2, 'HZG': 1, 'INC': 2, 'JIQ': 0, 'PKX': 2, 'PVG': 2, 'SHA': 0, 'SHE': 2, 'SQJ': 2, 'SYX': 2, 'TEN': 2, 'TYN': 2, 'WEF': 2, 'WUA': 2, 'YIC': 2, 'ZQZ': 2, 'CGD': 2, 'JHG': 2, 'CIF': 2, 'DLU': 1, 'DXJ': 1, 'ENH': 2, 'GOQ': 1, 'HUZ': 2, 'JGS': 1, 'JNZ': 1, 'KCA': 1, 'KHG': 1, 'KOW': 2, 'KRL': 2, 'LXA': 1, 'LZH': 2, 'LZO': 2, 'MIG': 2, 'MXZ': 2, 'SQD': 2, 'SWA': 2, 'TCZ': 1, 'WMT': 2, 'WNZ': 2, 'XNN': 2, 'YLX': 2, 'ZHA': 2, 'ZUH': 2, 'ZYI': 2, 'HIA': 2, 'NBS': 1, 'RIZ': 2, 'DSN': 1, 'HLH': 2, 'LYA': 2, 'RLK': 2, 'CQW': 1, 'DNH': 2, 'FUG': 2, 'LYG': 2, 'LZY': 1, 'RKZ': 1, 'TVS': 2, 'TXN': 2, 'WDS': 2, 'YNJ': 1, 'YNT': 2, 'YZY': 0, 'CZX': 1, 'DZH': 2, 'HCJ': 2, 'HYN': 2, 'HZA': 2, 'LFQ': 2, 'LYI': 2, 'WXN': 2, 'CWJ': 1, 'DAT': 2, 'DIG': 1, 'LLV': 2, 'MDG': 0, 'NTG': 1, 'WEH': 1, 'WHA': 2, 'XFN': 2, 'YNZ': 2, 'YBP': 1, 'DQA': 1, 'DYG': 2, 'EHU': 2, 'ENY': 0, 'ERL': 1, 'KJH': 2, 'FYN': 1, 'GYS': 2, 'HCZ': 2, 'HJJ': 2, 'HSC': 2, 'IQN': 1, 'JDZ': 2, 'JIU': 0, 'LLF': 2, 'LNL': 1, 'NNY': 2, 'SHS': 2, 'WGN': 2, 'WUT': 1, 'XAI': 2, 'XNT': 1, 'XYI': 2, 'YKH': 2, 'YTY': 1, 'YYA': 2, 'NZH': 0, 'NZL': 1, 'YIE': 1, 'LUM': 1, 'ZHY': 1, 'JGD': 1, 'OHE': 1, 'TWC': 1, 'HQQ': 1, 'HUO': 0, 'JUH': 2, 'SYM': 1, 'JMU': 0, 'JXA': 0, 'QSZ': 1, 'KJI': 1, 'NGQ': 1, 'WUX': 1, 'RQA': 1, 'WUZ': 2, 'LZG': 0, 'NLT': 1, 'YUS': 1, 'YTW': 1, 'YSQ': 2, 'ZFL': 1}\n"
     ]
    }
   ],
   "source": [
    "import json\n",
    "# 加载字典\n",
    "with open('../../my/encoder/city_labels_航班频率加权图标签.json', 'r') as file:\n",
    "    city_labels_loaded = json.load(file)\n",
    "\n",
    "print(\"加载的字典：\", city_labels_loaded)"
   ]
  },
  {
   "cell_type": "code",
   "execution_count": 4,
   "id": "9ddf2ad9",
   "metadata": {
    "ExecuteTime": {
     "end_time": "2024-12-26T03:24:29.955961Z",
     "start_time": "2024-12-26T03:24:29.228601Z"
    },
    "execution": {
     "iopub.execute_input": "2025-06-22T13:51:10.792129Z",
     "iopub.status.busy": "2025-06-22T13:51:10.791756Z",
     "iopub.status.idle": "2025-06-22T13:51:11.304521Z",
     "shell.execute_reply": "2025-06-22T13:51:11.303465Z",
     "shell.execute_reply.started": "2025-06-22T13:51:10.792090Z"
    }
   },
   "outputs": [],
   "source": [
    "# 使用 map 对 'a', 'b', 'c', 'from', 'to' 列进行标签化，新增对应的标签列\n",
    "data['a_label'] = data['a'].map(city_labels_loaded)\n",
    "data['b_label'] = data['b'].map(city_labels_loaded)\n",
    "data['c_label'] = data['c'].map(city_labels_loaded)\n",
    "data['from_label'] = data['from'].map(city_labels_loaded)\n",
    "data['to_label'] = data['to'].map(city_labels_loaded)"
   ]
  },
  {
   "cell_type": "markdown",
   "id": "23199201",
   "metadata": {},
   "source": [
    "### 新增城市二维嵌入"
   ]
  },
  {
   "cell_type": "code",
   "execution_count": 5,
   "id": "21b9a4c5",
   "metadata": {
    "ExecuteTime": {
     "end_time": "2024-12-26T03:24:29.959908Z",
     "start_time": "2024-12-26T03:24:29.957254Z"
    },
    "execution": {
     "iopub.execute_input": "2025-06-22T13:51:11.306355Z",
     "iopub.status.busy": "2025-06-22T13:51:11.306015Z",
     "iopub.status.idle": "2025-06-22T13:51:11.313520Z",
     "shell.execute_reply": "2025-06-22T13:51:11.312580Z",
     "shell.execute_reply.started": "2025-06-22T13:51:11.306322Z"
    },
    "scrolled": true
   },
   "outputs": [
    {
     "name": "stdout",
     "output_type": "stream",
     "text": [
      "加载的字典： {'AAT': [-1.37530517578125, -0.35888153314590454], 'CKG': [0.01064071711152792, -0.8891868591308594], 'PEK': [0.19175417721271515, -0.1063457801938057], 'TCG': [-1.4468026161193848, -0.36743783950805664], 'URC': [-1.2777715921401978, -0.6882389783859253], 'XIY': [0.4810418486595154, -0.8047342300415039], 'YIN': [-1.9216420650482178, -0.1084386482834816], 'ACF': [-1.6529606580734253, -0.20273223519325256], 'HMI': [-0.609366774559021, -0.7292864918708801], 'SHF': [-1.001150131225586, 0.16054262220859528], 'TLQ': [-0.8284773826599121, 0.0521150678396225], 'ACX': [-0.6958959102630615, 0.2985990047454834], 'CGO': [-0.32369911670684814, -0.8481274843215942], 'KMG': [0.3200676739215851, -0.3121274411678314], 'AEB': [-0.5060219168663025, 0.7377899885177612], 'CAN': [0.04243234544992447, -0.4815085530281067], 'HGH': [0.02870369330048561, -0.4355216324329376], 'KWL': [0.6726647615432739, -0.7483685612678528], 'TFU': [-0.16380424797534943, -0.40230828523635864], 'AKA': [-0.2005784809589386, 0.40137922763824463], 'CSX': [0.2820993959903717, -0.8172892928123474], 'HAK': [0.5160706639289856, -0.9371070861816406], 'TSN': [0.45263710618019104, -0.39073246717453003], 'UYN': [0.21083791553974152, -0.6537582278251648], 'AKU': [-1.6458346843719482, -0.4661535620689392], 'FOC': [0.21856994926929474, -0.6091769933700562], 'HTN': [-1.6974687576293945, -0.37385094165802], 'AOG': [0.6372593641281128, -0.22798705101013184], 'TNA': [0.3029763400554657, -0.7957876324653625], 'AQG': [0.5592906475067139, -0.38666173815727234], 'KWE': [0.21120736002922058, -0.7146714925765991], 'NGB': [-0.0002662790357135236, -0.8149986863136292], 'TAO': [0.18565493822097778, -1.0846997499465942], 'XMN': [0.2696721851825714, -0.5633876323699951], 'AVA': [0.43978002667427063, -0.007998881861567497], 'LLB': [0.31973138451576233, 0.26404303312301636], 'BAR': [-0.21679379045963287, 0.605323076248169], 'HRB': [0.8183377981185913, -0.3023071885108948], 'JMJ': [-0.21682721376419067, 0.9067312479019165], 'KHN': [0.6677552461624146, -0.4231375753879547], 'LHW': [-0.5955280661582947, -0.6691930294036865], 'NNG': [0.7025919556617737, -0.8665300011634827], 'SJW': [0.25196269154548645, -0.6159803867340088], 'SZX': [0.0646769106388092, -0.41170820593833923], 'BAV': [0.8154524564743042, 0.7907494902610779], 'HLD': [0.7423150539398193, 1.355084776878357], 'TGO': [0.9127076864242554, 1.2403227090835571], 'XIL': [0.9815539717674255, 1.2292832136154175], 'BFJ': [0.5370376706123352, -0.44520479440689087], 'BHY': [-0.11979000270366669, -0.6933801174163818], 'HET': [0.6150539517402649, 0.2580282390117645], 'HFE': [0.6440711617469788, -0.4731837809085846], 'HNY': [0.6481837630271912, -0.3830159604549408], 'JNG': [0.5571910738945007, -0.6154502034187317], 'NAO': [-1.065332293510437, -0.5607770085334778], 'WUH': [0.2281998097896576, -0.6934672594070435], 'XUZ': [0.7043554782867432, -0.36980462074279785], 'YIH': [0.06209319084882736, -0.5689756870269775], 'BPE': [0.23601052165031433, 0.1533767133951187], 'BPL': [-2.326657295227051, 0.14052648842334747], 'BPX': [-0.3452422618865967, 0.1080525666475296], 'BSD': [-0.15203295648097992, 0.8789204359054565], 'BZX': [0.38154688477516174, -0.7468063831329346], 'JJN': [-0.3525981307029724, -0.9542403221130371], 'LJG': [0.1946614682674408, -0.6777788400650024], 'NKG': [0.010662288405001163, -0.7592587471008301], 'CGQ': [0.7443155646324158, -0.32194259762763977], 'DLC': [0.6633746027946472, -0.1691914200782776], 'DOY': [0.34240323305130005, 0.6429670453071594], 'HDG': [0.9072176218032837, -0.358577162027359], 'HSN': [0.693778932094574, -0.1562006026506424], 'HZG': [-0.7220292687416077, -0.13335420191287994], 'INC': [-0.5280895233154297, -0.45126262307167053], 'JIQ': [0.30043697357177734, -0.012252944521605968], 'PKX': [-0.38661104440689087, -0.0180024653673172], 'PVG': [-0.0595688670873642, -0.655771017074585], 'SHA': [-0.04334697127342224, -0.13346342742443085], 'SHE': [0.25781407952308655, -1.0495078563690186], 'SQJ': [0.5600417852401733, -0.14098088443279266], 'SYX': [0.35968127846717834, -0.6163422465324402], 'TEN': [0.33260396122932434, -0.3776595890522003], 'TYN': [0.17768557369709015, -0.8651454448699951], 'WEF': [0.41590455174446106, -0.16534896194934845], 'WUA': [0.8693386316299438, 0.8625738024711609], 'YIC': [0.5857399702072144, -0.2599824070930481], 'ZQZ': [0.4403436779975891, 0.20917654037475586], 'CGD': [0.7344593405723572, -0.48463648557662964], 'JHG': [0.20884759724140167, -0.2620270550251007], 'CIF': [1.0513737201690674, 0.5650662779808044], 'DLU': [-0.09752508997917175, 0.074544757604599], 'DXJ': [-0.04835019260644913, 0.5776137113571167], 'ENH': [0.1714388132095337, -0.49729955196380615], 'GOQ': [-0.9659793376922607, 0.2987263798713684], 'HUZ': [0.2797601819038391, -0.9074717164039612], 'JGS': [0.35309141874313354, -0.14396420121192932], 'JNZ': [-0.27360525727272034, 0.6936267018318176], 'KCA': [-2.1668548583984375, 0.00010575502528809011], 'KHG': [-1.89340341091156, -0.21587057411670685], 'KOW': [0.5675621628761292, -0.746888279914856], 'KRL': [-0.9264565706253052, -0.6695181131362915], 'LXA': [-0.42131274938583374, -0.01003617886453867], 'LZH': [0.1306789368391037, -0.32166963815689087], 'LZO': [-0.1673034131526947, -0.6331879496574402], 'MIG': [-0.30048125982284546, -0.8721119165420532], 'MXZ': [0.13718445599079132, -0.2564105689525604], 'SQD': [0.803095817565918, -0.22031879425048828], 'SWA': [0.3572063446044922, -1.2114053964614868], 'TCZ': [-0.2836746275424957, 0.6075286269187927], 'WMT': [0.684768795967102, -0.6021315455436707], 'WNZ': [-0.4916674494743347, -0.7535408735275269], 'XNN': [-0.07102283835411072, -0.08936518430709839], 'YLX': [0.517357587814331, -0.2952978014945984], 'ZHA': [-0.30068883299827576, -0.9902154803276062], 'ZUH': [0.26473942399024963, -0.9334428906440735], 'ZYI': [0.49131280183792114, -0.7295820713043213], 'HIA': [-0.0404803566634655, -0.7834839224815369], 'NBS': [0.07734327763319016, 0.7062029838562012], 'RIZ': [0.20750994980335236, -0.2142297476530075], 'DSN': [0.823053777217865, 2.6549735069274902], 'HLH': [0.7882248163223267, 1.6094998121261597], 'LYA': [-0.07312464714050293, -0.5401263236999512], 'RLK': [0.7640617489814758, 0.7742165327072144], 'CQW': [-0.3320341110229492, 0.22064600884914398], 'DNH': [-0.12218708544969559, -0.35764771699905396], 'FUG': [0.2223164290189743, -0.8278021216392517], 'LYG': [0.27637049555778503, -0.5801000595092773], 'LZY': [-0.2675606608390808, 0.3215544819831848], 'RKZ': [-0.36948224902153015, 0.13256117701530457], 'TVS': [0.5815228223800659, -0.09147705137729645], 'TXN': [0.7926903963088989, -0.2954079210758209], 'WDS': [-0.0014418507926166058, -0.5819944739341736], 'YNJ': [0.24571998417377472, 0.5439130663871765], 'YNT': [0.44973909854888916, -0.3692346215248108], 'YZY': [-0.473194420337677, 1.0670750141143799], 'CZX': [0.6884476542472839, 1.0601747035980225], 'DZH': [0.061960361897945404, -0.7411655783653259], 'HCJ': [0.6491780281066895, -0.11337203532457352], 'HYN': [0.46111151576042175, 0.09757969528436661], 'HZA': [0.9551408886909485, -0.542865514755249], 'LFQ': [-0.19543778896331787, -0.12075717002153397], 'LYI': [0.941536545753479, -0.45821791887283325], 'WXN': [-0.24615219235420227, -0.6632754802703857], 'CWJ': [-0.20987315475940704, 0.8503755927085876], 'DAT': [0.7274460196495056, -0.06873712688684464], 'DIG': [-0.19461989402770996, 1.0087541341781616], 'LLV': [0.43780750036239624, 0.3060280978679657], 'MDG': [0.3051101863384247, 1.109066367149353], 'NTG': [-1.2549822330474854, 0.11722338199615479], 'WEH': [0.07020498067140579, 0.7171472311019897], 'WHA': [1.0830200910568237, -0.24334867298603058], 'XFN': [0.11681193113327026, -0.30007442831993103], 'YNZ': [-0.4340040981769562, -0.431215763092041], 'YBP': [-0.2583886682987213, 1.0149226188659668], 'DQA': [0.42887425422668457, 0.9311386942863464], 'DYG': [0.7987761497497559, -0.3891963064670563], 'EHU': [0.8400912284851074, -0.08245004713535309], 'ENY': [-0.2479478418827057, 0.9055840969085693], 'ERL': [0.37824204564094543, 2.048152446746826], 'KJH': [0.18645524978637695, -0.006707371678203344], 'FYN': [-2.2985284328460693, 0.12320040911436081], 'GYS': [0.25323358178138733, -0.3886655271053314], 'HCZ': [0.6743543744087219, -0.5405933856964111], 'HJJ': [0.7059445977210999, -0.6449275016784668], 'HSC': [0.7392269372940063, -0.38683077692985535], 'IQN': [-0.6539677381515503, -0.002249087207019329], 'JDZ': [0.6366550922393799, -0.3515096604824066], 'JIU': [0.8085581660270691, 0.09363678842782974], 'LLF': [0.6024713516235352, -0.3862744867801666], 'LNL': [-1.3581477403640747, 0.2074030190706253], 'NNY': [0.6123591065406799, -0.3968627154827118], 'SHS': [0.957343339920044, -0.3450080156326294], 'WGN': [0.5394741296768188, -0.38529953360557556], 'WUT': [0.8064025044441223, 0.6922498345375061], 'XAI': [0.6184586882591248, -0.26277855038642883], 'XNT': [0.040012046694755554, 0.2720610201358795], 'XYI': [0.8497536182403564, -0.361904501914978], 'YKH': [0.5958985686302185, -0.1028730571269989], 'YTY': [-0.31464436650276184, -0.038023386150598526], 'YYA': [0.6815147995948792, -0.25545021891593933], 'NZH': [0.5486858487129211, 1.6363298892974854], 'NZL': [0.8042289018630981, 2.168227434158325], 'YIE': [0.6762419939041138, 1.8959311246871948], 'LUM': [-0.09778740257024765, 0.4189606308937073], 'ZHY': [-0.29008427262306213, 0.8813140988349915], 'JGD': [0.509475588798523, 3.2139511108398438], 'OHE': [0.5804288387298584, 3.2458090782165527], 'TWC': [-2.1493473052978516, 0.10306262969970703], 'HQQ': [0.9457299709320068, 0.6847214102745056], 'HUO': [0.48036789894104004, 1.8742399215698242], 'JUH': [0.41780582070350647, -0.3113349974155426], 'SYM': [-0.30778440833091736, 0.0008785278769209981], 'JMU': [-0.15190741419792175, 1.5164159536361694], 'JXA': [-0.2899237275123596, 1.820886492729187], 'QSZ': [-2.8489999771118164, 0.8041521310806274], 'KJI': [-2.4964962005615234, 0.48323413729667664], 'NGQ': [-2.6424660682678223, 0.7140102386474609], 'WUX': [-0.005184272304177284, 0.9424189329147339], 'RQA': [-2.5040647983551025, 0.26840755343437195], 'WUZ': [0.525953471660614, 0.023474503308534622], 'LZG': [-0.2641303241252899, 1.009780764579773], 'NLT': [-2.373019218444824, 0.08447713404893875], 'YUS': [-0.6911240220069885, 1.4920650720596313], 'YTW': [-2.336650848388672, 0.06681548058986664], 'YSQ': [0.5328057408332825, 0.1264084428548813], 'ZFL': [-2.354236602783203, 0.07845710963010788]}\n"
     ]
    }
   ],
   "source": [
    "import json\n",
    "\n",
    "# 加载字典\n",
    "with open('../../my/encoder/城市嵌入编码_航班频率加权图.json', 'r') as file:\n",
    "    city_embeddings = json.load(file)\n",
    "\n",
    "print(\"加载的字典：\", city_embeddings)\n"
   ]
  },
  {
   "cell_type": "code",
   "execution_count": 6,
   "id": "92374fbf",
   "metadata": {
    "ExecuteTime": {
     "end_time": "2024-12-26T03:24:34.619385Z",
     "start_time": "2024-12-26T03:24:29.960639Z"
    },
    "execution": {
     "iopub.execute_input": "2025-06-22T13:51:11.315286Z",
     "iopub.status.busy": "2025-06-22T13:51:11.314633Z",
     "iopub.status.idle": "2025-06-22T13:51:14.722671Z",
     "shell.execute_reply": "2025-06-22T13:51:14.721617Z",
     "shell.execute_reply.started": "2025-06-22T13:51:11.315253Z"
    }
   },
   "outputs": [
    {
     "name": "stdout",
     "output_type": "stream",
     "text": [
      "         a_embedding_1  a_embedding_2  b_embedding_1  b_embedding_2  \\\n",
      "0            -1.375305      -0.358882      -1.277772      -0.688239   \n",
      "1            -1.652961      -0.202732      -1.277772      -0.688239   \n",
      "2            -1.652961      -0.202732      -0.828477       0.052115   \n",
      "3            -0.200578       0.401379       0.028704      -0.435522   \n",
      "4            -1.645835      -0.466154      -0.323699      -0.848127   \n",
      "...                ...            ...            ...            ...   \n",
      "1507922       0.264739      -0.933443       0.481042      -0.804734   \n",
      "1507923       0.264739      -0.933443       0.481042      -0.804734   \n",
      "1507924       0.264739      -0.933443       0.481042      -0.804734   \n",
      "1507925       0.481042      -0.804734       0.491313      -0.729582   \n",
      "1507926       0.359681      -0.616342       0.491313      -0.729582   \n",
      "\n",
      "         c_embedding_1  c_embedding_2  from_embedding_1  from_embedding_2  \\\n",
      "0                  NaN            NaN         -1.375305         -0.358882   \n",
      "1                  NaN            NaN         -1.652961         -0.202732   \n",
      "2             0.481042      -0.804734         -1.652961         -0.202732   \n",
      "3                  NaN            NaN         -0.200578          0.401379   \n",
      "4                  NaN            NaN         -1.645835         -0.466154   \n",
      "...                ...            ...               ...               ...   \n",
      "1507922      -1.277772      -0.688239          0.264739         -0.933443   \n",
      "1507923      -1.277772      -0.688239          0.264739         -0.933443   \n",
      "1507924            NaN            NaN          0.264739         -0.933443   \n",
      "1507925       0.359681      -0.616342          0.491313         -0.729582   \n",
      "1507926       0.481042      -0.804734          0.491313         -0.729582   \n",
      "\n",
      "         to_embedding_1  to_embedding_2  \n",
      "0             -1.277772       -0.688239  \n",
      "1             -1.277772       -0.688239  \n",
      "2              0.481042       -0.804734  \n",
      "3              0.028704       -0.435522  \n",
      "4             -0.323699       -0.848127  \n",
      "...                 ...             ...  \n",
      "1507922       -1.277772       -0.688239  \n",
      "1507923        0.481042       -0.804734  \n",
      "1507924        0.481042       -0.804734  \n",
      "1507925        0.359681       -0.616342  \n",
      "1507926        0.481042       -0.804734  \n",
      "\n",
      "[1507927 rows x 10 columns]\n"
     ]
    }
   ],
   "source": [
    "import pandas as pd\n",
    "import numpy as np\n",
    "\n",
    "# 将 city_embeddings 转换为 DataFrame\n",
    "embedding_df = pd.DataFrame.from_dict(city_embeddings, orient='index', columns=['embedding_1', 'embedding_2'])\n",
    "embedding_df.index.name = 'city'\n",
    "\n",
    "# 用 'a', 'b', 'c', 'from', 'to' 字段与 embedding_df 合并\n",
    "data = data.merge(embedding_df, left_on='a', right_index=True, how='left')\n",
    "data.rename(columns={'embedding_1': 'a_embedding_1', 'embedding_2': 'a_embedding_2'}, inplace=True)\n",
    "\n",
    "data = data.merge(embedding_df, left_on='b', right_index=True, how='left')\n",
    "data.rename(columns={'embedding_1': 'b_embedding_1', 'embedding_2': 'b_embedding_2'}, inplace=True)\n",
    "\n",
    "data = data.merge(embedding_df, left_on='c', right_index=True, how='left')\n",
    "data.rename(columns={'embedding_1': 'c_embedding_1', 'embedding_2': 'c_embedding_2'}, inplace=True)\n",
    "\n",
    "data = data.merge(embedding_df, left_on='from', right_index=True, how='left')\n",
    "data.rename(columns={'embedding_1': 'from_embedding_1', 'embedding_2': 'from_embedding_2'}, inplace=True)\n",
    "\n",
    "data = data.merge(embedding_df, left_on='to', right_index=True, how='left')\n",
    "data.rename(columns={'embedding_1': 'to_embedding_1', 'embedding_2': 'to_embedding_2'}, inplace=True)\n",
    "\n",
    "# 查看添加的新列\n",
    "print(data[['a_embedding_1', 'a_embedding_2', 'b_embedding_1', 'b_embedding_2', 'c_embedding_1', 'c_embedding_2', 'from_embedding_1', 'from_embedding_2', 'to_embedding_1', 'to_embedding_2']])\n"
   ]
  },
  {
   "cell_type": "markdown",
   "id": "5f9be248",
   "metadata": {},
   "source": [
    "### 频率编码"
   ]
  },
  {
   "cell_type": "markdown",
   "id": "d2737257",
   "metadata": {},
   "source": [
    "使用 json 保存和加载 city_map"
   ]
  },
  {
   "cell_type": "code",
   "execution_count": 7,
   "id": "a05c9648",
   "metadata": {
    "ExecuteTime": {
     "end_time": "2024-12-26T03:24:35.053615Z",
     "start_time": "2024-12-26T03:24:35.051060Z"
    },
    "execution": {
     "iopub.execute_input": "2025-06-22T13:51:14.724160Z",
     "iopub.status.busy": "2025-06-22T13:51:14.723842Z",
     "iopub.status.idle": "2025-06-22T13:51:15.746310Z",
     "shell.execute_reply": "2025-06-22T13:51:15.745276Z",
     "shell.execute_reply.started": "2025-06-22T13:51:14.724128Z"
    }
   },
   "outputs": [
    {
     "name": "stdout",
     "output_type": "stream",
     "text": [
      "        flt_no    cap aircraft  legs  leg_no  duration  pax       a       b  \\\n",
      "0         7558  110.0      195     1       1      1.30   97    2333  137647   \n",
      "1         7470  110.0      195     1       1      1.25   67    2434  137647   \n",
      "2         769R   93.0      190     3       3      4.75   22    2434     810   \n",
      "3         5248  162.0      320     1       1      1.83   55    1401  106773   \n",
      "4         6250  167.0      320     1       1      3.98  166    6066  135409   \n",
      "...        ...    ...      ...   ...     ...       ...  ...     ...     ...   \n",
      "1507922   7690  154.0      32F     3       3      6.53   34   33327  192653   \n",
      "1507923   7690  154.0      32F     3       1      2.78  113   33327  192653   \n",
      "1507924   8304  167.0      738     1       1      2.48  158   33327  192653   \n",
      "1507925   7545  155.0      32F     3       2      2.05   74  192653    5100   \n",
      "1507926   7546  155.0      32F     3       2      1.42  136  128149    5100   \n",
      "\n",
      "                c  ...  a_embedding_1  a_embedding_2  b_embedding_1  \\\n",
      "0             NaN  ...      -1.375305      -0.358882      -1.277772   \n",
      "1             NaN  ...      -1.652961      -0.202732      -1.277772   \n",
      "2        192653.0  ...      -1.652961      -0.202732      -0.828477   \n",
      "3             NaN  ...      -0.200578       0.401379       0.028704   \n",
      "4             NaN  ...      -1.645835      -0.466154      -0.323699   \n",
      "...           ...  ...            ...            ...            ...   \n",
      "1507922  137647.0  ...       0.264739      -0.933443       0.481042   \n",
      "1507923  137647.0  ...       0.264739      -0.933443       0.481042   \n",
      "1507924       NaN  ...       0.264739      -0.933443       0.481042   \n",
      "1507925  128149.0  ...       0.481042      -0.804734       0.491313   \n",
      "1507926  192653.0  ...       0.359681      -0.616342       0.491313   \n",
      "\n",
      "         b_embedding_2  c_embedding_1  c_embedding_2  from_embedding_1  \\\n",
      "0            -0.688239            NaN            NaN         -1.375305   \n",
      "1            -0.688239            NaN            NaN         -1.652961   \n",
      "2             0.052115       0.481042      -0.804734         -1.652961   \n",
      "3            -0.435522            NaN            NaN         -0.200578   \n",
      "4            -0.848127            NaN            NaN         -1.645835   \n",
      "...                ...            ...            ...               ...   \n",
      "1507922      -0.804734      -1.277772      -0.688239          0.264739   \n",
      "1507923      -0.804734      -1.277772      -0.688239          0.264739   \n",
      "1507924      -0.804734            NaN            NaN          0.264739   \n",
      "1507925      -0.729582       0.359681      -0.616342          0.491313   \n",
      "1507926      -0.729582       0.481042      -0.804734          0.491313   \n",
      "\n",
      "         from_embedding_2  to_embedding_1  to_embedding_2  \n",
      "0               -0.358882       -1.277772       -0.688239  \n",
      "1               -0.202732       -1.277772       -0.688239  \n",
      "2               -0.202732        0.481042       -0.804734  \n",
      "3                0.401379        0.028704       -0.435522  \n",
      "4               -0.466154       -0.323699       -0.848127  \n",
      "...                   ...             ...             ...  \n",
      "1507922         -0.933443       -1.277772       -0.688239  \n",
      "1507923         -0.933443        0.481042       -0.804734  \n",
      "1507924         -0.933443        0.481042       -0.804734  \n",
      "1507925         -0.729582        0.359681       -0.616342  \n",
      "1507926         -0.729582        0.481042       -0.804734  \n",
      "\n",
      "[1507927 rows x 35 columns]\n"
     ]
    }
   ],
   "source": [
    "# 加载city_map\n",
    "with open('../../my/encoder/city_map_频率编码.json', 'r') as f:\n",
    "    city_map = json.load(f)\n",
    "\n",
    "# 使用 city_map 替换指定列的值\n",
    "columns_to_replace = ['a', 'b', 'c', 'from', 'to']\n",
    "\n",
    "# 遍历指定列并直接用 map 映射\n",
    "for col in columns_to_replace:\n",
    "    data[col] = data[col].map(city_map)\n",
    "\n",
    "\n",
    "print(data)"
   ]
  },
  {
   "cell_type": "markdown",
   "id": "20d3b1ea-44b4-4d7f-9c6e-7036e2ee1fc6",
   "metadata": {},
   "source": [
    "### 'flt_no', 'bd_type', 'aircraft'编码"
   ]
  },
  {
   "cell_type": "code",
   "execution_count": 8,
   "id": "9022bd85",
   "metadata": {
    "ExecuteTime": {
     "end_time": "2024-12-26T03:24:38.137862Z",
     "start_time": "2024-12-26T03:24:36.356011Z"
    },
    "execution": {
     "iopub.execute_input": "2025-06-22T13:51:15.747889Z",
     "iopub.status.busy": "2025-06-22T13:51:15.747569Z",
     "iopub.status.idle": "2025-06-22T13:51:17.034618Z",
     "shell.execute_reply": "2025-06-22T13:51:17.033561Z",
     "shell.execute_reply.started": "2025-06-22T13:51:15.747857Z"
    },
    "scrolled": true
   },
   "outputs": [
    {
     "name": "stdout",
     "output_type": "stream",
     "text": [
      "flt_no列编码完成\n",
      "aircraft列编码完成\n",
      "\n",
      "编码后的前几行数据：\n",
      "   flt_no  aircraft\n",
      "0    2945         2\n",
      "1    2821         2\n",
      "2    3159         0\n",
      "3     661         9\n",
      "4    1507         9\n"
     ]
    }
   ],
   "source": [
    "import joblib\n",
    "from sklearn.preprocessing import LabelEncoder\n",
    "import os\n",
    "\n",
    "# 定义需要编码的分类特征\n",
    "# categorical_columns = ['flt_no', 'bd_type', 'aircraft']\n",
    "categorical_columns = ['flt_no', 'aircraft']\n",
    "\n",
    "# 从保存的文件中加载编码器并应用到data\n",
    "for col in categorical_columns:\n",
    "    # 加载编码器\n",
    "    encoder_path = os.path.join('../../my/encoder/', f\"{col}_encoder_all.pkl\")\n",
    "    le = joblib.load(encoder_path)\n",
    "    \n",
    "    try:\n",
    "        # 对data进行转换\n",
    "        data[col] = le.transform(data[col])\n",
    "        print(f\"{col}列编码完成\")\n",
    "    except ValueError as e:\n",
    "        # 如果遇到新的类别，打印错误信息\n",
    "        print(f\"{col}列编码出错: {str(e)}\")\n",
    "        # 找出新的类别\n",
    "        new_categories = set(data[col]) - set(le.classes_)\n",
    "        print(f\"{col}列中的新类别: {new_categories}\")\n",
    "\n",
    "# 查看编码后的结果\n",
    "print(\"\\n编码后的前几行数据：\")\n",
    "print(data[categorical_columns].head())"
   ]
  },
  {
   "cell_type": "markdown",
   "id": "276a61f1-30ca-4421-81cc-45a8204378b4",
   "metadata": {},
   "source": [
    "### 新增pax比例字段"
   ]
  },
  {
   "cell_type": "code",
   "execution_count": null,
   "id": "fe0444c2-9b68-43e4-85cc-bab9044629e8",
   "metadata": {},
   "outputs": [],
   "source": []
  },
  {
   "cell_type": "markdown",
   "id": "033293da",
   "metadata": {},
   "source": [
    "## 特征和目标分离\n",
    "我们要预测的是pax字段，其他字段作为特征。"
   ]
  },
  {
   "cell_type": "code",
   "execution_count": 9,
   "id": "5a274b48",
   "metadata": {
    "ExecuteTime": {
     "end_time": "2024-12-26T03:24:38.380502Z",
     "start_time": "2024-12-26T03:24:38.139813Z"
    },
    "execution": {
     "iopub.execute_input": "2025-06-22T13:51:17.036273Z",
     "iopub.status.busy": "2025-06-22T13:51:17.035855Z",
     "iopub.status.idle": "2025-06-22T13:51:17.231107Z",
     "shell.execute_reply": "2025-06-22T13:51:17.229915Z",
     "shell.execute_reply.started": "2025-06-22T13:51:17.036240Z"
    }
   },
   "outputs": [],
   "source": [
    "# 特征列\n",
    "# X = data[['flt_no', 'bd_type', 'cap', 'aircraft',  'leg_no', 'duration', 'a', 'b', 'c', 'year', 'month', 'day', 'weekday','holiday', 'hour', 'minute', 'second', 'from', 'to','unit_price']]\n",
    "# X = data[['flt_no', 'bd_type', 'cap', 'aircraft', 'legs', 'leg_no', 'duration', 'a', 'b', 'c', 'year', 'month', 'day', 'weekday','hour', 'minute', 'second', 'from', 'to','unit_price']]\n",
    "# X = data[['flt_no', 'bd_type', 'cap', 'aircraft', 'legs', 'leg_no', 'duration', 'a', 'b', 'c', 'year', 'month', 'day', 'weekday','hour', 'minute', 'second', 'from', 'to','unit_price','a_label' ,'b_label' ,'c_label' ,'from_label' ,'to_label']]\n",
    "\n",
    "# 有abc，有标签，有嵌入\n",
    "# X = data[['flt_no', 'bd_type', 'cap', 'aircraft', 'legs', 'leg_no', 'duration', 'a', 'b', 'c', 'year', 'month', 'day', 'weekday','hour', 'minute', 'second', 'from', 'to','unit_price','a_label' ,'b_label' ,'c_label' ,'from_label' ,'to_label','a_embedding_1' , 'a_embedding_2' , 'b_embedding_1','b_embedding_2' , 'c_embedding_1' , 'c_embedding_2' , 'from_embedding_1','from_embedding_2' , 'to_embedding_1' , 'to_embedding_2']]\n",
    "# X = data[['flt_no', 'cap', 'aircraft', 'legs', 'leg_no', 'duration', 'a', 'b', 'c', 'year', 'month', 'day', 'weekday','hour', 'minute', 'from', 'to','unit_price','a_label' ,'b_label' ,'c_label' ,'from_label' ,'to_label','a_embedding_1' , 'a_embedding_2' , 'b_embedding_1','b_embedding_2' , 'c_embedding_1' , 'c_embedding_2' , 'from_embedding_1','from_embedding_2' , 'to_embedding_1' , 'to_embedding_2']]\n",
    "X = data[['flt_no', 'cap', 'aircraft', 'legs', 'leg_no', 'duration', 'a', 'b', 'c', 'year', 'month', 'day', 'weekday','hour', 'minute', 'from', 'to','unit_price','competitor_price','a_label' ,'b_label' ,'c_label' ,'from_label' ,'to_label','a_embedding_1' , 'a_embedding_2' , 'b_embedding_1','b_embedding_2' , 'c_embedding_1' , 'c_embedding_2' , 'from_embedding_1','from_embedding_2' , 'to_embedding_1' , 'to_embedding_2']]\n",
    "\n",
    "# 删除了abc，但有标签，有嵌入\n",
    "# X = data[['flt_no', 'bd_type', 'cap', 'aircraft', 'legs', 'leg_no', 'duration', 'year', 'month', 'day', 'weekday','hour', 'minute', 'second', 'unit_price','a_label' ,'b_label' ,'c_label' ,'from_label' ,'to_label','a_embedding_1' , 'a_embedding_2' , 'b_embedding_1','b_embedding_2' , 'c_embedding_1' , 'c_embedding_2' , 'from_embedding_1','from_embedding_2' , 'to_embedding_1' , 'to_embedding_2']]\n",
    "\n",
    "# 目标列\n",
    "y = data['pax']"
   ]
  },
  {
   "cell_type": "markdown",
   "id": "8f37ae67",
   "metadata": {},
   "source": [
    "### 对x进行标准化"
   ]
  },
  {
   "cell_type": "code",
   "execution_count": 10,
   "id": "04ef4398",
   "metadata": {
    "ExecuteTime": {
     "end_time": "2024-12-26T03:24:40.878111Z",
     "start_time": "2024-12-26T03:24:38.381268Z"
    },
    "execution": {
     "iopub.execute_input": "2025-06-22T13:51:17.233148Z",
     "iopub.status.busy": "2025-06-22T13:51:17.232444Z",
     "iopub.status.idle": "2025-06-22T13:51:19.699453Z",
     "shell.execute_reply": "2025-06-22T13:51:19.698460Z",
     "shell.execute_reply.started": "2025-06-22T13:51:17.233112Z"
    }
   },
   "outputs": [
    {
     "name": "stdout",
     "output_type": "stream",
     "text": [
      "     flt_no       cap  aircraft      legs    leg_no  duration         a  \\\n",
      "0  0.451505 -1.477052 -1.324136 -0.865334 -0.565872 -1.227121 -1.436836   \n",
      "\n",
      "          b   c      year     month       day   weekday     hour    minute  \\\n",
      "0  1.079574 NaN -0.882038 -1.314987 -1.681533  1.483702 -0.00125  0.477048   \n",
      "\n",
      "       from       to  unit_price  competitor_price   a_label   b_label  \\\n",
      "0 -1.334675  0.82066   -0.552425         -0.500111 -2.017569  0.299796   \n",
      "\n",
      "   c_label  from_label  to_label  a_embedding_1  a_embedding_2  b_embedding_1  \\\n",
      "0      NaN   -1.982899   0.28426      -2.794979       0.362764       -2.95506   \n",
      "\n",
      "   b_embedding_2  c_embedding_1  c_embedding_2  from_embedding_1  \\\n",
      "0      -0.423661            NaN            NaN         -2.925336   \n",
      "\n",
      "   from_embedding_2  to_embedding_1  to_embedding_2  \n",
      "0          0.350482       -2.736296       -0.385379  \n",
      "x的标准化器已保存为 standard_scaler_x.pkl\n"
     ]
    }
   ],
   "source": [
    "from sklearn.preprocessing import StandardScaler\n",
    "\n",
    "# 对所有特征进行标准化\n",
    "scaler = StandardScaler()\n",
    "X_scaled = scaler.fit_transform(X)\n",
    "\n",
    "# 将标准化后的数据转回 DataFrame 格式\n",
    "X_scaled = pd.DataFrame(X_scaled, columns=X.columns)\n",
    "\n",
    "# 查看结果\n",
    "pd.set_option('display.max_columns', None)  # 显示所有列\n",
    "print(X_scaled.head(1))\n",
    "\n",
    "\n",
    "# 保存 scaler\n",
    "joblib.dump(scaler, '../../my/encoder/standard_scaler_x.pkl')\n",
    "print(\"x的标准化器已保存为 standard_scaler_x.pkl\")"
   ]
  },
  {
   "cell_type": "markdown",
   "id": "5af705c8",
   "metadata": {},
   "source": [
    "### 对y进行标准化"
   ]
  },
  {
   "cell_type": "code",
   "execution_count": 11,
   "id": "e5c6228c",
   "metadata": {
    "ExecuteTime": {
     "end_time": "2024-12-26T03:24:40.909527Z",
     "start_time": "2024-12-26T03:24:40.879082Z"
    },
    "execution": {
     "iopub.execute_input": "2025-06-22T13:51:19.701001Z",
     "iopub.status.busy": "2025-06-22T13:51:19.700686Z",
     "iopub.status.idle": "2025-06-22T13:51:19.734699Z",
     "shell.execute_reply": "2025-06-22T13:51:19.733671Z",
     "shell.execute_reply.started": "2025-06-22T13:51:19.700969Z"
    }
   },
   "outputs": [
    {
     "name": "stdout",
     "output_type": "stream",
     "text": [
      "   pax_scaled\n",
      "0   -0.462832\n",
      "1   -1.033692\n",
      "2   -1.889982\n",
      "3   -1.262036\n",
      "4    0.850147\n",
      "y的标准化器已保存为 standard_scaler_y.pkl\n"
     ]
    }
   ],
   "source": [
    "# 对目标列 y 进行标准化\n",
    "scaler_y = StandardScaler()\n",
    "y_scaled = scaler_y.fit_transform(y.values.reshape(-1, 1))  # 将 y 转换为 2D 数组进行标准化\n",
    "\n",
    "# 转换回 DataFrame 格式\n",
    "y_scaled = pd.DataFrame(y_scaled, columns=['pax_scaled'])\n",
    "\n",
    "# 查看标准化后的 y\n",
    "print(y_scaled.head())\n",
    "\n",
    "# 保存 y 的 scaler\n",
    "joblib.dump(scaler_y, '../../my/encoder/standard_scaler_y.pkl')\n",
    "print(\"y的标准化器已保存为 standard_scaler_y.pkl\")"
   ]
  },
  {
   "cell_type": "markdown",
   "id": "55e832ee",
   "metadata": {},
   "source": [
    "## 训练XGBoost模型"
   ]
  },
  {
   "cell_type": "code",
   "execution_count": 12,
   "id": "a7aabaf5",
   "metadata": {
    "ExecuteTime": {
     "end_time": "2024-12-27T08:07:01.365756Z",
     "start_time": "2024-12-27T07:59:58.423485Z"
    },
    "execution": {
     "iopub.execute_input": "2025-06-22T13:51:19.739051Z",
     "iopub.status.busy": "2025-06-22T13:51:19.738700Z",
     "iopub.status.idle": "2025-06-22T13:53:02.761312Z",
     "shell.execute_reply": "2025-06-22T13:53:02.760344Z",
     "shell.execute_reply.started": "2025-06-22T13:51:19.739019Z"
    }
   },
   "outputs": [
    {
     "name": "stdout",
     "output_type": "stream",
     "text": [
      "训练集大小: 1206341\n",
      "验证集大小: 150793\n",
      "测试集大小: 150793\n",
      "[0]\ttrain-rmse:0.92403\ttrain-SMAPE:167.46267\tvalidation-rmse:0.92321\tvalidation-SMAPE:167.48449\n",
      "[10]\ttrain-rmse:0.53773\ttrain-SMAPE:84.68614\tvalidation-rmse:0.54050\tvalidation-SMAPE:85.13163\n",
      "[20]\ttrain-rmse:0.44796\ttrain-SMAPE:71.28609\tvalidation-rmse:0.45395\tvalidation-SMAPE:71.95600\n",
      "[30]\ttrain-rmse:0.42080\ttrain-SMAPE:66.91840\tvalidation-rmse:0.42909\tvalidation-SMAPE:67.80453\n",
      "[40]\ttrain-rmse:0.40740\ttrain-SMAPE:64.85798\tvalidation-rmse:0.41744\tvalidation-SMAPE:65.95458\n",
      "[50]\ttrain-rmse:0.39784\ttrain-SMAPE:63.49273\tvalidation-rmse:0.40939\tvalidation-SMAPE:64.72021\n",
      "[60]\ttrain-rmse:0.39010\ttrain-SMAPE:62.43958\tvalidation-rmse:0.40292\tvalidation-SMAPE:63.78160\n",
      "[70]\ttrain-rmse:0.38491\ttrain-SMAPE:61.75492\tvalidation-rmse:0.39907\tvalidation-SMAPE:63.21281\n",
      "[80]\ttrain-rmse:0.38056\ttrain-SMAPE:61.20775\tvalidation-rmse:0.39571\tvalidation-SMAPE:62.75727\n",
      "[90]\ttrain-rmse:0.37649\ttrain-SMAPE:60.69457\tvalidation-rmse:0.39259\tvalidation-SMAPE:62.35096\n",
      "[100]\ttrain-rmse:0.37303\ttrain-SMAPE:60.24485\tvalidation-rmse:0.39015\tvalidation-SMAPE:62.00740\n",
      "[110]\ttrain-rmse:0.36878\ttrain-SMAPE:59.71426\tvalidation-rmse:0.38695\tvalidation-SMAPE:61.60494\n",
      "[120]\ttrain-rmse:0.36570\ttrain-SMAPE:59.29184\tvalidation-rmse:0.38470\tvalidation-SMAPE:61.29251\n",
      "[130]\ttrain-rmse:0.36320\ttrain-SMAPE:58.96247\tvalidation-rmse:0.38309\tvalidation-SMAPE:61.05480\n",
      "[140]\ttrain-rmse:0.36082\ttrain-SMAPE:58.66600\tvalidation-rmse:0.38149\tvalidation-SMAPE:60.82883\n",
      "[150]\ttrain-rmse:0.35829\ttrain-SMAPE:58.37011\tvalidation-rmse:0.37982\tvalidation-SMAPE:60.61791\n",
      "[160]\ttrain-rmse:0.35574\ttrain-SMAPE:58.03052\tvalidation-rmse:0.37807\tvalidation-SMAPE:60.38731\n",
      "[170]\ttrain-rmse:0.35333\ttrain-SMAPE:57.72433\tvalidation-rmse:0.37640\tvalidation-SMAPE:60.17502\n",
      "[180]\ttrain-rmse:0.35100\ttrain-SMAPE:57.41628\tvalidation-rmse:0.37478\tvalidation-SMAPE:59.96163\n",
      "[190]\ttrain-rmse:0.34869\ttrain-SMAPE:57.14779\tvalidation-rmse:0.37336\tvalidation-SMAPE:59.78766\n",
      "[200]\ttrain-rmse:0.34640\ttrain-SMAPE:56.85157\tvalidation-rmse:0.37193\tvalidation-SMAPE:59.58298\n",
      "[210]\ttrain-rmse:0.34451\ttrain-SMAPE:56.64309\tvalidation-rmse:0.37079\tvalidation-SMAPE:59.44663\n",
      "[220]\ttrain-rmse:0.34231\ttrain-SMAPE:56.37909\tvalidation-rmse:0.36945\tvalidation-SMAPE:59.27560\n",
      "[230]\ttrain-rmse:0.34098\ttrain-SMAPE:56.21022\tvalidation-rmse:0.36873\tvalidation-SMAPE:59.17735\n",
      "[240]\ttrain-rmse:0.33882\ttrain-SMAPE:55.94169\tvalidation-rmse:0.36745\tvalidation-SMAPE:59.02677\n",
      "[250]\ttrain-rmse:0.33694\ttrain-SMAPE:55.70640\tvalidation-rmse:0.36641\tvalidation-SMAPE:58.88919\n",
      "[260]\ttrain-rmse:0.33507\ttrain-SMAPE:55.47928\tvalidation-rmse:0.36536\tvalidation-SMAPE:58.74922\n",
      "[270]\ttrain-rmse:0.33318\ttrain-SMAPE:55.23617\tvalidation-rmse:0.36436\tvalidation-SMAPE:58.60297\n",
      "[280]\ttrain-rmse:0.33181\ttrain-SMAPE:55.05092\tvalidation-rmse:0.36366\tvalidation-SMAPE:58.49410\n",
      "[290]\ttrain-rmse:0.33008\ttrain-SMAPE:54.84969\tvalidation-rmse:0.36277\tvalidation-SMAPE:58.38010\n",
      "[300]\ttrain-rmse:0.32861\ttrain-SMAPE:54.68010\tvalidation-rmse:0.36200\tvalidation-SMAPE:58.29591\n",
      "[310]\ttrain-rmse:0.32699\ttrain-SMAPE:54.47260\tvalidation-rmse:0.36121\tvalidation-SMAPE:58.18698\n",
      "[320]\ttrain-rmse:0.32548\ttrain-SMAPE:54.28512\tvalidation-rmse:0.36043\tvalidation-SMAPE:58.09371\n",
      "[330]\ttrain-rmse:0.32395\ttrain-SMAPE:54.10003\tvalidation-rmse:0.35977\tvalidation-SMAPE:58.01030\n",
      "[340]\ttrain-rmse:0.32231\ttrain-SMAPE:53.90008\tvalidation-rmse:0.35900\tvalidation-SMAPE:57.91087\n",
      "[350]\ttrain-rmse:0.32103\ttrain-SMAPE:53.73740\tvalidation-rmse:0.35848\tvalidation-SMAPE:57.83367\n",
      "[360]\ttrain-rmse:0.31962\ttrain-SMAPE:53.56972\tvalidation-rmse:0.35785\tvalidation-SMAPE:57.75980\n",
      "[370]\ttrain-rmse:0.31821\ttrain-SMAPE:53.39444\tvalidation-rmse:0.35726\tvalidation-SMAPE:57.67565\n",
      "[380]\ttrain-rmse:0.31698\ttrain-SMAPE:53.25026\tvalidation-rmse:0.35675\tvalidation-SMAPE:57.60058\n",
      "[390]\ttrain-rmse:0.31580\ttrain-SMAPE:53.09991\tvalidation-rmse:0.35624\tvalidation-SMAPE:57.53254\n",
      "[400]\ttrain-rmse:0.31460\ttrain-SMAPE:52.96294\tvalidation-rmse:0.35578\tvalidation-SMAPE:57.47648\n",
      "[410]\ttrain-rmse:0.31338\ttrain-SMAPE:52.82530\tvalidation-rmse:0.35535\tvalidation-SMAPE:57.40693\n",
      "[420]\ttrain-rmse:0.31197\ttrain-SMAPE:52.65393\tvalidation-rmse:0.35472\tvalidation-SMAPE:57.31310\n",
      "[430]\ttrain-rmse:0.31086\ttrain-SMAPE:52.51011\tvalidation-rmse:0.35430\tvalidation-SMAPE:57.25387\n",
      "[440]\ttrain-rmse:0.30967\ttrain-SMAPE:52.37778\tvalidation-rmse:0.35388\tvalidation-SMAPE:57.18917\n",
      "[450]\ttrain-rmse:0.30866\ttrain-SMAPE:52.25725\tvalidation-rmse:0.35357\tvalidation-SMAPE:57.14266\n",
      "[460]\ttrain-rmse:0.30760\ttrain-SMAPE:52.12593\tvalidation-rmse:0.35317\tvalidation-SMAPE:57.08201\n",
      "[470]\ttrain-rmse:0.30647\ttrain-SMAPE:51.99251\tvalidation-rmse:0.35276\tvalidation-SMAPE:57.03903\n",
      "[480]\ttrain-rmse:0.30522\ttrain-SMAPE:51.85084\tvalidation-rmse:0.35236\tvalidation-SMAPE:56.96911\n",
      "[490]\ttrain-rmse:0.30394\ttrain-SMAPE:51.69027\tvalidation-rmse:0.35183\tvalidation-SMAPE:56.89318\n",
      "[500]\ttrain-rmse:0.30290\ttrain-SMAPE:51.56685\tvalidation-rmse:0.35148\tvalidation-SMAPE:56.84591\n",
      "[510]\ttrain-rmse:0.30171\ttrain-SMAPE:51.41777\tvalidation-rmse:0.35106\tvalidation-SMAPE:56.78516\n",
      "[520]\ttrain-rmse:0.30076\ttrain-SMAPE:51.29494\tvalidation-rmse:0.35077\tvalidation-SMAPE:56.74017\n",
      "[530]\ttrain-rmse:0.29987\ttrain-SMAPE:51.18105\tvalidation-rmse:0.35052\tvalidation-SMAPE:56.71075\n",
      "[540]\ttrain-rmse:0.29880\ttrain-SMAPE:51.05064\tvalidation-rmse:0.35019\tvalidation-SMAPE:56.66392\n",
      "[550]\ttrain-rmse:0.29780\ttrain-SMAPE:50.92465\tvalidation-rmse:0.34987\tvalidation-SMAPE:56.61445\n",
      "[560]\ttrain-rmse:0.29680\ttrain-SMAPE:50.80056\tvalidation-rmse:0.34960\tvalidation-SMAPE:56.57402\n",
      "[570]\ttrain-rmse:0.29580\ttrain-SMAPE:50.68481\tvalidation-rmse:0.34937\tvalidation-SMAPE:56.55538\n",
      "[580]\ttrain-rmse:0.29489\ttrain-SMAPE:50.56882\tvalidation-rmse:0.34913\tvalidation-SMAPE:56.51724\n",
      "[590]\ttrain-rmse:0.29388\ttrain-SMAPE:50.43830\tvalidation-rmse:0.34885\tvalidation-SMAPE:56.47962\n",
      "[600]\ttrain-rmse:0.29303\ttrain-SMAPE:50.33043\tvalidation-rmse:0.34861\tvalidation-SMAPE:56.43986\n",
      "[610]\ttrain-rmse:0.29199\ttrain-SMAPE:50.19295\tvalidation-rmse:0.34828\tvalidation-SMAPE:56.37674\n",
      "[620]\ttrain-rmse:0.29089\ttrain-SMAPE:50.05704\tvalidation-rmse:0.34798\tvalidation-SMAPE:56.35112\n",
      "[630]\ttrain-rmse:0.28996\ttrain-SMAPE:49.94505\tvalidation-rmse:0.34773\tvalidation-SMAPE:56.31982\n",
      "[640]\ttrain-rmse:0.28892\ttrain-SMAPE:49.81992\tvalidation-rmse:0.34748\tvalidation-SMAPE:56.27991\n",
      "[650]\ttrain-rmse:0.28792\ttrain-SMAPE:49.69290\tvalidation-rmse:0.34724\tvalidation-SMAPE:56.23831\n",
      "[660]\ttrain-rmse:0.28714\ttrain-SMAPE:49.59503\tvalidation-rmse:0.34705\tvalidation-SMAPE:56.21054\n",
      "[670]\ttrain-rmse:0.28628\ttrain-SMAPE:49.48645\tvalidation-rmse:0.34683\tvalidation-SMAPE:56.18113\n",
      "[680]\ttrain-rmse:0.28538\ttrain-SMAPE:49.37384\tvalidation-rmse:0.34658\tvalidation-SMAPE:56.14029\n",
      "[690]\ttrain-rmse:0.28459\ttrain-SMAPE:49.27297\tvalidation-rmse:0.34646\tvalidation-SMAPE:56.12109\n",
      "[700]\ttrain-rmse:0.28373\ttrain-SMAPE:49.15999\tvalidation-rmse:0.34620\tvalidation-SMAPE:56.08259\n",
      "[710]\ttrain-rmse:0.28289\ttrain-SMAPE:49.05498\tvalidation-rmse:0.34600\tvalidation-SMAPE:56.04908\n",
      "[720]\ttrain-rmse:0.28209\ttrain-SMAPE:48.94716\tvalidation-rmse:0.34584\tvalidation-SMAPE:56.02049\n",
      "[730]\ttrain-rmse:0.28127\ttrain-SMAPE:48.85189\tvalidation-rmse:0.34565\tvalidation-SMAPE:55.99018\n",
      "[740]\ttrain-rmse:0.28045\ttrain-SMAPE:48.74352\tvalidation-rmse:0.34548\tvalidation-SMAPE:55.97146\n",
      "[749]\ttrain-rmse:0.27973\ttrain-SMAPE:48.65382\tvalidation-rmse:0.34534\tvalidation-SMAPE:55.95485\n"
     ]
    }
   ],
   "source": [
    "import xgboost as xgb\n",
    "from sklearn.model_selection import train_test_split\n",
    "from sklearn.metrics import mean_squared_error\n",
    "import numpy as np\n",
    "\n",
    "# 自定义 SMAPE 函数\n",
    "def smape(y_true, y_pred):\n",
    "    denominator = (np.abs(y_true) + np.abs(y_pred)) / 2.0\n",
    "    diff = np.abs(y_true - y_pred)\n",
    "    return np.mean(diff / denominator) * 100\n",
    "\n",
    "# 自定义评估函数\n",
    "def smape_eval(y_pred, dtrain):\n",
    "    y_true = dtrain.get_label()\n",
    "    smape_value = smape(y_true, y_pred)\n",
    "    return 'SMAPE', smape_value\n",
    "\n",
    "# 数据划分\n",
    "X_train, X_temp, y_train, y_temp = train_test_split(X_scaled, y_scaled, test_size=0.2, random_state=42)\n",
    "X_val, X_test, y_val, y_test = train_test_split(X_temp, y_temp, test_size=0.5, random_state=42)\n",
    "\n",
    "# 输出数据集大小\n",
    "print(f'训练集大小: {X_train.shape[0]}')\n",
    "print(f'验证集大小: {X_val.shape[0]}')\n",
    "print(f'测试集大小: {X_test.shape[0]}')\n",
    "\n",
    "# 转换为 DMatrix 格式\n",
    "dtrain = xgb.DMatrix(X_train, label=y_train)\n",
    "dval = xgb.DMatrix(X_val, label=y_val)\n",
    "dtest = xgb.DMatrix(X_test, label=y_test)\n",
    "\n",
    "# 设置参数\n",
    "params = {\n",
    "    'objective': 'reg:squarederror',\n",
    "    'learning_rate': 0.1,\n",
    "    'max_depth': 10,#10效果最好\n",
    "    'subsample': 0.8,#0.8效果最好\n",
    "    'colsample_bytree':1,\n",
    "    'alpha': 1,\n",
    "    \"lambda\":1\n",
    "}\n",
    "\n",
    "# 设置评估集\n",
    "evals = [(dtrain, 'train'), (dval, 'validation')]\n",
    "\n",
    "# 训练模型，使用自定义评估指标\n",
    "model = xgb.train(\n",
    "    params,\n",
    "    dtrain,\n",
    "    num_boost_round=750,\n",
    "    evals=evals,\n",
    "    early_stopping_rounds=10,\n",
    "    custom_metric=smape_eval,  # 使用 custom_metric 参数\n",
    "    verbose_eval=10 #隔多少轮显示一次\n",
    ")\n",
    "\n",
    "# 预测测试集\n",
    "y_pred = model.predict(dtest)\n",
    "\n",
    "# # 测试集 SMAPE 评估\n",
    "# test_smape = smape(y_test, y_pred)\n",
    "# print(f'SMAPE on Test Set: {test_smape:.2f}%')\n",
    "\n",
    "# # 测试集 MSE 评估\n",
    "# mse = mean_squared_error(y_test, y_pred)\n",
    "# print(f'Mean Squared Error on Test Set: {mse}')"
   ]
  },
  {
   "cell_type": "code",
   "execution_count": 13,
   "id": "c9d952ae",
   "metadata": {
    "ExecuteTime": {
     "end_time": "2024-12-27T08:07:01.370932Z",
     "start_time": "2024-12-27T08:07:01.367424Z"
    },
    "execution": {
     "iopub.execute_input": "2025-06-22T13:53:02.764022Z",
     "iopub.status.busy": "2025-06-22T13:53:02.762846Z",
     "iopub.status.idle": "2025-06-22T13:53:02.773241Z",
     "shell.execute_reply": "2025-06-22T13:53:02.772291Z",
     "shell.execute_reply.started": "2025-06-22T13:53:02.763985Z"
    }
   },
   "outputs": [
    {
     "data": {
      "text/plain": [
       "array([-0.17882934,  0.6666585 , -0.45674452, ...,  0.9540744 ,\n",
       "        2.4976468 ,  0.5420883 ], dtype=float32)"
      ]
     },
     "execution_count": 13,
     "metadata": {},
     "output_type": "execute_result"
    }
   ],
   "source": [
    "y_pred"
   ]
  },
  {
   "cell_type": "code",
   "execution_count": 14,
   "id": "cad5b420",
   "metadata": {
    "ExecuteTime": {
     "end_time": "2024-12-27T08:07:01.378491Z",
     "start_time": "2024-12-27T08:07:01.372059Z"
    },
    "execution": {
     "iopub.execute_input": "2025-06-22T13:53:02.774934Z",
     "iopub.status.busy": "2025-06-22T13:53:02.774589Z",
     "iopub.status.idle": "2025-06-22T13:53:02.781705Z",
     "shell.execute_reply": "2025-06-22T13:53:02.780638Z",
     "shell.execute_reply.started": "2025-06-22T13:53:02.774902Z"
    }
   },
   "outputs": [],
   "source": [
    "# 反标准化 y_test\n",
    "y_test_original = scaler_y.inverse_transform(y_test.values.reshape(-1, 1))\n",
    "\n",
    "# 反标准化预测结果 y_pred\n",
    "y_pred_original = scaler_y.inverse_transform(y_pred.reshape(-1, 1))"
   ]
  },
  {
   "cell_type": "code",
   "execution_count": 15,
   "id": "eb350a5e",
   "metadata": {
    "ExecuteTime": {
     "end_time": "2024-12-27T08:07:01.383001Z",
     "start_time": "2024-12-27T08:07:01.380516Z"
    },
    "execution": {
     "iopub.execute_input": "2025-06-22T13:53:02.783892Z",
     "iopub.status.busy": "2025-06-22T13:53:02.783046Z",
     "iopub.status.idle": "2025-06-22T13:53:02.789733Z",
     "shell.execute_reply": "2025-06-22T13:53:02.788738Z",
     "shell.execute_reply.started": "2025-06-22T13:53:02.783858Z"
    }
   },
   "outputs": [
    {
     "data": {
      "text/plain": [
       "array([[ 95.],\n",
       "       [162.],\n",
       "       [ 51.],\n",
       "       ...,\n",
       "       [180.],\n",
       "       [268.],\n",
       "       [139.]])"
      ]
     },
     "execution_count": 15,
     "metadata": {},
     "output_type": "execute_result"
    }
   ],
   "source": [
    "y_test_original"
   ]
  },
  {
   "cell_type": "code",
   "execution_count": 16,
   "id": "16f3699b",
   "metadata": {
    "ExecuteTime": {
     "end_time": "2024-12-27T08:07:01.386089Z",
     "start_time": "2024-12-27T08:07:01.383970Z"
    },
    "execution": {
     "iopub.execute_input": "2025-06-22T13:53:02.791693Z",
     "iopub.status.busy": "2025-06-22T13:53:02.791330Z",
     "iopub.status.idle": "2025-06-22T13:53:02.797942Z",
     "shell.execute_reply": "2025-06-22T13:53:02.796682Z",
     "shell.execute_reply.started": "2025-06-22T13:53:02.791661Z"
    }
   },
   "outputs": [
    {
     "data": {
      "text/plain": [
       "array([[111.92496],\n",
       "       [156.35725],\n",
       "       [ 97.31989],\n",
       "       ...,\n",
       "       [171.46161],\n",
       "       [252.57983],\n",
       "       [149.8108 ]], dtype=float32)"
      ]
     },
     "execution_count": 16,
     "metadata": {},
     "output_type": "execute_result"
    }
   ],
   "source": [
    "y_pred_original"
   ]
  },
  {
   "cell_type": "code",
   "execution_count": 17,
   "id": "56a5b674",
   "metadata": {
    "ExecuteTime": {
     "end_time": "2024-12-27T08:07:01.390218Z",
     "start_time": "2024-12-27T08:07:01.387276Z"
    },
    "execution": {
     "iopub.execute_input": "2025-06-22T13:53:02.799833Z",
     "iopub.status.busy": "2025-06-22T13:53:02.799109Z",
     "iopub.status.idle": "2025-06-22T13:53:02.807458Z",
     "shell.execute_reply": "2025-06-22T13:53:02.806459Z",
     "shell.execute_reply.started": "2025-06-22T13:53:02.799799Z"
    }
   },
   "outputs": [
    {
     "name": "stdout",
     "output_type": "stream",
     "text": [
      "\n",
      "20条测试结果（真实值 vs 预测值）:\n",
      "第1条: 真实值=95.0, 预测值=111.92\n",
      "第2条: 真实值=162.0, 预测值=156.36\n",
      "第3条: 真实值=51.0, 预测值=97.32\n",
      "第4条: 真实值=69.0, 预测值=76.69\n",
      "第5条: 真实值=49.0, 预测值=62.56\n",
      "第6条: 真实值=159.0, 预测值=161.34\n",
      "第7条: 真实值=26.0, 预测值=30.83\n",
      "第8条: 真实值=143.0, 预测值=145.40\n",
      "第9条: 真实值=104.0, 预测值=115.09\n",
      "第10条: 真实值=150.0, 预测值=138.01\n",
      "第11条: 真实值=161.0, 预测值=143.57\n",
      "第12条: 真实值=146.0, 预测值=121.69\n",
      "第13条: 真实值=101.0, 预测值=151.01\n",
      "第14条: 真实值=117.0, 预测值=100.97\n",
      "第15条: 真实值=123.0, 预测值=144.79\n",
      "第16条: 真实值=126.0, 预测值=138.97\n",
      "第17条: 真实值=73.0, 预测值=64.66\n",
      "第18条: 真实值=97.0, 预测值=137.16\n",
      "第19条: 真实值=40.0, 预测值=42.68\n",
      "第20条: 真实值=153.0, 预测值=145.50\n",
      "第21条: 真实值=107.0, 预测值=126.13\n",
      "第22条: 真实值=26.0, 预测值=52.28\n",
      "第23条: 真实值=242.0, 预测值=245.85\n",
      "第24条: 真实值=48.0, 预测值=50.85\n",
      "第25条: 真实值=173.0, 预测值=170.76\n",
      "第26条: 真实值=145.0, 预测值=136.00\n",
      "第27条: 真实值=83.0, 预测值=85.60\n",
      "第28条: 真实值=174.0, 预测值=155.58\n",
      "第29条: 真实值=93.0, 预测值=84.40\n",
      "第30条: 真实值=67.0, 预测值=75.51\n",
      "第31条: 真实值=177.0, 预测值=172.91\n",
      "第32条: 真实值=68.0, 预测值=77.68\n",
      "第33条: 真实值=39.0, 预测值=45.04\n",
      "第34条: 真实值=125.0, 预测值=115.44\n",
      "第35条: 真实值=98.0, 预测值=86.05\n",
      "第36条: 真实值=156.0, 预测值=149.01\n",
      "第37条: 真实值=104.0, 预测值=155.39\n",
      "第38条: 真实值=183.0, 预测值=170.84\n",
      "第39条: 真实值=151.0, 预测值=160.43\n",
      "第40条: 真实值=125.0, 预测值=155.10\n"
     ]
    }
   ],
   "source": [
    "# 正确的写法\n",
    "test_results = list(zip(y_test_original[:100], y_pred_original[:100]))  # 真实值和预测值\n",
    "\n",
    "print(\"\\n20条测试结果（真实值 vs 预测值）:\")\n",
    "for i, (true_value, pred_value) in enumerate(test_results[:40]):\n",
    "    # 如果是多维数组，使用 .item() 转换为标量\n",
    "    true_value = true_value.item() if isinstance(true_value, np.ndarray) else true_value\n",
    "    pred_value = pred_value.item() if isinstance(pred_value, np.ndarray) else pred_value\n",
    "    print(f\"第{i+1}条: 真实值={true_value}, 预测值={pred_value:.2f}\")\n"
   ]
  },
  {
   "cell_type": "code",
   "execution_count": 18,
   "id": "6e830ae7",
   "metadata": {
    "ExecuteTime": {
     "end_time": "2024-12-27T08:07:01.412058Z",
     "start_time": "2024-12-27T08:07:01.391353Z"
    },
    "execution": {
     "iopub.execute_input": "2025-06-22T13:53:02.809448Z",
     "iopub.status.busy": "2025-06-22T13:53:02.808769Z",
     "iopub.status.idle": "2025-06-22T13:53:02.830504Z",
     "shell.execute_reply": "2025-06-22T13:53:02.829447Z",
     "shell.execute_reply.started": "2025-06-22T13:53:02.809389Z"
    }
   },
   "outputs": [
    {
     "name": "stdout",
     "output_type": "stream",
     "text": [
      "Mean Squared Error (MSE): 323.7294\n",
      "Root Mean Squared Error (RMSE): 17.9925\n",
      "Mean Absolute Error (MAE): 13.4850\n",
      "Mean Absolute Percentage Error (MAPE): 15.5243%\n",
      "Symmetric Mean Absolute Percentage Error (SMAPE): 14.0045%\n",
      "R-squared (R²): 0.8829\n"
     ]
    }
   ],
   "source": [
    "import numpy as np\n",
    "from sklearn.metrics import mean_squared_error, mean_absolute_error, r2_score\n",
    "\n",
    "def calculate_smape(y_true, y_pred):\n",
    "    \"\"\"\n",
    "    计算 Symmetric Mean Absolute Percentage Error (SMAPE)\n",
    "    \"\"\"\n",
    "    y_true, y_pred = np.array(y_true).ravel(), np.array(y_pred).ravel()\n",
    "    denominator = (np.abs(y_true) + np.abs(y_pred)) / 2.0\n",
    "    diff = np.abs(y_pred - y_true)\n",
    "    \n",
    "    # 避免除以零，将分母中为零的项替换为一个小值\n",
    "    denominator = np.where(denominator == 0, 1e-8, denominator)\n",
    "    \n",
    "    smape = 100 * np.mean(diff / denominator)\n",
    "    return smape\n",
    "\n",
    "\n",
    "def calculate_mape(y_true, y_pred):\n",
    "    \"\"\"\n",
    "    计算 Mean Absolute Percentage Error (MAPE)\n",
    "    \"\"\"\n",
    "    y_true, y_pred = np.array(y_true).ravel(), np.array(y_pred).ravel()\n",
    "    \n",
    "    # 避免除以零，将 y_true 中的零值替换为一个小值\n",
    "    y_true = np.where(y_true == 0, 1e-8, y_true)\n",
    "    \n",
    "    mape = 100 * np.mean(np.abs((y_true - y_pred) / y_true))\n",
    "    return mape\n",
    "\n",
    "\n",
    "# 假设 y_test 和 y_pred 已经是标准化反归一化后的数据\n",
    "# 将其转换为一维数组以确保形状一致\n",
    "y_test = np.array(y_test_original).ravel()\n",
    "y_pred = np.array(y_pred_original).ravel()\n",
    "\n",
    "# 评估指标\n",
    "mse = mean_squared_error(y_test, y_pred)\n",
    "mae = mean_absolute_error(y_test, y_pred)\n",
    "rmse = np.sqrt(mse)\n",
    "mape = calculate_mape(y_test, y_pred)\n",
    "smape = calculate_smape(y_test, y_pred)\n",
    "r2 = r2_score(y_test, y_pred)\n",
    "\n",
    "# 打印结果\n",
    "print(f'Mean Squared Error (MSE): {mse:.4f}')\n",
    "print(f'Root Mean Squared Error (RMSE): {rmse:.4f}')\n",
    "print(f'Mean Absolute Error (MAE): {mae:.4f}')\n",
    "print(f'Mean Absolute Percentage Error (MAPE): {mape:.4f}%')\n",
    "print(f'Symmetric Mean Absolute Percentage Error (SMAPE): {smape:.4f}%')\n",
    "print(f'R-squared (R²): {r2:.4f}')"
   ]
  },
  {
   "cell_type": "markdown",
   "id": "02bc958d",
   "metadata": {},
   "source": [
    "似乎对于较小值预测存在误差"
   ]
  },
  {
   "cell_type": "markdown",
   "id": "dd4598a3",
   "metadata": {},
   "source": [
    "## 保存模型"
   ]
  },
  {
   "cell_type": "code",
   "execution_count": 19,
   "id": "cd242864",
   "metadata": {
    "ExecuteTime": {
     "end_time": "2024-12-27T01:28:46.750343Z",
     "start_time": "2024-12-27T01:28:45.224936Z"
    },
    "execution": {
     "iopub.execute_input": "2025-06-22T13:53:02.831978Z",
     "iopub.status.busy": "2025-06-22T13:53:02.831651Z",
     "iopub.status.idle": "2025-06-22T13:53:04.296549Z",
     "shell.execute_reply": "2025-06-22T13:53:04.295522Z",
     "shell.execute_reply.started": "2025-06-22T13:53:02.831946Z"
    }
   },
   "outputs": [
    {
     "name": "stdout",
     "output_type": "stream",
     "text": [
      "模型已保存为 xgboost_model_1000.json\n"
     ]
    }
   ],
   "source": [
    "model.save_model(\"../../my/model/频率编码/归一化_xgboost_model_1000.json\")\n",
    "print(\"模型已保存为 xgboost_model_1000.json\")"
   ]
  },
  {
   "cell_type": "markdown",
   "id": "49cd202e",
   "metadata": {},
   "source": [
    "## 超参数设置"
   ]
  },
  {
   "cell_type": "markdown",
   "id": "16cb90e9",
   "metadata": {},
   "source": [
    "## 不同特征重要程度测试"
   ]
  },
  {
   "cell_type": "code",
   "execution_count": 20,
   "id": "7c5789db",
   "metadata": {
    "ExecuteTime": {
     "end_time": "2024-12-26T03:53:32.707910Z",
     "start_time": "2024-12-26T03:53:31.789481Z"
    },
    "execution": {
     "iopub.execute_input": "2025-06-22T13:53:04.298462Z",
     "iopub.status.busy": "2025-06-22T13:53:04.298118Z",
     "iopub.status.idle": "2025-06-22T13:53:04.302490Z",
     "shell.execute_reply": "2025-06-22T13:53:04.301551Z",
     "shell.execute_reply.started": "2025-06-22T13:53:04.298427Z"
    },
    "scrolled": true
   },
   "outputs": [],
   "source": [
    "# import xgboost as xgb\n",
    "# import matplotlib.pyplot as plt\n",
    "\n",
    "# # 假设 model 是训练好的 XGBoost 模型\n",
    "# xgb.plot_importance(model, importance_type='weight', title=\"Feature Importance (Weight)\", height=0.5)\n",
    "# plt.show()\n",
    "\n",
    "# xgb.plot_importance(model, importance_type='gain', title=\"Feature Importance (Gain)\", height=0.5)\n",
    "# plt.show()\n",
    "\n",
    "# xgb.plot_importance(model, importance_type='cover', title=\"Feature Importance (Cover)\", height=0.5)\n",
    "# plt.show()"
   ]
  },
  {
   "cell_type": "markdown",
   "id": "fe396b1f",
   "metadata": {},
   "source": []
  }
 ],
 "metadata": {
  "kernelspec": {
   "display_name": "Python 3 (ipykernel)",
   "language": "python",
   "name": "python3"
  },
  "language_info": {
   "codemirror_mode": {
    "name": "ipython",
    "version": 3
   },
   "file_extension": ".py",
   "mimetype": "text/x-python",
   "name": "python",
   "nbconvert_exporter": "python",
   "pygments_lexer": "ipython3",
   "version": "3.10.15"
  },
  "toc": {
   "base_numbering": 1,
   "nav_menu": {},
   "number_sections": true,
   "sideBar": true,
   "skip_h1_title": false,
   "title_cell": "Table of Contents",
   "title_sidebar": "Contents",
   "toc_cell": false,
   "toc_position": {
    "height": "753.993px",
    "left": "28px",
    "top": "236px",
    "width": "377.641px"
   },
   "toc_section_display": true,
   "toc_window_display": true
  },
  "varInspector": {
   "cols": {
    "lenName": 16,
    "lenType": 16,
    "lenVar": 40
   },
   "kernels_config": {
    "python": {
     "delete_cmd_postfix": "",
     "delete_cmd_prefix": "del ",
     "library": "var_list.py",
     "varRefreshCmd": "print(var_dic_list())"
    },
    "r": {
     "delete_cmd_postfix": ") ",
     "delete_cmd_prefix": "rm(",
     "library": "var_list.r",
     "varRefreshCmd": "cat(var_dic_list()) "
    }
   },
   "types_to_exclude": [
    "module",
    "function",
    "builtin_function_or_method",
    "instance",
    "_Feature"
   ],
   "window_display": true
  }
 },
 "nbformat": 4,
 "nbformat_minor": 5
}
