{
 "cells": [
  {
   "cell_type": "markdown",
   "id": "301c67c8",
   "metadata": {},
   "source": [
    "阶段1：构造模型\n",
    "\n",
    "在票价确定的前提下，预测各航段的客流量（已完成）。\n",
    "\n",
    "阶段2：解析过程\n",
    "\n",
    "根据客流信息分配舱位，以确定总收益。\n",
    "客舱分为两类：短途类（AB或BC，称为S类）和长途类（AC，称为L类），总容量为C。\n",
    "\n",
    "根据是否满座进行分类：\n",
    "\n",
    "若不满座（S+L≤C），则按S、L和C的预测比例分配舱位，以实现收益最大化。\n",
    "若满座（S+L>C），则需根据销售量变化预测进行取舍，并作如下判断：\n",
    "若票价AB+BC>AC，则优先将舱位拆分为AB和BC段销售，S的值取min(AB, BC)，其余舱位分配给L。\n",
    "若票价AB+BC<AC，则优先分配舱位给AC段，剩余舱位分配给AB和BC段。\n",
    "\n",
    "阶段3：求总收益最大值\n",
    "\n",
    "以票价为自变量，总收益为因变量，绘制总收益曲线，并求出总收益的最大值。"
   ]
  },
  {
   "cell_type": "code",
   "execution_count": 1,
   "id": "47a0f644-d2b5-40eb-aa58-0d41ffd40137",
   "metadata": {
    "ExecuteTime": {
     "end_time": "2025-10-19T11:10:33.990786Z",
     "start_time": "2025-10-19T11:10:33.687008Z"
    },
    "execution": {
     "iopub.execute_input": "2025-06-20T16:13:55.573047Z",
     "iopub.status.busy": "2025-06-20T16:13:55.572738Z",
     "iopub.status.idle": "2025-06-20T16:13:55.709375Z",
     "shell.execute_reply": "2025-06-20T16:13:55.708086Z",
     "shell.execute_reply.started": "2025-06-20T16:13:55.572996Z"
    }
   },
   "outputs": [
    {
     "name": "stdout",
     "output_type": "stream",
     "text": [
      "/data/zy/anaconda3/envs/machine/bin/python\r\n"
     ]
    }
   ],
   "source": [
    "! which python"
   ]
  },
  {
   "cell_type": "markdown",
   "id": "3d92ca55-f597-48c7-8afe-4d18253d04d2",
   "metadata": {},
   "source": [
    "# 加载CSV数据"
   ]
  },
  {
   "cell_type": "markdown",
   "id": "f4c1036b",
   "metadata": {},
   "source": [
    "## 加载CSV文件"
   ]
  },
  {
   "cell_type": "code",
   "execution_count": 2,
   "id": "33797ad6",
   "metadata": {
    "ExecuteTime": {
     "end_time": "2025-10-19T11:10:37.713647Z",
     "start_time": "2025-10-19T11:10:33.995690Z"
    },
    "execution": {
     "iopub.execute_input": "2025-06-20T16:13:55.711621Z",
     "iopub.status.busy": "2025-06-20T16:13:55.711240Z",
     "iopub.status.idle": "2025-06-20T16:14:00.656583Z",
     "shell.execute_reply": "2025-06-20T16:14:00.655554Z",
     "shell.execute_reply.started": "2025-06-20T16:13:55.711588Z"
    },
    "scrolled": true
   },
   "outputs": [
    {
     "name": "stdout",
     "output_type": "stream",
     "text": [
      "(2096151, 14)\n",
      "     flt_date        segment  flt_no  dep_time    cap aircraft  legs  leg_no  \\\n",
      "0  2023-01-01  a9f275-24cc4b  3c6705  14:35:00  110.0      195     1       1   \n",
      "1  2023-01-01  32edcc-d56796  5cb692  14:05:00   94.0      190     3       2   \n",
      "2  2023-01-01  d56796-ec1b13  de569b  18:00:00   94.0      190     3       1   \n",
      "3  2023-01-01  854d0a-d56796  de5522  18:50:00   94.0      190     3       2   \n",
      "4  2023-01-01  d56796-24cc4b  6a67d9  22:40:00  110.0      195     1       1   \n",
      "\n",
      "   duration  tkt_rev  pax       a       b       c  \n",
      "0      1.30  45636.0   97  a9f275  24cc4b  7f9c2b  \n",
      "1      1.23   3700.0    7  32edcc  d56796  854d0a  \n",
      "2      1.50   1510.0    2  d56796  ec1b13  dcf90a  \n",
      "3      0.70    620.0    2  854d0a  d56796  32edcc  \n",
      "4      1.25  30480.0   67  d56796  24cc4b  7f9c2b  \n",
      "           flt_date        segment  flt_no  dep_time    cap aircraft  legs  \\\n",
      "2096146  2025-07-01  e5aeda-08f792  2f5ac7  13:10:00  161.0      738     3   \n",
      "2096147  2025-07-01  08f792-1231a3  8b52d8  11:10:00  161.0      738     1   \n",
      "2096148  2025-07-01  08f792-f89157  cac556  13:50:00  161.0      738     1   \n",
      "2096149  2025-07-01  08f792-dcf90a  0bd968  11:45:00  188.0      7MZ     1   \n",
      "2096150  2025-07-01  08f792-dcf90a  2befc2  20:55:00  161.0      738     1   \n",
      "\n",
      "         leg_no  duration   tkt_rev  pax       a       b       c  \n",
      "2096146       2      2.58   85400.0  128  e5aeda  08f792  1231a3  \n",
      "2096147       1      2.60   98820.0  152  08f792  1231a3  7f9c2b  \n",
      "2096148       1      1.77  123760.0  149  08f792  f89157  7f9c2b  \n",
      "2096149       1      2.40  107720.0  144  08f792  dcf90a  7f9c2b  \n",
      "2096150       1      2.48  105060.0  142  08f792  dcf90a  7f9c2b  \n"
     ]
    }
   ],
   "source": [
    "import pandas as pd\n",
    "import numpy as np\n",
    "\n",
    "# 读取CSV文件\n",
    "# /Users/zhanyu/code/data-hh/海航系销售结果数据\n",
    "# df = pd.read_csv('../train_data/海航系销售结果数据.csv')\n",
    "df = pd.read_csv('data_hh/result/cap_补全后.csv',index_col=0)\n",
    "# df = pd.read_csv('data_hh/航班销售结果数据_2023-01-01_2025-07-01_encrypt.csv',index_col=0)\n",
    "\n",
    "# 显示前两行数据以确保正确加载\n",
    "print(df.shape)\n",
    "print(df.head(5))\n",
    "print(df.tail(5))"
   ]
  },
  {
   "cell_type": "markdown",
   "id": "86e00069-793d-41fb-841d-54151e4e6150",
   "metadata": {
    "execution": {
     "iopub.execute_input": "2025-02-25T07:24:27.852139Z",
     "iopub.status.busy": "2025-02-25T07:24:27.851713Z",
     "iopub.status.idle": "2025-02-25T07:24:27.856720Z",
     "shell.execute_reply": "2025-02-25T07:24:27.855779Z",
     "shell.execute_reply.started": "2025-02-25T07:24:27.852105Z"
    }
   },
   "source": [
    "现在的数据相对于之前的缺失了bd_type字段，理论上来说补充更好，但是这个另一个角度来说，有aircraft就够了，我们暂时先不补充这一点，有时间了再补充"
   ]
  },
  {
   "cell_type": "markdown",
   "id": "7c523fb7-ef8d-4b98-a54b-82a5c1727fb7",
   "metadata": {
    "ExecuteTime": {
     "end_time": "2024-12-24T05:36:56.926502Z",
     "start_time": "2024-12-24T05:36:48.586151Z"
    },
    "scrolled": true
   },
   "source": [
    "## 查看一些字段的统计情况"
   ]
  },
  {
   "cell_type": "markdown",
   "id": "f43a0e82-4971-4018-aea9-d667be14bcdd",
   "metadata": {},
   "source": [
    "### 对flt_no字段进行了查看"
   ]
  },
  {
   "cell_type": "code",
   "execution_count": 3,
   "id": "1456eb5a-ab8a-4dcc-8baa-e1791d2766e1",
   "metadata": {
    "ExecuteTime": {
     "end_time": "2025-10-19T11:10:38.169974Z",
     "start_time": "2025-10-19T11:10:37.717819Z"
    },
    "execution": {
     "iopub.execute_input": "2025-06-20T16:14:00.659634Z",
     "iopub.status.busy": "2025-06-20T16:14:00.659293Z",
     "iopub.status.idle": "2025-06-20T16:14:01.268013Z",
     "shell.execute_reply": "2025-06-20T16:14:01.267004Z",
     "shell.execute_reply.started": "2025-06-20T16:14:00.659602Z"
    }
   },
   "outputs": [
    {
     "name": "stdout",
     "output_type": "stream",
     "text": [
      "第0列的列名: flt_no\n",
      "\n",
      "第0列中的数据类型：\n",
      "[<class 'str'>]\n",
      "\n",
      "第0列中的唯一值示例：\n",
      "['3c6705' '5cb692' 'de569b' ... '4e0f13' '904919' 'f29522']\n",
      "\n",
      "第2列的取值及其数量：\n",
      "flt_no\n",
      "e314e5    4170\n",
      "f3ca4a    4168\n",
      "f53fa1    3521\n",
      "ff9f48    3501\n",
      "26ed31    3427\n",
      "          ... \n",
      "1b6336       1\n",
      "dbd072       1\n",
      "df3a7c       1\n",
      "824fb5       1\n",
      "397c06       1\n",
      "Name: count, Length: 4894, dtype: int64\n"
     ]
    }
   ],
   "source": [
    "# 获取第2列的列名\n",
    "first_column_name = df.columns[2]\n",
    "print(\"第0列的列名:\", first_column_name)\n",
    "\n",
    "# 查看第2列的唯一值类型\n",
    "unique_types = df.iloc[:, 2].apply(type).unique()\n",
    "print(\"\\n第0列中的数据类型：\")\n",
    "print(unique_types)\n",
    "\n",
    "# 查看第2列的唯一值\n",
    "unique_values = df.iloc[:, 2].unique()\n",
    "print(\"\\n第0列中的唯一值示例：\")\n",
    "print(unique_values[:-1])  # 显示前10个唯一值\n",
    "\n",
    "# 统计第2列每个取值的数量\n",
    "value_counts = df.iloc[:, 2].value_counts()\n",
    "\n",
    "# 输出每种取值及其数量\n",
    "print(\"\\n第2列的取值及其数量：\")\n",
    "print(value_counts)"
   ]
  },
  {
   "cell_type": "markdown",
   "id": "413e368f-3388-4be7-b2b0-2ebfa5b13bbf",
   "metadata": {},
   "source": [
    "### 对legs字段进行了统计"
   ]
  },
  {
   "cell_type": "code",
   "execution_count": 4,
   "id": "111d3107-6074-4c8f-96c7-1088b519be13",
   "metadata": {
    "ExecuteTime": {
     "end_time": "2025-10-19T11:10:38.390381Z",
     "start_time": "2025-10-19T11:10:38.173175Z"
    },
    "execution": {
     "iopub.execute_input": "2025-06-20T16:14:01.269458Z",
     "iopub.status.busy": "2025-06-20T16:14:01.269119Z",
     "iopub.status.idle": "2025-06-20T16:14:01.606272Z",
     "shell.execute_reply": "2025-06-20T16:14:01.605226Z",
     "shell.execute_reply.started": "2025-06-20T16:14:01.269399Z"
    }
   },
   "outputs": [
    {
     "name": "stdout",
     "output_type": "stream",
     "text": [
      "列名: legs\n",
      "\n",
      "'legs' 列中的数据类型：\n",
      "[<class 'int'>]\n",
      "\n",
      "'legs' 列中的唯一值示例：\n",
      "[1 3 4]\n",
      "\n",
      "'legs' 列的取值及其数量：\n",
      "legs\n",
      "1    1152295\n",
      "3     943605\n",
      "4        251\n",
      "Name: count, dtype: int64\n"
     ]
    }
   ],
   "source": [
    "# 获取 'legs' 列的列名\n",
    "legs_column_name = 'legs'  # 或者可以使用 df.columns[2] 如果 'legs' 是第3列\n",
    "print(f\"列名: {legs_column_name}\")\n",
    "\n",
    "# 查看 'legs' 列的唯一值类型\n",
    "unique_types = df[legs_column_name].apply(type).unique()\n",
    "print(\"\\n'legs' 列中的数据类型：\")\n",
    "print(unique_types)\n",
    "\n",
    "# 查看 'legs' 列的唯一值\n",
    "unique_values = df[legs_column_name].unique()\n",
    "print(\"\\n'legs' 列中的唯一值示例：\")\n",
    "print(unique_values[:10])  # 显示前10个唯一值（你可以调整数量）\n",
    "\n",
    "# 统计 'legs' 列每个取值的数量\n",
    "value_counts = df[legs_column_name].value_counts()\n",
    "\n",
    "# 输出每种取值及其数量\n",
    "print(\"\\n'legs' 列的取值及其数量：\")\n",
    "print(value_counts)"
   ]
  },
  {
   "cell_type": "markdown",
   "id": "581f4916-9f6c-41e1-bb30-2272bb63e8af",
   "metadata": {},
   "source": [
    "### 对leg_no字段进行了统计"
   ]
  },
  {
   "cell_type": "code",
   "execution_count": 5,
   "id": "444fd9f9-e534-4fcf-9d97-14bb9e82c62b",
   "metadata": {
    "ExecuteTime": {
     "end_time": "2025-10-19T11:10:38.610789Z",
     "start_time": "2025-10-19T11:10:38.392842Z"
    },
    "execution": {
     "iopub.execute_input": "2025-06-20T16:14:01.608115Z",
     "iopub.status.busy": "2025-06-20T16:14:01.607803Z",
     "iopub.status.idle": "2025-06-20T16:14:01.952161Z",
     "shell.execute_reply": "2025-06-20T16:14:01.950638Z",
     "shell.execute_reply.started": "2025-06-20T16:14:01.608083Z"
    }
   },
   "outputs": [
    {
     "name": "stdout",
     "output_type": "stream",
     "text": [
      "列名: leg_no\n",
      "\n",
      "'leg_no' 列中的数据类型：\n",
      "[<class 'int'>]\n",
      "\n",
      "'leg_no' 列中的唯一值示例：\n",
      "[1 2 3 4]\n",
      "\n",
      "'leg_no' 列的取值及其数量：\n",
      "leg_no\n",
      "1    1466869\n",
      "3     314604\n",
      "2     314552\n",
      "4        126\n",
      "Name: count, dtype: int64\n"
     ]
    }
   ],
   "source": [
    "# 获取 'leg_no' 列的列名\n",
    "leg_no_column_name = 'leg_no'  # 如果列名不是 'leg_no'，请更改为实际的列名\n",
    "print(f\"列名: {leg_no_column_name}\")\n",
    "\n",
    "# 查看 'leg_no' 列的唯一值类型\n",
    "unique_types = df[leg_no_column_name].apply(type).unique()\n",
    "print(\"\\n'leg_no' 列中的数据类型：\")\n",
    "print(unique_types)\n",
    "\n",
    "# 查看 'leg_no' 列的唯一值\n",
    "unique_values = df[leg_no_column_name].unique()\n",
    "print(\"\\n'leg_no' 列中的唯一值示例：\")\n",
    "print(unique_values[:10])  # 显示前10个唯一值（你可以调整数量）\n",
    "\n",
    "# 统计 'leg_no' 列每个取值的数量\n",
    "value_counts = df[leg_no_column_name].value_counts()\n",
    "\n",
    "# 输出每种取值及其数量\n",
    "print(\"\\n'leg_no' 列的取值及其数量：\")\n",
    "print(value_counts)"
   ]
  },
  {
   "cell_type": "markdown",
   "id": "ef9c2d72-7cd8-4101-9dc5-b83f1bcab287",
   "metadata": {},
   "source": [
    "### 对duration字段进行了统计"
   ]
  },
  {
   "cell_type": "code",
   "execution_count": 6,
   "id": "f77ac3c3-135c-4ff1-973e-8383bfa2a99a",
   "metadata": {
    "ExecuteTime": {
     "end_time": "2025-10-19T11:10:38.913517Z",
     "start_time": "2025-10-19T11:10:38.612911Z"
    },
    "execution": {
     "iopub.execute_input": "2025-06-20T16:14:01.954005Z",
     "iopub.status.busy": "2025-06-20T16:14:01.953374Z",
     "iopub.status.idle": "2025-06-20T16:14:02.457862Z",
     "shell.execute_reply": "2025-06-20T16:14:02.456896Z",
     "shell.execute_reply.started": "2025-06-20T16:14:01.953972Z"
    }
   },
   "outputs": [
    {
     "name": "stdout",
     "output_type": "stream",
     "text": [
      "列名: duration\n",
      "\n",
      "'duration' 列中的数据类型：\n",
      "[<class 'float'>]\n",
      "\n",
      "'duration' 列中的唯一值示例：\n",
      "[1.3  1.23 1.5  0.7  1.25 4.75 1.83 3.98 1.45 3.02]\n",
      "\n",
      "'duration' 列的取值及其数量：\n",
      "duration\n",
      "2.25     20244\n",
      "2.08     19913\n",
      "2.17     19865\n",
      "2.20     19491\n",
      "2.18     19394\n",
      "         ...  \n",
      "30.52        1\n",
      "1.19         1\n",
      "0.38         1\n",
      "10.33        1\n",
      "9.47         1\n",
      "Name: count, Length: 919, dtype: int64\n"
     ]
    }
   ],
   "source": [
    "# 获取 'duration' 列的列名\n",
    "duration_column_name = 'duration'  # 如果列名不是 'duration'，请更改为实际的列名\n",
    "print(f\"列名: {duration_column_name}\")\n",
    "\n",
    "# 查看 'duration' 列的唯一值类型\n",
    "unique_types = df[duration_column_name].apply(type).unique()\n",
    "print(\"\\n'duration' 列中的数据类型：\")\n",
    "print(unique_types)\n",
    "\n",
    "# 查看 'duration' 列的唯一值\n",
    "unique_values = df[duration_column_name].unique()\n",
    "print(\"\\n'duration' 列中的唯一值示例：\")\n",
    "print(unique_values[:10])  # 显示前10个唯一值（你可以调整数量）\n",
    "\n",
    "# 统计 'duration' 列每个取值的数量\n",
    "value_counts = df[duration_column_name].value_counts()\n",
    "\n",
    "# 输出每种取值及其数量\n",
    "print(\"\\n'duration' 列的取值及其数量：\")\n",
    "print(value_counts)"
   ]
  },
  {
   "cell_type": "markdown",
   "id": "b4b45f9e-e72b-4601-80d4-93ead41d5288",
   "metadata": {},
   "source": [
    "# 依次处理特征"
   ]
  },
  {
   "cell_type": "code",
   "execution_count": null,
   "id": "6b704f8e-c027-4ea2-add6-a0d8387aa483",
   "metadata": {},
   "outputs": [],
   "source": []
  },
  {
   "cell_type": "markdown",
   "id": "cd54d05e",
   "metadata": {},
   "source": [
    "## 拆分 flt_date 为 year, month, day, weekday"
   ]
  },
  {
   "cell_type": "code",
   "execution_count": 7,
   "id": "4a1bbb64",
   "metadata": {
    "ExecuteTime": {
     "end_time": "2025-10-19T11:10:39.103599Z",
     "start_time": "2025-10-19T11:10:38.915748Z"
    },
    "execution": {
     "iopub.execute_input": "2025-06-20T16:14:02.459753Z",
     "iopub.status.busy": "2025-06-20T16:14:02.459095Z",
     "iopub.status.idle": "2025-06-20T16:14:02.708464Z",
     "shell.execute_reply": "2025-06-20T16:14:02.707466Z",
     "shell.execute_reply.started": "2025-06-20T16:14:02.459720Z"
    }
   },
   "outputs": [],
   "source": [
    "# 将 'flt_date' 列转换为 datetime 格式\n",
    "df['flt_date'] = pd.to_datetime(df['flt_date'])\n",
    "\n",
    "# # 提取年、月、日和星期几\n",
    "# df['year'] = df['flt_date'].dt.year\n",
    "# df['month'] = df['flt_date'].dt.month\n",
    "# df['day'] = df['flt_date'].dt.day\n",
    "# df['weekday'] = df['flt_date'].dt.weekday  # 0 = Monday, 6 = Sunday\n",
    "\n",
    "# # 删除原始的 'flt_date' 字段\n",
    "# df = df.drop(columns=['flt_date'])\n",
    "\n",
    "# print(df.shape)\n",
    "# print(df.head(5))\n",
    "# print(df.tail(5))"
   ]
  },
  {
   "cell_type": "markdown",
   "id": "ea5afd2d",
   "metadata": {},
   "source": [
    "## 拆分 dep_time 为 hour, minute, second"
   ]
  },
  {
   "cell_type": "markdown",
   "id": "a777fb70-9ffb-4eb6-9002-780929fe3967",
   "metadata": {},
   "source": [
    "我们统计后发现所有行的second字段全是0，所以这个特征没用，所以删了"
   ]
  },
  {
   "cell_type": "code",
   "execution_count": 8,
   "id": "be55eb87",
   "metadata": {
    "ExecuteTime": {
     "end_time": "2025-10-19T11:10:39.109199Z",
     "start_time": "2025-10-19T11:10:39.105944Z"
    },
    "execution": {
     "iopub.execute_input": "2025-06-20T16:14:02.710428Z",
     "iopub.status.busy": "2025-06-20T16:14:02.709940Z",
     "iopub.status.idle": "2025-06-20T16:14:02.714571Z",
     "shell.execute_reply": "2025-06-20T16:14:02.713696Z",
     "shell.execute_reply.started": "2025-06-20T16:14:02.710369Z"
    }
   },
   "outputs": [],
   "source": [
    "# # 拆分 'dep_time' 字段\n",
    "# df[['hour', 'minute', 'second']] = df['dep_time'].str.split(':', expand=True)\n",
    "\n",
    "# # 将拆分的结果转换为整数\n",
    "# df['hour'] = df['hour'].astype(int)\n",
    "# df['minute'] = df['minute'].astype(int)\n",
    "# df['second'] = df['second'].astype(int)\n",
    "\n",
    "# # 删除原始的 'dep_time' 字段\n",
    "# df = df.drop(columns=['dep_time'])\n",
    "\n",
    "# # 删除 'second' 字段\n",
    "# df = df.drop(columns=['second'])\n",
    "\n",
    "# # 查看结果\n",
    "# print(df.shape)\n",
    "# print(df.head(5))\n",
    "# print(df.tail(5))"
   ]
  },
  {
   "cell_type": "markdown",
   "id": "38b8b440",
   "metadata": {},
   "source": [
    "## 拆分 segment 为 from 和 to"
   ]
  },
  {
   "cell_type": "markdown",
   "id": "0872944e-dfe5-4947-b96c-60c85d450f7f",
   "metadata": {},
   "source": [
    "对segment进行了统计，所有的segment长度都为6，没有不对的segment"
   ]
  },
  {
   "cell_type": "code",
   "execution_count": 9,
   "id": "d8686147",
   "metadata": {
    "ExecuteTime": {
     "end_time": "2025-10-19T11:10:39.114302Z",
     "start_time": "2025-10-19T11:10:39.111257Z"
    },
    "execution": {
     "iopub.execute_input": "2025-06-20T16:14:02.716131Z",
     "iopub.status.busy": "2025-06-20T16:14:02.715835Z",
     "iopub.status.idle": "2025-06-20T16:14:02.720618Z",
     "shell.execute_reply": "2025-06-20T16:14:02.719697Z",
     "shell.execute_reply.started": "2025-06-20T16:14:02.716101Z"
    }
   },
   "outputs": [],
   "source": [
    "# # 提取 'segment' 列的前三个字符作为 'from' 列\n",
    "# df['from'] = df['segment'].str[:3]\n",
    "\n",
    "# # 提取 'segment' 列的后三个字符作为 'to' 列\n",
    "# df['to'] = df['segment'].str[-3:]\n",
    "\n",
    "# # 删除原始的 'segment' 字段\n",
    "# df = df.drop(columns=['segment'])\n",
    "\n",
    "# # 查看结果\n",
    "# print(df.shape)\n",
    "# print(df.head(2))\n",
    "# print(df.tail(2))"
   ]
  },
  {
   "cell_type": "markdown",
   "id": "e8a8e51e",
   "metadata": {},
   "source": [
    "## 删除pax异常的行"
   ]
  },
  {
   "cell_type": "code",
   "execution_count": 10,
   "id": "59c71bd9",
   "metadata": {
    "ExecuteTime": {
     "end_time": "2025-10-19T11:10:39.148765Z",
     "start_time": "2025-10-19T11:10:39.118699Z"
    },
    "execution": {
     "iopub.execute_input": "2025-06-20T16:14:02.721968Z",
     "iopub.status.busy": "2025-06-20T16:14:02.721643Z",
     "iopub.status.idle": "2025-06-20T16:14:02.743321Z",
     "shell.execute_reply": "2025-06-20T16:14:02.742305Z",
     "shell.execute_reply.started": "2025-06-20T16:14:02.721937Z"
    }
   },
   "outputs": [
    {
     "name": "stdout",
     "output_type": "stream",
     "text": [
      "2096151\n",
      "缺失值的行数: 0\n",
      "为0的行数: 13022\n"
     ]
    }
   ],
   "source": [
    "# 统计 'pax' 字段中缺失值的行数\n",
    "missing_pax = df[df['pax'].isna()]\n",
    "\n",
    "# 统计 'pax' 字段中0值的行数\n",
    "zero_pax = df[df['pax'] == 0]\n",
    "\n",
    "# 输出统计结果\n",
    "num_missing = missing_pax.shape[0]\n",
    "num_zero = zero_pax.shape[0]\n",
    "\n",
    "print(df.shape[0])\n",
    "print(f\"缺失值的行数: {num_missing}\")\n",
    "print(f\"为0的行数: {num_zero}\")"
   ]
  },
  {
   "cell_type": "code",
   "execution_count": 11,
   "id": "26984586",
   "metadata": {
    "ExecuteTime": {
     "end_time": "2025-10-19T11:10:39.523485Z",
     "start_time": "2025-10-19T11:10:39.151225Z"
    },
    "execution": {
     "iopub.execute_input": "2025-06-20T16:14:02.745354Z",
     "iopub.status.busy": "2025-06-20T16:14:02.744561Z",
     "iopub.status.idle": "2025-06-20T16:14:03.477446Z",
     "shell.execute_reply": "2025-06-20T16:14:03.476440Z",
     "shell.execute_reply.started": "2025-06-20T16:14:02.745321Z"
    }
   },
   "outputs": [
    {
     "name": "stdout",
     "output_type": "stream",
     "text": [
      "删除缺失值或为0的行后，DataFrame一共有 2083129 行\n"
     ]
    }
   ],
   "source": [
    "# 删除 'pax' 字段为缺失值或为0的行\n",
    "df = df.dropna(subset=['pax'])  # 删除pax列中的缺失值行\n",
    "df = df[df['pax'] != 0]  # 删除pax列中为0的行\n",
    "\n",
    "# 查看删除后的DataFrame行数\n",
    "num_rows_after_cleanup = df.shape[0]\n",
    "print(f\"删除缺失值或为0的行后，DataFrame一共有 {num_rows_after_cleanup} 行\")"
   ]
  },
  {
   "cell_type": "code",
   "execution_count": 12,
   "id": "05b1e2f9",
   "metadata": {
    "ExecuteTime": {
     "end_time": "2025-10-19T11:10:40.326538Z",
     "start_time": "2025-10-19T11:10:39.525847Z"
    },
    "execution": {
     "iopub.execute_input": "2025-06-20T16:14:03.482152Z",
     "iopub.status.busy": "2025-06-20T16:14:03.481828Z",
     "iopub.status.idle": "2025-06-20T16:14:04.548344Z",
     "shell.execute_reply": "2025-06-20T16:14:04.547334Z",
     "shell.execute_reply.started": "2025-06-20T16:14:03.482120Z"
    }
   },
   "outputs": [],
   "source": [
    "import matplotlib.pyplot as plt\n",
    "import seaborn as sns\n",
    "import pandas as pd\n",
    "\n",
    "def remove_outliers(data, col):\n",
    "    \"\"\"删除指定列中的异常值\"\"\"\n",
    "    Q1 = data[col].quantile(0.25)  # 第1四分位数\n",
    "    Q3 = data[col].quantile(0.75)  # 第3四分位数\n",
    "    IQR = Q3 - Q1  # 四分位距\n",
    "    lower_bound = Q1 - 1.5 * IQR  # 下限\n",
    "    upper_bound = Q3 + 1.5 * IQR  # 上限\n",
    "    \n",
    "    # 筛选出范围内的数据\n",
    "    filtered_data = data[(data[col] >= lower_bound) & (data[col] <= upper_bound)]\n",
    "    return filtered_data\n",
    "\n",
    "def plot(data, col):\n",
    "    \"\"\"绘制指定列的分布图和箱型图\"\"\"\n",
    "    fig, (ax1, ax2) = plt.subplots(2, 1, figsize=(8, 6))\n",
    "    sns.histplot(data[col], kde=True, ax=ax1)  # 替换 distplot 为 histplot\n",
    "    sns.boxplot(data[col], ax=ax2)\n",
    "    plt.tight_layout()\n",
    "    plt.show()\n",
    "\n",
    "# # 绘制过滤后的数据分布图和箱型图\n",
    "# plot(df, 'pax')\n",
    "# # 示例数据框\n",
    "# # 假设 df 是你的数据框\n",
    "# # 删除 pax 列中的异常值\n",
    "# # df = remove_outliers(df, 'pax')\n",
    "\n",
    "# # 绘制过滤后的数据分布图和箱型图\n",
    "# plot(df, 'pax')\n"
   ]
  },
  {
   "cell_type": "code",
   "execution_count": 13,
   "id": "29070edd",
   "metadata": {
    "ExecuteTime": {
     "end_time": "2025-10-19T11:10:40.657962Z",
     "start_time": "2025-10-19T11:10:40.329280Z"
    },
    "execution": {
     "iopub.execute_input": "2025-06-20T16:14:04.550509Z",
     "iopub.status.busy": "2025-06-20T16:14:04.549684Z",
     "iopub.status.idle": "2025-06-20T16:14:04.943725Z",
     "shell.execute_reply": "2025-06-20T16:14:04.942640Z",
     "shell.execute_reply.started": "2025-06-20T16:14:04.550474Z"
    }
   },
   "outputs": [
    {
     "name": "stdout",
     "output_type": "stream",
     "text": [
      "(1972571, 14)\n",
      "    flt_date        segment  flt_no  dep_time    cap aircraft  legs  leg_no  \\\n",
      "0 2023-01-01  a9f275-24cc4b  3c6705  14:35:00  110.0      195     1       1   \n",
      "4 2023-01-01  d56796-24cc4b  6a67d9  22:40:00  110.0      195     1       1   \n",
      "\n",
      "   duration  tkt_rev  pax       a       b       c  \n",
      "0      1.30  45636.0   97  a9f275  24cc4b  7f9c2b  \n",
      "4      1.25  30480.0   67  d56796  24cc4b  7f9c2b  \n",
      "          flt_date        segment  flt_no  dep_time    cap aircraft  legs  \\\n",
      "2096149 2025-07-01  08f792-dcf90a  0bd968  11:45:00  188.0      7MZ     1   \n",
      "2096150 2025-07-01  08f792-dcf90a  2befc2  20:55:00  161.0      738     1   \n",
      "\n",
      "         leg_no  duration   tkt_rev  pax       a       b       c  \n",
      "2096149       1      2.40  107720.0  144  08f792  dcf90a  7f9c2b  \n",
      "2096150       1      2.48  105060.0  142  08f792  dcf90a  7f9c2b  \n"
     ]
    }
   ],
   "source": [
    "# 删除 pax 小于 20 的行\n",
    "df = df[df['pax'] >= 20]\n",
    "\n",
    "# 查看结果\n",
    "print(df.shape)\n",
    "print(df.head(2))\n",
    "print(df.tail(2))"
   ]
  },
  {
   "cell_type": "markdown",
   "id": "4026f0cb",
   "metadata": {},
   "source": [
    "## 处理aircraft"
   ]
  },
  {
   "cell_type": "markdown",
   "id": "2dfa3886-9abc-42a3-891b-c61144a70d02",
   "metadata": {},
   "source": [
    "aircraft全是str类型，且没有数据缺失的情况"
   ]
  },
  {
   "cell_type": "code",
   "execution_count": 14,
   "id": "7e8b011f",
   "metadata": {
    "ExecuteTime": {
     "end_time": "2025-10-19T11:10:40.884422Z",
     "start_time": "2025-10-19T11:10:40.660238Z"
    },
    "execution": {
     "iopub.execute_input": "2025-06-20T16:14:04.945246Z",
     "iopub.status.busy": "2025-06-20T16:14:04.944933Z",
     "iopub.status.idle": "2025-06-20T16:14:05.241342Z",
     "shell.execute_reply": "2025-06-20T16:14:05.240398Z",
     "shell.execute_reply.started": "2025-06-20T16:14:04.945214Z"
    }
   },
   "outputs": [
    {
     "name": "stdout",
     "output_type": "stream",
     "text": [
      "aircraft\n",
      "<class 'str'>    1972571\n",
      "Name: count, dtype: int64\n"
     ]
    }
   ],
   "source": [
    "# 查看 'cap' 列中每个元素的数据类型\n",
    "print(df['aircraft'].apply(type).value_counts())"
   ]
  },
  {
   "cell_type": "code",
   "execution_count": 15,
   "id": "5dab83f4",
   "metadata": {
    "ExecuteTime": {
     "end_time": "2025-10-19T11:10:41.148315Z",
     "start_time": "2025-10-19T11:10:40.886843Z"
    },
    "execution": {
     "iopub.execute_input": "2025-06-20T16:14:05.242838Z",
     "iopub.status.busy": "2025-06-20T16:14:05.242506Z",
     "iopub.status.idle": "2025-06-20T16:14:05.491725Z",
     "shell.execute_reply": "2025-06-20T16:14:05.490682Z",
     "shell.execute_reply.started": "2025-06-20T16:14:05.242805Z"
    }
   },
   "outputs": [
    {
     "name": "stdout",
     "output_type": "stream",
     "text": [
      "1972571\n",
      "缺失值的行数: 0\n",
      "为0的行数: 0\n"
     ]
    }
   ],
   "source": [
    "# 统计 'aircraft' 字段中缺失值的行数\n",
    "missing_pax = df[df['aircraft'].isna()]\n",
    "\n",
    "# 统计 'aircraft' 字段中0值的行数\n",
    "zero_pax = df[df['aircraft'] == 0]\n",
    "\n",
    "# 输出统计结果\n",
    "num_missing = missing_pax.shape[0]\n",
    "num_zero = zero_pax.shape[0]\n",
    "\n",
    "print(df.shape[0])\n",
    "print(f\"缺失值的行数: {num_missing}\")\n",
    "print(f\"为0的行数: {num_zero}\")"
   ]
  },
  {
   "cell_type": "code",
   "execution_count": 16,
   "id": "f1da67a6",
   "metadata": {
    "ExecuteTime": {
     "end_time": "2025-10-19T11:10:41.314004Z",
     "start_time": "2025-10-19T11:10:41.152517Z"
    },
    "execution": {
     "iopub.execute_input": "2025-06-20T16:14:05.493265Z",
     "iopub.status.busy": "2025-06-20T16:14:05.492933Z",
     "iopub.status.idle": "2025-06-20T16:14:05.644108Z",
     "shell.execute_reply": "2025-06-20T16:14:05.642952Z",
     "shell.execute_reply.started": "2025-06-20T16:14:05.493234Z"
    }
   },
   "outputs": [
    {
     "name": "stdout",
     "output_type": "stream",
     "text": [
      "aircraft 字段的不同取值及其数量：\n",
      "aircraft\n",
      "738    573115\n",
      "320    283773\n",
      "190    130325\n",
      "195     75905\n",
      "73V     64434\n",
      "        ...  \n",
      "33A       359\n",
      "33N       246\n",
      "33K       236\n",
      "7C1       226\n",
      "3C1        14\n",
      "Name: count, Length: 72, dtype: int64\n"
     ]
    }
   ],
   "source": [
    "# 统计 'aircraft' 字段的不同取值及其数量\n",
    "aircraft_counts = df['aircraft'].value_counts()\n",
    "\n",
    "# 输出统计结果\n",
    "print(\"aircraft 字段的不同取值及其数量：\")\n",
    "print(aircraft_counts)"
   ]
  },
  {
   "cell_type": "markdown",
   "id": "25d90197-0a5e-42ce-93b4-1504b4c69e8a",
   "metadata": {},
   "source": [
    "## 处理legs和leg_np异常行"
   ]
  },
  {
   "cell_type": "code",
   "execution_count": 17,
   "id": "e3a2d23a-8b4d-420d-bade-b8d2fe2fc305",
   "metadata": {
    "ExecuteTime": {
     "end_time": "2025-10-19T11:10:41.527387Z",
     "start_time": "2025-10-19T11:10:41.317068Z"
    },
    "execution": {
     "iopub.execute_input": "2025-06-20T16:14:05.645635Z",
     "iopub.status.busy": "2025-06-20T16:14:05.645292Z",
     "iopub.status.idle": "2025-06-20T16:14:06.018773Z",
     "shell.execute_reply": "2025-06-20T16:14:06.017661Z",
     "shell.execute_reply.started": "2025-06-20T16:14:05.645603Z"
    }
   },
   "outputs": [
    {
     "name": "stdout",
     "output_type": "stream",
     "text": [
      "(1972416, 14)\n",
      "    flt_date        segment  flt_no  dep_time    cap aircraft  legs  leg_no  \\\n",
      "0 2023-01-01  a9f275-24cc4b  3c6705  14:35:00  110.0      195     1       1   \n",
      "4 2023-01-01  d56796-24cc4b  6a67d9  22:40:00  110.0      195     1       1   \n",
      "\n",
      "   duration  tkt_rev  pax       a       b       c  \n",
      "0      1.30  45636.0   97  a9f275  24cc4b  7f9c2b  \n",
      "4      1.25  30480.0   67  d56796  24cc4b  7f9c2b  \n",
      "          flt_date        segment  flt_no  dep_time    cap aircraft  legs  \\\n",
      "2096149 2025-07-01  08f792-dcf90a  0bd968  11:45:00  188.0      7MZ     1   \n",
      "2096150 2025-07-01  08f792-dcf90a  2befc2  20:55:00  161.0      738     1   \n",
      "\n",
      "         leg_no  duration   tkt_rev  pax       a       b       c  \n",
      "2096149       1      2.40  107720.0  144  08f792  dcf90a  7f9c2b  \n",
      "2096150       1      2.48  105060.0  142  08f792  dcf90a  7f9c2b  \n"
     ]
    }
   ],
   "source": [
    "# 删除 'legs' 列中值为4的行\n",
    "df = df[df['legs'] != 4]\n",
    "\n",
    "# 查看结果\n",
    "print(df.shape)\n",
    "print(df.head(2))\n",
    "print(df.tail(2))"
   ]
  },
  {
   "cell_type": "code",
   "execution_count": 18,
   "id": "46521511-1e46-4158-8a90-ab9e8f85d599",
   "metadata": {
    "ExecuteTime": {
     "end_time": "2025-10-19T11:10:41.739421Z",
     "start_time": "2025-10-19T11:10:41.529761Z"
    },
    "execution": {
     "iopub.execute_input": "2025-06-20T16:14:06.020330Z",
     "iopub.status.busy": "2025-06-20T16:14:06.020011Z",
     "iopub.status.idle": "2025-06-20T16:14:06.291669Z",
     "shell.execute_reply": "2025-06-20T16:14:06.290712Z",
     "shell.execute_reply.started": "2025-06-20T16:14:06.020299Z"
    }
   },
   "outputs": [
    {
     "name": "stdout",
     "output_type": "stream",
     "text": [
      "列名: legs\n",
      "\n",
      "'legs' 列中的数据类型：\n",
      "[<class 'int'>]\n",
      "\n",
      "'legs' 列中的唯一值示例：\n",
      "[1 3]\n",
      "\n",
      "'legs' 列的取值及其数量：\n",
      "legs\n",
      "1    1149661\n",
      "3     822755\n",
      "Name: count, dtype: int64\n"
     ]
    }
   ],
   "source": [
    "# 获取 'legs' 列的列名\n",
    "legs_column_name = 'legs'  # 或者可以使用 df.columns[2] 如果 'legs' 是第3列\n",
    "print(f\"列名: {legs_column_name}\")\n",
    "\n",
    "# 查看 'legs' 列的唯一值类型\n",
    "unique_types = df[legs_column_name].apply(type).unique()\n",
    "print(\"\\n'legs' 列中的数据类型：\")\n",
    "print(unique_types)\n",
    "\n",
    "# 查看 'legs' 列的唯一值\n",
    "unique_values = df[legs_column_name].unique()\n",
    "print(\"\\n'legs' 列中的唯一值示例：\")\n",
    "print(unique_values[:10])  # 显示前10个唯一值（你可以调整数量）\n",
    "\n",
    "# 统计 'legs' 列每个取值的数量\n",
    "value_counts = df[legs_column_name].value_counts()\n",
    "\n",
    "# 输出每种取值及其数量\n",
    "print(\"\\n'legs' 列的取值及其数量：\")\n",
    "print(value_counts)"
   ]
  },
  {
   "cell_type": "code",
   "execution_count": 19,
   "id": "72f87520-9950-4004-8ecb-0bd26ae99f16",
   "metadata": {
    "ExecuteTime": {
     "end_time": "2025-10-19T11:10:41.956980Z",
     "start_time": "2025-10-19T11:10:41.741796Z"
    },
    "execution": {
     "iopub.execute_input": "2025-06-20T16:14:06.293166Z",
     "iopub.status.busy": "2025-06-20T16:14:06.292846Z",
     "iopub.status.idle": "2025-06-20T16:14:06.573436Z",
     "shell.execute_reply": "2025-06-20T16:14:06.572293Z",
     "shell.execute_reply.started": "2025-06-20T16:14:06.293135Z"
    }
   },
   "outputs": [
    {
     "name": "stdout",
     "output_type": "stream",
     "text": [
      "列名: leg_no\n",
      "\n",
      "'leg_no' 列中的数据类型：\n",
      "[<class 'int'>]\n",
      "\n",
      "'leg_no' 列中的唯一值示例：\n",
      "[1 3 2]\n",
      "\n",
      "'leg_no' 列的取值及其数量：\n",
      "leg_no\n",
      "1    1453887\n",
      "2     303541\n",
      "3     214988\n",
      "Name: count, dtype: int64\n"
     ]
    }
   ],
   "source": [
    "# 获取 'leg_no' 列的列名\n",
    "leg_no_column_name = 'leg_no'  # 如果列名不是 'leg_no'，请更改为实际的列名\n",
    "print(f\"列名: {leg_no_column_name}\")\n",
    "\n",
    "# 查看 'leg_no' 列的唯一值类型\n",
    "unique_types = df[leg_no_column_name].apply(type).unique()\n",
    "print(\"\\n'leg_no' 列中的数据类型：\")\n",
    "print(unique_types)\n",
    "\n",
    "# 查看 'leg_no' 列的唯一值\n",
    "unique_values = df[leg_no_column_name].unique()\n",
    "print(\"\\n'leg_no' 列中的唯一值示例：\")\n",
    "print(unique_values[:10])  # 显示前10个唯一值（你可以调整数量）\n",
    "\n",
    "# 统计 'leg_no' 列每个取值的数量\n",
    "value_counts = df[leg_no_column_name].value_counts()\n",
    "\n",
    "# 输出每种取值及其数量\n",
    "print(\"\\n'leg_no' 列的取值及其数量：\")\n",
    "print(value_counts)"
   ]
  },
  {
   "cell_type": "markdown",
   "id": "cd3ac8ca",
   "metadata": {},
   "source": [
    "## 处理cap(待做)"
   ]
  },
  {
   "cell_type": "markdown",
   "id": "96db7f45-1faf-49bd-9daf-03782ffe2d0a",
   "metadata": {},
   "source": [
    "查看了数据后发现cap全是int类型，没有异常"
   ]
  },
  {
   "cell_type": "markdown",
   "id": "7d0112b5-d1eb-45ca-8ec4-f81172e951dd",
   "metadata": {},
   "source": [
    "cap=0的情况大部分都是leg_no=3的时候，可以根据leg_no=1和2或者aircraft补全数据"
   ]
  },
  {
   "cell_type": "code",
   "execution_count": 20,
   "id": "4c73ef68",
   "metadata": {
    "ExecuteTime": {
     "end_time": "2025-10-19T11:10:42.245853Z",
     "start_time": "2025-10-19T11:10:41.959362Z"
    },
    "execution": {
     "iopub.execute_input": "2025-06-20T16:14:06.574915Z",
     "iopub.status.busy": "2025-06-20T16:14:06.574612Z",
     "iopub.status.idle": "2025-06-20T16:14:07.020890Z",
     "shell.execute_reply": "2025-06-20T16:14:07.019938Z",
     "shell.execute_reply.started": "2025-06-20T16:14:06.574884Z"
    }
   },
   "outputs": [
    {
     "name": "stdout",
     "output_type": "stream",
     "text": [
      "cap\n",
      "<class 'float'>    1972416\n",
      "Name: count, dtype: int64\n"
     ]
    }
   ],
   "source": [
    "# 查看 'cap' 列中每个元素的数据类型\n",
    "print(df['cap'].apply(type).value_counts())"
   ]
  },
  {
   "cell_type": "code",
   "execution_count": 21,
   "id": "f21edd68",
   "metadata": {
    "ExecuteTime": {
     "end_time": "2025-10-19T11:10:42.258595Z",
     "start_time": "2025-10-19T11:10:42.248185Z"
    },
    "execution": {
     "iopub.execute_input": "2025-06-20T16:14:07.022441Z",
     "iopub.status.busy": "2025-06-20T16:14:07.022101Z",
     "iopub.status.idle": "2025-06-20T16:14:07.033303Z",
     "shell.execute_reply": "2025-06-20T16:14:07.032365Z",
     "shell.execute_reply.started": "2025-06-20T16:14:07.022389Z"
    }
   },
   "outputs": [
    {
     "name": "stdout",
     "output_type": "stream",
     "text": [
      "1972416\n",
      "缺失值的行数: 0\n",
      "为0的行数: 9\n"
     ]
    }
   ],
   "source": [
    "# 统计 'pax' 字段中缺失值的行数\n",
    "missing_pax = df[df['cap'].isna()]\n",
    "\n",
    "# 统计 'pax' 字段中0值的行数\n",
    "zero_pax = df[df['cap'] == 0]\n",
    "\n",
    "# 输出统计结果\n",
    "num_missing = missing_pax.shape[0]\n",
    "num_zero = zero_pax.shape[0]\n",
    "\n",
    "print(df.shape[0])\n",
    "print(f\"缺失值的行数: {num_missing}\")\n",
    "print(f\"为0的行数: {num_zero}\")\n",
    "\n",
    "# # 将 'cap' 字段中为0的值修改为 NaN\n",
    "# df.loc[df['cap'] == 0, 'cap'] = np.nan\n",
    "\n",
    "# # 将 'cap' 字段转换为字符串类型\n",
    "# df['cap'] = df['cap'].astype(str)\n",
    "\n"
   ]
  },
  {
   "cell_type": "code",
   "execution_count": 22,
   "id": "4a3a0a2f-ba59-4f41-b9ab-1e78caae9c3a",
   "metadata": {
    "ExecuteTime": {
     "end_time": "2025-10-19T11:10:42.267614Z",
     "start_time": "2025-10-19T11:10:42.260634Z"
    },
    "execution": {
     "iopub.execute_input": "2025-06-20T16:14:07.035253Z",
     "iopub.status.busy": "2025-06-20T16:14:07.034401Z",
     "iopub.status.idle": "2025-06-20T16:14:07.043447Z",
     "shell.execute_reply": "2025-06-20T16:14:07.042515Z",
     "shell.execute_reply.started": "2025-06-20T16:14:07.035220Z"
    }
   },
   "outputs": [
    {
     "name": "stdout",
     "output_type": "stream",
     "text": [
      "总行数: 1972416\n",
      "cap 为0的行数: 9\n",
      "在 'cap' 为0的行中，'leg_no' 字段的不同取值及其数量：\n",
      "leg_no\n",
      "3    4\n",
      "1    4\n",
      "2    1\n",
      "Name: count, dtype: int64\n"
     ]
    }
   ],
   "source": [
    "# 统计 'cap' 字段中为0的行\n",
    "zero_cap = df[df['cap'] == 0]\n",
    "\n",
    "# 统计这些 'cap' 为0的行中，'leg_no' 字段的不同取值及其数量\n",
    "leg_no_counts = zero_cap['leg_no'].value_counts()\n",
    "\n",
    "# 输出统计结果\n",
    "print(f\"总行数: {df.shape[0]}\")\n",
    "print(f\"cap 为0的行数: {zero_cap.shape[0]}\")\n",
    "print(\"在 'cap' 为0的行中，'leg_no' 字段的不同取值及其数量：\")\n",
    "print(leg_no_counts)"
   ]
  },
  {
   "cell_type": "code",
   "execution_count": 23,
   "id": "bf5a9482-91c5-43d8-81cb-0e9e5f0e47f2",
   "metadata": {
    "ExecuteTime": {
     "end_time": "2025-10-19T11:10:42.512791Z",
     "start_time": "2025-10-19T11:10:42.269517Z"
    },
    "execution": {
     "iopub.execute_input": "2025-06-20T16:14:07.044854Z",
     "iopub.status.busy": "2025-06-20T16:14:07.044553Z",
     "iopub.status.idle": "2025-06-20T16:14:07.403054Z",
     "shell.execute_reply": "2025-06-20T16:14:07.402080Z",
     "shell.execute_reply.started": "2025-06-20T16:14:07.044824Z"
    }
   },
   "outputs": [
    {
     "name": "stdout",
     "output_type": "stream",
     "text": [
      "总行数: 1972407\n",
      "cap 为0的行数: 0\n",
      "在 'cap' 为0的行中，'leg_no' 字段的不同取值及其数量：\n",
      "Series([], Name: count, dtype: int64)\n"
     ]
    }
   ],
   "source": [
    "# 删除 cap 为 0 的所有行\n",
    "df = df[df['cap'] != 0]\n",
    "\n",
    "# 统计 'cap' 字段中为0的行\n",
    "zero_cap = df[df['cap'] == 0]\n",
    "\n",
    "# 统计这些 'cap' 为0的行中，'leg_no' 字段的不同取值及其数量\n",
    "leg_no_counts = zero_cap['leg_no'].value_counts()\n",
    "\n",
    "# 输出统计结果\n",
    "print(f\"总行数: {df.shape[0]}\")\n",
    "print(f\"cap 为0的行数: {zero_cap.shape[0]}\")\n",
    "print(\"在 'cap' 为0的行中，'leg_no' 字段的不同取值及其数量：\")\n",
    "print(leg_no_counts)"
   ]
  },
  {
   "cell_type": "markdown",
   "id": "34fb71f6",
   "metadata": {},
   "source": [
    "## 处理duration（待做）"
   ]
  },
  {
   "cell_type": "markdown",
   "id": "99e49691-c3ac-4471-ad06-8c180b5a6235",
   "metadata": {},
   "source": [
    "数据有少量缺失，感觉可以通过segment的历史信息补全这部分信息"
   ]
  },
  {
   "cell_type": "code",
   "execution_count": 24,
   "id": "67e08b36-b007-4e8a-ad28-bd07c216f2a1",
   "metadata": {
    "ExecuteTime": {
     "end_time": "2025-10-19T11:10:42.524933Z",
     "start_time": "2025-10-19T11:10:42.515330Z"
    },
    "execution": {
     "iopub.execute_input": "2025-06-20T16:14:07.404516Z",
     "iopub.status.busy": "2025-06-20T16:14:07.404180Z",
     "iopub.status.idle": "2025-06-20T16:14:07.415935Z",
     "shell.execute_reply": "2025-06-20T16:14:07.414958Z",
     "shell.execute_reply.started": "2025-06-20T16:14:07.404483Z"
    }
   },
   "outputs": [
    {
     "name": "stdout",
     "output_type": "stream",
     "text": [
      "总行数: 1972407\n",
      "duration 字段缺失值的行数: 0\n",
      "duration 字段为0的行数: 406\n"
     ]
    }
   ],
   "source": [
    "# 统计 'duration' 字段中缺失值的行数\n",
    "missing_duration = df[df['duration'].isna()]\n",
    "\n",
    "# 统计 'duration' 字段中为0值的行数\n",
    "zero_duration = df[df['duration'] == 0]\n",
    "\n",
    "# 输出统计结果\n",
    "num_missing_duration = missing_duration.shape[0]\n",
    "num_zero_duration = zero_duration.shape[0]\n",
    "\n",
    "# 总行数\n",
    "print(f\"总行数: {df.shape[0]}\")\n",
    "print(f\"duration 字段缺失值的行数: {num_missing_duration}\")\n",
    "print(f\"duration 字段为0的行数: {num_zero_duration}\")"
   ]
  },
  {
   "cell_type": "code",
   "execution_count": 25,
   "id": "c94b3395-c049-47ea-ad13-5d733554b342",
   "metadata": {
    "ExecuteTime": {
     "end_time": "2025-10-19T11:10:42.534037Z",
     "start_time": "2025-10-19T11:10:42.526975Z"
    },
    "execution": {
     "iopub.execute_input": "2025-06-20T16:14:07.417486Z",
     "iopub.status.busy": "2025-06-20T16:14:07.417134Z",
     "iopub.status.idle": "2025-06-20T16:14:07.426191Z",
     "shell.execute_reply": "2025-06-20T16:14:07.425195Z",
     "shell.execute_reply.started": "2025-06-20T16:14:07.417454Z"
    }
   },
   "outputs": [
    {
     "name": "stdout",
     "output_type": "stream",
     "text": [
      "duration 为 0 的行中，'leg_no' 字段的不同取值及其数量：\n",
      "leg_no\n",
      "1    271\n",
      "3     71\n",
      "2     64\n",
      "Name: count, dtype: int64\n"
     ]
    }
   ],
   "source": [
    "# 过滤出 'duration' 为 0 的行\n",
    "zero_duration = df[df['duration'] == 0]\n",
    "\n",
    "# 统计这些 'duration' 为 0 的行中 'leg_no' 字段的不同取值及其数量\n",
    "leg_no_counts = zero_duration['leg_no'].value_counts()\n",
    "\n",
    "# 输出统计结果\n",
    "print(f\"duration 为 0 的行中，'leg_no' 字段的不同取值及其数量：\")\n",
    "print(leg_no_counts)"
   ]
  },
  {
   "cell_type": "code",
   "execution_count": 26,
   "id": "c5abc155",
   "metadata": {
    "ExecuteTime": {
     "end_time": "2025-10-19T11:10:42.541554Z",
     "start_time": "2025-10-19T11:10:42.535906Z"
    },
    "execution": {
     "iopub.execute_input": "2025-06-20T16:14:07.427890Z",
     "iopub.status.busy": "2025-06-20T16:14:07.427589Z",
     "iopub.status.idle": "2025-06-20T16:14:07.435586Z",
     "shell.execute_reply": "2025-06-20T16:14:07.434654Z",
     "shell.execute_reply.started": "2025-06-20T16:14:07.427858Z"
    }
   },
   "outputs": [],
   "source": [
    "# 将 'duration' 列中值为 0 的部分替换为 NaN\n",
    "df.loc[df['duration'] == 0, 'duration'] = np.nan"
   ]
  },
  {
   "cell_type": "markdown",
   "id": "a4fcf266",
   "metadata": {},
   "source": [
    "## 处理tkt_rev"
   ]
  },
  {
   "cell_type": "markdown",
   "id": "a7f6b496",
   "metadata": {},
   "source": [
    "有一些异常行的tkt_rev为0，pax却不为0"
   ]
  },
  {
   "cell_type": "code",
   "execution_count": 27,
   "id": "12be7896",
   "metadata": {
    "ExecuteTime": {
     "end_time": "2025-10-19T11:10:42.552796Z",
     "start_time": "2025-10-19T11:10:42.543427Z"
    },
    "execution": {
     "iopub.execute_input": "2025-06-20T16:14:07.436760Z",
     "iopub.status.busy": "2025-06-20T16:14:07.436465Z",
     "iopub.status.idle": "2025-06-20T16:14:07.456191Z",
     "shell.execute_reply": "2025-06-20T16:14:07.455231Z",
     "shell.execute_reply.started": "2025-06-20T16:14:07.436730Z"
    }
   },
   "outputs": [
    {
     "name": "stdout",
     "output_type": "stream",
     "text": [
      "tkt_rev 列中为 0 的行数: 157\n",
      "tkt_rev 列中为 NaN 的行数: 0\n"
     ]
    }
   ],
   "source": [
    "# 统计 'unit_price' 列中为 0 的行数\n",
    "zero_count = (df['tkt_rev'] == 0).sum()\n",
    "\n",
    "# 统计 'unit_price' 列中为 NaN 的行数\n",
    "nan_count = df['tkt_rev'].isna().sum()\n",
    "\n",
    "# 输出结果\n",
    "print(f\"tkt_rev 列中为 0 的行数: {zero_count}\")\n",
    "print(f\"tkt_rev 列中为 NaN 的行数: {nan_count}\")"
   ]
  },
  {
   "cell_type": "code",
   "execution_count": 28,
   "id": "0a61d336-29e8-4330-9816-06cfe37ce0ad",
   "metadata": {
    "ExecuteTime": {
     "end_time": "2025-10-19T11:10:42.567018Z",
     "start_time": "2025-10-19T11:10:42.560101Z"
    },
    "execution": {
     "iopub.execute_input": "2025-06-20T16:14:07.457648Z",
     "iopub.status.busy": "2025-06-20T16:14:07.457319Z",
     "iopub.status.idle": "2025-06-20T16:14:07.467395Z",
     "shell.execute_reply": "2025-06-20T16:14:07.466535Z",
     "shell.execute_reply.started": "2025-06-20T16:14:07.457616Z"
    }
   },
   "outputs": [
    {
     "name": "stdout",
     "output_type": "stream",
     "text": [
      "tkt_rev 为 0 的行中，'leg_no' 字段的不同取值及其数量：\n",
      "leg_no\n",
      "1    111\n",
      "2     41\n",
      "3      5\n",
      "Name: count, dtype: int64\n"
     ]
    }
   ],
   "source": [
    "# 过滤出 'tkt_rev' 为 0 的行\n",
    "zero_tkt_rev = df[df['tkt_rev'] == 0]\n",
    "\n",
    "# 统计这些 'tkt_rev' 为 0 的行中 'leg_no' 字段的不同取值及其数量\n",
    "leg_no_counts = zero_tkt_rev['leg_no'].value_counts()\n",
    "\n",
    "# 输出统计结果\n",
    "print(f\"tkt_rev 为 0 的行中，'leg_no' 字段的不同取值及其数量：\")\n",
    "print(leg_no_counts)"
   ]
  },
  {
   "cell_type": "code",
   "execution_count": 29,
   "id": "e4abc65e",
   "metadata": {
    "ExecuteTime": {
     "end_time": "2025-10-19T11:10:42.931380Z",
     "start_time": "2025-10-19T11:10:42.568944Z"
    },
    "execution": {
     "iopub.execute_input": "2025-06-20T16:14:07.468852Z",
     "iopub.status.busy": "2025-06-20T16:14:07.468542Z",
     "iopub.status.idle": "2025-06-20T16:14:08.145189Z",
     "shell.execute_reply": "2025-06-20T16:14:08.144185Z",
     "shell.execute_reply.started": "2025-06-20T16:14:07.468821Z"
    }
   },
   "outputs": [
    {
     "name": "stdout",
     "output_type": "stream",
     "text": [
      "(1972250, 14)\n",
      "    flt_date        segment  flt_no  dep_time    cap aircraft  legs  leg_no  \\\n",
      "0 2023-01-01  a9f275-24cc4b  3c6705  14:35:00  110.0      195     1       1   \n",
      "4 2023-01-01  d56796-24cc4b  6a67d9  22:40:00  110.0      195     1       1   \n",
      "\n",
      "   duration  pax       a       b       c  unit_price  \n",
      "0      1.30   97  a9f275  24cc4b  7f9c2b  470.474227  \n",
      "4      1.25   67  d56796  24cc4b  7f9c2b  454.925373  \n",
      "          flt_date        segment  flt_no  dep_time    cap aircraft  legs  \\\n",
      "2096149 2025-07-01  08f792-dcf90a  0bd968  11:45:00  188.0      7MZ     1   \n",
      "2096150 2025-07-01  08f792-dcf90a  2befc2  20:55:00  161.0      738     1   \n",
      "\n",
      "         leg_no  duration  pax       a       b       c  unit_price  \n",
      "2096149       1      2.40  144  08f792  dcf90a  7f9c2b  748.055556  \n",
      "2096150       1      2.48  142  08f792  dcf90a  7f9c2b  739.859155  \n"
     ]
    }
   ],
   "source": [
    "df = df[df['tkt_rev'] != 0]\n",
    "\n",
    "# 计算单价 'unit_price'，即 tkt_rev 除以 pax\n",
    "df['unit_price'] = df['tkt_rev'] / df['pax']\n",
    "\n",
    "# 删除 'tkt_rev' 列\n",
    "df = df.drop(columns=['tkt_rev'])\n",
    "\n",
    "# 查看结果\n",
    "print(df.shape)\n",
    "print(df.head(2))\n",
    "print(df.tail(2))"
   ]
  },
  {
   "cell_type": "markdown",
   "id": "7adeb6f6",
   "metadata": {},
   "source": [
    "## 保存文件"
   ]
  },
  {
   "cell_type": "code",
   "execution_count": 30,
   "id": "b7a7db29-b1f1-4ddb-94f4-b224e05ef7bc",
   "metadata": {
    "ExecuteTime": {
     "end_time": "2025-10-19T11:10:42.943933Z",
     "start_time": "2025-10-19T11:10:42.933897Z"
    },
    "execution": {
     "iopub.execute_input": "2025-06-20T16:14:08.146745Z",
     "iopub.status.busy": "2025-06-20T16:14:08.146423Z",
     "iopub.status.idle": "2025-06-20T16:14:08.159367Z",
     "shell.execute_reply": "2025-06-20T16:14:08.158451Z",
     "shell.execute_reply.started": "2025-06-20T16:14:08.146713Z"
    }
   },
   "outputs": [
    {
     "name": "stdout",
     "output_type": "stream",
     "text": [
      "<class 'pandas.core.frame.DataFrame'>\n",
      "Index: 1972250 entries, 0 to 2096150\n",
      "Data columns (total 14 columns):\n",
      " #   Column      Dtype         \n",
      "---  ------      -----         \n",
      " 0   flt_date    datetime64[ns]\n",
      " 1   segment     object        \n",
      " 2   flt_no      object        \n",
      " 3   dep_time    object        \n",
      " 4   cap         float64       \n",
      " 5   aircraft    object        \n",
      " 6   legs        int64         \n",
      " 7   leg_no      int64         \n",
      " 8   duration    float64       \n",
      " 9   pax         int64         \n",
      " 10  a           object        \n",
      " 11  b           object        \n",
      " 12  c           object        \n",
      " 13  unit_price  float64       \n",
      "dtypes: datetime64[ns](1), float64(3), int64(3), object(7)\n",
      "memory usage: 225.7+ MB\n",
      "None\n"
     ]
    }
   ],
   "source": [
    "# 查看前几行数据，确保加载成功\n",
    "print(df.info())"
   ]
  },
  {
   "cell_type": "code",
   "execution_count": 31,
   "id": "6d02b51a",
   "metadata": {
    "ExecuteTime": {
     "end_time": "2025-10-19T11:10:55.766721Z",
     "start_time": "2025-10-19T11:10:42.946238Z"
    },
    "execution": {
     "iopub.execute_input": "2025-06-20T16:14:08.160804Z",
     "iopub.status.busy": "2025-06-20T16:14:08.160495Z",
     "iopub.status.idle": "2025-06-20T16:14:22.130318Z",
     "shell.execute_reply": "2025-06-20T16:14:22.129264Z",
     "shell.execute_reply.started": "2025-06-20T16:14:08.160774Z"
    }
   },
   "outputs": [],
   "source": [
    "df = df.reset_index(drop=True)\n",
    "\n",
    "# 保存处理后的数据到新的CSV文件\n",
    "df.to_csv('data_hh/result/pre_2023-2025.csv', index=False)"
   ]
  },
  {
   "cell_type": "code",
   "execution_count": 32,
   "id": "470a76bf-1ccd-49bc-a5bf-9972cab1b117",
   "metadata": {
    "ExecuteTime": {
     "end_time": "2025-10-19T11:10:55.782429Z",
     "start_time": "2025-10-19T11:10:55.769169Z"
    },
    "execution": {
     "iopub.execute_input": "2025-06-20T16:14:22.131941Z",
     "iopub.status.busy": "2025-06-20T16:14:22.131612Z",
     "iopub.status.idle": "2025-06-20T16:14:22.148541Z",
     "shell.execute_reply": "2025-06-20T16:14:22.147542Z",
     "shell.execute_reply.started": "2025-06-20T16:14:22.131908Z"
    }
   },
   "outputs": [
    {
     "name": "stdout",
     "output_type": "stream",
     "text": [
      "(1972250, 14)\n",
      "    flt_date        segment  flt_no  dep_time    cap aircraft  legs  leg_no  \\\n",
      "0 2023-01-01  a9f275-24cc4b  3c6705  14:35:00  110.0      195     1       1   \n",
      "1 2023-01-01  d56796-24cc4b  6a67d9  22:40:00  110.0      195     1       1   \n",
      "\n",
      "   duration  pax       a       b       c  unit_price  \n",
      "0      1.30   97  a9f275  24cc4b  7f9c2b  470.474227  \n",
      "1      1.25   67  d56796  24cc4b  7f9c2b  454.925373  \n",
      "          flt_date        segment  flt_no  dep_time    cap aircraft  legs  \\\n",
      "1972248 2025-07-01  08f792-dcf90a  0bd968  11:45:00  188.0      7MZ     1   \n",
      "1972249 2025-07-01  08f792-dcf90a  2befc2  20:55:00  161.0      738     1   \n",
      "\n",
      "         leg_no  duration  pax       a       b       c  unit_price  \n",
      "1972248       1      2.40  144  08f792  dcf90a  7f9c2b  748.055556  \n",
      "1972249       1      2.48  142  08f792  dcf90a  7f9c2b  739.859155  \n"
     ]
    }
   ],
   "source": [
    "\n",
    "\n",
    "# 查看结果\n",
    "print(df.shape)\n",
    "print(df.head(2))\n",
    "print(df.tail(2))"
   ]
  }
 ],
 "metadata": {
  "kernelspec": {
   "display_name": "Python 3 (ipykernel)",
   "language": "python",
   "name": "python3"
  },
  "language_info": {
   "codemirror_mode": {
    "name": "ipython",
    "version": 3
   },
   "file_extension": ".py",
   "mimetype": "text/x-python",
   "name": "python",
   "nbconvert_exporter": "python",
   "pygments_lexer": "ipython3",
   "version": "3.10.18"
  },
  "toc": {
   "base_numbering": 1,
   "nav_menu": {},
   "number_sections": true,
   "sideBar": false,
   "skip_h1_title": false,
   "title_cell": "Table of Contents",
   "title_sidebar": "Contents",
   "toc_cell": false,
   "toc_position": {
    "height": "857.773px",
    "left": "21.9766px",
    "top": "183.141px",
    "width": "349.055px"
   },
   "toc_section_display": true,
   "toc_window_display": true
  },
  "varInspector": {
   "cols": {
    "lenName": 16,
    "lenType": 16,
    "lenVar": 40
   },
   "kernels_config": {
    "python": {
     "delete_cmd_postfix": "",
     "delete_cmd_prefix": "del ",
     "library": "var_list.py",
     "varRefreshCmd": "print(var_dic_list())"
    },
    "r": {
     "delete_cmd_postfix": ") ",
     "delete_cmd_prefix": "rm(",
     "library": "var_list.r",
     "varRefreshCmd": "cat(var_dic_list()) "
    }
   },
   "types_to_exclude": [
    "module",
    "function",
    "builtin_function_or_method",
    "instance",
    "_Feature"
   ],
   "window_display": true
  }
 },
 "nbformat": 4,
 "nbformat_minor": 5
}
