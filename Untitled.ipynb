{
 "cells": [
  {
   "cell_type": "code",
   "execution_count": 5,
   "id": "cace3f8e",
   "metadata": {
    "ExecuteTime": {
     "end_time": "2025-08-19T08:49:08.543171Z",
     "start_time": "2025-08-19T08:48:56.608388Z"
    }
   },
   "outputs": [
    {
     "name": "stdout",
     "output_type": "stream",
     "text": [
      "已覆盖源文件：../../../../data-hh/2025/2025-5/航班销售结果数据_2023-01-01_2025-07-01_encrypt.csv\n"
     ]
    }
   ],
   "source": [
    "import os\n",
    "from pathlib import Path\n",
    "import pandas as pd\n",
    "\n",
    "# 1) 源/临时文件\n",
    "src = Path(\"../../../../data-hh/2025/2025-5/航班销售结果数据_2023-01-01_2025-07-01_encrypt.csv\")\n",
    "tmp = src.with_suffix(src.suffix + \".tmp\")\n",
    "\n",
    "# 2) 日期范围（含端点）\n",
    "start = pd.Timestamp(\"2023-01-01\")\n",
    "end   = pd.Timestamp(\"2025-05-31\")\n",
    "\n",
    "# 3) 分块读取 -> 过滤 -> 写临时文件（不删除任何列）\n",
    "if tmp.exists():\n",
    "    tmp.unlink()\n",
    "header_written = False\n",
    "\n",
    "# 先探测列名，判断是否存在“索引列”\n",
    "preview = pd.read_csv(src, nrows=0, encoding=\"utf-8-sig\")   # 只读表头\n",
    "cols = list(preview.columns)\n",
    "# 如果首列看起来像历史“索引列”，记下来（仅用于解释，无需特殊处理；我们直接保留所有列即可）\n",
    "# 常见名称：'Unnamed: 0'，或者原来导出的无意义首列名\n",
    "maybe_index_col = cols[0] if cols and (cols[0] in (\"Unnamed: 0\", \"\", \"index\")) else None\n",
    "\n",
    "for chunk in pd.read_csv(\n",
    "    src,\n",
    "    chunksize=200_000,\n",
    "    encoding=\"utf-8-sig\",\n",
    "    # 关键点：不使用 usecols 过滤，**保留全部原列**\n",
    "):\n",
    "    # 解析日期列并筛选\n",
    "    chunk[\"flt_date\"] = pd.to_datetime(chunk[\"flt_date\"], errors=\"coerce\")\n",
    "    out = chunk[(chunk[\"flt_date\"] >= start) & (chunk[\"flt_date\"] <= end)]\n",
    "\n",
    "    # 原样写出（不写 pandas 的行索引，但**所有原CSV列**都会保留）\n",
    "    out.to_csv(\n",
    "        tmp,\n",
    "        index=False,                   # 不额外写 pandas 行索引\n",
    "        mode=\"a\",\n",
    "        header=not header_written,\n",
    "        encoding=\"utf-8-sig\"\n",
    "    )\n",
    "    header_written = True\n",
    "\n",
    "# 4) 原子替换\n",
    "os.replace(tmp, src)\n",
    "print(f\"已覆盖源文件：{src}\")\n"
   ]
  }
 ],
 "metadata": {
  "kernelspec": {
   "display_name": "Python 3 (ipykernel)",
   "language": "python",
   "name": "python3"
  },
  "language_info": {
   "codemirror_mode": {
    "name": "ipython",
    "version": 3
   },
   "file_extension": ".py",
   "mimetype": "text/x-python",
   "name": "python",
   "nbconvert_exporter": "python",
   "pygments_lexer": "ipython3",
   "version": "3.10.15"
  },
  "toc": {
   "base_numbering": 1,
   "nav_menu": {},
   "number_sections": true,
   "sideBar": true,
   "skip_h1_title": false,
   "title_cell": "Table of Contents",
   "title_sidebar": "Contents",
   "toc_cell": false,
   "toc_position": {},
   "toc_section_display": true,
   "toc_window_display": false
  },
  "varInspector": {
   "cols": {
    "lenName": 16,
    "lenType": 16,
    "lenVar": 40
   },
   "kernels_config": {
    "python": {
     "delete_cmd_postfix": "",
     "delete_cmd_prefix": "del ",
     "library": "var_list.py",
     "varRefreshCmd": "print(var_dic_list())"
    },
    "r": {
     "delete_cmd_postfix": ") ",
     "delete_cmd_prefix": "rm(",
     "library": "var_list.r",
     "varRefreshCmd": "cat(var_dic_list()) "
    }
   },
   "types_to_exclude": [
    "module",
    "function",
    "builtin_function_or_method",
    "instance",
    "_Feature"
   ],
   "window_display": true
  }
 },
 "nbformat": 4,
 "nbformat_minor": 5
}
