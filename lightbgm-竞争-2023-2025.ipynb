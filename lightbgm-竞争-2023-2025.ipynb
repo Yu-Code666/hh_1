{
 "cells": [
  {
   "cell_type": "markdown",
   "id": "dd53eacf",
   "metadata": {},
   "source": [
    "这里说频率是指一个机场航班出现的频率"
   ]
  },
  {
   "cell_type": "markdown",
   "id": "6682e039",
   "metadata": {},
   "source": [
    "## 加载数据"
   ]
  },
  {
   "cell_type": "markdown",
   "id": "4ba85eca",
   "metadata": {},
   "source": [
    "数据已经预处理过了"
   ]
  },
  {
   "cell_type": "code",
   "execution_count": 1,
   "id": "67758591",
   "metadata": {
    "ExecuteTime": {
     "end_time": "2024-12-26T03:24:29.224498Z",
     "start_time": "2024-12-26T03:24:21.643197Z"
    },
    "execution": {
     "iopub.execute_input": "2025-06-22T13:46:11.598560Z",
     "iopub.status.busy": "2025-06-22T13:46:11.597762Z",
     "iopub.status.idle": "2025-06-22T13:46:16.711512Z",
     "shell.execute_reply": "2025-06-22T13:46:16.710530Z",
     "shell.execute_reply.started": "2025-06-22T13:46:11.598527Z"
    }
   },
   "outputs": [
    {
     "name": "stdout",
     "output_type": "stream",
     "text": [
      "(1507927, 20)\n",
      "  flt_no    cap aircraft  legs  leg_no  duration  pax    a    b    c  \\\n",
      "0   7558  110.0      195     1       1      1.30   97  AAT  URC  NaN   \n",
      "1   7470  110.0      195     1       1      1.25   67  ACF  URC  NaN   \n",
      "2   769R   93.0      190     3       3      4.75   22  ACF  TLQ  XIY   \n",
      "3   5248  162.0      320     1       1      1.83   55  AKA  HGH  NaN   \n",
      "4   6250  167.0      320     1       1      3.98  166  AKU  CGO  NaN   \n",
      "\n",
      "    unit_price  competitor_price  year  month  day  weekday  hour  minute  \\\n",
      "0   470.474227        -94.900773  2023      1    1        6    14      35   \n",
      "1   454.925373       -123.872095  2023      1    1        6    22      40   \n",
      "2  1177.818182          0.000000  2023      1    1        6    18       0   \n",
      "3   669.090909          0.000000  2023      1    1        6    12      55   \n",
      "4  1794.783133        -65.028989  2023      1    1        6    13      10   \n",
      "\n",
      "  from   to  \n",
      "0  AAT  URC  \n",
      "1  ACF  URC  \n",
      "2  ACF  XIY  \n",
      "3  AKA  HGH  \n",
      "4  AKU  CGO  \n",
      "        flt_no    cap aircraft  legs  leg_no  duration  pax    a    b    c  \\\n",
      "1507922   7690  154.0      32F     3       3      6.53   34  ZUH  XIY  URC   \n",
      "1507923   7690  154.0      32F     3       1      2.78  113  ZUH  XIY  URC   \n",
      "1507924   8304  167.0      738     1       1      2.48  158  ZUH  XIY  NaN   \n",
      "1507925   7545  155.0      32F     3       2      2.05   74  XIY  ZYI  SYX   \n",
      "1507926   7546  155.0      32F     3       2      1.42  136  SYX  ZYI  XIY   \n",
      "\n",
      "          unit_price  competitor_price  year  month  day  weekday  hour  \\\n",
      "1507922  1812.058824        -62.257843  2025      5   30        4    16   \n",
      "1507923  1002.415929        316.492852  2025      5   30        4    16   \n",
      "1507924   773.158228         87.235151  2025      5   30        4    22   \n",
      "1507925   410.567568        194.567568  2025      5   30        4    10   \n",
      "1507926   483.933824          0.000000  2025      5   30        4    16   \n",
      "\n",
      "         minute from   to  \n",
      "1507922      15  ZUH  URC  \n",
      "1507923      15  ZUH  XIY  \n",
      "1507924      10  ZUH  XIY  \n",
      "1507925      25  ZYI  SYX  \n",
      "1507926      50  ZYI  XIY  \n"
     ]
    }
   ],
   "source": [
    "import pandas as pd\n",
    "\n",
    "# 加载数据\n",
    "data = pd.read_csv('./pre_2023-2025_with_comp_train.csv', dtype={'flt_no': str})\n",
    "\n",
    "# 查看前几行数据，确保加载成功\n",
    "# 显示前两行数据以确保正确加载\n",
    "print(data.shape)\n",
    "print(data.head(5))\n",
    "print(data.tail(5))"
   ]
  },
  {
   "cell_type": "code",
   "execution_count": 2,
   "id": "3c21010a-ed73-426d-ad74-292659c6d09b",
   "metadata": {
    "execution": {
     "iopub.execute_input": "2025-06-22T13:46:16.712973Z",
     "iopub.status.busy": "2025-06-22T13:46:16.712662Z",
     "iopub.status.idle": "2025-06-22T13:46:16.767445Z",
     "shell.execute_reply": "2025-06-22T13:46:16.766423Z",
     "shell.execute_reply.started": "2025-06-22T13:46:16.712942Z"
    }
   },
   "outputs": [
    {
     "name": "stdout",
     "output_type": "stream",
     "text": [
      "\n",
      "标准化后的统计信息：\n",
      "count    1.507927e+06\n",
      "mean     1.213228e+02\n",
      "std      5.255228e+01\n",
      "min      2.000000e+01\n",
      "25%      8.100000e+01\n",
      "50%      1.260000e+02\n",
      "75%      1.590000e+02\n",
      "max      3.110000e+02\n",
      "Name: pax, dtype: float64\n"
     ]
    }
   ],
   "source": [
    "# 检查标准化后的统计信息\n",
    "print(\"\\n标准化后的统计信息：\")\n",
    "print(data['pax'].describe())"
   ]
  },
  {
   "cell_type": "markdown",
   "id": "3070bc17",
   "metadata": {},
   "source": [
    "## 编码分类变量"
   ]
  },
  {
   "cell_type": "markdown",
   "id": "4e85031f",
   "metadata": {},
   "source": [
    "### 新增城市标签"
   ]
  },
  {
   "cell_type": "code",
   "execution_count": 3,
   "id": "1f70a5b1",
   "metadata": {
    "ExecuteTime": {
     "end_time": "2024-12-26T03:24:29.227809Z",
     "start_time": "2024-12-26T03:24:29.225585Z"
    },
    "execution": {
     "iopub.execute_input": "2025-06-22T13:46:16.770216Z",
     "iopub.status.busy": "2025-06-22T13:46:16.769892Z",
     "iopub.status.idle": "2025-06-22T13:46:16.776489Z",
     "shell.execute_reply": "2025-06-22T13:46:16.775517Z",
     "shell.execute_reply.started": "2025-06-22T13:46:16.770184Z"
    }
   },
   "outputs": [
    {
     "name": "stdout",
     "output_type": "stream",
     "text": [
      "加载的字典： {'AAT': 1, 'CKG': 2, 'PEK': 0, 'TCG': 1, 'URC': 2, 'XIY': 2, 'YIN': 1, 'ACF': 1, 'HMI': 2, 'SHF': 1, 'TLQ': 1, 'ACX': 1, 'CGO': 2, 'KMG': 2, 'AEB': 1, 'CAN': 2, 'HGH': 2, 'KWL': 2, 'TFU': 2, 'AKA': 1, 'CSX': 2, 'HAK': 2, 'TSN': 2, 'UYN': 2, 'AKU': 1, 'FOC': 2, 'HTN': 1, 'AOG': 2, 'TNA': 2, 'AQG': 2, 'KWE': 2, 'NGB': 2, 'TAO': 2, 'XMN': 2, 'AVA': 2, 'LLB': 2, 'BAR': 0, 'HRB': 2, 'JMJ': 1, 'KHN': 2, 'LHW': 2, 'NNG': 2, 'SJW': 2, 'SZX': 2, 'BAV': 2, 'HLD': 2, 'TGO': 2, 'XIL': 2, 'BFJ': 2, 'BHY': 2, 'HET': 2, 'HFE': 2, 'HNY': 2, 'JNG': 2, 'NAO': 1, 'WUH': 2, 'XUZ': 2, 'YIH': 2, 'BPE': 1, 'BPL': 1, 'BPX': 1, 'BSD': 1, 'BZX': 2, 'JJN': 2, 'LJG': 2, 'NKG': 2, 'CGQ': 2, 'DLC': 2, 'DOY': 0, 'HDG': 2, 'HSN': 2, 'HZG': 1, 'INC': 2, 'JIQ': 0, 'PKX': 2, 'PVG': 2, 'SHA': 0, 'SHE': 2, 'SQJ': 2, 'SYX': 2, 'TEN': 2, 'TYN': 2, 'WEF': 2, 'WUA': 2, 'YIC': 2, 'ZQZ': 2, 'CGD': 2, 'JHG': 2, 'CIF': 2, 'DLU': 1, 'DXJ': 1, 'ENH': 2, 'GOQ': 1, 'HUZ': 2, 'JGS': 1, 'JNZ': 1, 'KCA': 1, 'KHG': 1, 'KOW': 2, 'KRL': 2, 'LXA': 1, 'LZH': 2, 'LZO': 2, 'MIG': 2, 'MXZ': 2, 'SQD': 2, 'SWA': 2, 'TCZ': 1, 'WMT': 2, 'WNZ': 2, 'XNN': 2, 'YLX': 2, 'ZHA': 2, 'ZUH': 2, 'ZYI': 2, 'HIA': 2, 'NBS': 1, 'RIZ': 2, 'DSN': 1, 'HLH': 2, 'LYA': 2, 'RLK': 2, 'CQW': 1, 'DNH': 2, 'FUG': 2, 'LYG': 2, 'LZY': 1, 'RKZ': 1, 'TVS': 2, 'TXN': 2, 'WDS': 2, 'YNJ': 1, 'YNT': 2, 'YZY': 0, 'CZX': 1, 'DZH': 2, 'HCJ': 2, 'HYN': 2, 'HZA': 2, 'LFQ': 2, 'LYI': 2, 'WXN': 2, 'CWJ': 1, 'DAT': 2, 'DIG': 1, 'LLV': 2, 'MDG': 0, 'NTG': 1, 'WEH': 1, 'WHA': 2, 'XFN': 2, 'YNZ': 2, 'YBP': 1, 'DQA': 1, 'DYG': 2, 'EHU': 2, 'ENY': 0, 'ERL': 1, 'KJH': 2, 'FYN': 1, 'GYS': 2, 'HCZ': 2, 'HJJ': 2, 'HSC': 2, 'IQN': 1, 'JDZ': 2, 'JIU': 0, 'LLF': 2, 'LNL': 1, 'NNY': 2, 'SHS': 2, 'WGN': 2, 'WUT': 1, 'XAI': 2, 'XNT': 1, 'XYI': 2, 'YKH': 2, 'YTY': 1, 'YYA': 2, 'NZH': 0, 'NZL': 1, 'YIE': 1, 'LUM': 1, 'ZHY': 1, 'JGD': 1, 'OHE': 1, 'TWC': 1, 'HQQ': 1, 'HUO': 0, 'JUH': 2, 'SYM': 1, 'JMU': 0, 'JXA': 0, 'QSZ': 1, 'KJI': 1, 'NGQ': 1, 'WUX': 1, 'RQA': 1, 'WUZ': 2, 'LZG': 0, 'NLT': 1, 'YUS': 1, 'YTW': 1, 'YSQ': 2, 'ZFL': 1}\n"
     ]
    }
   ],
   "source": [
    "import json\n",
    "# 加载字典\n",
    "with open('../../my/encoder/city_labels_航班频率加权图标签.json', 'r') as file:\n",
    "    city_labels_loaded = json.load(file)\n",
    "\n",
    "print(\"加载的字典：\", city_labels_loaded)"
   ]
  },
  {
   "cell_type": "code",
   "execution_count": 4,
   "id": "9ddf2ad9",
   "metadata": {
    "ExecuteTime": {
     "end_time": "2024-12-26T03:24:29.955961Z",
     "start_time": "2024-12-26T03:24:29.228601Z"
    },
    "execution": {
     "iopub.execute_input": "2025-06-22T13:46:16.777829Z",
     "iopub.status.busy": "2025-06-22T13:46:16.777531Z",
     "iopub.status.idle": "2025-06-22T13:46:17.306723Z",
     "shell.execute_reply": "2025-06-22T13:46:17.305716Z",
     "shell.execute_reply.started": "2025-06-22T13:46:16.777800Z"
    }
   },
   "outputs": [],
   "source": [
    "# 使用 map 对 'a', 'b', 'c', 'from', 'to' 列进行标签化，新增对应的标签列\n",
    "data['a_label'] = data['a'].map(city_labels_loaded)\n",
    "data['b_label'] = data['b'].map(city_labels_loaded)\n",
    "data['c_label'] = data['c'].map(city_labels_loaded)\n",
    "data['from_label'] = data['from'].map(city_labels_loaded)\n",
    "data['to_label'] = data['to'].map(city_labels_loaded)"
   ]
  },
  {
   "cell_type": "markdown",
   "id": "23199201",
   "metadata": {},
   "source": [
    "### 新增城市二维嵌入"
   ]
  },
  {
   "cell_type": "code",
   "execution_count": 5,
   "id": "21b9a4c5",
   "metadata": {
    "ExecuteTime": {
     "end_time": "2024-12-26T03:24:29.959908Z",
     "start_time": "2024-12-26T03:24:29.957254Z"
    },
    "execution": {
     "iopub.execute_input": "2025-06-22T13:46:17.308234Z",
     "iopub.status.busy": "2025-06-22T13:46:17.307921Z",
     "iopub.status.idle": "2025-06-22T13:46:17.315185Z",
     "shell.execute_reply": "2025-06-22T13:46:17.314282Z",
     "shell.execute_reply.started": "2025-06-22T13:46:17.308204Z"
    },
    "scrolled": true
   },
   "outputs": [
    {
     "name": "stdout",
     "output_type": "stream",
     "text": [
      "加载的字典： {'AAT': [-1.37530517578125, -0.35888153314590454], 'CKG': [0.01064071711152792, -0.8891868591308594], 'PEK': [0.19175417721271515, -0.1063457801938057], 'TCG': [-1.4468026161193848, -0.36743783950805664], 'URC': [-1.2777715921401978, -0.6882389783859253], 'XIY': [0.4810418486595154, -0.8047342300415039], 'YIN': [-1.9216420650482178, -0.1084386482834816], 'ACF': [-1.6529606580734253, -0.20273223519325256], 'HMI': [-0.609366774559021, -0.7292864918708801], 'SHF': [-1.001150131225586, 0.16054262220859528], 'TLQ': [-0.8284773826599121, 0.0521150678396225], 'ACX': [-0.6958959102630615, 0.2985990047454834], 'CGO': [-0.32369911670684814, -0.8481274843215942], 'KMG': [0.3200676739215851, -0.3121274411678314], 'AEB': [-0.5060219168663025, 0.7377899885177612], 'CAN': [0.04243234544992447, -0.4815085530281067], 'HGH': [0.02870369330048561, -0.4355216324329376], 'KWL': [0.6726647615432739, -0.7483685612678528], 'TFU': [-0.16380424797534943, -0.40230828523635864], 'AKA': [-0.2005784809589386, 0.40137922763824463], 'CSX': [0.2820993959903717, -0.8172892928123474], 'HAK': [0.5160706639289856, -0.9371070861816406], 'TSN': [0.45263710618019104, -0.39073246717453003], 'UYN': [0.21083791553974152, -0.6537582278251648], 'AKU': [-1.6458346843719482, -0.4661535620689392], 'FOC': [0.21856994926929474, -0.6091769933700562], 'HTN': [-1.6974687576293945, -0.37385094165802], 'AOG': [0.6372593641281128, -0.22798705101013184], 'TNA': [0.3029763400554657, -0.7957876324653625], 'AQG': [0.5592906475067139, -0.38666173815727234], 'KWE': [0.21120736002922058, -0.7146714925765991], 'NGB': [-0.0002662790357135236, -0.8149986863136292], 'TAO': [0.18565493822097778, -1.0846997499465942], 'XMN': [0.2696721851825714, -0.5633876323699951], 'AVA': [0.43978002667427063, -0.007998881861567497], 'LLB': [0.31973138451576233, 0.26404303312301636], 'BAR': [-0.21679379045963287, 0.605323076248169], 'HRB': [0.8183377981185913, -0.3023071885108948], 'JMJ': [-0.21682721376419067, 0.9067312479019165], 'KHN': [0.6677552461624146, -0.4231375753879547], 'LHW': [-0.5955280661582947, -0.6691930294036865], 'NNG': [0.7025919556617737, -0.8665300011634827], 'SJW': [0.25196269154548645, -0.6159803867340088], 'SZX': [0.0646769106388092, -0.41170820593833923], 'BAV': [0.8154524564743042, 0.7907494902610779], 'HLD': [0.7423150539398193, 1.355084776878357], 'TGO': [0.9127076864242554, 1.2403227090835571], 'XIL': [0.9815539717674255, 1.2292832136154175], 'BFJ': [0.5370376706123352, -0.44520479440689087], 'BHY': [-0.11979000270366669, -0.6933801174163818], 'HET': [0.6150539517402649, 0.2580282390117645], 'HFE': [0.6440711617469788, -0.4731837809085846], 'HNY': [0.6481837630271912, -0.3830159604549408], 'JNG': [0.5571910738945007, -0.6154502034187317], 'NAO': [-1.065332293510437, -0.5607770085334778], 'WUH': [0.2281998097896576, -0.6934672594070435], 'XUZ': [0.7043554782867432, -0.36980462074279785], 'YIH': [0.06209319084882736, -0.5689756870269775], 'BPE': [0.23601052165031433, 0.1533767133951187], 'BPL': [-2.326657295227051, 0.14052648842334747], 'BPX': [-0.3452422618865967, 0.1080525666475296], 'BSD': [-0.15203295648097992, 0.8789204359054565], 'BZX': [0.38154688477516174, -0.7468063831329346], 'JJN': [-0.3525981307029724, -0.9542403221130371], 'LJG': [0.1946614682674408, -0.6777788400650024], 'NKG': [0.010662288405001163, -0.7592587471008301], 'CGQ': [0.7443155646324158, -0.32194259762763977], 'DLC': [0.6633746027946472, -0.1691914200782776], 'DOY': [0.34240323305130005, 0.6429670453071594], 'HDG': [0.9072176218032837, -0.358577162027359], 'HSN': [0.693778932094574, -0.1562006026506424], 'HZG': [-0.7220292687416077, -0.13335420191287994], 'INC': [-0.5280895233154297, -0.45126262307167053], 'JIQ': [0.30043697357177734, -0.012252944521605968], 'PKX': [-0.38661104440689087, -0.0180024653673172], 'PVG': [-0.0595688670873642, -0.655771017074585], 'SHA': [-0.04334697127342224, -0.13346342742443085], 'SHE': [0.25781407952308655, -1.0495078563690186], 'SQJ': [0.5600417852401733, -0.14098088443279266], 'SYX': [0.35968127846717834, -0.6163422465324402], 'TEN': [0.33260396122932434, -0.3776595890522003], 'TYN': [0.17768557369709015, -0.8651454448699951], 'WEF': [0.41590455174446106, -0.16534896194934845], 'WUA': [0.8693386316299438, 0.8625738024711609], 'YIC': [0.5857399702072144, -0.2599824070930481], 'ZQZ': [0.4403436779975891, 0.20917654037475586], 'CGD': [0.7344593405723572, -0.48463648557662964], 'JHG': [0.20884759724140167, -0.2620270550251007], 'CIF': [1.0513737201690674, 0.5650662779808044], 'DLU': [-0.09752508997917175, 0.074544757604599], 'DXJ': [-0.04835019260644913, 0.5776137113571167], 'ENH': [0.1714388132095337, -0.49729955196380615], 'GOQ': [-0.9659793376922607, 0.2987263798713684], 'HUZ': [0.2797601819038391, -0.9074717164039612], 'JGS': [0.35309141874313354, -0.14396420121192932], 'JNZ': [-0.27360525727272034, 0.6936267018318176], 'KCA': [-2.1668548583984375, 0.00010575502528809011], 'KHG': [-1.89340341091156, -0.21587057411670685], 'KOW': [0.5675621628761292, -0.746888279914856], 'KRL': [-0.9264565706253052, -0.6695181131362915], 'LXA': [-0.42131274938583374, -0.01003617886453867], 'LZH': [0.1306789368391037, -0.32166963815689087], 'LZO': [-0.1673034131526947, -0.6331879496574402], 'MIG': [-0.30048125982284546, -0.8721119165420532], 'MXZ': [0.13718445599079132, -0.2564105689525604], 'SQD': [0.803095817565918, -0.22031879425048828], 'SWA': [0.3572063446044922, -1.2114053964614868], 'TCZ': [-0.2836746275424957, 0.6075286269187927], 'WMT': [0.684768795967102, -0.6021315455436707], 'WNZ': [-0.4916674494743347, -0.7535408735275269], 'XNN': [-0.07102283835411072, -0.08936518430709839], 'YLX': [0.517357587814331, -0.2952978014945984], 'ZHA': [-0.30068883299827576, -0.9902154803276062], 'ZUH': [0.26473942399024963, -0.9334428906440735], 'ZYI': [0.49131280183792114, -0.7295820713043213], 'HIA': [-0.0404803566634655, -0.7834839224815369], 'NBS': [0.07734327763319016, 0.7062029838562012], 'RIZ': [0.20750994980335236, -0.2142297476530075], 'DSN': [0.823053777217865, 2.6549735069274902], 'HLH': [0.7882248163223267, 1.6094998121261597], 'LYA': [-0.07312464714050293, -0.5401263236999512], 'RLK': [0.7640617489814758, 0.7742165327072144], 'CQW': [-0.3320341110229492, 0.22064600884914398], 'DNH': [-0.12218708544969559, -0.35764771699905396], 'FUG': [0.2223164290189743, -0.8278021216392517], 'LYG': [0.27637049555778503, -0.5801000595092773], 'LZY': [-0.2675606608390808, 0.3215544819831848], 'RKZ': [-0.36948224902153015, 0.13256117701530457], 'TVS': [0.5815228223800659, -0.09147705137729645], 'TXN': [0.7926903963088989, -0.2954079210758209], 'WDS': [-0.0014418507926166058, -0.5819944739341736], 'YNJ': [0.24571998417377472, 0.5439130663871765], 'YNT': [0.44973909854888916, -0.3692346215248108], 'YZY': [-0.473194420337677, 1.0670750141143799], 'CZX': [0.6884476542472839, 1.0601747035980225], 'DZH': [0.061960361897945404, -0.7411655783653259], 'HCJ': [0.6491780281066895, -0.11337203532457352], 'HYN': [0.46111151576042175, 0.09757969528436661], 'HZA': [0.9551408886909485, -0.542865514755249], 'LFQ': [-0.19543778896331787, -0.12075717002153397], 'LYI': [0.941536545753479, -0.45821791887283325], 'WXN': [-0.24615219235420227, -0.6632754802703857], 'CWJ': [-0.20987315475940704, 0.8503755927085876], 'DAT': [0.7274460196495056, -0.06873712688684464], 'DIG': [-0.19461989402770996, 1.0087541341781616], 'LLV': [0.43780750036239624, 0.3060280978679657], 'MDG': [0.3051101863384247, 1.109066367149353], 'NTG': [-1.2549822330474854, 0.11722338199615479], 'WEH': [0.07020498067140579, 0.7171472311019897], 'WHA': [1.0830200910568237, -0.24334867298603058], 'XFN': [0.11681193113327026, -0.30007442831993103], 'YNZ': [-0.4340040981769562, -0.431215763092041], 'YBP': [-0.2583886682987213, 1.0149226188659668], 'DQA': [0.42887425422668457, 0.9311386942863464], 'DYG': [0.7987761497497559, -0.3891963064670563], 'EHU': [0.8400912284851074, -0.08245004713535309], 'ENY': [-0.2479478418827057, 0.9055840969085693], 'ERL': [0.37824204564094543, 2.048152446746826], 'KJH': [0.18645524978637695, -0.006707371678203344], 'FYN': [-2.2985284328460693, 0.12320040911436081], 'GYS': [0.25323358178138733, -0.3886655271053314], 'HCZ': [0.6743543744087219, -0.5405933856964111], 'HJJ': [0.7059445977210999, -0.6449275016784668], 'HSC': [0.7392269372940063, -0.38683077692985535], 'IQN': [-0.6539677381515503, -0.002249087207019329], 'JDZ': [0.6366550922393799, -0.3515096604824066], 'JIU': [0.8085581660270691, 0.09363678842782974], 'LLF': [0.6024713516235352, -0.3862744867801666], 'LNL': [-1.3581477403640747, 0.2074030190706253], 'NNY': [0.6123591065406799, -0.3968627154827118], 'SHS': [0.957343339920044, -0.3450080156326294], 'WGN': [0.5394741296768188, -0.38529953360557556], 'WUT': [0.8064025044441223, 0.6922498345375061], 'XAI': [0.6184586882591248, -0.26277855038642883], 'XNT': [0.040012046694755554, 0.2720610201358795], 'XYI': [0.8497536182403564, -0.361904501914978], 'YKH': [0.5958985686302185, -0.1028730571269989], 'YTY': [-0.31464436650276184, -0.038023386150598526], 'YYA': [0.6815147995948792, -0.25545021891593933], 'NZH': [0.5486858487129211, 1.6363298892974854], 'NZL': [0.8042289018630981, 2.168227434158325], 'YIE': [0.6762419939041138, 1.8959311246871948], 'LUM': [-0.09778740257024765, 0.4189606308937073], 'ZHY': [-0.29008427262306213, 0.8813140988349915], 'JGD': [0.509475588798523, 3.2139511108398438], 'OHE': [0.5804288387298584, 3.2458090782165527], 'TWC': [-2.1493473052978516, 0.10306262969970703], 'HQQ': [0.9457299709320068, 0.6847214102745056], 'HUO': [0.48036789894104004, 1.8742399215698242], 'JUH': [0.41780582070350647, -0.3113349974155426], 'SYM': [-0.30778440833091736, 0.0008785278769209981], 'JMU': [-0.15190741419792175, 1.5164159536361694], 'JXA': [-0.2899237275123596, 1.820886492729187], 'QSZ': [-2.8489999771118164, 0.8041521310806274], 'KJI': [-2.4964962005615234, 0.48323413729667664], 'NGQ': [-2.6424660682678223, 0.7140102386474609], 'WUX': [-0.005184272304177284, 0.9424189329147339], 'RQA': [-2.5040647983551025, 0.26840755343437195], 'WUZ': [0.525953471660614, 0.023474503308534622], 'LZG': [-0.2641303241252899, 1.009780764579773], 'NLT': [-2.373019218444824, 0.08447713404893875], 'YUS': [-0.6911240220069885, 1.4920650720596313], 'YTW': [-2.336650848388672, 0.06681548058986664], 'YSQ': [0.5328057408332825, 0.1264084428548813], 'ZFL': [-2.354236602783203, 0.07845710963010788]}\n"
     ]
    }
   ],
   "source": [
    "import json\n",
    "\n",
    "# 加载字典\n",
    "with open('../../my/encoder/城市嵌入编码_航班频率加权图.json', 'r') as file:\n",
    "    city_embeddings = json.load(file)\n",
    "\n",
    "print(\"加载的字典：\", city_embeddings)\n"
   ]
  },
  {
   "cell_type": "code",
   "execution_count": 6,
   "id": "92374fbf",
   "metadata": {
    "ExecuteTime": {
     "end_time": "2024-12-26T03:24:34.619385Z",
     "start_time": "2024-12-26T03:24:29.960639Z"
    },
    "execution": {
     "iopub.execute_input": "2025-06-22T13:46:17.317277Z",
     "iopub.status.busy": "2025-06-22T13:46:17.316516Z",
     "iopub.status.idle": "2025-06-22T13:46:20.811798Z",
     "shell.execute_reply": "2025-06-22T13:46:20.810617Z",
     "shell.execute_reply.started": "2025-06-22T13:46:17.317246Z"
    }
   },
   "outputs": [
    {
     "name": "stdout",
     "output_type": "stream",
     "text": [
      "         a_embedding_1  a_embedding_2  b_embedding_1  b_embedding_2  \\\n",
      "0            -1.375305      -0.358882      -1.277772      -0.688239   \n",
      "1            -1.652961      -0.202732      -1.277772      -0.688239   \n",
      "2            -1.652961      -0.202732      -0.828477       0.052115   \n",
      "3            -0.200578       0.401379       0.028704      -0.435522   \n",
      "4            -1.645835      -0.466154      -0.323699      -0.848127   \n",
      "...                ...            ...            ...            ...   \n",
      "1507922       0.264739      -0.933443       0.481042      -0.804734   \n",
      "1507923       0.264739      -0.933443       0.481042      -0.804734   \n",
      "1507924       0.264739      -0.933443       0.481042      -0.804734   \n",
      "1507925       0.481042      -0.804734       0.491313      -0.729582   \n",
      "1507926       0.359681      -0.616342       0.491313      -0.729582   \n",
      "\n",
      "         c_embedding_1  c_embedding_2  from_embedding_1  from_embedding_2  \\\n",
      "0                  NaN            NaN         -1.375305         -0.358882   \n",
      "1                  NaN            NaN         -1.652961         -0.202732   \n",
      "2             0.481042      -0.804734         -1.652961         -0.202732   \n",
      "3                  NaN            NaN         -0.200578          0.401379   \n",
      "4                  NaN            NaN         -1.645835         -0.466154   \n",
      "...                ...            ...               ...               ...   \n",
      "1507922      -1.277772      -0.688239          0.264739         -0.933443   \n",
      "1507923      -1.277772      -0.688239          0.264739         -0.933443   \n",
      "1507924            NaN            NaN          0.264739         -0.933443   \n",
      "1507925       0.359681      -0.616342          0.491313         -0.729582   \n",
      "1507926       0.481042      -0.804734          0.491313         -0.729582   \n",
      "\n",
      "         to_embedding_1  to_embedding_2  \n",
      "0             -1.277772       -0.688239  \n",
      "1             -1.277772       -0.688239  \n",
      "2              0.481042       -0.804734  \n",
      "3              0.028704       -0.435522  \n",
      "4             -0.323699       -0.848127  \n",
      "...                 ...             ...  \n",
      "1507922       -1.277772       -0.688239  \n",
      "1507923        0.481042       -0.804734  \n",
      "1507924        0.481042       -0.804734  \n",
      "1507925        0.359681       -0.616342  \n",
      "1507926        0.481042       -0.804734  \n",
      "\n",
      "[1507927 rows x 10 columns]\n"
     ]
    }
   ],
   "source": [
    "import pandas as pd\n",
    "import numpy as np\n",
    "\n",
    "# 将 city_embeddings 转换为 DataFrame\n",
    "embedding_df = pd.DataFrame.from_dict(city_embeddings, orient='index', columns=['embedding_1', 'embedding_2'])\n",
    "embedding_df.index.name = 'city'\n",
    "\n",
    "# 用 'a', 'b', 'c', 'from', 'to' 字段与 embedding_df 合并\n",
    "data = data.merge(embedding_df, left_on='a', right_index=True, how='left')\n",
    "data.rename(columns={'embedding_1': 'a_embedding_1', 'embedding_2': 'a_embedding_2'}, inplace=True)\n",
    "\n",
    "data = data.merge(embedding_df, left_on='b', right_index=True, how='left')\n",
    "data.rename(columns={'embedding_1': 'b_embedding_1', 'embedding_2': 'b_embedding_2'}, inplace=True)\n",
    "\n",
    "data = data.merge(embedding_df, left_on='c', right_index=True, how='left')\n",
    "data.rename(columns={'embedding_1': 'c_embedding_1', 'embedding_2': 'c_embedding_2'}, inplace=True)\n",
    "\n",
    "data = data.merge(embedding_df, left_on='from', right_index=True, how='left')\n",
    "data.rename(columns={'embedding_1': 'from_embedding_1', 'embedding_2': 'from_embedding_2'}, inplace=True)\n",
    "\n",
    "data = data.merge(embedding_df, left_on='to', right_index=True, how='left')\n",
    "data.rename(columns={'embedding_1': 'to_embedding_1', 'embedding_2': 'to_embedding_2'}, inplace=True)\n",
    "\n",
    "# 查看添加的新列\n",
    "print(data[['a_embedding_1', 'a_embedding_2', 'b_embedding_1', 'b_embedding_2', 'c_embedding_1', 'c_embedding_2', 'from_embedding_1', 'from_embedding_2', 'to_embedding_1', 'to_embedding_2']])\n"
   ]
  },
  {
   "cell_type": "markdown",
   "id": "5f9be248",
   "metadata": {},
   "source": [
    "### 频率编码"
   ]
  },
  {
   "cell_type": "markdown",
   "id": "d2737257",
   "metadata": {},
   "source": [
    "使用 json 保存和加载 city_map"
   ]
  },
  {
   "cell_type": "code",
   "execution_count": 7,
   "id": "a05c9648",
   "metadata": {
    "ExecuteTime": {
     "end_time": "2024-12-26T03:24:35.053615Z",
     "start_time": "2024-12-26T03:24:35.051060Z"
    },
    "execution": {
     "iopub.execute_input": "2025-06-22T13:46:20.813101Z",
     "iopub.status.busy": "2025-06-22T13:46:20.812781Z",
     "iopub.status.idle": "2025-06-22T13:46:21.875555Z",
     "shell.execute_reply": "2025-06-22T13:46:21.874469Z",
     "shell.execute_reply.started": "2025-06-22T13:46:20.813070Z"
    }
   },
   "outputs": [
    {
     "name": "stdout",
     "output_type": "stream",
     "text": [
      "        flt_no    cap aircraft  legs  leg_no  duration  pax       a       b  \\\n",
      "0         7558  110.0      195     1       1      1.30   97    2333  137647   \n",
      "1         7470  110.0      195     1       1      1.25   67    2434  137647   \n",
      "2         769R   93.0      190     3       3      4.75   22    2434     810   \n",
      "3         5248  162.0      320     1       1      1.83   55    1401  106773   \n",
      "4         6250  167.0      320     1       1      3.98  166    6066  135409   \n",
      "...        ...    ...      ...   ...     ...       ...  ...     ...     ...   \n",
      "1507922   7690  154.0      32F     3       3      6.53   34   33327  192653   \n",
      "1507923   7690  154.0      32F     3       1      2.78  113   33327  192653   \n",
      "1507924   8304  167.0      738     1       1      2.48  158   33327  192653   \n",
      "1507925   7545  155.0      32F     3       2      2.05   74  192653    5100   \n",
      "1507926   7546  155.0      32F     3       2      1.42  136  128149    5100   \n",
      "\n",
      "                c  ...  a_embedding_1  a_embedding_2  b_embedding_1  \\\n",
      "0             NaN  ...      -1.375305      -0.358882      -1.277772   \n",
      "1             NaN  ...      -1.652961      -0.202732      -1.277772   \n",
      "2        192653.0  ...      -1.652961      -0.202732      -0.828477   \n",
      "3             NaN  ...      -0.200578       0.401379       0.028704   \n",
      "4             NaN  ...      -1.645835      -0.466154      -0.323699   \n",
      "...           ...  ...            ...            ...            ...   \n",
      "1507922  137647.0  ...       0.264739      -0.933443       0.481042   \n",
      "1507923  137647.0  ...       0.264739      -0.933443       0.481042   \n",
      "1507924       NaN  ...       0.264739      -0.933443       0.481042   \n",
      "1507925  128149.0  ...       0.481042      -0.804734       0.491313   \n",
      "1507926  192653.0  ...       0.359681      -0.616342       0.491313   \n",
      "\n",
      "         b_embedding_2  c_embedding_1  c_embedding_2  from_embedding_1  \\\n",
      "0            -0.688239            NaN            NaN         -1.375305   \n",
      "1            -0.688239            NaN            NaN         -1.652961   \n",
      "2             0.052115       0.481042      -0.804734         -1.652961   \n",
      "3            -0.435522            NaN            NaN         -0.200578   \n",
      "4            -0.848127            NaN            NaN         -1.645835   \n",
      "...                ...            ...            ...               ...   \n",
      "1507922      -0.804734      -1.277772      -0.688239          0.264739   \n",
      "1507923      -0.804734      -1.277772      -0.688239          0.264739   \n",
      "1507924      -0.804734            NaN            NaN          0.264739   \n",
      "1507925      -0.729582       0.359681      -0.616342          0.491313   \n",
      "1507926      -0.729582       0.481042      -0.804734          0.491313   \n",
      "\n",
      "         from_embedding_2  to_embedding_1  to_embedding_2  \n",
      "0               -0.358882       -1.277772       -0.688239  \n",
      "1               -0.202732       -1.277772       -0.688239  \n",
      "2               -0.202732        0.481042       -0.804734  \n",
      "3                0.401379        0.028704       -0.435522  \n",
      "4               -0.466154       -0.323699       -0.848127  \n",
      "...                   ...             ...             ...  \n",
      "1507922         -0.933443       -1.277772       -0.688239  \n",
      "1507923         -0.933443        0.481042       -0.804734  \n",
      "1507924         -0.933443        0.481042       -0.804734  \n",
      "1507925         -0.729582        0.359681       -0.616342  \n",
      "1507926         -0.729582        0.481042       -0.804734  \n",
      "\n",
      "[1507927 rows x 35 columns]\n"
     ]
    }
   ],
   "source": [
    "# 加载city_map\n",
    "with open('../../my/encoder/city_map_频率编码.json', 'r') as f:\n",
    "    city_map = json.load(f)\n",
    "\n",
    "# 使用 city_map 替换指定列的值\n",
    "columns_to_replace = ['a', 'b', 'c', 'from', 'to']\n",
    "\n",
    "# 遍历指定列并直接用 map 映射\n",
    "for col in columns_to_replace:\n",
    "    data[col] = data[col].map(city_map)\n",
    "\n",
    "\n",
    "print(data)"
   ]
  },
  {
   "cell_type": "markdown",
   "id": "20d3b1ea-44b4-4d7f-9c6e-7036e2ee1fc6",
   "metadata": {},
   "source": [
    "### 'flt_no', 'bd_type', 'aircraft'编码"
   ]
  },
  {
   "cell_type": "code",
   "execution_count": 8,
   "id": "9022bd85",
   "metadata": {
    "ExecuteTime": {
     "end_time": "2024-12-26T03:24:38.137862Z",
     "start_time": "2024-12-26T03:24:36.356011Z"
    },
    "execution": {
     "iopub.execute_input": "2025-06-22T13:46:21.877131Z",
     "iopub.status.busy": "2025-06-22T13:46:21.876808Z",
     "iopub.status.idle": "2025-06-22T13:46:23.147112Z",
     "shell.execute_reply": "2025-06-22T13:46:23.146034Z",
     "shell.execute_reply.started": "2025-06-22T13:46:21.877099Z"
    },
    "scrolled": true
   },
   "outputs": [
    {
     "name": "stdout",
     "output_type": "stream",
     "text": [
      "flt_no列编码完成\n",
      "aircraft列编码完成\n",
      "\n",
      "编码后的前几行数据：\n",
      "   flt_no  aircraft\n",
      "0    2945         2\n",
      "1    2821         2\n",
      "2    3159         0\n",
      "3     661         9\n",
      "4    1507         9\n"
     ]
    }
   ],
   "source": [
    "import joblib\n",
    "from sklearn.preprocessing import LabelEncoder\n",
    "import os\n",
    "\n",
    "# 定义需要编码的分类特征\n",
    "# categorical_columns = ['flt_no', 'bd_type', 'aircraft']\n",
    "categorical_columns = ['flt_no', 'aircraft']\n",
    "\n",
    "# 从保存的文件中加载编码器并应用到data\n",
    "for col in categorical_columns:\n",
    "    # 加载编码器\n",
    "    encoder_path = os.path.join('../../my/encoder/', f\"{col}_encoder_all.pkl\")\n",
    "    le = joblib.load(encoder_path)\n",
    "    \n",
    "    try:\n",
    "        # 对data进行转换\n",
    "        data[col] = le.transform(data[col])\n",
    "        print(f\"{col}列编码完成\")\n",
    "    except ValueError as e:\n",
    "        # 如果遇到新的类别，打印错误信息\n",
    "        print(f\"{col}列编码出错: {str(e)}\")\n",
    "        # 找出新的类别\n",
    "        new_categories = set(data[col]) - set(le.classes_)\n",
    "        print(f\"{col}列中的新类别: {new_categories}\")\n",
    "\n",
    "# 查看编码后的结果\n",
    "print(\"\\n编码后的前几行数据：\")\n",
    "print(data[categorical_columns].head())"
   ]
  },
  {
   "cell_type": "markdown",
   "id": "276a61f1-30ca-4421-81cc-45a8204378b4",
   "metadata": {},
   "source": [
    "### 新增pax比例字段"
   ]
  },
  {
   "cell_type": "code",
   "execution_count": null,
   "id": "fe0444c2-9b68-43e4-85cc-bab9044629e8",
   "metadata": {},
   "outputs": [],
   "source": []
  },
  {
   "cell_type": "markdown",
   "id": "033293da",
   "metadata": {},
   "source": [
    "## 特征和目标分离\n",
    "我们要预测的是pax字段，其他字段作为特征。"
   ]
  },
  {
   "cell_type": "code",
   "execution_count": 9,
   "id": "5a274b48",
   "metadata": {
    "ExecuteTime": {
     "end_time": "2024-12-26T03:24:38.380502Z",
     "start_time": "2024-12-26T03:24:38.139813Z"
    },
    "execution": {
     "iopub.execute_input": "2025-06-22T13:46:23.148783Z",
     "iopub.status.busy": "2025-06-22T13:46:23.148338Z",
     "iopub.status.idle": "2025-06-22T13:46:23.338421Z",
     "shell.execute_reply": "2025-06-22T13:46:23.337323Z",
     "shell.execute_reply.started": "2025-06-22T13:46:23.148749Z"
    }
   },
   "outputs": [],
   "source": [
    "# 特征列\n",
    "# X = data[['flt_no', 'bd_type', 'cap', 'aircraft',  'leg_no', 'duration', 'a', 'b', 'c', 'year', 'month', 'day', 'weekday','holiday', 'hour', 'minute', 'second', 'from', 'to','unit_price']]\n",
    "# X = data[['flt_no', 'bd_type', 'cap', 'aircraft', 'legs', 'leg_no', 'duration', 'a', 'b', 'c', 'year', 'month', 'day', 'weekday','hour', 'minute', 'second', 'from', 'to','unit_price']]\n",
    "# X = data[['flt_no', 'bd_type', 'cap', 'aircraft', 'legs', 'leg_no', 'duration', 'a', 'b', 'c', 'year', 'month', 'day', 'weekday','hour', 'minute', 'second', 'from', 'to','unit_price','a_label' ,'b_label' ,'c_label' ,'from_label' ,'to_label']]\n",
    "\n",
    "# 有abc，有标签，有嵌入\n",
    "# X = data[['flt_no', 'bd_type', 'cap', 'aircraft', 'legs', 'leg_no', 'duration', 'a', 'b', 'c', 'year', 'month', 'day', 'weekday','hour', 'minute', 'second', 'from', 'to','unit_price','a_label' ,'b_label' ,'c_label' ,'from_label' ,'to_label','a_embedding_1' , 'a_embedding_2' , 'b_embedding_1','b_embedding_2' , 'c_embedding_1' , 'c_embedding_2' , 'from_embedding_1','from_embedding_2' , 'to_embedding_1' , 'to_embedding_2']]\n",
    "# X = data[['flt_no', 'cap', 'aircraft', 'legs', 'leg_no', 'duration', 'a', 'b', 'c', 'year', 'month', 'day', 'weekday','hour', 'minute', 'from', 'to','unit_price','a_label' ,'b_label' ,'c_label' ,'from_label' ,'to_label','a_embedding_1' , 'a_embedding_2' , 'b_embedding_1','b_embedding_2' , 'c_embedding_1' , 'c_embedding_2' , 'from_embedding_1','from_embedding_2' , 'to_embedding_1' , 'to_embedding_2']]\n",
    "X = data[['flt_no', 'cap', 'aircraft', 'legs', 'leg_no', 'duration', 'a', 'b', 'c', 'year', 'month', 'day', 'weekday','hour', 'minute', 'from', 'to','unit_price','competitor_price','a_label' ,'b_label' ,'c_label' ,'from_label' ,'to_label','a_embedding_1' , 'a_embedding_2' , 'b_embedding_1','b_embedding_2' , 'c_embedding_1' , 'c_embedding_2' , 'from_embedding_1','from_embedding_2' , 'to_embedding_1' , 'to_embedding_2']]\n",
    "\n",
    "# 删除了abc，但有标签，有嵌入\n",
    "# X = data[['flt_no', 'bd_type', 'cap', 'aircraft', 'legs', 'leg_no', 'duration', 'year', 'month', 'day', 'weekday','hour', 'minute', 'second', 'unit_price','a_label' ,'b_label' ,'c_label' ,'from_label' ,'to_label','a_embedding_1' , 'a_embedding_2' , 'b_embedding_1','b_embedding_2' , 'c_embedding_1' , 'c_embedding_2' , 'from_embedding_1','from_embedding_2' , 'to_embedding_1' , 'to_embedding_2']]\n",
    "\n",
    "# 目标列\n",
    "y = data['pax']"
   ]
  },
  {
   "cell_type": "markdown",
   "id": "8f37ae67",
   "metadata": {},
   "source": [
    "### 对x进行标准化"
   ]
  },
  {
   "cell_type": "code",
   "execution_count": 10,
   "id": "04ef4398",
   "metadata": {
    "ExecuteTime": {
     "end_time": "2024-12-26T03:24:40.878111Z",
     "start_time": "2024-12-26T03:24:38.381268Z"
    },
    "execution": {
     "iopub.execute_input": "2025-06-22T13:46:23.340459Z",
     "iopub.status.busy": "2025-06-22T13:46:23.339713Z",
     "iopub.status.idle": "2025-06-22T13:46:25.776730Z",
     "shell.execute_reply": "2025-06-22T13:46:25.775626Z",
     "shell.execute_reply.started": "2025-06-22T13:46:23.340424Z"
    }
   },
   "outputs": [
    {
     "name": "stdout",
     "output_type": "stream",
     "text": [
      "     flt_no       cap  aircraft      legs    leg_no  duration         a  \\\n",
      "0  0.451505 -1.477052 -1.324136 -0.865334 -0.565872 -1.227121 -1.436836   \n",
      "\n",
      "          b   c      year     month       day   weekday     hour    minute  \\\n",
      "0  1.079574 NaN -0.882038 -1.314987 -1.681533  1.483702 -0.00125  0.477048   \n",
      "\n",
      "       from       to  unit_price  competitor_price   a_label   b_label  \\\n",
      "0 -1.334675  0.82066   -0.552425         -0.500111 -2.017569  0.299796   \n",
      "\n",
      "   c_label  from_label  to_label  a_embedding_1  a_embedding_2  b_embedding_1  \\\n",
      "0      NaN   -1.982899   0.28426      -2.794979       0.362764       -2.95506   \n",
      "\n",
      "   b_embedding_2  c_embedding_1  c_embedding_2  from_embedding_1  \\\n",
      "0      -0.423661            NaN            NaN         -2.925336   \n",
      "\n",
      "   from_embedding_2  to_embedding_1  to_embedding_2  \n",
      "0          0.350482       -2.736296       -0.385379  \n",
      "x的标准化器已保存为 standard_scaler_x.pkl\n"
     ]
    }
   ],
   "source": [
    "from sklearn.preprocessing import StandardScaler\n",
    "\n",
    "# 对所有特征进行标准化\n",
    "scaler = StandardScaler()\n",
    "X_scaled = scaler.fit_transform(X)\n",
    "\n",
    "# 将标准化后的数据转回 DataFrame 格式\n",
    "X_scaled = pd.DataFrame(X_scaled, columns=X.columns)\n",
    "\n",
    "# 查看结果\n",
    "pd.set_option('display.max_columns', None)  # 显示所有列\n",
    "print(X_scaled.head(1))\n",
    "\n",
    "\n",
    "# 保存 scaler\n",
    "joblib.dump(scaler, '../../my/encoder/standard_scaler_x.pkl')\n",
    "print(\"x的标准化器已保存为 standard_scaler_x.pkl\")"
   ]
  },
  {
   "cell_type": "markdown",
   "id": "5af705c8",
   "metadata": {},
   "source": [
    "### 对y进行标准化"
   ]
  },
  {
   "cell_type": "code",
   "execution_count": 11,
   "id": "e5c6228c",
   "metadata": {
    "ExecuteTime": {
     "end_time": "2024-12-26T03:24:40.909527Z",
     "start_time": "2024-12-26T03:24:40.879082Z"
    },
    "execution": {
     "iopub.execute_input": "2025-06-22T13:46:25.778301Z",
     "iopub.status.busy": "2025-06-22T13:46:25.777966Z",
     "iopub.status.idle": "2025-06-22T13:46:25.811905Z",
     "shell.execute_reply": "2025-06-22T13:46:25.810916Z",
     "shell.execute_reply.started": "2025-06-22T13:46:25.778269Z"
    }
   },
   "outputs": [
    {
     "name": "stdout",
     "output_type": "stream",
     "text": [
      "   pax_scaled\n",
      "0   -0.462832\n",
      "1   -1.033692\n",
      "2   -1.889982\n",
      "3   -1.262036\n",
      "4    0.850147\n",
      "y的标准化器已保存为 standard_scaler_y.pkl\n"
     ]
    }
   ],
   "source": [
    "# 对目标列 y 进行标准化\n",
    "scaler_y = StandardScaler()\n",
    "y_scaled = scaler_y.fit_transform(y.values.reshape(-1, 1))  # 将 y 转换为 2D 数组进行标准化\n",
    "\n",
    "# 转换回 DataFrame 格式\n",
    "y_scaled = pd.DataFrame(y_scaled, columns=['pax_scaled'])\n",
    "\n",
    "# 查看标准化后的 y\n",
    "print(y_scaled.head())\n",
    "\n",
    "# 保存 y 的 scaler\n",
    "joblib.dump(scaler_y, '../../my/encoder/standard_scaler_y.pkl')\n",
    "print(\"y的标准化器已保存为 standard_scaler_y.pkl\")"
   ]
  },
  {
   "cell_type": "code",
   "execution_count": 12,
   "id": "03326006-9bc2-4965-86cb-b5a16e99c7c3",
   "metadata": {
    "execution": {
     "iopub.execute_input": "2025-06-22T13:46:25.815511Z",
     "iopub.status.busy": "2025-06-22T13:46:25.815144Z",
     "iopub.status.idle": "2025-06-22T13:46:25.820796Z",
     "shell.execute_reply": "2025-06-22T13:46:25.819880Z",
     "shell.execute_reply.started": "2025-06-22T13:46:25.815480Z"
    }
   },
   "outputs": [],
   "source": [
    "# from lightgbm import LGBMRegressor\n",
    "# from sklearn.model_selection import RandomizedSearchCV\n",
    "# import numpy as np\n",
    "\n",
    "# # 1. 定义基础模型\n",
    "# base = LGBMRegressor(objective='regression', random_state=42)\n",
    "\n",
    "# # 2. 定义待搜索的参数分布\n",
    "# param_dist = {\n",
    "#     'learning_rate':      [0.01, 0.05, 0.1, 0.2],\n",
    "#     'n_estimators':       [500, 1000, 2000],\n",
    "#     'num_leaves':         [31, 63, 127, 255],\n",
    "#     'max_depth':          [-1, 5, 10, 20],\n",
    "#     'subsample':          [0.6, 0.8, 1.0],\n",
    "#     'subsample_freq':     [0, 1, 5],\n",
    "#     'colsample_bytree':   [0.6, 0.8, 1.0],\n",
    "#     'reg_alpha':          [0.0, 0.1, 1.0, 10.0],\n",
    "#     'reg_lambda':         [0.0, 0.1, 1.0, 10.0],\n",
    "#     'min_split_gain':     [0.0, 0.1, 0.5],\n",
    "#     'min_child_samples':  [5, 20, 50, 100],\n",
    "#     'max_bin':            [63, 127, 255]\n",
    "# }\n",
    "\n",
    "# # 3. 配置 RandomizedSearchCV\n",
    "# search = RandomizedSearchCV(\n",
    "#     estimator=base,\n",
    "#     param_distributions=param_dist,\n",
    "#     n_iter=50,                            # 随机尝试 50 种配置\n",
    "#     scoring='neg_root_mean_squared_error',# 可改成自定义 SMAPE\n",
    "#     cv=3,\n",
    "#     verbose=2,\n",
    "#     n_jobs=-1,\n",
    "#     random_state=42\n",
    "# )\n",
    "\n",
    "# # 4. 执行搜索（以 X_train_scaled, y_train 为例）\n",
    "# search.fit(\n",
    "#     X_train_scaled, y_train.values.ravel(),\n",
    "#     eval_set=[(X_val_scaled, y_val.values.ravel())],\n",
    "#     eval_metric='rmse',\n",
    "#     callbacks=[early_stopping(stopping_rounds=20)]\n",
    "# )\n",
    "\n",
    "# print(\"最佳参数：\", search.best_params_)\n",
    "# print(\"最佳 CV 得分 (RMSE)：\", -search.best_score_)\n"
   ]
  },
  {
   "cell_type": "markdown",
   "id": "55e832ee",
   "metadata": {},
   "source": [
    "## 训练XGBoost模型"
   ]
  },
  {
   "cell_type": "code",
   "execution_count": 13,
   "id": "a7aabaf5",
   "metadata": {
    "ExecuteTime": {
     "end_time": "2024-12-27T08:07:01.365756Z",
     "start_time": "2024-12-27T07:59:58.423485Z"
    },
    "execution": {
     "iopub.execute_input": "2025-06-22T13:46:25.822353Z",
     "iopub.status.busy": "2025-06-22T13:46:25.821894Z",
     "iopub.status.idle": "2025-06-22T13:47:19.309368Z",
     "shell.execute_reply": "2025-06-22T13:47:19.308098Z",
     "shell.execute_reply.started": "2025-06-22T13:46:25.822322Z"
    }
   },
   "outputs": [
    {
     "name": "stdout",
     "output_type": "stream",
     "text": [
      "[LightGBM] [Warning] feature_fraction is set=1.0, colsample_bytree=1.0 will be ignored. Current value: feature_fraction=1.0\n",
      "[LightGBM] [Warning] lambda_l2 is set=1.0, reg_lambda=0.0 will be ignored. Current value: lambda_l2=1.0\n",
      "[LightGBM] [Warning] lambda_l1 is set=1.0, reg_alpha=0.0 will be ignored. Current value: lambda_l1=1.0\n",
      "[LightGBM] [Warning] bagging_fraction is set=0.8, subsample=1.0 will be ignored. Current value: bagging_fraction=0.8\n",
      "[LightGBM] [Warning] bagging_freq is set=1, subsample_freq=0 will be ignored. Current value: bagging_freq=1\n",
      "[LightGBM] [Warning] feature_fraction is set=1.0, colsample_bytree=1.0 will be ignored. Current value: feature_fraction=1.0\n",
      "[LightGBM] [Warning] lambda_l2 is set=1.0, reg_lambda=0.0 will be ignored. Current value: lambda_l2=1.0\n",
      "[LightGBM] [Warning] lambda_l1 is set=1.0, reg_alpha=0.0 will be ignored. Current value: lambda_l1=1.0\n",
      "[LightGBM] [Warning] bagging_fraction is set=0.8, subsample=1.0 will be ignored. Current value: bagging_fraction=0.8\n",
      "[LightGBM] [Warning] bagging_freq is set=1, subsample_freq=0 will be ignored. Current value: bagging_freq=1\n",
      "[LightGBM] [Info] Auto-choosing col-wise multi-threading, the overhead of testing was 0.080858 seconds.\n",
      "You can set `force_col_wise=true` to remove the overhead.\n",
      "[LightGBM] [Info] Total Bins 3770\n",
      "[LightGBM] [Info] Number of data points in the train set: 1206341, number of used features: 34\n",
      "[LightGBM] [Warning] feature_fraction is set=1.0, colsample_bytree=1.0 will be ignored. Current value: feature_fraction=1.0\n",
      "[LightGBM] [Warning] lambda_l2 is set=1.0, reg_lambda=0.0 will be ignored. Current value: lambda_l2=1.0\n",
      "[LightGBM] [Warning] lambda_l1 is set=1.0, reg_alpha=0.0 will be ignored. Current value: lambda_l1=1.0\n",
      "[LightGBM] [Warning] bagging_fraction is set=0.8, subsample=1.0 will be ignored. Current value: bagging_fraction=0.8\n",
      "[LightGBM] [Warning] bagging_freq is set=1, subsample_freq=0 will be ignored. Current value: bagging_freq=1\n",
      "[LightGBM] [Info] Start training from score -0.000082\n",
      "Training until validation scores don't improve for 10 rounds\n",
      "[10]\tvalid_0's rmse: 0.565102\tvalid_0's l2: 0.319341\n",
      "[20]\tvalid_0's rmse: 0.469232\tvalid_0's l2: 0.220179\n",
      "[30]\tvalid_0's rmse: 0.443515\tvalid_0's l2: 0.196706\n",
      "[40]\tvalid_0's rmse: 0.431512\tvalid_0's l2: 0.186203\n",
      "[50]\tvalid_0's rmse: 0.422838\tvalid_0's l2: 0.178792\n",
      "[60]\tvalid_0's rmse: 0.417141\tvalid_0's l2: 0.174006\n",
      "[70]\tvalid_0's rmse: 0.412561\tvalid_0's l2: 0.170206\n",
      "[80]\tvalid_0's rmse: 0.409331\tvalid_0's l2: 0.167552\n",
      "[90]\tvalid_0's rmse: 0.406062\tvalid_0's l2: 0.164886\n",
      "[100]\tvalid_0's rmse: 0.403231\tvalid_0's l2: 0.162595\n",
      "[110]\tvalid_0's rmse: 0.400655\tvalid_0's l2: 0.160524\n",
      "[LightGBM] [Warning] No further splits with positive gain, best gain: -inf\n",
      "[LightGBM] [Warning] No further splits with positive gain, best gain: -inf\n",
      "[120]\tvalid_0's rmse: 0.398463\tvalid_0's l2: 0.158773\n",
      "[LightGBM] [Warning] No further splits with positive gain, best gain: -inf\n",
      "[130]\tvalid_0's rmse: 0.39641\tvalid_0's l2: 0.157141\n",
      "[140]\tvalid_0's rmse: 0.394217\tvalid_0's l2: 0.155407\n",
      "[LightGBM] [Warning] No further splits with positive gain, best gain: -inf\n",
      "[150]\tvalid_0's rmse: 0.392246\tvalid_0's l2: 0.153857\n",
      "[160]\tvalid_0's rmse: 0.390433\tvalid_0's l2: 0.152438\n",
      "[LightGBM] [Warning] No further splits with positive gain, best gain: -inf\n",
      "[170]\tvalid_0's rmse: 0.38902\tvalid_0's l2: 0.151336\n",
      "[180]\tvalid_0's rmse: 0.387603\tvalid_0's l2: 0.150236\n",
      "[190]\tvalid_0's rmse: 0.386157\tvalid_0's l2: 0.149117\n",
      "[200]\tvalid_0's rmse: 0.384966\tvalid_0's l2: 0.148199\n",
      "[LightGBM] [Warning] No further splits with positive gain, best gain: -inf\n",
      "[210]\tvalid_0's rmse: 0.383731\tvalid_0's l2: 0.14725\n",
      "[220]\tvalid_0's rmse: 0.382474\tvalid_0's l2: 0.146286\n",
      "[230]\tvalid_0's rmse: 0.381468\tvalid_0's l2: 0.145518\n",
      "[240]\tvalid_0's rmse: 0.38045\tvalid_0's l2: 0.144742\n",
      "[250]\tvalid_0's rmse: 0.379487\tvalid_0's l2: 0.144011\n",
      "[260]\tvalid_0's rmse: 0.378454\tvalid_0's l2: 0.143228\n",
      "[270]\tvalid_0's rmse: 0.377647\tvalid_0's l2: 0.142618\n",
      "[280]\tvalid_0's rmse: 0.376839\tvalid_0's l2: 0.142007\n",
      "[290]\tvalid_0's rmse: 0.376071\tvalid_0's l2: 0.14143\n",
      "[300]\tvalid_0's rmse: 0.375203\tvalid_0's l2: 0.140777\n",
      "[310]\tvalid_0's rmse: 0.374476\tvalid_0's l2: 0.140232\n",
      "[320]\tvalid_0's rmse: 0.373867\tvalid_0's l2: 0.139776\n",
      "[330]\tvalid_0's rmse: 0.373171\tvalid_0's l2: 0.139256\n",
      "[340]\tvalid_0's rmse: 0.372524\tvalid_0's l2: 0.138774\n",
      "[350]\tvalid_0's rmse: 0.371768\tvalid_0's l2: 0.138212\n",
      "[360]\tvalid_0's rmse: 0.371068\tvalid_0's l2: 0.137692\n",
      "[370]\tvalid_0's rmse: 0.370459\tvalid_0's l2: 0.13724\n",
      "[380]\tvalid_0's rmse: 0.369894\tvalid_0's l2: 0.136821\n",
      "[390]\tvalid_0's rmse: 0.369333\tvalid_0's l2: 0.136407\n",
      "[400]\tvalid_0's rmse: 0.368773\tvalid_0's l2: 0.135994\n",
      "[410]\tvalid_0's rmse: 0.368338\tvalid_0's l2: 0.135673\n",
      "[420]\tvalid_0's rmse: 0.367837\tvalid_0's l2: 0.135304\n",
      "[430]\tvalid_0's rmse: 0.367376\tvalid_0's l2: 0.134965\n",
      "[440]\tvalid_0's rmse: 0.366894\tvalid_0's l2: 0.134611\n",
      "[450]\tvalid_0's rmse: 0.366426\tvalid_0's l2: 0.134268\n",
      "[460]\tvalid_0's rmse: 0.36596\tvalid_0's l2: 0.133927\n",
      "[470]\tvalid_0's rmse: 0.36558\tvalid_0's l2: 0.133649\n",
      "[480]\tvalid_0's rmse: 0.365168\tvalid_0's l2: 0.133347\n",
      "[490]\tvalid_0's rmse: 0.36472\tvalid_0's l2: 0.133021\n",
      "[500]\tvalid_0's rmse: 0.364314\tvalid_0's l2: 0.132725\n",
      "[510]\tvalid_0's rmse: 0.363953\tvalid_0's l2: 0.132462\n",
      "[520]\tvalid_0's rmse: 0.363442\tvalid_0's l2: 0.13209\n",
      "[530]\tvalid_0's rmse: 0.363063\tvalid_0's l2: 0.131815\n",
      "[540]\tvalid_0's rmse: 0.362695\tvalid_0's l2: 0.131548\n",
      "[550]\tvalid_0's rmse: 0.362382\tvalid_0's l2: 0.13132\n",
      "[560]\tvalid_0's rmse: 0.361951\tvalid_0's l2: 0.131008\n",
      "[570]\tvalid_0's rmse: 0.361671\tvalid_0's l2: 0.130806\n",
      "[580]\tvalid_0's rmse: 0.361322\tvalid_0's l2: 0.130554\n",
      "[590]\tvalid_0's rmse: 0.360947\tvalid_0's l2: 0.130283\n",
      "[600]\tvalid_0's rmse: 0.360641\tvalid_0's l2: 0.130062\n",
      "[610]\tvalid_0's rmse: 0.360249\tvalid_0's l2: 0.129779\n",
      "[620]\tvalid_0's rmse: 0.359917\tvalid_0's l2: 0.12954\n",
      "[630]\tvalid_0's rmse: 0.359578\tvalid_0's l2: 0.129297\n",
      "[640]\tvalid_0's rmse: 0.359263\tvalid_0's l2: 0.12907\n",
      "[650]\tvalid_0's rmse: 0.359007\tvalid_0's l2: 0.128886\n",
      "[660]\tvalid_0's rmse: 0.358758\tvalid_0's l2: 0.128708\n",
      "[670]\tvalid_0's rmse: 0.358376\tvalid_0's l2: 0.128433\n",
      "[680]\tvalid_0's rmse: 0.358088\tvalid_0's l2: 0.128227\n",
      "[690]\tvalid_0's rmse: 0.357838\tvalid_0's l2: 0.128048\n",
      "[700]\tvalid_0's rmse: 0.357557\tvalid_0's l2: 0.127847\n",
      "[710]\tvalid_0's rmse: 0.357234\tvalid_0's l2: 0.127616\n",
      "[720]\tvalid_0's rmse: 0.357043\tvalid_0's l2: 0.12748\n",
      "[730]\tvalid_0's rmse: 0.356804\tvalid_0's l2: 0.127309\n",
      "[740]\tvalid_0's rmse: 0.356518\tvalid_0's l2: 0.127105\n",
      "[750]\tvalid_0's rmse: 0.356241\tvalid_0's l2: 0.126908\n",
      "[760]\tvalid_0's rmse: 0.355995\tvalid_0's l2: 0.126733\n",
      "[770]\tvalid_0's rmse: 0.355746\tvalid_0's l2: 0.126555\n",
      "[780]\tvalid_0's rmse: 0.355516\tvalid_0's l2: 0.126392\n",
      "[790]\tvalid_0's rmse: 0.355362\tvalid_0's l2: 0.126282\n",
      "[800]\tvalid_0's rmse: 0.355156\tvalid_0's l2: 0.126136\n",
      "[810]\tvalid_0's rmse: 0.355014\tvalid_0's l2: 0.126035\n",
      "[820]\tvalid_0's rmse: 0.354787\tvalid_0's l2: 0.125874\n",
      "[830]\tvalid_0's rmse: 0.354583\tvalid_0's l2: 0.125729\n",
      "[840]\tvalid_0's rmse: 0.354362\tvalid_0's l2: 0.125572\n",
      "[850]\tvalid_0's rmse: 0.354111\tvalid_0's l2: 0.125394\n",
      "[860]\tvalid_0's rmse: 0.353956\tvalid_0's l2: 0.125285\n",
      "[870]\tvalid_0's rmse: 0.353749\tvalid_0's l2: 0.125138\n",
      "[880]\tvalid_0's rmse: 0.353491\tvalid_0's l2: 0.124956\n",
      "[890]\tvalid_0's rmse: 0.353266\tvalid_0's l2: 0.124797\n",
      "[900]\tvalid_0's rmse: 0.353073\tvalid_0's l2: 0.124661\n",
      "[910]\tvalid_0's rmse: 0.352969\tvalid_0's l2: 0.124587\n",
      "[920]\tvalid_0's rmse: 0.352791\tvalid_0's l2: 0.124462\n",
      "[930]\tvalid_0's rmse: 0.352643\tvalid_0's l2: 0.124357\n",
      "[940]\tvalid_0's rmse: 0.352497\tvalid_0's l2: 0.124254\n",
      "[950]\tvalid_0's rmse: 0.352314\tvalid_0's l2: 0.124125\n",
      "[960]\tvalid_0's rmse: 0.352092\tvalid_0's l2: 0.123969\n",
      "[970]\tvalid_0's rmse: 0.351926\tvalid_0's l2: 0.123852\n",
      "[980]\tvalid_0's rmse: 0.351802\tvalid_0's l2: 0.123765\n",
      "[990]\tvalid_0's rmse: 0.351652\tvalid_0's l2: 0.123659\n",
      "[1000]\tvalid_0's rmse: 0.351476\tvalid_0's l2: 0.123535\n",
      "Did not meet early stopping. Best iteration is:\n",
      "[1000]\tvalid_0's rmse: 0.351476\tvalid_0's l2: 0.123535\n",
      "[LightGBM] [Warning] feature_fraction is set=1.0, colsample_bytree=1.0 will be ignored. Current value: feature_fraction=1.0\n",
      "[LightGBM] [Warning] lambda_l2 is set=1.0, reg_lambda=0.0 will be ignored. Current value: lambda_l2=1.0\n",
      "[LightGBM] [Warning] lambda_l1 is set=1.0, reg_alpha=0.0 will be ignored. Current value: lambda_l1=1.0\n",
      "[LightGBM] [Warning] bagging_fraction is set=0.8, subsample=1.0 will be ignored. Current value: bagging_fraction=0.8\n",
      "[LightGBM] [Warning] bagging_freq is set=1, subsample_freq=0 will be ignored. Current value: bagging_freq=1\n",
      "MSE: 336.2486\n",
      "RMSE: 18.3371\n",
      "MAE: 13.7747\n",
      "MAPE: 15.93%\n",
      "SMAPE: 14.29%\n",
      "R²: 0.8784\n"
     ]
    }
   ],
   "source": [
    "from lightgbm import LGBMRegressor, early_stopping, log_evaluation\n",
    "from sklearn.model_selection import train_test_split\n",
    "from sklearn.metrics import mean_squared_error, mean_absolute_error, r2_score\n",
    "import numpy as np\n",
    "\n",
    "# ——— 1. 定义 SMAPE 计算函数 ———\n",
    "def calc_smape(y_true, y_pred):\n",
    "    y_true = np.array(y_true)\n",
    "    y_pred = np.array(y_pred)\n",
    "    denom = (np.abs(y_true) + np.abs(y_pred)) / 2.0\n",
    "    denom = np.where(denom == 0, 1e-8, denom)\n",
    "    return 100 * np.mean(np.abs(y_pred - y_true) / denom)\n",
    "\n",
    "# ——— 2. 划分数据集 ———\n",
    "X_train, X_temp, y_train, y_temp = train_test_split(\n",
    "    X_scaled, y_scaled, test_size=0.2, random_state=42\n",
    ")\n",
    "X_val, X_test, y_val, y_test = train_test_split(\n",
    "    X_temp, y_temp, test_size=0.5, random_state=42\n",
    ")\n",
    "\n",
    "# ——— 3. 初始化模型 ———\n",
    "model = LGBMRegressor(\n",
    "    objective='regression',\n",
    "    learning_rate=0.1,\n",
    "    num_leaves=255,\n",
    "    max_depth=10,\n",
    "    feature_fraction=1.0,\n",
    "    bagging_fraction=0.8,\n",
    "    bagging_freq=1,\n",
    "    lambda_l1=1.0,\n",
    "    lambda_l2=1.0,\n",
    "    n_estimators=1000\n",
    ")\n",
    "\n",
    "# ——— 4. 训练 with callbacks ———\n",
    "model.fit(\n",
    "    X_train, y_train.values.ravel(),\n",
    "    eval_set=[(X_val, y_val.values.ravel())],\n",
    "    eval_metric='rmse',                        # 仅监控 RMSE\n",
    "    callbacks=[early_stopping(stopping_rounds=10),\n",
    "               log_evaluation(period=10)]\n",
    ")\n",
    "\n",
    "# ——— 5. 预测 & 反标准化 ———\n",
    "y_pred_scaled = model.predict(X_test, num_iteration=model.best_iteration_)\n",
    "y_test_orig = scaler_y.inverse_transform(y_test.values.reshape(-1,1)).ravel()\n",
    "y_pred_orig = scaler_y.inverse_transform(y_pred_scaled.reshape(-1,1)).ravel()\n",
    "\n",
    "# ——— 6. 计算并打印所有指标 ———\n",
    "mse   = mean_squared_error(y_test_orig, y_pred_orig)\n",
    "rmse  = np.sqrt(mse)\n",
    "mae   = mean_absolute_error(y_test_orig, y_pred_orig)\n",
    "mape  = np.mean(\n",
    "    np.abs((y_test_orig - y_pred_orig) / np.where(y_test_orig==0,1e-8,y_test_orig))\n",
    ") * 100\n",
    "smape = calc_smape(y_test_orig, y_pred_orig)\n",
    "r2    = r2_score(y_test_orig, y_pred_orig)\n",
    "\n",
    "print(f'MSE: {mse:.4f}')\n",
    "print(f'RMSE: {rmse:.4f}')\n",
    "print(f'MAE: {mae:.4f}')\n",
    "print(f'MAPE: {mape:.2f}%')\n",
    "print(f'SMAPE: {smape:.2f}%')\n",
    "print(f'R²: {r2:.4f}')\n"
   ]
  },
  {
   "cell_type": "code",
   "execution_count": 14,
   "id": "efef87a9-5ebc-4fbc-98e7-0023dcb00a8e",
   "metadata": {
    "execution": {
     "iopub.execute_input": "2025-06-22T13:47:19.311755Z",
     "iopub.status.busy": "2025-06-22T13:47:19.311278Z",
     "iopub.status.idle": "2025-06-22T13:47:19.317202Z",
     "shell.execute_reply": "2025-06-22T13:47:19.316128Z",
     "shell.execute_reply.started": "2025-06-22T13:47:19.311720Z"
    }
   },
   "outputs": [],
   "source": [
    "# from lightgbm import LGBMRegressor\n",
    "# from sklearn.model_selection import RandomizedSearchCV\n",
    "# import numpy as np\n",
    "\n",
    "# # 1. 定义基础模型\n",
    "# base = LGBMRegressor(objective='regression', random_state=42)\n",
    "\n",
    "# # 2. 定义待搜索的参数分布\n",
    "# param_dist = {\n",
    "#     'learning_rate':      [0.01, 0.05, 0.1, 0.2],\n",
    "#     'n_estimators':       [500, 1000, 2000],\n",
    "#     'num_leaves':         [31, 63, 127, 255],\n",
    "#     'max_depth':          [-1, 5, 10, 20],\n",
    "#     'subsample':          [0.6, 0.8, 1.0],\n",
    "#     'subsample_freq':     [0, 1, 5],\n",
    "#     'colsample_bytree':   [0.6, 0.8, 1.0],\n",
    "#     'reg_alpha':          [0.0, 0.1, 1.0, 10.0],\n",
    "#     'reg_lambda':         [0.0, 0.1, 1.0, 10.0],\n",
    "#     'min_split_gain':     [0.0, 0.1, 0.5],\n",
    "#     'min_child_samples':  [5, 20, 50, 100],\n",
    "#     'max_bin':            [63, 127, 255]\n",
    "# }\n",
    "\n",
    "# # 3. 配置 RandomizedSearchCV\n",
    "# search = RandomizedSearchCV(\n",
    "#     estimator=base,\n",
    "#     param_distributions=param_dist,\n",
    "#     n_iter=50,                            # 随机尝试 50 种配置\n",
    "#     scoring='neg_root_mean_squared_error',# 可改成自定义 SMAPE\n",
    "#     cv=3,\n",
    "#     verbose=2,\n",
    "#     n_jobs=-1,\n",
    "#     random_state=42\n",
    "# )\n",
    "\n",
    "# # 4. 执行搜索（以 X_train_scaled, y_train 为例）\n",
    "# search.fit(\n",
    "#     X_train_scaled, y_train.values.ravel(),\n",
    "#     eval_set=[(X_val_scaled, y_val.values.ravel())],\n",
    "#     eval_metric='rmse',\n",
    "#     callbacks=[early_stopping(stopping_rounds=20)]\n",
    "# )\n",
    "\n",
    "# print(\"最佳参数：\", search.best_params_)\n",
    "# print(\"最佳 CV 得分 (RMSE)：\", -search.best_score_)\n"
   ]
  },
  {
   "cell_type": "code",
   "execution_count": 15,
   "id": "736471e1-861c-4bf5-bf37-09af1b644625",
   "metadata": {
    "execution": {
     "iopub.execute_input": "2025-06-22T13:47:19.318743Z",
     "iopub.status.busy": "2025-06-22T13:47:19.318398Z",
     "iopub.status.idle": "2025-06-22T13:47:19.655901Z",
     "shell.execute_reply": "2025-06-22T13:47:19.654752Z",
     "shell.execute_reply.started": "2025-06-22T13:47:19.318713Z"
    }
   },
   "outputs": [
    {
     "name": "stdout",
     "output_type": "stream",
     "text": [
      "模型已保存到 ../../my/model/频率编码/lgb_model.pkl\n"
     ]
    }
   ],
   "source": [
    "import os\n",
    "import joblib\n",
    "import pandas as pd\n",
    "import numpy as np\n",
    "from sklearn.metrics import mean_squared_error, mean_absolute_error, r2_score\n",
    "from lightgbm import LGBMRegressor\n",
    "\n",
    "# ——— 1. 保存模型 ———\n",
    "os.makedirs('../../my/model/频率编码/', exist_ok=True)\n",
    "joblib.dump(model, '../../my/model/频率编码/lgb_model.pkl')\n",
    "print(\"模型已保存到 ../../my/model/频率编码/lgb_model.pkl\")"
   ]
  },
  {
   "cell_type": "markdown",
   "id": "aa8c4bce-5a59-4ba1-99ec-1a4c26c4c1e8",
   "metadata": {},
   "source": [
    "## 对测试集进行验证"
   ]
  },
  {
   "cell_type": "code",
   "execution_count": 17,
   "id": "8c4eba65-f1c1-499d-a086-0632c10df95f",
   "metadata": {
    "execution": {
     "iopub.execute_input": "2025-06-22T13:50:42.746767Z",
     "iopub.status.busy": "2025-06-22T13:50:42.745773Z",
     "iopub.status.idle": "2025-06-22T13:50:49.526678Z",
     "shell.execute_reply": "2025-06-22T13:50:49.525605Z",
     "shell.execute_reply.started": "2025-06-22T13:50:42.746720Z"
    }
   },
   "outputs": [
    {
     "name": "stdout",
     "output_type": "stream",
     "text": [
      "[LightGBM] [Warning] feature_fraction is set=1.0, colsample_bytree=1.0 will be ignored. Current value: feature_fraction=1.0\n",
      "[LightGBM] [Warning] lambda_l2 is set=1.0, reg_lambda=0.0 will be ignored. Current value: lambda_l2=1.0\n",
      "[LightGBM] [Warning] lambda_l1 is set=1.0, reg_alpha=0.0 will be ignored. Current value: lambda_l1=1.0\n",
      "[LightGBM] [Warning] bagging_fraction is set=0.8, subsample=1.0 will be ignored. Current value: bagging_fraction=0.8\n",
      "[LightGBM] [Warning] bagging_freq is set=1, subsample_freq=0 will be ignored. Current value: bagging_freq=1\n",
      "Test SMAPE: 14.48%\n"
     ]
    }
   ],
   "source": [
    "import json\n",
    "import pandas as pd\n",
    "import numpy as np\n",
    "import joblib\n",
    "import os\n",
    "from lightgbm import LGBMRegressor\n",
    "\n",
    "# ——— 0. 加载模型和 scaler ———\n",
    "model = joblib.load('../../my/model/频率编码/lgb_model.pkl')\n",
    "scaler_x = joblib.load('../../my/encoder/standard_scaler_x.pkl')\n",
    "scaler_y = joblib.load('../../my/encoder/standard_scaler_y.pkl')\n",
    "\n",
    "# ——— 1. 读取测试集 ———\n",
    "test_df = pd.read_csv('./pre_2023-2025_with_comp_test.csv', dtype={'flt_no': str})\n",
    "\n",
    "# ——— 2. 新增城市标签 ———\n",
    "with open('../../my/encoder/city_labels_航班频率加权图标签.json', 'r') as f:\n",
    "    city_labels_loaded = json.load(f)\n",
    "\n",
    "for col in ['a', 'b', 'c', 'from', 'to']:\n",
    "    test_df[f'{col}_label'] = test_df[col].map(city_labels_loaded)\n",
    "\n",
    "# ——— 3. 新增城市二维嵌入 ———\n",
    "with open('../../my/encoder/城市嵌入编码_航班频率加权图.json', 'r') as f:\n",
    "    city_embeddings = json.load(f)\n",
    "\n",
    "embedding_df = pd.DataFrame.from_dict(city_embeddings, orient='index', columns=['embedding_1', 'embedding_2'])\n",
    "embedding_df.index.name = 'city'\n",
    "\n",
    "for col in ['a', 'b', 'c', 'from', 'to']:\n",
    "    test_df = test_df.merge(embedding_df, left_on=col, right_index=True, how='left')\n",
    "    test_df.rename(columns={\n",
    "        'embedding_1': f'{col}_embedding_1',\n",
    "        'embedding_2': f'{col}_embedding_2'\n",
    "    }, inplace=True)\n",
    "\n",
    "# ——— 4. 频率编码 ———\n",
    "with open('../../my/encoder/city_map_频率编码.json', 'r') as f:\n",
    "    city_map = json.load(f)\n",
    "\n",
    "for col in ['a', 'b', 'c', 'from', 'to']:\n",
    "    test_df[col] = test_df[col].map(city_map)\n",
    "\n",
    "# ——— 5. 类别特征编码 ———\n",
    "for col in ['flt_no', 'aircraft']:\n",
    "    le = joblib.load(f'../../my/encoder/{col}_encoder_all.pkl')\n",
    "    test_df[col] = le.transform(test_df[col])\n",
    "\n",
    "# ——— 6. 构造特征矩阵 ———\n",
    "features = [\n",
    "    'flt_no', 'cap', 'aircraft', 'legs', 'leg_no', 'duration',\n",
    "    'a', 'b', 'c', 'year', 'month', 'day', 'weekday',\n",
    "    'hour', 'minute', 'from', 'to', 'unit_price', 'competitor_price',\n",
    "    'a_label', 'b_label', 'c_label', 'from_label', 'to_label',\n",
    "    'a_embedding_1', 'a_embedding_2',\n",
    "    'b_embedding_1', 'b_embedding_2',\n",
    "    'c_embedding_1', 'c_embedding_2',\n",
    "    'from_embedding_1', 'from_embedding_2',\n",
    "    'to_embedding_1', 'to_embedding_2'\n",
    "]\n",
    "\n",
    "X_test_raw = test_df[features]\n",
    "y_test = test_df['pax'].values\n",
    "\n",
    "# ——— 7. 标准化 ———\n",
    "X_test_scaled = scaler_x.transform(X_test_raw)\n",
    "\n",
    "# ——— 8. 预测 & SMAPE ———\n",
    "y_pred_scaled = model.predict(X_test_scaled, num_iteration=model.best_iteration_)\n",
    "y_pred = scaler_y.inverse_transform(y_pred_scaled.reshape(-1, 1)).ravel()\n",
    "\n",
    "def calc_smape(y_true, y_pred):\n",
    "    denom = (np.abs(y_true) + np.abs(y_pred)) / 2.0\n",
    "    denom = np.where(denom == 0, 1e-8, denom)\n",
    "    return 100 * np.mean(np.abs(y_pred - y_true) / denom)\n",
    "\n",
    "smape = calc_smape(y_test, y_pred)\n",
    "print(f'Test SMAPE: {smape:.2f}%')\n"
   ]
  },
  {
   "cell_type": "code",
   "execution_count": null,
   "id": "82c59861-0e55-49d3-a5d8-90fbd865841b",
   "metadata": {},
   "outputs": [],
   "source": []
  },
  {
   "cell_type": "markdown",
   "id": "2aa1f1c9-375c-4061-9611-c35d5fb649b9",
   "metadata": {},
   "source": [
    "## 集成模型指标"
   ]
  },
  {
   "cell_type": "code",
   "execution_count": 19,
   "id": "e4b96a2c-35da-419c-984e-880754f5ec5c",
   "metadata": {
    "execution": {
     "iopub.execute_input": "2025-06-22T13:57:26.974610Z",
     "iopub.status.busy": "2025-06-22T13:57:26.973533Z",
     "iopub.status.idle": "2025-06-22T13:57:38.493462Z",
     "shell.execute_reply": "2025-06-22T13:57:38.492458Z",
     "shell.execute_reply.started": "2025-06-22T13:57:26.974575Z"
    }
   },
   "outputs": [
    {
     "name": "stdout",
     "output_type": "stream",
     "text": [
      "[LightGBM] [Warning] feature_fraction is set=1.0, colsample_bytree=1.0 will be ignored. Current value: feature_fraction=1.0\n",
      "[LightGBM] [Warning] lambda_l2 is set=1.0, reg_lambda=0.0 will be ignored. Current value: lambda_l2=1.0\n",
      "[LightGBM] [Warning] lambda_l1 is set=1.0, reg_alpha=0.0 will be ignored. Current value: lambda_l1=1.0\n",
      "[LightGBM] [Warning] bagging_fraction is set=0.8, subsample=1.0 will be ignored. Current value: bagging_fraction=0.8\n",
      "[LightGBM] [Warning] bagging_freq is set=1, subsample_freq=0 will be ignored. Current value: bagging_freq=1\n",
      "Ensemble SMAPE: 14.34%\n",
      "XGBoost SMAPE: 14.43%\n",
      "LightGBM SMAPE: 14.48%\n"
     ]
    }
   ],
   "source": [
    "import os\n",
    "import json\n",
    "import joblib\n",
    "import pandas as pd\n",
    "import numpy as np\n",
    "import xgboost as xgb\n",
    "from lightgbm import LGBMRegressor\n",
    "from sklearn.metrics import mean_squared_error, mean_absolute_error, r2_score\n",
    "\n",
    "# ——— 1. 读取并预处理测试集 ———\n",
    "test_df = pd.read_csv('./pre_2023-2025_with_comp_test.csv', dtype={'flt_no': str})\n",
    "\n",
    "# 加载城市标签、嵌入和频率编码字典\n",
    "with open('../../my/encoder/city_labels_航班频率加权图标签.json', 'r') as f:\n",
    "    city_labels = json.load(f)\n",
    "with open('../../my/encoder/城市嵌入编码_航班频率加权图.json', 'r') as f:\n",
    "    city_embeddings = json.load(f)\n",
    "with open('../../my/encoder/city_map_频率编码.json', 'r') as f:\n",
    "    city_map = json.load(f)\n",
    "\n",
    "# ——— 1.1 城市标签映射 ———\n",
    "for col in ['a', 'b', 'c', 'from', 'to']:\n",
    "    test_df[f'{col}_label'] = test_df[col].map(city_labels)\n",
    "\n",
    "# ——— 1.2 城市二维嵌入 ———\n",
    "emb_df = pd.DataFrame.from_dict(city_embeddings, orient='index',\n",
    "                                columns=['embedding_1','embedding_2'])\n",
    "emb_df.index.name = 'city'\n",
    "for col in ['a', 'b', 'c', 'from', 'to']:\n",
    "    test_df = test_df.merge(emb_df, left_on=col, right_index=True, how='left') \\\n",
    "                     .rename(columns={\n",
    "                         'embedding_1': f'{col}_embedding_1',\n",
    "                         'embedding_2': f'{col}_embedding_2'\n",
    "                     })\n",
    "\n",
    "# ——— 1.3 频率编码 ———\n",
    "for col in ['a', 'b', 'c', 'from', 'to']:\n",
    "    test_df[col] = test_df[col].map(city_map)\n",
    "\n",
    "# ——— 1.4 类别特征编码 ———\n",
    "for col in ['flt_no', 'aircraft']:\n",
    "    le = joblib.load(f'../../my/encoder/{col}_encoder_all.pkl')\n",
    "    test_df[col] = le.transform(test_df[col])\n",
    "\n",
    "# ——— 1.5 构造特征矩阵 ———\n",
    "features = [\n",
    "    'flt_no','cap','aircraft','legs','leg_no','duration',\n",
    "    'a','b','c','year','month','day','weekday','hour','minute',\n",
    "    'from','to','unit_price','competitor_price',\n",
    "    'a_label','b_label','c_label','from_label','to_label',\n",
    "    'a_embedding_1','a_embedding_2','b_embedding_1','b_embedding_2',\n",
    "    'c_embedding_1','c_embedding_2','from_embedding_1','from_embedding_2',\n",
    "    'to_embedding_1','to_embedding_2'\n",
    "]\n",
    "X_raw = test_df[features]\n",
    "y_true = test_df['pax'].values\n",
    "\n",
    "# ——— 2. 加载标准化器并标准化 ———\n",
    "scaler_x = joblib.load('../../my/encoder/standard_scaler_x.pkl')\n",
    "scaler_y = joblib.load('../../my/encoder/standard_scaler_y.pkl')\n",
    "X_scaled = scaler_x.transform(X_raw)\n",
    "# 重新包装带列名，保证 XGBoost 校验通过\n",
    "X_scaled_df = pd.DataFrame(X_scaled, columns=features, index=X_raw.index)\n",
    "\n",
    "# ——— 3. 加载并预测：XGBoost ———\n",
    "xgb_model = xgb.Booster()\n",
    "xgb_model.load_model('../../my/model/频率编码/归一化_xgboost_model_1000.json')\n",
    "dmat = xgb.DMatrix(X_scaled_df)\n",
    "pred_xgb_scaled = xgb_model.predict(dmat)\n",
    "\n",
    "# ——— 4. 加载并预测：LightGBM ———\n",
    "lgb_model = joblib.load('../../my/model/频率编码/lgb_model.pkl')\n",
    "pred_lgb_scaled = lgb_model.predict(X_scaled_df, num_iteration=lgb_model.best_iteration_)\n",
    "\n",
    "# ——— 5. 反标准化两模型输出 ———\n",
    "pred_xgb = scaler_y.inverse_transform(pred_xgb_scaled.reshape(-1,1)).ravel()\n",
    "pred_lgb = scaler_y.inverse_transform(pred_lgb_scaled.reshape(-1,1)).ravel()\n",
    "\n",
    "# ——— 6. 集成：取两者平均 ———\n",
    "pred_ensemble = (pred_xgb + pred_lgb) / 2.0\n",
    "\n",
    "# ——— 7. 评估：计算 SMAPE ———\n",
    "def calc_smape(y_true, y_pred):\n",
    "    denom = (np.abs(y_true) + np.abs(y_pred)) / 2.0\n",
    "    denom = np.where(denom == 0, 1e-8, denom)\n",
    "    return 100 * np.mean(np.abs(y_pred - y_true) / denom)\n",
    "\n",
    "smape_ensemble = calc_smape(y_true, pred_ensemble)\n",
    "print(f'Ensemble SMAPE: {smape_ensemble:.2f}%')\n",
    "\n",
    "# （可选）打印各模型单独指标对比\n",
    "smape_xgb = calc_smape(y_true, pred_xgb)\n",
    "smape_lgb = calc_smape(y_true, pred_lgb)\n",
    "print(f'XGBoost SMAPE: {smape_xgb:.2f}%')\n",
    "print(f'LightGBM SMAPE: {smape_lgb:.2f}%')\n"
   ]
  }
 ],
 "metadata": {
  "kernelspec": {
   "display_name": "Python 3 (ipykernel)",
   "language": "python",
   "name": "python3"
  },
  "language_info": {
   "codemirror_mode": {
    "name": "ipython",
    "version": 3
   },
   "file_extension": ".py",
   "mimetype": "text/x-python",
   "name": "python",
   "nbconvert_exporter": "python",
   "pygments_lexer": "ipython3",
   "version": "3.10.15"
  },
  "toc": {
   "base_numbering": 1,
   "nav_menu": {},
   "number_sections": true,
   "sideBar": true,
   "skip_h1_title": false,
   "title_cell": "Table of Contents",
   "title_sidebar": "Contents",
   "toc_cell": false,
   "toc_position": {
    "height": "753.993px",
    "left": "28px",
    "top": "236px",
    "width": "377.648px"
   },
   "toc_section_display": true,
   "toc_window_display": true
  },
  "varInspector": {
   "cols": {
    "lenName": 16,
    "lenType": 16,
    "lenVar": 40
   },
   "kernels_config": {
    "python": {
     "delete_cmd_postfix": "",
     "delete_cmd_prefix": "del ",
     "library": "var_list.py",
     "varRefreshCmd": "print(var_dic_list())"
    },
    "r": {
     "delete_cmd_postfix": ") ",
     "delete_cmd_prefix": "rm(",
     "library": "var_list.r",
     "varRefreshCmd": "cat(var_dic_list()) "
    }
   },
   "types_to_exclude": [
    "module",
    "function",
    "builtin_function_or_method",
    "instance",
    "_Feature"
   ],
   "window_display": true
  }
 },
 "nbformat": 4,
 "nbformat_minor": 5
}
